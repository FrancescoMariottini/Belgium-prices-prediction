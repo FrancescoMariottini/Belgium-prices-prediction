{
 "metadata": {
  "language_info": {
   "codemirror_mode": {
    "name": "ipython",
    "version": 3
   },
   "file_extension": ".py",
   "mimetype": "text/x-python",
   "name": "python",
   "nbconvert_exporter": "python",
   "pygments_lexer": "ipython3",
   "version": 3
  },
  "orig_nbformat": 2
 },
 "nbformat": 4,
 "nbformat_minor": 2,
 "cells": [
  {
   "cell_type": "code",
   "execution_count": null,
   "metadata": {},
   "outputs": [],
   "source": [
    "# import libraries\n",
    "import numpy as np\n",
    "import matplotlib.pyplot as plt\n",
    "import pandas as pd\n",
    "from sklearn.model_selection import train_test_split\n",
    "from sklearn.linear_model import Lasso\n",
    "import scipy.stats as stats\n",
    "from scipy.stats import chi2_contingency\n"
   ]
  },
  {
   "cell_type": "code",
   "execution_count": null,
   "metadata": {},
   "outputs": [],
   "source": [
    "#Drop features which are not relevent\n",
    "df = df.drop(['Unnamed: 0', 'source',\n",
    "           'land_surface', 'facades_number', 'swimming_pool_has','postcode_median_price',\n",
    "        'building_state_median_price', 'property_subtype_median_price',\n",
    "        'building_property_subtype_median_facades',\n",
    "        'property_subtype_median_facades'],axis=1)\n"
   ]
  },
  {
   "cell_type": "code",
   "execution_count": null,
   "metadata": {},
   "outputs": [],
   "source": [
    "#calculating price per metre square to detect outliers \n",
    "df['price_per_sqmtr'] = df['price'] / df['area']"
   ]
  },
  {
   "cell_type": "code",
   "execution_count": null,
   "metadata": {},
   "outputs": [],
   "source": [
    "#postcode_stats contains the no. of properties in each postcode\n",
    "postcode_stats = df['postcode'].value_counts(ascending=False)"
   ]
  },
  {
   "cell_type": "code",
   "execution_count": null,
   "metadata": {},
   "outputs": [],
   "source": [
    "'''Any location having less than 10 data points should be tagged as \"9999\" location.\n",
    " This way number of categories can be reduced by huge amount.\n",
    "  Later on when we do one hot encoding, it will help us with having fewer dummy columns'''\n",
    "\n",
    "postcode_value_less_than_10 = postcode_stats[postcode_stats<=10]\n",
    "postcode_value_less_than_10\n",
    "df['postcode'] = df['postcode'].apply(lambda x: '9999' if x in postcode_value_less_than_10 else x)"
   ]
  },
  {
   "cell_type": "code",
   "execution_count": null,
   "metadata": {},
   "outputs": [],
   "source": [
    "\n",
    "''' Outlier Removal Using Standard Deviation and Mean '''\n",
    "def remove_pps_outliers(df):\n",
    "    df_out = pd.DataFrame()\n",
    "    for key,subdf in df.groupby('postcode'):\n",
    "        m =np.mean(subdf.price_per_sqmtr)\n",
    "        sd = np.std(subdf.price_per_sqmtr)\n",
    "        reduced_df = subdf[(subdf.price_per_sqmtr > (m - (2 * sd))) & (subdf.price_per_sqmtr <= (m +(2 * sd))) ]\n",
    "        df_out = pd.concat([df_out,reduced_df],ignore_index= True)\n",
    "    return df_out"
   ]
  },
  {
   "cell_type": "code",
   "execution_count": null,
   "metadata": {},
   "outputs": [],
   "source": [
    "#Applying the function on our dataframe\n",
    "df = remove_pps_outliers(df)\n",
    "\n",
    "''' Now, we can drop price per metre square column as our outlier detection is done '''\n",
    "df = df.drop(['price_per_sqmtr'],axis='columns')\n"
   ]
  },
  {
   "cell_type": "code",
   "execution_count": null,
   "metadata": {},
   "outputs": [],
   "source": [
    "\n",
    "''' To check correlation of features using chisquare method\n",
    "It gives us the list of featues which are relevant and which are not relevant for the model '''\n",
    "class ChiSquare:\n",
    "    def __init__(self, dataframe):\n",
    "        self.df = dataframe\n",
    "        self.p = None #P-Value\n",
    "        self.chi2 = None #Chi Test Statistic\n",
    "        self.dof = None\n",
    "        \n",
    "        self.dfObserved = None\n",
    "        self.dfExpected = None\n",
    "        \n",
    "    def _print_chisquare_result(self, colX, alpha):\n",
    "        result = \"\"\n",
    "        if self.p<alpha:\n",
    "            result=\"{0} is IMPORTANT for Prediction\".format(colX)\n",
    "        else:\n",
    "            result=\"{0} is NOT an important predictor. (Discard {0} from model)\".format(colX)\n",
    "\n",
    "        #print(result)\n",
    "        \n",
    "    def TestIndependence(self,colX,colY, alpha=0.05):\n",
    "        X = self.df[colX].astype(str)\n",
    "        Y = self.df[colY].astype(str)\n",
    "        \n",
    "        self.dfObserved = pd.crosstab(Y,X) \n",
    "        chi2, p, dof, expected = stats.chi2_contingency(self.dfObserved.values)\n",
    "        self.p = p\n",
    "        self.chi2 = chi2\n",
    "        self.dof = dof \n",
    "        \n",
    "        self.dfExpected = pd.DataFrame(expected, columns=self.dfObserved.columns, index = self.dfObserved.index)\n",
    "        \n",
    "        self._print_chisquare_result(colX,alpha)\n",
    "\n",
    "#Initialize ChiSquare Class\n",
    "cT = ChiSquare(df)\n",
    "\n",
    "#Feature Selection\n",
    "testColumns = ['postcode', 'house_is', 'property_subtype', 'rooms_number',\n",
    "       'area', 'equipped_kitchen_has', 'furnished', 'open_fire', 'terrace',\n",
    "       'garden', 'region', 'building_state_agg']\n",
    "for var in testColumns:\n",
    "    cT.TestIndependence(colX=var,colY=\"price\" )  \n"
   ]
  },
  {
   "cell_type": "code",
   "execution_count": null,
   "metadata": {},
   "outputs": [],
   "source": [
    "''' Drop the features which are irrelevant as per chi-square '''\n",
    "df = df.drop(['property_subtype',\n",
    "       'furnished','garden'],axis = 1)\n"
   ]
  },
  {
   "cell_type": "code",
   "execution_count": null,
   "metadata": {},
   "outputs": [],
   "source": [
    "\n",
    "''' Use One Hot Encoding For postcodes '''\n",
    "dummies = pd.get_dummies(df,prefix= '',prefix_sep = '')\n",
    "df = dummies.drop(['9999','to_renovate','B',],axis='columns')\n"
   ]
  },
  {
   "cell_type": "code",
   "execution_count": null,
   "metadata": {},
   "outputs": [],
   "source": [
    "\n",
    "X = df.drop(['price'],axis='columns')\n",
    "y = df.price\n",
    "X_train, X_test, y_train, y_test = train_test_split(X,y,test_size=0.2,random_state=10)\n"
   ]
  }
 ]
}