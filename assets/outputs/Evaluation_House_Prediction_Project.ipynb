{
 "cells": [
  {
   "cell_type": "markdown",
   "metadata": {},
   "source": [
    "## import required packages"
   ]
  },
  {
   "cell_type": "code",
   "execution_count": 20,
   "metadata": {},
   "outputs": [],
   "source": [
    "import pandas as pd \n",
    "import numpy as np\n",
    "import seaborn as sns\n",
    "import matplotlib.pyplot as plt\n",
    "%matplotlib inline\n",
    "from tabulate import tabulate\n",
    "#below two packages are for feature selection\n",
    "from sklearn.linear_model import Lasso\n",
    "from sklearn.feature_selection import SelectFromModel"
   ]
  },
  {
   "cell_type": "code",
   "execution_count": 2,
   "metadata": {},
   "outputs": [],
   "source": [
    "dataset=pd.read_csv('Clean_House_Data.csv')"
   ]
  },
  {
   "cell_type": "code",
   "execution_count": 3,
   "metadata": {},
   "outputs": [
    {
     "data": {
      "text/html": [
       "<div>\n",
       "<style scoped>\n",
       "    .dataframe tbody tr th:only-of-type {\n",
       "        vertical-align: middle;\n",
       "    }\n",
       "\n",
       "    .dataframe tbody tr th {\n",
       "        vertical-align: top;\n",
       "    }\n",
       "\n",
       "    .dataframe thead th {\n",
       "        text-align: right;\n",
       "    }\n",
       "</style>\n",
       "<table border=\"1\" class=\"dataframe\">\n",
       "  <thead>\n",
       "    <tr style=\"text-align: right;\">\n",
       "      <th></th>\n",
       "      <th>price</th>\n",
       "      <th>postcode</th>\n",
       "      <th>property_subtype</th>\n",
       "      <th>rooms_number</th>\n",
       "      <th>area</th>\n",
       "      <th>terrace_area</th>\n",
       "      <th>garden_area</th>\n",
       "      <th>land_surface</th>\n",
       "      <th>facades_number</th>\n",
       "      <th>postcode_median_price</th>\n",
       "      <th>...</th>\n",
       "      <th>garden_False</th>\n",
       "      <th>garden_True</th>\n",
       "      <th>swimming_pool_has_False</th>\n",
       "      <th>swimming_pool_has_True</th>\n",
       "      <th>region_B</th>\n",
       "      <th>region_F</th>\n",
       "      <th>region_W</th>\n",
       "      <th>building_state_agg_good</th>\n",
       "      <th>building_state_agg_renovated</th>\n",
       "      <th>building_state_agg_to_renovate</th>\n",
       "    </tr>\n",
       "  </thead>\n",
       "  <tbody>\n",
       "    <tr>\n",
       "      <th>0</th>\n",
       "      <td>295000.0</td>\n",
       "      <td>0.353648</td>\n",
       "      <td>0.7</td>\n",
       "      <td>0.500000</td>\n",
       "      <td>0.853896</td>\n",
       "      <td>0.546065</td>\n",
       "      <td>0.025000</td>\n",
       "      <td>0.869320</td>\n",
       "      <td>0.666667</td>\n",
       "      <td>0.127626</td>\n",
       "      <td>...</td>\n",
       "      <td>0.0</td>\n",
       "      <td>1.0</td>\n",
       "      <td>1.0</td>\n",
       "      <td>0.0</td>\n",
       "      <td>0.0</td>\n",
       "      <td>0.0</td>\n",
       "      <td>1.0</td>\n",
       "      <td>1.0</td>\n",
       "      <td>0.0</td>\n",
       "      <td>0.0</td>\n",
       "    </tr>\n",
       "    <tr>\n",
       "      <th>1</th>\n",
       "      <td>675000.0</td>\n",
       "      <td>0.859653</td>\n",
       "      <td>0.9</td>\n",
       "      <td>0.666667</td>\n",
       "      <td>0.934484</td>\n",
       "      <td>NaN</td>\n",
       "      <td>0.024425</td>\n",
       "      <td>0.879402</td>\n",
       "      <td>0.666667</td>\n",
       "      <td>0.136965</td>\n",
       "      <td>...</td>\n",
       "      <td>0.0</td>\n",
       "      <td>1.0</td>\n",
       "      <td>1.0</td>\n",
       "      <td>0.0</td>\n",
       "      <td>0.0</td>\n",
       "      <td>1.0</td>\n",
       "      <td>0.0</td>\n",
       "      <td>1.0</td>\n",
       "      <td>0.0</td>\n",
       "      <td>0.0</td>\n",
       "    </tr>\n",
       "    <tr>\n",
       "      <th>2</th>\n",
       "      <td>250000.0</td>\n",
       "      <td>0.335854</td>\n",
       "      <td>0.1</td>\n",
       "      <td>0.833333</td>\n",
       "      <td>0.903374</td>\n",
       "      <td>NaN</td>\n",
       "      <td>0.000000</td>\n",
       "      <td>0.795775</td>\n",
       "      <td>0.666667</td>\n",
       "      <td>0.101167</td>\n",
       "      <td>...</td>\n",
       "      <td>1.0</td>\n",
       "      <td>0.0</td>\n",
       "      <td>1.0</td>\n",
       "      <td>0.0</td>\n",
       "      <td>0.0</td>\n",
       "      <td>0.0</td>\n",
       "      <td>1.0</td>\n",
       "      <td>0.0</td>\n",
       "      <td>0.0</td>\n",
       "      <td>1.0</td>\n",
       "    </tr>\n",
       "    <tr>\n",
       "      <th>3</th>\n",
       "      <td>545000.0</td>\n",
       "      <td>0.022242</td>\n",
       "      <td>0.5</td>\n",
       "      <td>0.666667</td>\n",
       "      <td>0.847435</td>\n",
       "      <td>NaN</td>\n",
       "      <td>0.000000</td>\n",
       "      <td>0.497037</td>\n",
       "      <td>0.666667</td>\n",
       "      <td>0.295720</td>\n",
       "      <td>...</td>\n",
       "      <td>1.0</td>\n",
       "      <td>0.0</td>\n",
       "      <td>1.0</td>\n",
       "      <td>0.0</td>\n",
       "      <td>1.0</td>\n",
       "      <td>0.0</td>\n",
       "      <td>0.0</td>\n",
       "      <td>0.0</td>\n",
       "      <td>1.0</td>\n",
       "      <td>0.0</td>\n",
       "    </tr>\n",
       "    <tr>\n",
       "      <th>4</th>\n",
       "      <td>500000.0</td>\n",
       "      <td>0.021130</td>\n",
       "      <td>0.7</td>\n",
       "      <td>0.333333</td>\n",
       "      <td>0.832917</td>\n",
       "      <td>NaN</td>\n",
       "      <td>0.001500</td>\n",
       "      <td>0.631346</td>\n",
       "      <td>0.666667</td>\n",
       "      <td>0.229572</td>\n",
       "      <td>...</td>\n",
       "      <td>0.0</td>\n",
       "      <td>1.0</td>\n",
       "      <td>1.0</td>\n",
       "      <td>0.0</td>\n",
       "      <td>1.0</td>\n",
       "      <td>0.0</td>\n",
       "      <td>0.0</td>\n",
       "      <td>1.0</td>\n",
       "      <td>0.0</td>\n",
       "      <td>0.0</td>\n",
       "    </tr>\n",
       "  </tbody>\n",
       "</table>\n",
       "<p>5 rows × 34 columns</p>\n",
       "</div>"
      ],
      "text/plain": [
       "      price  postcode  property_subtype  rooms_number      area  terrace_area  \\\n",
       "0  295000.0  0.353648               0.7      0.500000  0.853896      0.546065   \n",
       "1  675000.0  0.859653               0.9      0.666667  0.934484           NaN   \n",
       "2  250000.0  0.335854               0.1      0.833333  0.903374           NaN   \n",
       "3  545000.0  0.022242               0.5      0.666667  0.847435           NaN   \n",
       "4  500000.0  0.021130               0.7      0.333333  0.832917           NaN   \n",
       "\n",
       "   garden_area  land_surface  facades_number  postcode_median_price  ...  \\\n",
       "0     0.025000      0.869320        0.666667               0.127626  ...   \n",
       "1     0.024425      0.879402        0.666667               0.136965  ...   \n",
       "2     0.000000      0.795775        0.666667               0.101167  ...   \n",
       "3     0.000000      0.497037        0.666667               0.295720  ...   \n",
       "4     0.001500      0.631346        0.666667               0.229572  ...   \n",
       "\n",
       "   garden_False  garden_True  swimming_pool_has_False  swimming_pool_has_True  \\\n",
       "0           0.0          1.0                      1.0                     0.0   \n",
       "1           0.0          1.0                      1.0                     0.0   \n",
       "2           1.0          0.0                      1.0                     0.0   \n",
       "3           1.0          0.0                      1.0                     0.0   \n",
       "4           0.0          1.0                      1.0                     0.0   \n",
       "\n",
       "   region_B  region_F  region_W  building_state_agg_good  \\\n",
       "0       0.0       0.0       1.0                      1.0   \n",
       "1       0.0       1.0       0.0                      1.0   \n",
       "2       0.0       0.0       1.0                      0.0   \n",
       "3       1.0       0.0       0.0                      0.0   \n",
       "4       1.0       0.0       0.0                      1.0   \n",
       "\n",
       "   building_state_agg_renovated  building_state_agg_to_renovate  \n",
       "0                           0.0                             0.0  \n",
       "1                           0.0                             0.0  \n",
       "2                           0.0                             1.0  \n",
       "3                           1.0                             0.0  \n",
       "4                           0.0                             0.0  \n",
       "\n",
       "[5 rows x 34 columns]"
      ]
     },
     "execution_count": 3,
     "metadata": {},
     "output_type": "execute_result"
    }
   ],
   "source": [
    "dataset.head(5)"
   ]
  },
  {
   "cell_type": "code",
   "execution_count": 4,
   "metadata": {},
   "outputs": [],
   "source": [
    "dataset['price']=np.log(dataset['price'])"
   ]
  },
  {
   "cell_type": "code",
   "execution_count": 5,
   "metadata": {},
   "outputs": [],
   "source": [
    "dataset.fillna(dataset.mean(), inplace=True)"
   ]
  },
  {
   "cell_type": "code",
   "execution_count": 6,
   "metadata": {},
   "outputs": [],
   "source": [
    "X=dataset.drop('price',axis=1)\n",
    "y=dataset['price']"
   ]
  },
  {
   "cell_type": "code",
   "execution_count": 7,
   "metadata": {},
   "outputs": [
    {
     "data": {
      "text/plain": [
       "SelectFromModel(estimator=Lasso(alpha=0.005, copy_X=True, fit_intercept=True,\n",
       "                                max_iter=1000, normalize=False, positive=False,\n",
       "                                precompute=False, random_state=0,\n",
       "                                selection='cyclic', tol=0.0001,\n",
       "                                warm_start=False),\n",
       "                max_features=None, norm_order=1, prefit=False, threshold=None)"
      ]
     },
     "execution_count": 7,
     "metadata": {},
     "output_type": "execute_result"
    }
   ],
   "source": [
    "feature_select_model=SelectFromModel(Lasso(alpha=0.005,random_state=0))\n",
    "feature_select_model.fit(X,y)"
   ]
  },
  {
   "cell_type": "code",
   "execution_count": 8,
   "metadata": {},
   "outputs": [
    {
     "data": {
      "text/plain": [
       "array([ True, False,  True,  True, False, False,  True, False,  True,\n",
       "       False,  True, False, False,  True, False, False, False, False,\n",
       "       False,  True, False,  True, False, False, False, False, False,\n",
       "        True, False,  True, False, False,  True])"
      ]
     },
     "execution_count": 8,
     "metadata": {},
     "output_type": "execute_result"
    }
   ],
   "source": [
    "#gives information to select the features True-select False-remove\n",
    "feature_select_model.get_support()"
   ]
  },
  {
   "cell_type": "code",
   "execution_count": 9,
   "metadata": {},
   "outputs": [],
   "source": [
    "selected_features=X.columns[(feature_select_model.get_support())]"
   ]
  },
  {
   "cell_type": "code",
   "execution_count": 10,
   "metadata": {},
   "outputs": [],
   "source": [
    "X=X[selected_features]"
   ]
  },
  {
   "cell_type": "code",
   "execution_count": 11,
   "metadata": {},
   "outputs": [
    {
     "data": {
      "text/html": [
       "<div>\n",
       "<style scoped>\n",
       "    .dataframe tbody tr th:only-of-type {\n",
       "        vertical-align: middle;\n",
       "    }\n",
       "\n",
       "    .dataframe tbody tr th {\n",
       "        vertical-align: top;\n",
       "    }\n",
       "\n",
       "    .dataframe thead th {\n",
       "        text-align: right;\n",
       "    }\n",
       "</style>\n",
       "<table border=\"1\" class=\"dataframe\">\n",
       "  <thead>\n",
       "    <tr style=\"text-align: right;\">\n",
       "      <th></th>\n",
       "      <th>postcode</th>\n",
       "      <th>rooms_number</th>\n",
       "      <th>area</th>\n",
       "      <th>land_surface</th>\n",
       "      <th>postcode_median_price</th>\n",
       "      <th>property_subtype_median_price</th>\n",
       "      <th>house_is_False</th>\n",
       "      <th>open_fire_False</th>\n",
       "      <th>terrace_False</th>\n",
       "      <th>region_B</th>\n",
       "      <th>region_W</th>\n",
       "      <th>building_state_agg_to_renovate</th>\n",
       "    </tr>\n",
       "  </thead>\n",
       "  <tbody>\n",
       "    <tr>\n",
       "      <th>0</th>\n",
       "      <td>0.353648</td>\n",
       "      <td>0.500000</td>\n",
       "      <td>0.853896</td>\n",
       "      <td>0.869320</td>\n",
       "      <td>0.127626</td>\n",
       "      <td>0.564805</td>\n",
       "      <td>0.0</td>\n",
       "      <td>1.0</td>\n",
       "      <td>0.0</td>\n",
       "      <td>0.0</td>\n",
       "      <td>1.0</td>\n",
       "      <td>0.0</td>\n",
       "    </tr>\n",
       "    <tr>\n",
       "      <th>1</th>\n",
       "      <td>0.859653</td>\n",
       "      <td>0.666667</td>\n",
       "      <td>0.934484</td>\n",
       "      <td>0.879402</td>\n",
       "      <td>0.136965</td>\n",
       "      <td>0.889340</td>\n",
       "      <td>0.0</td>\n",
       "      <td>1.0</td>\n",
       "      <td>1.0</td>\n",
       "      <td>0.0</td>\n",
       "      <td>0.0</td>\n",
       "      <td>0.0</td>\n",
       "    </tr>\n",
       "    <tr>\n",
       "      <th>2</th>\n",
       "      <td>0.335854</td>\n",
       "      <td>0.833333</td>\n",
       "      <td>0.903374</td>\n",
       "      <td>0.795775</td>\n",
       "      <td>0.101167</td>\n",
       "      <td>0.648169</td>\n",
       "      <td>0.0</td>\n",
       "      <td>1.0</td>\n",
       "      <td>1.0</td>\n",
       "      <td>0.0</td>\n",
       "      <td>1.0</td>\n",
       "      <td>1.0</td>\n",
       "    </tr>\n",
       "    <tr>\n",
       "      <th>3</th>\n",
       "      <td>0.022242</td>\n",
       "      <td>0.666667</td>\n",
       "      <td>0.847435</td>\n",
       "      <td>0.497037</td>\n",
       "      <td>0.295720</td>\n",
       "      <td>0.521760</td>\n",
       "      <td>0.0</td>\n",
       "      <td>1.0</td>\n",
       "      <td>1.0</td>\n",
       "      <td>1.0</td>\n",
       "      <td>0.0</td>\n",
       "      <td>0.0</td>\n",
       "    </tr>\n",
       "    <tr>\n",
       "      <th>4</th>\n",
       "      <td>0.021130</td>\n",
       "      <td>0.333333</td>\n",
       "      <td>0.832917</td>\n",
       "      <td>0.631346</td>\n",
       "      <td>0.229572</td>\n",
       "      <td>0.564805</td>\n",
       "      <td>0.0</td>\n",
       "      <td>1.0</td>\n",
       "      <td>1.0</td>\n",
       "      <td>1.0</td>\n",
       "      <td>0.0</td>\n",
       "      <td>0.0</td>\n",
       "    </tr>\n",
       "    <tr>\n",
       "      <th>...</th>\n",
       "      <td>...</td>\n",
       "      <td>...</td>\n",
       "      <td>...</td>\n",
       "      <td>...</td>\n",
       "      <td>...</td>\n",
       "      <td>...</td>\n",
       "      <td>...</td>\n",
       "      <td>...</td>\n",
       "      <td>...</td>\n",
       "      <td>...</td>\n",
       "      <td>...</td>\n",
       "      <td>...</td>\n",
       "    </tr>\n",
       "    <tr>\n",
       "      <th>10048</th>\n",
       "      <td>0.333630</td>\n",
       "      <td>0.333333</td>\n",
       "      <td>0.665880</td>\n",
       "      <td>0.709237</td>\n",
       "      <td>0.124514</td>\n",
       "      <td>0.510485</td>\n",
       "      <td>1.0</td>\n",
       "      <td>1.0</td>\n",
       "      <td>0.0</td>\n",
       "      <td>0.0</td>\n",
       "      <td>1.0</td>\n",
       "      <td>0.0</td>\n",
       "    </tr>\n",
       "    <tr>\n",
       "      <th>10049</th>\n",
       "      <td>0.866326</td>\n",
       "      <td>0.166667</td>\n",
       "      <td>0.901184</td>\n",
       "      <td>0.709237</td>\n",
       "      <td>0.149416</td>\n",
       "      <td>0.510485</td>\n",
       "      <td>1.0</td>\n",
       "      <td>1.0</td>\n",
       "      <td>1.0</td>\n",
       "      <td>0.0</td>\n",
       "      <td>0.0</td>\n",
       "      <td>0.0</td>\n",
       "    </tr>\n",
       "    <tr>\n",
       "      <th>10050</th>\n",
       "      <td>0.113212</td>\n",
       "      <td>0.166667</td>\n",
       "      <td>0.583991</td>\n",
       "      <td>0.709237</td>\n",
       "      <td>0.294533</td>\n",
       "      <td>0.510485</td>\n",
       "      <td>1.0</td>\n",
       "      <td>1.0</td>\n",
       "      <td>0.0</td>\n",
       "      <td>0.0</td>\n",
       "      <td>0.0</td>\n",
       "      <td>0.0</td>\n",
       "    </tr>\n",
       "    <tr>\n",
       "      <th>10051</th>\n",
       "      <td>0.111210</td>\n",
       "      <td>0.166667</td>\n",
       "      <td>0.457695</td>\n",
       "      <td>0.709237</td>\n",
       "      <td>0.336187</td>\n",
       "      <td>0.136400</td>\n",
       "      <td>1.0</td>\n",
       "      <td>1.0</td>\n",
       "      <td>1.0</td>\n",
       "      <td>0.0</td>\n",
       "      <td>0.0</td>\n",
       "      <td>1.0</td>\n",
       "    </tr>\n",
       "    <tr>\n",
       "      <th>10052</th>\n",
       "      <td>0.117883</td>\n",
       "      <td>0.333333</td>\n",
       "      <td>0.610259</td>\n",
       "      <td>0.709237</td>\n",
       "      <td>0.182101</td>\n",
       "      <td>0.510485</td>\n",
       "      <td>1.0</td>\n",
       "      <td>1.0</td>\n",
       "      <td>1.0</td>\n",
       "      <td>0.0</td>\n",
       "      <td>0.0</td>\n",
       "      <td>0.0</td>\n",
       "    </tr>\n",
       "  </tbody>\n",
       "</table>\n",
       "<p>10053 rows × 12 columns</p>\n",
       "</div>"
      ],
      "text/plain": [
       "       postcode  rooms_number      area  land_surface  postcode_median_price  \\\n",
       "0      0.353648      0.500000  0.853896      0.869320               0.127626   \n",
       "1      0.859653      0.666667  0.934484      0.879402               0.136965   \n",
       "2      0.335854      0.833333  0.903374      0.795775               0.101167   \n",
       "3      0.022242      0.666667  0.847435      0.497037               0.295720   \n",
       "4      0.021130      0.333333  0.832917      0.631346               0.229572   \n",
       "...         ...           ...       ...           ...                    ...   \n",
       "10048  0.333630      0.333333  0.665880      0.709237               0.124514   \n",
       "10049  0.866326      0.166667  0.901184      0.709237               0.149416   \n",
       "10050  0.113212      0.166667  0.583991      0.709237               0.294533   \n",
       "10051  0.111210      0.166667  0.457695      0.709237               0.336187   \n",
       "10052  0.117883      0.333333  0.610259      0.709237               0.182101   \n",
       "\n",
       "       property_subtype_median_price  house_is_False  open_fire_False  \\\n",
       "0                           0.564805             0.0              1.0   \n",
       "1                           0.889340             0.0              1.0   \n",
       "2                           0.648169             0.0              1.0   \n",
       "3                           0.521760             0.0              1.0   \n",
       "4                           0.564805             0.0              1.0   \n",
       "...                              ...             ...              ...   \n",
       "10048                       0.510485             1.0              1.0   \n",
       "10049                       0.510485             1.0              1.0   \n",
       "10050                       0.510485             1.0              1.0   \n",
       "10051                       0.136400             1.0              1.0   \n",
       "10052                       0.510485             1.0              1.0   \n",
       "\n",
       "       terrace_False  region_B  region_W  building_state_agg_to_renovate  \n",
       "0                0.0       0.0       1.0                             0.0  \n",
       "1                1.0       0.0       0.0                             0.0  \n",
       "2                1.0       0.0       1.0                             1.0  \n",
       "3                1.0       1.0       0.0                             0.0  \n",
       "4                1.0       1.0       0.0                             0.0  \n",
       "...              ...       ...       ...                             ...  \n",
       "10048            0.0       0.0       1.0                             0.0  \n",
       "10049            1.0       0.0       0.0                             0.0  \n",
       "10050            0.0       0.0       0.0                             0.0  \n",
       "10051            1.0       0.0       0.0                             1.0  \n",
       "10052            1.0       0.0       0.0                             0.0  \n",
       "\n",
       "[10053 rows x 12 columns]"
      ]
     },
     "execution_count": 11,
     "metadata": {},
     "output_type": "execute_result"
    }
   ],
   "source": [
    "X"
   ]
  },
  {
   "cell_type": "markdown",
   "metadata": {},
   "source": [
    "## Correaltion"
   ]
  },
  {
   "cell_type": "code",
   "execution_count": 12,
   "metadata": {},
   "outputs": [
    {
     "data": {
      "text/plain": [
       "<matplotlib.axes._subplots.AxesSubplot at 0x7f938368e950>"
      ]
     },
     "execution_count": 12,
     "metadata": {},
     "output_type": "execute_result"
    },
    {
     "data": {
      "image/png": "[encoded data removed]",
      "text/plain": [
       "<Figure size 720x360 with 2 Axes>"
      ]
     },
     "metadata": {
      "needs_background": "light"
     },
     "output_type": "display_data"
    }
   ],
   "source": [
    "plt.figure(figsize=(10,5))\n",
    "sns.heatmap(X.corr(),annot=True,cmap='RdYlGn')"
   ]
  },
  {
   "cell_type": "code",
   "execution_count": 13,
   "metadata": {},
   "outputs": [],
   "source": [
    "#import packages for linear regression and split data into train set and test set\n",
    "from sklearn.linear_model import LinearRegression\n",
    "from sklearn.model_selection import train_test_split\n",
    "from sklearn.metrics import mean_absolute_error,mean_squared_error,r2_score "
   ]
  },
  {
   "cell_type": "code",
   "execution_count": 14,
   "metadata": {},
   "outputs": [],
   "source": [
    "#data is splitted into traning and testing set\n",
    "X_train,X_test,y_train,y_test=train_test_split(X,y,test_size=0.3,random_state=0)"
   ]
  },
  {
   "cell_type": "code",
   "execution_count": 15,
   "metadata": {},
   "outputs": [
    {
     "data": {
      "text/plain": [
       "LinearRegression(copy_X=True, fit_intercept=True, n_jobs=None, normalize=False)"
      ]
     },
     "execution_count": 15,
     "metadata": {},
     "output_type": "execute_result"
    }
   ],
   "source": [
    "# create linear regression object and fit data\n",
    "lreg=LinearRegression()\n",
    "lreg.fit(X_train,y_train)"
   ]
  },
  {
   "cell_type": "code",
   "execution_count": 24,
   "metadata": {},
   "outputs": [
    {
     "name": "stdout",
     "output_type": "stream",
     "text": [
      "[13.2103542  12.50838177 13.21641279 ... 13.34913802 11.80839294\n",
      " 12.84693689] [12.57148441 12.39742652 12.69250616 ... 13.59756049 12.10678783\n",
      " 12.89591796]\n"
     ]
    }
   ],
   "source": [
    "#find predicted data\n",
    "ytest_prediction=lreg.predict(X_test)\n",
    "ytrain_prediction=lreg.predict(X_train)\n",
    "print(ytest_prediction,ytrain_prediction)"
   ]
  },
  {
   "cell_type": "code",
   "execution_count": 17,
   "metadata": {},
   "outputs": [
    {
     "name": "stdout",
     "output_type": "stream",
     "text": [
      "Mean Square error:  0.0939143789054922\n",
      "Accuracy:  0.7259370520218514\n"
     ]
    }
   ],
   "source": [
    "#compute accuracy and mean error\n",
    "print('Mean Square error: ', mean_squared_error(y_test,prediction))\n",
    "print('Accuracy: ', r2_score(y_test,prediction))"
   ]
  },
  {
   "cell_type": "code",
   "execution_count": 90,
   "metadata": {},
   "outputs": [],
   "source": [
    "class Model_Evaluation:\n",
    "\n",
    "    def __init__(self, model):\n",
    "\n",
    "        self.model = model\n",
    "\n",
    "    def get_predictions(self, model, test_data, train_data):\n",
    "        \"\"\"\n",
    "        Function provides predicted values from train data and test data.\n",
    "\n",
    "        :param model: A model obejct that predicts the data\n",
    "        :param test_data: an array that contains test data\n",
    "        :param train_data: an array that contains train data\n",
    "\n",
    "        :return: array of predicted train and test data\n",
    "        \"\"\"\n",
    "\n",
    "        self.test_predictions = model.predict(test_data)\n",
    "        self.train_predictions = model.predict(train_data)\n",
    "\n",
    "        return self.test_predictions, self.train_predictions\n",
    "\n",
    "    def predict_model(self, model, y_test, ytest_prediction, ytrain_prediction, y_train):\n",
    "        \"\"\"\n",
    "        Function generates evaluation data on original inputs and predicted data.\n",
    "\n",
    "\n",
    "        :param y_train: an array that contains  training input data\n",
    "        :param ytrain_prediction: an array that contains predicted train data\n",
    "        :param y_test: an array that contains  testing input data\n",
    "        :param ytest_prediction: an array that contains predicted test data\n",
    "        :return: set of metrics in table format and plot\n",
    "        \"\"\"\n",
    "\n",
    "        self.mae = mean_absolute_error(y_test, ytest_prediction)\n",
    "\n",
    "        self.mse = mean_squared_error(y_test, ytest_prediction)\n",
    "        self.rmse = np.sqrt(self.mse)\n",
    "        self.mape = (self.mse/y_test)*100\n",
    "        self.train_score = r2_score(y_train, ytrain_prediction)\n",
    "        self.test_score = r2_score(y_test, ytest_prediction)\n",
    "        #print('Mean Absolute Error: ',self.mae)\n",
    "        #print('Mean Squared Error: ',self.mse)\n",
    "        #print('Root Mean Squqred Error: ',self.rmse)\n",
    "        #print('Mean Absolute Percentage Error: ',self.mape)\n",
    "        #print('RSquare : ',r2_score(original_data, predicted_data))\n",
    "        # return self.mean_absolute_error, self.mean_squared_error, self.root_mean_squared_error, self.mean_absolute_percentage_error\n",
    "\n",
    "        evaluation_data = pd.DataFrame(\n",
    "            {'Y': y_test, 'Y_Predicted': predicted_data, 'MAPE': self.mape})\n",
    "        #print('Table for Variation between Original and Predicted Values')\n",
    "        #print(tabulate(evaluation_data, headers='keys', tablefmt='fancy_grid'))\n",
    "\n",
    "        Results = pd.DataFrame({'MAE': self.mae, 'MSE': self.mse, 'RMSE': self.rmse,\n",
    "                                'Train_RSquare': self.train_score, 'Test_RSquare': self.test_score}, index=['Values'])\n",
    "        print('Evaluation Metrics')\n",
    "        print(tabulate(Results, headers='keys', tablefmt='fancy_grid'))\n",
    "\n",
    "        plt.subplot(1, 2, 1)\n",
    "        # display plots\n",
    "        plt.title('Actual vs Predicted Data')\n",
    "        plt.scatter(y_test, ytest_prediction)\n",
    "\n",
    "        plt.xlabel('Predicted')\n",
    "        plt.ylabel('Actual')\n",
    "\n",
    "        plt.subplot(1, 2, 2)\n",
    "        plt.title('Residuals Distribution Plot')\n",
    "        # histogram of the residuals. It tells how well the residuals are distributed from proposed model\n",
    "        plt.hist(y_test-ytest_prediction)\n",
    "\n",
    "    def predict_price(self, prop_type, postcode, area, rooms, garden, terrace, prop_condition):\n",
    "        \"\"\"\n",
    "        Function predicts the price with random input data.\n",
    "\n",
    "\n",
    "        :param prop_type: property type data\n",
    "        :param postcode: postcode data\n",
    "        :param area: area\n",
    "        :param rooms: number of rooms\n",
    "        :param garden: garden\n",
    "        :param terrace: terrace\n",
    "        :param prop_condition: proeprty condition\n",
    "        :return: price value\n",
    "        \"\"\"\n",
    "        self.loc_index = np.where(X.columns == postcode)[0]\n",
    "        self.prop_condition_index = np.where(X.columns == prop_condition)[0]\n",
    "        self.x = np.zeros(len(X.columns))\n",
    "        self.x[0] = prop_type\n",
    "        self.x[1] = rooms\n",
    "        self.x[2] = area\n",
    "        self.x[3] = terrace\n",
    "        self.x[4] = garden\n",
    "        if self.loc_index >= 0:\n",
    "\n",
    "            self.x[loc_index] = 1\n",
    "        if self.prop_condition_index >= 0:\n",
    "\n",
    "            self.x[prop_condition_index] = 1\n",
    "\n",
    "        return model.predict([x])[0]"
   ]
  },
  {
   "cell_type": "code",
   "execution_count": 91,
   "metadata": {},
   "outputs": [
    {
     "name": "stdout",
     "output_type": "stream",
     "text": [
      "Evaluation Metrics\n",
      "╒════════╤══════════╤═══════════╤══════════╤═════════════════╤════════════════╕\n",
      "│        │      MAE │       MSE │     RMSE │   Train_RSquare │   Test_RSquare │\n",
      "╞════════╪══════════╪═══════════╪══════════╪═════════════════╪════════════════╡\n",
      "│ Values │ 0.234146 │ 0.0939144 │ 0.306455 │        0.736412 │       0.725937 │\n",
      "╘════════╧══════════╧═══════════╧══════════╧═════════════════╧════════════════╛\n"
     ]
    },
    {
     "name": "stderr",
     "output_type": "stream",
     "text": [
      "/home/becode/anaconda3/lib/python3.7/site-packages/ipykernel_launcher.py:10: DeprecationWarning: The truth value of an empty array is ambiguous. Returning False, but in future this will result in an error. Use `array.size > 0` to check that an array is not empty.\n",
      "  # Remove the CWD from sys.path while we load stuff.\n",
      "/home/becode/anaconda3/lib/python3.7/site-packages/ipykernel_launcher.py:12: DeprecationWarning: The truth value of an empty array is ambiguous. Returning False, but in future this will result in an error. Use `array.size > 0` to check that an array is not empty.\n",
      "  if sys.path[0] == '':\n"
     ]
    },
    {
     "data": {
      "image/png": "[encoded data removed]",
      "text/plain": [
       "<Figure size 432x288 with 2 Axes>"
      ]
     },
     "metadata": {
      "needs_background": "light"
     },
     "output_type": "display_data"
    }
   ],
   "source": [
    "model=LinearRegression()\n",
    "regressor = model.fit(X_train, y_train)\n",
    "model_evaluation_obj=Model_Evaluation(model)\n",
    "ytest_predictions,ytrain_predictions=model_evaluation_obj.get_predictions(model,X_test,X_train)\n",
    "model_evaluation_obj.predict_model(model,y_test,ytest_predictions,ytrain_predictions,y_train)\n",
    "predicted_price=predict_price(1,8300,100,3,1,0,'good')\n"
   ]
  },
  {
   "cell_type": "code",
   "execution_count": null,
   "metadata": {},
   "outputs": [],
   "source": []
  }
 ],
 "metadata": {
  "kernelspec": {
   "display_name": "Python 3",
   "language": "python",
   "name": "python3"
  },
  "language_info": {
   "codemirror_mode": {
    "name": "ipython",
    "version": 3
   },
   "file_extension": ".py",
   "mimetype": "text/x-python",
   "name": "python",
   "nbconvert_exporter": "python",
   "pygments_lexer": "ipython3",
   "version": "3.7.6"
  }
 },
 "nbformat": 4,
 "nbformat_minor": 4
}
