{
 "cells": [
  {
   "cell_type": "code",
   "execution_count": 4,
   "metadata": {
    "collapsed": true
   },
   "outputs": [
    {
     "data": {
      "text/plain": "             source      postcode         price  rooms_number          area  \\\ncount  11288.000000  11288.000000  1.128800e+04  11288.000000  11288.000000   \nmean       5.988661   4857.760454  4.927968e+05      3.199947    195.134036   \nstd        0.150174   3181.093932  5.676955e+05      3.786751    219.598588   \nmin        4.000000   1000.000000  2.500000e+04      0.000000      5.000000   \n25%        6.000000   1420.000000  2.250000e+05      2.000000     97.000000   \n50%        6.000000   4420.000000  3.290000e+05      3.000000    146.000000   \n75%        6.000000   8300.000000  5.300000e+05      4.000000    227.000000   \nmax        6.000000   9992.000000  1.500000e+07    204.000000   9250.000000   \n\n       terrace_area   garden_area  land_surface  facades_number  \ncount  11288.000000  11288.000000  1.128800e+04       64.000000  \nmean      12.608965    230.076364  8.396805e+02        2.687500  \nstd       28.274838   2053.797648  1.368982e+04        0.852168  \nmin        0.000000      0.000000  0.000000e+00        1.000000  \n25%        0.000000      0.000000  0.000000e+00        2.000000  \n50%        0.000000      0.000000  0.000000e+00        2.500000  \n75%       15.000000      0.000000  4.220000e+02        3.000000  \nmax      708.000000  94000.000000  1.379000e+06        4.000000  ",
      "text/html": "<div>\n<style scoped>\n    .dataframe tbody tr th:only-of-type {\n        vertical-align: middle;\n    }\n\n    .dataframe tbody tr th {\n        vertical-align: top;\n    }\n\n    .dataframe thead th {\n        text-align: right;\n    }\n</style>\n<table border=\"1\" class=\"dataframe\">\n  <thead>\n    <tr style=\"text-align: right;\">\n      <th></th>\n      <th>source</th>\n      <th>postcode</th>\n      <th>price</th>\n      <th>rooms_number</th>\n      <th>area</th>\n      <th>terrace_area</th>\n      <th>garden_area</th>\n      <th>land_surface</th>\n      <th>facades_number</th>\n    </tr>\n  </thead>\n  <tbody>\n    <tr>\n      <th>count</th>\n      <td>11288.000000</td>\n      <td>11288.000000</td>\n      <td>1.128800e+04</td>\n      <td>11288.000000</td>\n      <td>11288.000000</td>\n      <td>11288.000000</td>\n      <td>11288.000000</td>\n      <td>1.128800e+04</td>\n      <td>64.000000</td>\n    </tr>\n    <tr>\n      <th>mean</th>\n      <td>5.988661</td>\n      <td>4857.760454</td>\n      <td>4.927968e+05</td>\n      <td>3.199947</td>\n      <td>195.134036</td>\n      <td>12.608965</td>\n      <td>230.076364</td>\n      <td>8.396805e+02</td>\n      <td>2.687500</td>\n    </tr>\n    <tr>\n      <th>std</th>\n      <td>0.150174</td>\n      <td>3181.093932</td>\n      <td>5.676955e+05</td>\n      <td>3.786751</td>\n      <td>219.598588</td>\n      <td>28.274838</td>\n      <td>2053.797648</td>\n      <td>1.368982e+04</td>\n      <td>0.852168</td>\n    </tr>\n    <tr>\n      <th>min</th>\n      <td>4.000000</td>\n      <td>1000.000000</td>\n      <td>2.500000e+04</td>\n      <td>0.000000</td>\n      <td>5.000000</td>\n      <td>0.000000</td>\n      <td>0.000000</td>\n      <td>0.000000e+00</td>\n      <td>1.000000</td>\n    </tr>\n    <tr>\n      <th>25%</th>\n      <td>6.000000</td>\n      <td>1420.000000</td>\n      <td>2.250000e+05</td>\n      <td>2.000000</td>\n      <td>97.000000</td>\n      <td>0.000000</td>\n      <td>0.000000</td>\n      <td>0.000000e+00</td>\n      <td>2.000000</td>\n    </tr>\n    <tr>\n      <th>50%</th>\n      <td>6.000000</td>\n      <td>4420.000000</td>\n      <td>3.290000e+05</td>\n      <td>3.000000</td>\n      <td>146.000000</td>\n      <td>0.000000</td>\n      <td>0.000000</td>\n      <td>0.000000e+00</td>\n      <td>2.500000</td>\n    </tr>\n    <tr>\n      <th>75%</th>\n      <td>6.000000</td>\n      <td>8300.000000</td>\n      <td>5.300000e+05</td>\n      <td>4.000000</td>\n      <td>227.000000</td>\n      <td>15.000000</td>\n      <td>0.000000</td>\n      <td>4.220000e+02</td>\n      <td>3.000000</td>\n    </tr>\n    <tr>\n      <th>max</th>\n      <td>6.000000</td>\n      <td>9992.000000</td>\n      <td>1.500000e+07</td>\n      <td>204.000000</td>\n      <td>9250.000000</td>\n      <td>708.000000</td>\n      <td>94000.000000</td>\n      <td>1.379000e+06</td>\n      <td>4.000000</td>\n    </tr>\n  </tbody>\n</table>\n</div>"
     },
     "execution_count": 4,
     "metadata": {},
     "output_type": "execute_result"
    }
   ],
   "source": [
    "import pandas as pd\n",
    "import os\n",
    "df = pd.read_csv(os.path.dirname(os.getcwd())+r\"\\data\"+\"\\clean_dataset.csv\")"
   ]
  },
  {
   "cell_type": "code",
   "execution_count": 7,
   "outputs": [
    {
     "data": {
      "text/plain": "HBox(children=(FloatProgress(value=0.0, description='Summarize dataset', max=33.0, style=ProgressStyle(descrip…",
      "application/vnd.jupyter.widget-view+json": {
       "version_major": 2,
       "version_minor": 0,
       "model_id": "20d620a35c4b44ffaab5202f77424ae0"
      }
     },
     "metadata": {},
     "output_type": "display_data"
    },
    {
     "name": "stdout",
     "output_type": "stream",
     "text": [
      "\n",
      "\n",
      "\n",
      "\n"
     ]
    },
    {
     "data": {
      "text/plain": "HBox(children=(FloatProgress(value=0.0, description='Generate report structure', max=1.0, style=ProgressStyle(…",
      "application/vnd.jupyter.widget-view+json": {
       "version_major": 2,
       "version_minor": 0,
       "model_id": "9303952b654c4f0da9eeb75fdefb862d"
      }
     },
     "metadata": {},
     "output_type": "display_data"
    },
    {
     "data": {
      "text/plain": "HBox(children=(FloatProgress(value=0.0, description='Render HTML', max=1.0, style=ProgressStyle(description_wi…",
      "application/vnd.jupyter.widget-view+json": {
       "version_major": 2,
       "version_minor": 0,
       "model_id": "2aa5dc7ea57d465797928c0cc1c7a194"
      }
     },
     "metadata": {},
     "output_type": "display_data"
    },
    {
     "name": "stderr",
     "output_type": "stream",
     "text": [
      "t:\\users\\fra\\appdata\\local\\programs\\python\\python37\\lib\\site-packages\\pandas_profiling\\profile_report.py:262: UserWarning: Extension .csv not supported. For now we assume .html was intended. To remove this warning, please use .html or .json.\n",
      "  f\"Extension {suffix} not supported. For now we assume .html was intended. \"\n"
     ]
    },
    {
     "data": {
      "text/plain": "HBox(children=(FloatProgress(value=0.0, description='Export report to file', max=1.0, style=ProgressStyle(desc…",
      "application/vnd.jupyter.widget-view+json": {
       "version_major": 2,
       "version_minor": 0,
       "model_id": "f3a8b754ffc94f88bf5f35825286739a"
      }
     },
     "metadata": {},
     "output_type": "display_data"
    }
   ],
   "source": [
    "from pandas_profiling import ProfileReport\n",
    "profile = df.profile_report()\n",
    "profile"
   ],
   "metadata": {
    "collapsed": false,
    "pycharm": {
     "name": "#%%\n"
    }
   }
  },
  {
   "cell_type": "code",
   "execution_count": 8,
   "outputs": [
    {
     "name": "stdout",
     "output_type": "stream",
     "text": [
      "C:\\Users\\Fra\\OneDrive\\Desktop\\belearner\\Belgium-prices-prediction\\data\\clean_dataset.csv\n"
     ]
    }
   ],
   "source": [
    "print(os.path.dirname(os.getcwd())+r\"\\data\"+\"\\clean_dataset.csv\")"
   ],
   "metadata": {
    "collapsed": false,
    "pycharm": {
     "name": "#%%\n"
    }
   }
  },
  {
   "cell_type": "code",
   "execution_count": 12,
   "outputs": [
    {
     "data": {
      "text/plain": "HBox(children=(FloatProgress(value=0.0, description='Export report to file', max=1.0, style=ProgressStyle(desc…",
      "application/vnd.jupyter.widget-view+json": {
       "version_major": 2,
       "version_minor": 0,
       "model_id": "5fce598b8e5d4832ab1f7c9dd7ae7759"
      }
     },
     "metadata": {},
     "output_type": "display_data"
    },
    {
     "name": "stdout",
     "output_type": "stream",
     "text": [
      "\n"
     ]
    }
   ],
   "source": [
    "profile.to_file(os.getcwd()+\"\\\\reports\"+\"\\\\df_before_cleaning.html\")"
   ],
   "metadata": {
    "collapsed": false,
    "pycharm": {
     "name": "#%%\n"
    }
   }
  }
 ],
 "metadata": {
  "kernelspec": {
   "display_name": "Python 3",
   "language": "python",
   "name": "python3"
  },
  "language_info": {
   "codemirror_mode": {
    "name": "ipython",
    "version": 2
   },
   "file_extension": ".py",
   "mimetype": "text/x-python",
   "name": "python",
   "nbconvert_exporter": "python",
   "pygments_lexer": "ipython2",
   "version": "2.7.6"
  }
 },
 "nbformat": 4,
 "nbformat_minor": 0
}