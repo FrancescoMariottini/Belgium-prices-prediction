{
 "cells": [
  {
   "cell_type": "code",
   "execution_count": 34,
   "metadata": {
    "collapsed": true
   },
   "outputs": [],
   "source": [
    "import pandas as pd\n",
    "import os\n",
    "import numpy as np\n",
    "from typing import List\n",
    "\n",
    "pd.options.display.max_rows = 20\n",
    "pd.options.display.max_columns = None"
   ]
  },
  {
   "cell_type": "code",
   "execution_count": 42,
   "outputs": [
    {
     "data": {
      "text/plain": "(11288, 19)"
     },
     "execution_count": 42,
     "metadata": {},
     "output_type": "execute_result"
    }
   ],
   "source": [
    "df = pd.read_csv(os.path.dirname(os.getcwd())+r\"\\data\"+\"\\clean_dataset.csv\")\n",
    "df.shape"
   ],
   "metadata": {
    "collapsed": false,
    "pycharm": {
     "name": "#%%\n"
    }
   }
  },
  {
   "cell_type": "code",
   "execution_count": 22,
   "outputs": [
    {
     "ename": "KeyboardInterrupt",
     "evalue": "",
     "output_type": "error",
     "traceback": [
      "\u001B[1;31m---------------------------------------------------------------------------\u001B[0m",
      "\u001B[1;31mKeyboardInterrupt\u001B[0m                         Traceback (most recent call last)",
      "\u001B[1;32m<ipython-input-22-89ec2133ca14>\u001B[0m in \u001B[0;36m<module>\u001B[1;34m\u001B[0m\n\u001B[1;32m----> 1\u001B[1;33m \u001B[1;32mfrom\u001B[0m \u001B[0mpandas_profiling\u001B[0m \u001B[1;32mimport\u001B[0m \u001B[0mProfileReport\u001B[0m\u001B[1;33m\u001B[0m\u001B[1;33m\u001B[0m\u001B[0m\n\u001B[0m\u001B[0;32m      2\u001B[0m \u001B[0mprofile\u001B[0m \u001B[1;33m=\u001B[0m \u001B[0mdf\u001B[0m\u001B[1;33m.\u001B[0m\u001B[0mprofile_report\u001B[0m\u001B[1;33m(\u001B[0m\u001B[1;33m)\u001B[0m\u001B[1;33m\u001B[0m\u001B[1;33m\u001B[0m\u001B[0m\n\u001B[0;32m      3\u001B[0m \u001B[0mprofile\u001B[0m\u001B[1;33m\u001B[0m\u001B[1;33m\u001B[0m\u001B[0m\n",
      "\u001B[1;32mt:\\users\\fra\\appdata\\local\\programs\\python\\python37\\lib\\site-packages\\pandas_profiling\\__init__.py\u001B[0m in \u001B[0;36m<module>\u001B[1;34m\u001B[0m\n\u001B[0;32m      5\u001B[0m \u001B[1;33m\u001B[0m\u001B[0m\n\u001B[0;32m      6\u001B[0m \u001B[1;32mfrom\u001B[0m \u001B[0mpandas_profiling\u001B[0m\u001B[1;33m.\u001B[0m\u001B[0mconfig\u001B[0m \u001B[1;32mimport\u001B[0m \u001B[0mConfig\u001B[0m\u001B[1;33m,\u001B[0m \u001B[0mconfig\u001B[0m\u001B[1;33m\u001B[0m\u001B[1;33m\u001B[0m\u001B[0m\n\u001B[1;32m----> 7\u001B[1;33m \u001B[1;32mfrom\u001B[0m \u001B[0mpandas_profiling\u001B[0m\u001B[1;33m.\u001B[0m\u001B[0mcontroller\u001B[0m \u001B[1;32mimport\u001B[0m \u001B[0mpandas_decorator\u001B[0m\u001B[1;33m\u001B[0m\u001B[1;33m\u001B[0m\u001B[0m\n\u001B[0m\u001B[0;32m      8\u001B[0m \u001B[1;32mfrom\u001B[0m \u001B[0mpandas_profiling\u001B[0m\u001B[1;33m.\u001B[0m\u001B[0mprofile_report\u001B[0m \u001B[1;32mimport\u001B[0m \u001B[0mProfileReport\u001B[0m\u001B[1;33m\u001B[0m\u001B[1;33m\u001B[0m\u001B[0m\n\u001B[0;32m      9\u001B[0m \u001B[1;32mfrom\u001B[0m \u001B[0mpandas_profiling\u001B[0m\u001B[1;33m.\u001B[0m\u001B[0mversion\u001B[0m \u001B[1;32mimport\u001B[0m \u001B[0m__version__\u001B[0m\u001B[1;33m\u001B[0m\u001B[1;33m\u001B[0m\u001B[0m\n",
      "\u001B[1;32mt:\\users\\fra\\appdata\\local\\programs\\python\\python37\\lib\\site-packages\\pandas_profiling\\controller\\pandas_decorator.py\u001B[0m in \u001B[0;36m<module>\u001B[1;34m\u001B[0m\n\u001B[0;32m      2\u001B[0m \u001B[1;32mfrom\u001B[0m \u001B[0mpandas\u001B[0m \u001B[1;32mimport\u001B[0m \u001B[0mDataFrame\u001B[0m\u001B[1;33m\u001B[0m\u001B[1;33m\u001B[0m\u001B[0m\n\u001B[0;32m      3\u001B[0m \u001B[1;33m\u001B[0m\u001B[0m\n\u001B[1;32m----> 4\u001B[1;33m \u001B[1;32mfrom\u001B[0m \u001B[0mpandas_profiling\u001B[0m\u001B[1;33m.\u001B[0m\u001B[0m__init__\u001B[0m \u001B[1;32mimport\u001B[0m \u001B[0mProfileReport\u001B[0m\u001B[1;33m\u001B[0m\u001B[1;33m\u001B[0m\u001B[0m\n\u001B[0m\u001B[0;32m      5\u001B[0m \u001B[1;33m\u001B[0m\u001B[0m\n\u001B[0;32m      6\u001B[0m \u001B[1;33m\u001B[0m\u001B[0m\n",
      "\u001B[1;32mt:\\users\\fra\\appdata\\local\\programs\\python\\python37\\lib\\site-packages\\pandas_profiling\\__init__.py\u001B[0m in \u001B[0;36m<module>\u001B[1;34m\u001B[0m\n\u001B[0;32m      6\u001B[0m \u001B[1;32mfrom\u001B[0m \u001B[0mpandas_profiling\u001B[0m\u001B[1;33m.\u001B[0m\u001B[0mconfig\u001B[0m \u001B[1;32mimport\u001B[0m \u001B[0mConfig\u001B[0m\u001B[1;33m,\u001B[0m \u001B[0mconfig\u001B[0m\u001B[1;33m\u001B[0m\u001B[1;33m\u001B[0m\u001B[0m\n\u001B[0;32m      7\u001B[0m \u001B[1;32mfrom\u001B[0m \u001B[0mpandas_profiling\u001B[0m\u001B[1;33m.\u001B[0m\u001B[0mcontroller\u001B[0m \u001B[1;32mimport\u001B[0m \u001B[0mpandas_decorator\u001B[0m\u001B[1;33m\u001B[0m\u001B[1;33m\u001B[0m\u001B[0m\n\u001B[1;32m----> 8\u001B[1;33m \u001B[1;32mfrom\u001B[0m \u001B[0mpandas_profiling\u001B[0m\u001B[1;33m.\u001B[0m\u001B[0mprofile_report\u001B[0m \u001B[1;32mimport\u001B[0m \u001B[0mProfileReport\u001B[0m\u001B[1;33m\u001B[0m\u001B[1;33m\u001B[0m\u001B[0m\n\u001B[0m\u001B[0;32m      9\u001B[0m \u001B[1;32mfrom\u001B[0m \u001B[0mpandas_profiling\u001B[0m\u001B[1;33m.\u001B[0m\u001B[0mversion\u001B[0m \u001B[1;32mimport\u001B[0m \u001B[0m__version__\u001B[0m\u001B[1;33m\u001B[0m\u001B[1;33m\u001B[0m\u001B[0m\n\u001B[0;32m     10\u001B[0m \u001B[1;33m\u001B[0m\u001B[0m\n",
      "\u001B[1;32mt:\\users\\fra\\appdata\\local\\programs\\python\\python37\\lib\\site-packages\\pandas_profiling\\profile_report.py\u001B[0m in \u001B[0;36m<module>\u001B[1;34m\u001B[0m\n\u001B[0;32m      9\u001B[0m \u001B[1;33m\u001B[0m\u001B[0m\n\u001B[0;32m     10\u001B[0m \u001B[1;32mfrom\u001B[0m \u001B[0mpandas_profiling\u001B[0m\u001B[1;33m.\u001B[0m\u001B[0mconfig\u001B[0m \u001B[1;32mimport\u001B[0m \u001B[0mconfig\u001B[0m\u001B[1;33m\u001B[0m\u001B[1;33m\u001B[0m\u001B[0m\n\u001B[1;32m---> 11\u001B[1;33m \u001B[1;32mfrom\u001B[0m \u001B[0mpandas_profiling\u001B[0m\u001B[1;33m.\u001B[0m\u001B[0mmodel\u001B[0m\u001B[1;33m.\u001B[0m\u001B[0mdescribe\u001B[0m \u001B[1;32mimport\u001B[0m \u001B[0mdescribe\u001B[0m \u001B[1;32mas\u001B[0m \u001B[0mdescribe_df\u001B[0m\u001B[1;33m\u001B[0m\u001B[1;33m\u001B[0m\u001B[0m\n\u001B[0m\u001B[0;32m     12\u001B[0m \u001B[1;32mfrom\u001B[0m \u001B[0mpandas_profiling\u001B[0m\u001B[1;33m.\u001B[0m\u001B[0mmodel\u001B[0m\u001B[1;33m.\u001B[0m\u001B[0mmessages\u001B[0m \u001B[1;32mimport\u001B[0m \u001B[0mMessageType\u001B[0m\u001B[1;33m\u001B[0m\u001B[1;33m\u001B[0m\u001B[0m\n\u001B[0;32m     13\u001B[0m \u001B[1;32mfrom\u001B[0m \u001B[0mpandas_profiling\u001B[0m\u001B[1;33m.\u001B[0m\u001B[0mreport\u001B[0m \u001B[1;32mimport\u001B[0m \u001B[0mget_report_structure\u001B[0m\u001B[1;33m\u001B[0m\u001B[1;33m\u001B[0m\u001B[0m\n",
      "\u001B[1;32mt:\\users\\fra\\appdata\\local\\programs\\python\\python37\\lib\\site-packages\\pandas_profiling\\model\\describe.py\u001B[0m in \u001B[0;36m<module>\u001B[1;34m\u001B[0m\n\u001B[0;32m      9\u001B[0m \u001B[1;32mfrom\u001B[0m \u001B[0mpandas_profiling\u001B[0m\u001B[1;33m.\u001B[0m\u001B[0mconfig\u001B[0m \u001B[1;32mimport\u001B[0m \u001B[0mconfig\u001B[0m \u001B[1;32mas\u001B[0m \u001B[0mconfig\u001B[0m\u001B[1;33m\u001B[0m\u001B[1;33m\u001B[0m\u001B[0m\n\u001B[0;32m     10\u001B[0m \u001B[1;32mfrom\u001B[0m \u001B[0mpandas_profiling\u001B[0m\u001B[1;33m.\u001B[0m\u001B[0mmodel\u001B[0m\u001B[1;33m.\u001B[0m\u001B[0mbase\u001B[0m \u001B[1;32mimport\u001B[0m \u001B[0mVariable\u001B[0m\u001B[1;33m\u001B[0m\u001B[1;33m\u001B[0m\u001B[0m\n\u001B[1;32m---> 11\u001B[1;33m \u001B[1;32mfrom\u001B[0m \u001B[0mpandas_profiling\u001B[0m\u001B[1;33m.\u001B[0m\u001B[0mmodel\u001B[0m\u001B[1;33m.\u001B[0m\u001B[0mcorrelations\u001B[0m \u001B[1;32mimport\u001B[0m \u001B[0mcalculate_correlation\u001B[0m\u001B[1;33m\u001B[0m\u001B[1;33m\u001B[0m\u001B[0m\n\u001B[0m\u001B[0;32m     12\u001B[0m \u001B[1;32mfrom\u001B[0m \u001B[0mpandas_profiling\u001B[0m\u001B[1;33m.\u001B[0m\u001B[0mmodel\u001B[0m\u001B[1;33m.\u001B[0m\u001B[0msample\u001B[0m \u001B[1;32mimport\u001B[0m \u001B[0mSample\u001B[0m\u001B[1;33m,\u001B[0m \u001B[0mget_sample\u001B[0m\u001B[1;33m\u001B[0m\u001B[1;33m\u001B[0m\u001B[0m\n\u001B[0;32m     13\u001B[0m from pandas_profiling.model.summary import (\n",
      "\u001B[1;32mt:\\users\\fra\\appdata\\local\\programs\\python\\python37\\lib\\site-packages\\pandas_profiling\\model\\correlations.py\u001B[0m in \u001B[0;36m<module>\u001B[1;34m\u001B[0m\n\u001B[0;32m     10\u001B[0m \u001B[1;32mfrom\u001B[0m \u001B[0mconfuse\u001B[0m \u001B[1;32mimport\u001B[0m \u001B[0mNotFoundError\u001B[0m\u001B[1;33m\u001B[0m\u001B[1;33m\u001B[0m\u001B[0m\n\u001B[0;32m     11\u001B[0m \u001B[1;32mfrom\u001B[0m \u001B[0mpandas\u001B[0m\u001B[1;33m.\u001B[0m\u001B[0mcore\u001B[0m\u001B[1;33m.\u001B[0m\u001B[0mbase\u001B[0m \u001B[1;32mimport\u001B[0m \u001B[0mDataError\u001B[0m\u001B[1;33m\u001B[0m\u001B[1;33m\u001B[0m\u001B[0m\n\u001B[1;32m---> 12\u001B[1;33m \u001B[1;32mfrom\u001B[0m \u001B[0mscipy\u001B[0m \u001B[1;32mimport\u001B[0m \u001B[0mstats\u001B[0m\u001B[1;33m\u001B[0m\u001B[1;33m\u001B[0m\u001B[0m\n\u001B[0m\u001B[0;32m     13\u001B[0m \u001B[1;33m\u001B[0m\u001B[0m\n\u001B[0;32m     14\u001B[0m \u001B[1;32mfrom\u001B[0m \u001B[0mpandas_profiling\u001B[0m\u001B[1;33m.\u001B[0m\u001B[0mconfig\u001B[0m \u001B[1;32mimport\u001B[0m \u001B[0mconfig\u001B[0m\u001B[1;33m\u001B[0m\u001B[1;33m\u001B[0m\u001B[0m\n",
      "\u001B[1;32mt:\\users\\fra\\appdata\\local\\programs\\python\\python37\\lib\\site-packages\\scipy\\stats\\__init__.py\u001B[0m in \u001B[0;36m<module>\u001B[1;34m\u001B[0m\n\u001B[0;32m    386\u001B[0m \u001B[1;33m\u001B[0m\u001B[0m\n\u001B[0;32m    387\u001B[0m \"\"\"\n\u001B[1;32m--> 388\u001B[1;33m \u001B[1;32mfrom\u001B[0m \u001B[1;33m.\u001B[0m\u001B[0mstats\u001B[0m \u001B[1;32mimport\u001B[0m \u001B[1;33m*\u001B[0m\u001B[1;33m\u001B[0m\u001B[1;33m\u001B[0m\u001B[0m\n\u001B[0m\u001B[0;32m    389\u001B[0m \u001B[1;32mfrom\u001B[0m \u001B[1;33m.\u001B[0m\u001B[0mdistributions\u001B[0m \u001B[1;32mimport\u001B[0m \u001B[1;33m*\u001B[0m\u001B[1;33m\u001B[0m\u001B[1;33m\u001B[0m\u001B[0m\n\u001B[0;32m    390\u001B[0m \u001B[1;32mfrom\u001B[0m \u001B[1;33m.\u001B[0m\u001B[0mmorestats\u001B[0m \u001B[1;32mimport\u001B[0m \u001B[1;33m*\u001B[0m\u001B[1;33m\u001B[0m\u001B[1;33m\u001B[0m\u001B[0m\n",
      "\u001B[1;32mt:\\users\\fra\\appdata\\local\\programs\\python\\python37\\lib\\site-packages\\scipy\\stats\\stats.py\u001B[0m in \u001B[0;36m<module>\u001B[1;34m\u001B[0m\n\u001B[0;32m    178\u001B[0m \u001B[1;32mimport\u001B[0m \u001B[0mscipy\u001B[0m\u001B[1;33m.\u001B[0m\u001B[0mspecial\u001B[0m \u001B[1;32mas\u001B[0m \u001B[0mspecial\u001B[0m\u001B[1;33m\u001B[0m\u001B[1;33m\u001B[0m\u001B[0m\n\u001B[0;32m    179\u001B[0m \u001B[1;32mfrom\u001B[0m \u001B[0mscipy\u001B[0m \u001B[1;32mimport\u001B[0m \u001B[0mlinalg\u001B[0m\u001B[1;33m\u001B[0m\u001B[1;33m\u001B[0m\u001B[0m\n\u001B[1;32m--> 180\u001B[1;33m \u001B[1;32mfrom\u001B[0m \u001B[1;33m.\u001B[0m \u001B[1;32mimport\u001B[0m \u001B[0mdistributions\u001B[0m\u001B[1;33m\u001B[0m\u001B[1;33m\u001B[0m\u001B[0m\n\u001B[0m\u001B[0;32m    181\u001B[0m \u001B[1;32mfrom\u001B[0m \u001B[1;33m.\u001B[0m \u001B[1;32mimport\u001B[0m \u001B[0mmstats_basic\u001B[0m\u001B[1;33m\u001B[0m\u001B[1;33m\u001B[0m\u001B[0m\n\u001B[0;32m    182\u001B[0m from ._stats_mstats_common import (_find_repeats, linregress, theilslopes,\n",
      "\u001B[1;32mt:\\users\\fra\\appdata\\local\\programs\\python\\python37\\lib\\site-packages\\scipy\\stats\\distributions.py\u001B[0m in \u001B[0;36m<module>\u001B[1;34m\u001B[0m\n\u001B[0;32m      6\u001B[0m \u001B[1;31m#       instead of `git blame -Lxxx,+x`.\u001B[0m\u001B[1;33m\u001B[0m\u001B[1;33m\u001B[0m\u001B[1;33m\u001B[0m\u001B[0m\n\u001B[0;32m      7\u001B[0m \u001B[1;31m#\u001B[0m\u001B[1;33m\u001B[0m\u001B[1;33m\u001B[0m\u001B[1;33m\u001B[0m\u001B[0m\n\u001B[1;32m----> 8\u001B[1;33m from ._distn_infrastructure import (entropy, rv_discrete, rv_continuous,\n\u001B[0m\u001B[0;32m      9\u001B[0m                                     rv_frozen)\n\u001B[0;32m     10\u001B[0m \u001B[1;33m\u001B[0m\u001B[0m\n",
      "\u001B[1;32mt:\\users\\fra\\appdata\\local\\programs\\python\\python37\\lib\\site-packages\\scipy\\stats\\_distn_infrastructure.py\u001B[0m in \u001B[0;36m<module>\u001B[1;34m\u001B[0m\n\u001B[0;32m     21\u001B[0m \u001B[1;33m\u001B[0m\u001B[0m\n\u001B[0;32m     22\u001B[0m \u001B[1;31m# for root finding for continuous distribution ppf, and max likelihood estimation\u001B[0m\u001B[1;33m\u001B[0m\u001B[1;33m\u001B[0m\u001B[1;33m\u001B[0m\u001B[0m\n\u001B[1;32m---> 23\u001B[1;33m \u001B[1;32mfrom\u001B[0m \u001B[0mscipy\u001B[0m \u001B[1;32mimport\u001B[0m \u001B[0moptimize\u001B[0m\u001B[1;33m\u001B[0m\u001B[1;33m\u001B[0m\u001B[0m\n\u001B[0m\u001B[0;32m     24\u001B[0m \u001B[1;33m\u001B[0m\u001B[0m\n\u001B[0;32m     25\u001B[0m \u001B[1;31m# for functions of continuous distributions (e.g. moments, entropy, cdf)\u001B[0m\u001B[1;33m\u001B[0m\u001B[1;33m\u001B[0m\u001B[1;33m\u001B[0m\u001B[0m\n",
      "\u001B[1;32mt:\\users\\fra\\appdata\\local\\programs\\python\\python37\\lib\\site-packages\\scipy\\optimize\\__init__.py\u001B[0m in \u001B[0;36m<module>\u001B[1;34m\u001B[0m\n\u001B[0;32m    385\u001B[0m \"\"\"\n\u001B[0;32m    386\u001B[0m \u001B[1;33m\u001B[0m\u001B[0m\n\u001B[1;32m--> 387\u001B[1;33m \u001B[1;32mfrom\u001B[0m \u001B[1;33m.\u001B[0m\u001B[0moptimize\u001B[0m \u001B[1;32mimport\u001B[0m \u001B[1;33m*\u001B[0m\u001B[1;33m\u001B[0m\u001B[1;33m\u001B[0m\u001B[0m\n\u001B[0m\u001B[0;32m    388\u001B[0m \u001B[1;32mfrom\u001B[0m \u001B[1;33m.\u001B[0m\u001B[0m_minimize\u001B[0m \u001B[1;32mimport\u001B[0m \u001B[1;33m*\u001B[0m\u001B[1;33m\u001B[0m\u001B[1;33m\u001B[0m\u001B[0m\n\u001B[0;32m    389\u001B[0m \u001B[1;32mfrom\u001B[0m \u001B[1;33m.\u001B[0m\u001B[0m_root\u001B[0m \u001B[1;32mimport\u001B[0m \u001B[1;33m*\u001B[0m\u001B[1;33m\u001B[0m\u001B[1;33m\u001B[0m\u001B[0m\n",
      "\u001B[1;32mt:\\users\\fra\\appdata\\local\\programs\\python\\python37\\lib\\site-packages\\scipy\\optimize\\optimize.py\u001B[0m in \u001B[0;36m<module>\u001B[1;34m\u001B[0m\n\u001B[0;32m     34\u001B[0m                          \u001B[0mline_search_wolfe2\u001B[0m \u001B[1;32mas\u001B[0m \u001B[0mline_search\u001B[0m\u001B[1;33m,\u001B[0m\u001B[1;33m\u001B[0m\u001B[1;33m\u001B[0m\u001B[0m\n\u001B[0;32m     35\u001B[0m                          LineSearchWarning)\n\u001B[1;32m---> 36\u001B[1;33m \u001B[1;32mfrom\u001B[0m \u001B[1;33m.\u001B[0m\u001B[0m_numdiff\u001B[0m \u001B[1;32mimport\u001B[0m \u001B[0mapprox_derivative\u001B[0m\u001B[1;33m\u001B[0m\u001B[1;33m\u001B[0m\u001B[0m\n\u001B[0m\u001B[0;32m     37\u001B[0m \u001B[1;32mfrom\u001B[0m \u001B[0mscipy\u001B[0m\u001B[1;33m.\u001B[0m\u001B[0m_lib\u001B[0m\u001B[1;33m.\u001B[0m\u001B[0m_util\u001B[0m \u001B[1;32mimport\u001B[0m \u001B[0mgetfullargspec_no_self\u001B[0m \u001B[1;32mas\u001B[0m \u001B[0m_getfullargspec\u001B[0m\u001B[1;33m\u001B[0m\u001B[1;33m\u001B[0m\u001B[0m\n\u001B[0;32m     38\u001B[0m \u001B[1;32mfrom\u001B[0m \u001B[0mscipy\u001B[0m\u001B[1;33m.\u001B[0m\u001B[0m_lib\u001B[0m\u001B[1;33m.\u001B[0m\u001B[0m_util\u001B[0m \u001B[1;32mimport\u001B[0m \u001B[0mMapWrapper\u001B[0m\u001B[1;33m\u001B[0m\u001B[1;33m\u001B[0m\u001B[0m\n",
      "\u001B[1;32mt:\\users\\fra\\appdata\\local\\programs\\python\\python37\\lib\\site-packages\\scipy\\optimize\\_numdiff.py\u001B[0m in \u001B[0;36m<module>\u001B[1;34m\u001B[0m\n\u001B[0;32m      4\u001B[0m \u001B[1;32mfrom\u001B[0m \u001B[0mnumpy\u001B[0m\u001B[1;33m.\u001B[0m\u001B[0mlinalg\u001B[0m \u001B[1;32mimport\u001B[0m \u001B[0mnorm\u001B[0m\u001B[1;33m\u001B[0m\u001B[1;33m\u001B[0m\u001B[0m\n\u001B[0;32m      5\u001B[0m \u001B[1;33m\u001B[0m\u001B[0m\n\u001B[1;32m----> 6\u001B[1;33m \u001B[1;32mfrom\u001B[0m \u001B[0mscipy\u001B[0m\u001B[1;33m.\u001B[0m\u001B[0msparse\u001B[0m\u001B[1;33m.\u001B[0m\u001B[0mlinalg\u001B[0m \u001B[1;32mimport\u001B[0m \u001B[0mLinearOperator\u001B[0m\u001B[1;33m\u001B[0m\u001B[1;33m\u001B[0m\u001B[0m\n\u001B[0m\u001B[0;32m      7\u001B[0m \u001B[1;32mfrom\u001B[0m \u001B[1;33m.\u001B[0m\u001B[1;33m.\u001B[0m\u001B[0msparse\u001B[0m \u001B[1;32mimport\u001B[0m \u001B[0missparse\u001B[0m\u001B[1;33m,\u001B[0m \u001B[0mcsc_matrix\u001B[0m\u001B[1;33m,\u001B[0m \u001B[0mcsr_matrix\u001B[0m\u001B[1;33m,\u001B[0m \u001B[0mcoo_matrix\u001B[0m\u001B[1;33m,\u001B[0m \u001B[0mfind\u001B[0m\u001B[1;33m\u001B[0m\u001B[1;33m\u001B[0m\u001B[0m\n\u001B[0;32m      8\u001B[0m \u001B[1;32mfrom\u001B[0m \u001B[1;33m.\u001B[0m\u001B[0m_group_columns\u001B[0m \u001B[1;32mimport\u001B[0m \u001B[0mgroup_dense\u001B[0m\u001B[1;33m,\u001B[0m \u001B[0mgroup_sparse\u001B[0m\u001B[1;33m\u001B[0m\u001B[1;33m\u001B[0m\u001B[0m\n",
      "\u001B[1;32mt:\\users\\fra\\appdata\\local\\programs\\python\\python37\\lib\\importlib\\_bootstrap.py\u001B[0m in \u001B[0;36m_find_and_load\u001B[1;34m(name, import_)\u001B[0m\n",
      "\u001B[1;32mt:\\users\\fra\\appdata\\local\\programs\\python\\python37\\lib\\importlib\\_bootstrap.py\u001B[0m in \u001B[0;36m_find_and_load_unlocked\u001B[1;34m(name, import_)\u001B[0m\n",
      "\u001B[1;32mt:\\users\\fra\\appdata\\local\\programs\\python\\python37\\lib\\importlib\\_bootstrap.py\u001B[0m in \u001B[0;36m_load_unlocked\u001B[1;34m(spec)\u001B[0m\n",
      "\u001B[1;32mt:\\users\\fra\\appdata\\local\\programs\\python\\python37\\lib\\importlib\\_bootstrap_external.py\u001B[0m in \u001B[0;36mexec_module\u001B[1;34m(self, module)\u001B[0m\n",
      "\u001B[1;32mt:\\users\\fra\\appdata\\local\\programs\\python\\python37\\lib\\importlib\\_bootstrap_external.py\u001B[0m in \u001B[0;36mget_code\u001B[1;34m(self, fullname)\u001B[0m\n",
      "\u001B[1;32mt:\\users\\fra\\appdata\\local\\programs\\python\\python37\\lib\\importlib\\_bootstrap_external.py\u001B[0m in \u001B[0;36mget_data\u001B[1;34m(self, path)\u001B[0m\n",
      "\u001B[1;31mKeyboardInterrupt\u001B[0m: "
     ]
    }
   ],
   "source": [
    "from pandas_profiling import ProfileReport\n",
    "profile = df.profile_report()\n",
    "profile"
   ],
   "metadata": {
    "collapsed": false,
    "pycharm": {
     "name": "#%%\n"
    }
   }
  },
  {
   "cell_type": "code",
   "execution_count": null,
   "outputs": [],
   "source": [
    "profile.to_file(os.getcwd()+\"\\\\reports\"+\"\\\\df_before_cleaning.html\")"
   ],
   "metadata": {
    "collapsed": false,
    "pycharm": {
     "name": "#%%\n"
    }
   }
  },
  {
   "cell_type": "code",
   "execution_count": 43,
   "outputs": [
    {
     "data": {
      "text/plain": "(11288, 19)"
     },
     "execution_count": 43,
     "metadata": {},
     "output_type": "execute_result"
    }
   ],
   "source": [
    "SOURCE_PATH = os.path.dirname(os.getcwd())+r\"\\data\"+\"\\clean_dataset.csv\"\n",
    "COLUMNS_NAN_REPLACE = [\"terrace_area\", \"garden_area\", \"land_surface\", \"price\"]\n",
    "COLUMNS_OUTLIERS_IGNORE = [\"terrace_area\", \"source\", \"garden_area\", \"postcode\", \"facades_number\"]\n",
    "\n",
    "filepath: str = SOURCE_PATH\n",
    "columns_nan_to_replace: List[str] = COLUMNS_NAN_REPLACE\n",
    "columns_outliers_ignore: List[str] = COLUMNS_OUTLIERS_IGNORE\n",
    "\n",
    "df = pd.read_csv(filepath)\n",
    "#deep copy to avoid warnings when indexing\n",
    "df_cleaned = df.copy(deep=True)\n",
    "df_cleaned.shape"
   ],
   "metadata": {
    "collapsed": false,
    "pycharm": {
     "name": "#%%\n"
    }
   }
  },
  {
   "cell_type": "markdown",
   "source": [
    "replace nan with 0 when relevant"
   ],
   "metadata": {
    "collapsed": false
   }
  },
  {
   "cell_type": "code",
   "source": [
    "for column in COLUMNS_NAN_REPLACE:\n",
    "    df_cleaned[column] = df_cleaned[column].transform(lambda x: np.nan if x == 0 else x)\n",
    "df_cleaned.shape"
   ],
   "metadata": {
    "collapsed": false,
    "pycharm": {
     "name": "#%%\n"
    }
   },
   "execution_count": 38,
   "outputs": [
    {
     "data": {
      "text/plain": "(11288, 19)"
     },
     "execution_count": 38,
     "metadata": {},
     "output_type": "execute_result"
    }
   ]
  },
  {
   "cell_type": "markdown",
   "source": [
    "remove if terrace/garden true but area is 0"
   ],
   "metadata": {
    "collapsed": false,
    "pycharm": {
     "name": "#%% md\n"
    }
   }
  },
  {
   "cell_type": "code",
   "execution_count": 39,
   "outputs": [
    {
     "name": "stdout",
     "output_type": "stream",
     "text": [
      "Intial rows 11288\n",
      "% kept rows 100.0\n"
     ]
    }
   ],
   "source": [
    "print(f'Intial rows {len(df)}')\n",
    "df_cleaned = df_cleaned[~(((df_cleaned.terrace==True) & (df_cleaned.terrace_area==0))|((df_cleaned.garden==True) & (df_cleaned.garden_area==0)))]\n",
    "print(f'% kept rows {len(df_cleaned)/len(df)*100}')"
   ],
   "metadata": {
    "collapsed": false,
    "pycharm": {
     "name": "#%%\n"
    }
   }
  },
  {
   "cell_type": "markdown",
   "source": [
    "Calculating Tukey fences to deal with founded non-normal distributions\n",
    "NOTE FOR GROUP: effective python way to check for how normal functions are? Maybe already in profiling report?"
   ],
   "metadata": {
    "collapsed": false,
    "pycharm": {
     "name": "#%% md\n"
    }
   }
  },
  {
   "cell_type": "code",
   "execution_count": 40,
   "outputs": [
    {
     "data": {
      "text/plain": "                       source      postcode         price  rooms_number  \\\ncount            11288.000000  11288.000000  1.128800e+04  11288.000000   \nmean                 5.988661   4857.760454  4.927968e+05      3.199947   \nstd                  0.150174   3181.093932  5.676955e+05      3.786751   \nmin                  4.000000   1000.000000  2.500000e+04      0.000000   \n5%                   6.000000   1040.000000  1.290000e+05      1.000000   \n6%                   6.000000   1050.000000  1.375000e+05      1.000000   \n25%                  6.000000   1420.000000  2.250000e+05      2.000000   \n50%                  6.000000   4420.000000  3.290000e+05      3.000000   \n75%                  6.000000   8300.000000  5.300000e+05      4.000000   \n94%                  6.000000   9300.000000  1.295000e+06      6.000000   \n95%                  6.000000   9400.000000  1.400000e+06      6.000000   \nmax                  6.000000   9992.000000  1.500000e+07    204.000000   \nfence_tukey_min      6.000000  -8900.000000 -2.325000e+05     -1.000000   \nfence_tukey_max      6.000000  18620.000000  9.875000e+05      7.000000   \n\n                         area  terrace_area   garden_area  land_surface  \\\ncount            11288.000000   5012.000000   2498.000000  5.585000e+03   \nmean               195.134036     28.397845   1039.672538  1.697102e+03   \nstd                219.598588     36.773554   4269.032348  1.942578e+04   \nmin                  5.000000      1.000000      1.000000  1.000000e+00   \n5%                  60.000000      4.000000     20.000000  7.200000e+01   \n6%                  63.000000      4.000000     25.000000  8.000000e+01   \n25%                 97.000000     10.000000     80.000000  1.830000e+02   \n50%                146.000000     18.000000    240.000000  4.350000e+02   \n75%                227.000000     33.000000    724.000000  1.052000e+03   \n94%                448.000000     80.000000   2512.060000  3.559680e+03   \n95%                471.650000     90.000000   3057.500000  4.174800e+03   \nmax               9250.000000    708.000000  94000.000000  1.379000e+06   \nfence_tukey_min    -98.000000    -24.500000   -886.000000 -1.120500e+03   \nfence_tukey_max    422.000000     67.500000   1690.000000  2.355500e+03   \n\n                 facades_number  \ncount                 64.000000  \nmean                   2.687500  \nstd                    0.852168  \nmin                    1.000000  \n5%                     2.000000  \n6%                     2.000000  \n25%                    2.000000  \n50%                    2.500000  \n75%                    3.000000  \n94%                    4.000000  \n95%                    4.000000  \nmax                    4.000000  \nfence_tukey_min        0.500000  \nfence_tukey_max        4.500000  ",
      "text/html": "<div>\n<style scoped>\n    .dataframe tbody tr th:only-of-type {\n        vertical-align: middle;\n    }\n\n    .dataframe tbody tr th {\n        vertical-align: top;\n    }\n\n    .dataframe thead th {\n        text-align: right;\n    }\n</style>\n<table border=\"1\" class=\"dataframe\">\n  <thead>\n    <tr style=\"text-align: right;\">\n      <th></th>\n      <th>source</th>\n      <th>postcode</th>\n      <th>price</th>\n      <th>rooms_number</th>\n      <th>area</th>\n      <th>terrace_area</th>\n      <th>garden_area</th>\n      <th>land_surface</th>\n      <th>facades_number</th>\n    </tr>\n  </thead>\n  <tbody>\n    <tr>\n      <th>count</th>\n      <td>11288.000000</td>\n      <td>11288.000000</td>\n      <td>1.128800e+04</td>\n      <td>11288.000000</td>\n      <td>11288.000000</td>\n      <td>5012.000000</td>\n      <td>2498.000000</td>\n      <td>5.585000e+03</td>\n      <td>64.000000</td>\n    </tr>\n    <tr>\n      <th>mean</th>\n      <td>5.988661</td>\n      <td>4857.760454</td>\n      <td>4.927968e+05</td>\n      <td>3.199947</td>\n      <td>195.134036</td>\n      <td>28.397845</td>\n      <td>1039.672538</td>\n      <td>1.697102e+03</td>\n      <td>2.687500</td>\n    </tr>\n    <tr>\n      <th>std</th>\n      <td>0.150174</td>\n      <td>3181.093932</td>\n      <td>5.676955e+05</td>\n      <td>3.786751</td>\n      <td>219.598588</td>\n      <td>36.773554</td>\n      <td>4269.032348</td>\n      <td>1.942578e+04</td>\n      <td>0.852168</td>\n    </tr>\n    <tr>\n      <th>min</th>\n      <td>4.000000</td>\n      <td>1000.000000</td>\n      <td>2.500000e+04</td>\n      <td>0.000000</td>\n      <td>5.000000</td>\n      <td>1.000000</td>\n      <td>1.000000</td>\n      <td>1.000000e+00</td>\n      <td>1.000000</td>\n    </tr>\n    <tr>\n      <th>5%</th>\n      <td>6.000000</td>\n      <td>1040.000000</td>\n      <td>1.290000e+05</td>\n      <td>1.000000</td>\n      <td>60.000000</td>\n      <td>4.000000</td>\n      <td>20.000000</td>\n      <td>7.200000e+01</td>\n      <td>2.000000</td>\n    </tr>\n    <tr>\n      <th>6%</th>\n      <td>6.000000</td>\n      <td>1050.000000</td>\n      <td>1.375000e+05</td>\n      <td>1.000000</td>\n      <td>63.000000</td>\n      <td>4.000000</td>\n      <td>25.000000</td>\n      <td>8.000000e+01</td>\n      <td>2.000000</td>\n    </tr>\n    <tr>\n      <th>25%</th>\n      <td>6.000000</td>\n      <td>1420.000000</td>\n      <td>2.250000e+05</td>\n      <td>2.000000</td>\n      <td>97.000000</td>\n      <td>10.000000</td>\n      <td>80.000000</td>\n      <td>1.830000e+02</td>\n      <td>2.000000</td>\n    </tr>\n    <tr>\n      <th>50%</th>\n      <td>6.000000</td>\n      <td>4420.000000</td>\n      <td>3.290000e+05</td>\n      <td>3.000000</td>\n      <td>146.000000</td>\n      <td>18.000000</td>\n      <td>240.000000</td>\n      <td>4.350000e+02</td>\n      <td>2.500000</td>\n    </tr>\n    <tr>\n      <th>75%</th>\n      <td>6.000000</td>\n      <td>8300.000000</td>\n      <td>5.300000e+05</td>\n      <td>4.000000</td>\n      <td>227.000000</td>\n      <td>33.000000</td>\n      <td>724.000000</td>\n      <td>1.052000e+03</td>\n      <td>3.000000</td>\n    </tr>\n    <tr>\n      <th>94%</th>\n      <td>6.000000</td>\n      <td>9300.000000</td>\n      <td>1.295000e+06</td>\n      <td>6.000000</td>\n      <td>448.000000</td>\n      <td>80.000000</td>\n      <td>2512.060000</td>\n      <td>3.559680e+03</td>\n      <td>4.000000</td>\n    </tr>\n    <tr>\n      <th>95%</th>\n      <td>6.000000</td>\n      <td>9400.000000</td>\n      <td>1.400000e+06</td>\n      <td>6.000000</td>\n      <td>471.650000</td>\n      <td>90.000000</td>\n      <td>3057.500000</td>\n      <td>4.174800e+03</td>\n      <td>4.000000</td>\n    </tr>\n    <tr>\n      <th>max</th>\n      <td>6.000000</td>\n      <td>9992.000000</td>\n      <td>1.500000e+07</td>\n      <td>204.000000</td>\n      <td>9250.000000</td>\n      <td>708.000000</td>\n      <td>94000.000000</td>\n      <td>1.379000e+06</td>\n      <td>4.000000</td>\n    </tr>\n    <tr>\n      <th>fence_tukey_min</th>\n      <td>6.000000</td>\n      <td>-8900.000000</td>\n      <td>-2.325000e+05</td>\n      <td>-1.000000</td>\n      <td>-98.000000</td>\n      <td>-24.500000</td>\n      <td>-886.000000</td>\n      <td>-1.120500e+03</td>\n      <td>0.500000</td>\n    </tr>\n    <tr>\n      <th>fence_tukey_max</th>\n      <td>6.000000</td>\n      <td>18620.000000</td>\n      <td>9.875000e+05</td>\n      <td>7.000000</td>\n      <td>422.000000</td>\n      <td>67.500000</td>\n      <td>1690.000000</td>\n      <td>2.355500e+03</td>\n      <td>4.500000</td>\n    </tr>\n  </tbody>\n</table>\n</div>"
     },
     "execution_count": 40,
     "metadata": {},
     "output_type": "execute_result"
    }
   ],
   "source": [
    "def describe_with_tukey_fences(dataframe: pd.DataFrame):\n",
    "    dataframe_desc = dataframe.describe(percentiles=[0.95, 0.94, 0.75, 0.5, 0.25, 0.06, 0.05], include=np.number)\n",
    "    dataframe_index = dataframe_desc.index.to_list()\n",
    "    fence_tukey_min =[dataframe_desc.loc[\"25%\",c] - 1.5 * (dataframe_desc.loc[\"75%\",c] - dataframe_desc.loc[\"25%\",c]) for c in  dataframe_desc.columns]\n",
    "    fence_tukey_max =[dataframe_desc.loc[\"75%\",c] + 1.5 * (dataframe_desc.loc[\"75%\",c] - dataframe_desc.loc[\"25%\",c]) for c in  dataframe_desc.columns]\n",
    "    dataframe_desc = dataframe_desc.append(dict(zip(dataframe_desc.columns, fence_tukey_min)), ignore_index=True)\n",
    "    dataframe_desc = dataframe_desc.append(dict(zip(dataframe_desc.columns, fence_tukey_max)), ignore_index=True)\n",
    "    dataframe_index.append('fence_tukey_min')\n",
    "    dataframe_index.append('fence_tukey_max')\n",
    "    dataframe_desc.index = dataframe_index    \n",
    "    return dataframe_desc\n",
    "df_desc = describe_with_tukey_fences(df_cleaned)\n",
    "df_desc"
   ],
   "metadata": {
    "collapsed": false,
    "pycharm": {
     "name": "#%%\n"
    }
   }
  },
  {
   "cell_type": "code",
   "execution_count": 44,
   "outputs": [
    {
     "name": "stdout",
     "output_type": "stream",
     "text": [
      "Intial rows 11288\n",
      "Excluding 5.040751240255137 percentile max outliers in price\n",
      "Excluding 3.0786453960257476 Tukey's max outliers in rooms_number\n",
      "Excluding 1.8577341418808402 percentile max outliers in area\n",
      "Excluding 1.402510788544531 percentile max outliers in land_surface\n",
      "Excluding 10.940822111977322\n"
     ]
    }
   ],
   "source": [
    "print(f'Intial rows {len(df)}')\n",
    "for column in df_desc:\n",
    "    if column not in COLUMNS_OUTLIERS_IGNORE:\n",
    "        fence_tukey_min = df_desc.loc[\"fence_tukey_min\", column]\n",
    "        fence_tukey_max = df_desc.loc[\"fence_tukey_max\", column]\n",
    "        p95 = df_desc.loc[\"95%\", column]\n",
    "        p94 = df_desc.loc[\"94%\", column]\n",
    "        p06 = df_desc.loc[\"6%\", column]\n",
    "        p05 = df_desc.loc[\"5%\", column]\n",
    "        #printing\n",
    "        row_start = len(df_cleaned)\n",
    "        if fence_tukey_max >= p95:\n",
    "            df_cleaned= df_cleaned[df_cleaned[column]<fence_tukey_max]\n",
    "            if len(df_cleaned) < row_start:\n",
    "                print(f\"Excluding {(1-len(df_cleaned)/row_start)*100} Tukey's max outliers in {column}\")\n",
    "        elif (fence_tukey_max < p95) and  (p95 != p94):\n",
    "            df_cleaned= df_cleaned[df_cleaned[column]<p95]\n",
    "            if len(df_cleaned) < row_start:\n",
    "                print(f\"Excluding {(1-len(df_cleaned)/row_start)*100} percentile max outliers in {column}\")\n",
    "        row_start = len(df_cleaned)\n",
    "        if fence_tukey_min <= p05:\n",
    "            df_cleaned= df_cleaned[df_cleaned[column]>fence_tukey_min]\n",
    "            if len(df_cleaned) < row_start:\n",
    "                print(f\"Excluding {(1-len(df_cleaned)/row_start)*100} Tukey's min outliers in {column}\")\n",
    "        elif (fence_tukey_max < p05) and  (p05 != p06):\n",
    "            df_cleaned= df_cleaned[df_cleaned[column]<p95]\n",
    "            if len(df_cleaned) < row_start:\n",
    "                print(f\"Excluding {(1-len(df_cleaned)/row_start)*100} percentile min outliers in {column}\")\n",
    "print(f\"Excluding {(1-len(df_cleaned)/len(df))*100}\")"
   ],
   "metadata": {
    "collapsed": false,
    "pycharm": {
     "name": "#%%\n"
    }
   }
  },
  {
   "cell_type": "code",
   "execution_count": null,
   "outputs": [],
   "source": [
    "df_desc = describe_with_tukey_fences(df_cleaned)\n",
    "df_desc"
   ],
   "metadata": {
    "collapsed": false,
    "pycharm": {
     "name": "#%%\n"
    }
   }
  },
  {
   "cell_type": "markdown",
   "source": [
    "### Converting categorical variables and adding numerical variables\n",
    "Categorical variables were analysed by assigning to them median price (target variable).\n",
    "\n",
    "For postcode a limited number of values remained for some postcodes after removing outliers."
   ],
   "metadata": {
    "collapsed": false
   }
  },
  {
   "cell_type": "code",
   "execution_count": 46,
   "outputs": [
    {
     "name": "stdout",
     "output_type": "stream",
     "text": [
      "                min        max       mean     median  len\n",
      "postcode                                                 \n",
      "2330      1350000.0  1350000.0  1350000.0  1350000.0  1.0\n",
      "2350      1150000.0  1150000.0  1150000.0  1150000.0  1.0\n",
      "2970       389000.0  1250000.0   859600.0   925000.0  5.0\n",
      "2360       845000.0   845000.0   845000.0   845000.0  1.0\n",
      "2250       799000.0   799000.0   799000.0   799000.0  1.0\n",
      "                min        max       mean     median  len\n",
      "postcode                                                 \n",
      "2330      1350000.0  1350000.0  1350000.0  1350000.0  1.0\n",
      "2350      1150000.0  1150000.0  1150000.0  1150000.0  1.0\n",
      "2970       389000.0  1250000.0   859600.0   925000.0  5.0\n",
      "2360       845000.0   845000.0   845000.0   845000.0  1.0\n",
      "2250       799000.0   799000.0   799000.0   799000.0  1.0\n"
     ]
    },
    {
     "data": {
      "text/plain": "                       source      postcode         price  rooms_number  \\\ncount            10053.000000  10053.000000  1.005300e+04  10053.000000   \nmean                 5.988262   4954.659206  3.713688e+05      2.764548   \nstd                  0.152775   3187.617962  2.367212e+05      1.247029   \nmin                  4.000000   1000.000000  2.500000e+04      0.000000   \n5%                   6.000000   1040.000000  1.250000e+05      1.000000   \n6%                   6.000000   1050.000000  1.300000e+05      1.000000   \n25%                  6.000000   1490.000000  2.150000e+05      2.000000   \n50%                  6.000000   4500.000000  2.990000e+05      3.000000   \n75%                  6.000000   8370.000000  4.500000e+05      3.000000   \n94%                  6.000000   9300.000000  8.250000e+05      5.000000   \n95%                  6.000000   9420.000000  8.600000e+05      5.000000   \nmax                  6.000000   9992.000000  1.396000e+06      6.000000   \nfence_tukey_min      6.000000  -8830.000000 -1.375000e+05      0.500000   \nfence_tukey_max      6.000000  18690.000000  8.025000e+05      4.500000   \n\n                         area  terrace_area   garden_area  land_surface  \\\ncount            10053.000000  10053.000000  10053.000000  10053.000000   \nmean               155.398488     11.101562    124.184721    292.947677   \nstd                 84.261466     22.848054    860.183845    576.096255   \nmin                  5.000000      0.000000      0.000000      0.000000   \n5%                  56.000000      0.000000      0.000000      0.000000   \n6%                  60.000000      0.000000      0.000000      0.000000   \n25%                 93.000000      0.000000      0.000000      0.000000   \n50%                135.000000      0.000000      0.000000      0.000000   \n75%                200.000000     15.000000      0.000000    312.000000   \n94%                312.000000     44.000000    500.000000   1339.520000   \n95%                330.000000     50.000000    613.200000   1500.000000   \nmax                470.000000    708.000000  40000.000000   4170.000000   \nfence_tukey_min    -67.500000    -22.500000      0.000000   -468.000000   \nfence_tukey_max    360.500000     37.500000      0.000000    780.000000   \n\n                 facades_number  postcode_median_price  \ncount                 59.000000           1.005300e+04  \nmean                   2.677966           3.352739e+05  \nstd                    0.839554           1.364711e+05  \nmin                    1.000000           6.500000e+04  \n5%                     2.000000           1.675000e+05  \n6%                     2.000000           1.700000e+05  \n25%                    2.000000           2.375000e+05  \n50%                    3.000000           2.984000e+05  \n75%                    3.000000           3.990000e+05  \n94%                    4.000000           6.010000e+05  \n95%                    4.000000           6.200000e+05  \nmax                    4.000000           1.350000e+06  \nfence_tukey_min        0.500000          -4.750000e+03  \nfence_tukey_max        4.500000           6.412500e+05  ",
      "text/html": "<div>\n<style scoped>\n    .dataframe tbody tr th:only-of-type {\n        vertical-align: middle;\n    }\n\n    .dataframe tbody tr th {\n        vertical-align: top;\n    }\n\n    .dataframe thead th {\n        text-align: right;\n    }\n</style>\n<table border=\"1\" class=\"dataframe\">\n  <thead>\n    <tr style=\"text-align: right;\">\n      <th></th>\n      <th>source</th>\n      <th>postcode</th>\n      <th>price</th>\n      <th>rooms_number</th>\n      <th>area</th>\n      <th>terrace_area</th>\n      <th>garden_area</th>\n      <th>land_surface</th>\n      <th>facades_number</th>\n      <th>postcode_median_price</th>\n    </tr>\n  </thead>\n  <tbody>\n    <tr>\n      <th>count</th>\n      <td>10053.000000</td>\n      <td>10053.000000</td>\n      <td>1.005300e+04</td>\n      <td>10053.000000</td>\n      <td>10053.000000</td>\n      <td>10053.000000</td>\n      <td>10053.000000</td>\n      <td>10053.000000</td>\n      <td>59.000000</td>\n      <td>1.005300e+04</td>\n    </tr>\n    <tr>\n      <th>mean</th>\n      <td>5.988262</td>\n      <td>4954.659206</td>\n      <td>3.713688e+05</td>\n      <td>2.764548</td>\n      <td>155.398488</td>\n      <td>11.101562</td>\n      <td>124.184721</td>\n      <td>292.947677</td>\n      <td>2.677966</td>\n      <td>3.352739e+05</td>\n    </tr>\n    <tr>\n      <th>std</th>\n      <td>0.152775</td>\n      <td>3187.617962</td>\n      <td>2.367212e+05</td>\n      <td>1.247029</td>\n      <td>84.261466</td>\n      <td>22.848054</td>\n      <td>860.183845</td>\n      <td>576.096255</td>\n      <td>0.839554</td>\n      <td>1.364711e+05</td>\n    </tr>\n    <tr>\n      <th>min</th>\n      <td>4.000000</td>\n      <td>1000.000000</td>\n      <td>2.500000e+04</td>\n      <td>0.000000</td>\n      <td>5.000000</td>\n      <td>0.000000</td>\n      <td>0.000000</td>\n      <td>0.000000</td>\n      <td>1.000000</td>\n      <td>6.500000e+04</td>\n    </tr>\n    <tr>\n      <th>5%</th>\n      <td>6.000000</td>\n      <td>1040.000000</td>\n      <td>1.250000e+05</td>\n      <td>1.000000</td>\n      <td>56.000000</td>\n      <td>0.000000</td>\n      <td>0.000000</td>\n      <td>0.000000</td>\n      <td>2.000000</td>\n      <td>1.675000e+05</td>\n    </tr>\n    <tr>\n      <th>6%</th>\n      <td>6.000000</td>\n      <td>1050.000000</td>\n      <td>1.300000e+05</td>\n      <td>1.000000</td>\n      <td>60.000000</td>\n      <td>0.000000</td>\n      <td>0.000000</td>\n      <td>0.000000</td>\n      <td>2.000000</td>\n      <td>1.700000e+05</td>\n    </tr>\n    <tr>\n      <th>25%</th>\n      <td>6.000000</td>\n      <td>1490.000000</td>\n      <td>2.150000e+05</td>\n      <td>2.000000</td>\n      <td>93.000000</td>\n      <td>0.000000</td>\n      <td>0.000000</td>\n      <td>0.000000</td>\n      <td>2.000000</td>\n      <td>2.375000e+05</td>\n    </tr>\n    <tr>\n      <th>50%</th>\n      <td>6.000000</td>\n      <td>4500.000000</td>\n      <td>2.990000e+05</td>\n      <td>3.000000</td>\n      <td>135.000000</td>\n      <td>0.000000</td>\n      <td>0.000000</td>\n      <td>0.000000</td>\n      <td>3.000000</td>\n      <td>2.984000e+05</td>\n    </tr>\n    <tr>\n      <th>75%</th>\n      <td>6.000000</td>\n      <td>8370.000000</td>\n      <td>4.500000e+05</td>\n      <td>3.000000</td>\n      <td>200.000000</td>\n      <td>15.000000</td>\n      <td>0.000000</td>\n      <td>312.000000</td>\n      <td>3.000000</td>\n      <td>3.990000e+05</td>\n    </tr>\n    <tr>\n      <th>94%</th>\n      <td>6.000000</td>\n      <td>9300.000000</td>\n      <td>8.250000e+05</td>\n      <td>5.000000</td>\n      <td>312.000000</td>\n      <td>44.000000</td>\n      <td>500.000000</td>\n      <td>1339.520000</td>\n      <td>4.000000</td>\n      <td>6.010000e+05</td>\n    </tr>\n    <tr>\n      <th>95%</th>\n      <td>6.000000</td>\n      <td>9420.000000</td>\n      <td>8.600000e+05</td>\n      <td>5.000000</td>\n      <td>330.000000</td>\n      <td>50.000000</td>\n      <td>613.200000</td>\n      <td>1500.000000</td>\n      <td>4.000000</td>\n      <td>6.200000e+05</td>\n    </tr>\n    <tr>\n      <th>max</th>\n      <td>6.000000</td>\n      <td>9992.000000</td>\n      <td>1.396000e+06</td>\n      <td>6.000000</td>\n      <td>470.000000</td>\n      <td>708.000000</td>\n      <td>40000.000000</td>\n      <td>4170.000000</td>\n      <td>4.000000</td>\n      <td>1.350000e+06</td>\n    </tr>\n    <tr>\n      <th>fence_tukey_min</th>\n      <td>6.000000</td>\n      <td>-8830.000000</td>\n      <td>-1.375000e+05</td>\n      <td>0.500000</td>\n      <td>-67.500000</td>\n      <td>-22.500000</td>\n      <td>0.000000</td>\n      <td>-468.000000</td>\n      <td>0.500000</td>\n      <td>-4.750000e+03</td>\n    </tr>\n    <tr>\n      <th>fence_tukey_max</th>\n      <td>6.000000</td>\n      <td>18690.000000</td>\n      <td>8.025000e+05</td>\n      <td>4.500000</td>\n      <td>360.500000</td>\n      <td>37.500000</td>\n      <td>0.000000</td>\n      <td>780.000000</td>\n      <td>4.500000</td>\n      <td>6.412500e+05</td>\n    </tr>\n  </tbody>\n</table>\n</div>"
     },
     "execution_count": 46,
     "metadata": {},
     "output_type": "execute_result"
    }
   ],
   "source": [
    "postcode_price = df_cleaned.groupby('postcode')['price'].agg([min,max,np.mean,np.median,len])\n",
    "#verifying count and values per postcode\n",
    "print(postcode_price.sort_values(by=\"median\", ascending=False).head(5))\n",
    "print(postcode_price.sort_values(by=\"mean\", ascending=False).head(5))\n",
    "\n",
    "def get_postcode_price(x):\n",
    "    postcode_price_median = postcode_price.loc[x,\"median\"]\n",
    "    return postcode_price_median\n",
    "df_cleaned[\"postcode_median_price\"] = df_cleaned[\"postcode\"].apply(get_postcode_price)\n",
    "df_desc = describe_with_tukey_fences(df_cleaned)\n",
    "df_desc"
   ],
   "metadata": {
    "collapsed": false,
    "pycharm": {
     "name": "#%%\n"
    }
   }
  },
  {
   "cell_type": "markdown",
   "source": [
    "For building state more values were available, analysing median price"
   ],
   "metadata": {
    "collapsed": false
   }
  },
  {
   "cell_type": "code",
   "source": [
    "state_price = df_cleaned.groupby('building_state_agg')['price'].agg([min,max,np.mean,np.median,len])\n",
    "#verifying count and values per status\n",
    "print(state_price.sort_values(by=\"median\", ascending=False).head(5))\n",
    "print(state_price.sort_values(by=\"mean\", ascending=False).head(5))\n",
    "\n",
    "def get_building_state_price(x):\n",
    "    state_price_median = state_price.loc[x,\"median\"]\n",
    "    return state_price_median\n",
    "\n",
    "df_cleaned[\"building_state_median_price\"] = df_cleaned[\"building_state_agg\"].apply(get_building_state_price)\n",
    "describe_with_tukey_fences(df_cleaned)"
   ],
   "metadata": {
    "collapsed": false,
    "pycharm": {
     "name": "#%%\n"
    }
   },
   "execution_count": 61,
   "outputs": [
    {
     "name": "stdout",
     "output_type": "stream",
     "text": [
      "                        min        max           mean    median     len\n",
      "building_state_agg                                                     \n",
      "good                49500.0  1396000.0  389462.253529  320000.0  7581.0\n",
      "renovated           70000.0  1395000.0  391143.325997  310000.0   727.0\n",
      "to_renovate         25000.0  1350000.0  284525.072779  230000.0  1745.0\n",
      "                        min        max           mean    median     len\n",
      "building_state_agg                                                     \n",
      "renovated           70000.0  1395000.0  391143.325997  310000.0   727.0\n",
      "good                49500.0  1396000.0  389462.253529  320000.0  7581.0\n",
      "to_renovate         25000.0  1350000.0  284525.072779  230000.0  1745.0\n"
     ]
    },
    {
     "data": {
      "text/plain": "                       source      postcode         price  rooms_number  \\\ncount            10053.000000  10053.000000  1.005300e+04  10053.000000   \nmean                 5.988262   4954.659206  3.713688e+05      2.764548   \nstd                  0.152775   3187.617962  2.367212e+05      1.247029   \nmin                  4.000000   1000.000000  2.500000e+04      0.000000   \n5%                   6.000000   1040.000000  1.250000e+05      1.000000   \n6%                   6.000000   1050.000000  1.300000e+05      1.000000   \n25%                  6.000000   1490.000000  2.150000e+05      2.000000   \n50%                  6.000000   4500.000000  2.990000e+05      3.000000   \n75%                  6.000000   8370.000000  4.500000e+05      3.000000   \n94%                  6.000000   9300.000000  8.250000e+05      5.000000   \n95%                  6.000000   9420.000000  8.600000e+05      5.000000   \nmax                  6.000000   9992.000000  1.396000e+06      6.000000   \nfence_tukey_min      6.000000  -8830.000000 -1.375000e+05      0.500000   \nfence_tukey_max      6.000000  18690.000000  8.025000e+05      4.500000   \n\n                         area  terrace_area   garden_area  land_surface  \\\ncount            10053.000000  10053.000000  10053.000000  10053.000000   \nmean               155.398488     11.101562    124.184721    292.947677   \nstd                 84.261466     22.848054    860.183845    576.096255   \nmin                  5.000000      0.000000      0.000000      0.000000   \n5%                  56.000000      0.000000      0.000000      0.000000   \n6%                  60.000000      0.000000      0.000000      0.000000   \n25%                 93.000000      0.000000      0.000000      0.000000   \n50%                135.000000      0.000000      0.000000      0.000000   \n75%                200.000000     15.000000      0.000000    312.000000   \n94%                312.000000     44.000000    500.000000   1339.520000   \n95%                330.000000     50.000000    613.200000   1500.000000   \nmax                470.000000    708.000000  40000.000000   4170.000000   \nfence_tukey_min    -67.500000    -22.500000      0.000000   -468.000000   \nfence_tukey_max    360.500000     37.500000      0.000000    780.000000   \n\n                 facades_number  postcode_median_price  \\\ncount                 59.000000           1.005300e+04   \nmean                   2.677966           3.352739e+05   \nstd                    0.839554           1.364711e+05   \nmin                    1.000000           6.500000e+04   \n5%                     2.000000           1.675000e+05   \n6%                     2.000000           1.700000e+05   \n25%                    2.000000           2.375000e+05   \n50%                    3.000000           2.984000e+05   \n75%                    3.000000           3.990000e+05   \n94%                    4.000000           6.010000e+05   \n95%                    4.000000           6.200000e+05   \nmax                    4.000000           1.350000e+06   \nfence_tukey_min        0.500000          -4.750000e+03   \nfence_tukey_max        4.500000           6.412500e+05   \n\n                 building_state_median_price  property_subtype_median_price  \\\ncount                           10053.000000                   10053.000000   \nmean                           303654.630459                  316466.875560   \nstd                             33855.173743                   80490.296436   \nmin                            230000.000000                  118000.000000   \n5%                             230000.000000                  282500.000000   \n6%                             230000.000000                  282500.000000   \n25%                            320000.000000                  282500.000000   \n50%                            320000.000000                  288000.000000   \n75%                            320000.000000                  310000.000000   \n94%                            320000.000000                  540000.000000   \n95%                            320000.000000                  540000.000000   \nmax                            320000.000000                  652500.000000   \nfence_tukey_min                320000.000000                  241250.000000   \nfence_tukey_max                320000.000000                  351250.000000   \n\n                 building_property_subtype_median_facades  \ncount                                         8823.000000  \nmean                                             2.551173  \nstd                                              0.624506  \nmin                                              2.000000  \n5%                                               2.000000  \n6%                                               2.000000  \n25%                                              2.000000  \n50%                                              2.000000  \n75%                                              3.000000  \n94%                                              4.000000  \n95%                                              4.000000  \nmax                                              4.000000  \nfence_tukey_min                                  0.500000  \nfence_tukey_max                                  4.500000  ",
      "text/html": "<div>\n<style scoped>\n    .dataframe tbody tr th:only-of-type {\n        vertical-align: middle;\n    }\n\n    .dataframe tbody tr th {\n        vertical-align: top;\n    }\n\n    .dataframe thead th {\n        text-align: right;\n    }\n</style>\n<table border=\"1\" class=\"dataframe\">\n  <thead>\n    <tr style=\"text-align: right;\">\n      <th></th>\n      <th>source</th>\n      <th>postcode</th>\n      <th>price</th>\n      <th>rooms_number</th>\n      <th>area</th>\n      <th>terrace_area</th>\n      <th>garden_area</th>\n      <th>land_surface</th>\n      <th>facades_number</th>\n      <th>postcode_median_price</th>\n      <th>building_state_median_price</th>\n      <th>property_subtype_median_price</th>\n      <th>building_property_subtype_median_facades</th>\n    </tr>\n  </thead>\n  <tbody>\n    <tr>\n      <th>count</th>\n      <td>10053.000000</td>\n      <td>10053.000000</td>\n      <td>1.005300e+04</td>\n      <td>10053.000000</td>\n      <td>10053.000000</td>\n      <td>10053.000000</td>\n      <td>10053.000000</td>\n      <td>10053.000000</td>\n      <td>59.000000</td>\n      <td>1.005300e+04</td>\n      <td>10053.000000</td>\n      <td>10053.000000</td>\n      <td>8823.000000</td>\n    </tr>\n    <tr>\n      <th>mean</th>\n      <td>5.988262</td>\n      <td>4954.659206</td>\n      <td>3.713688e+05</td>\n      <td>2.764548</td>\n      <td>155.398488</td>\n      <td>11.101562</td>\n      <td>124.184721</td>\n      <td>292.947677</td>\n      <td>2.677966</td>\n      <td>3.352739e+05</td>\n      <td>303654.630459</td>\n      <td>316466.875560</td>\n      <td>2.551173</td>\n    </tr>\n    <tr>\n      <th>std</th>\n      <td>0.152775</td>\n      <td>3187.617962</td>\n      <td>2.367212e+05</td>\n      <td>1.247029</td>\n      <td>84.261466</td>\n      <td>22.848054</td>\n      <td>860.183845</td>\n      <td>576.096255</td>\n      <td>0.839554</td>\n      <td>1.364711e+05</td>\n      <td>33855.173743</td>\n      <td>80490.296436</td>\n      <td>0.624506</td>\n    </tr>\n    <tr>\n      <th>min</th>\n      <td>4.000000</td>\n      <td>1000.000000</td>\n      <td>2.500000e+04</td>\n      <td>0.000000</td>\n      <td>5.000000</td>\n      <td>0.000000</td>\n      <td>0.000000</td>\n      <td>0.000000</td>\n      <td>1.000000</td>\n      <td>6.500000e+04</td>\n      <td>230000.000000</td>\n      <td>118000.000000</td>\n      <td>2.000000</td>\n    </tr>\n    <tr>\n      <th>5%</th>\n      <td>6.000000</td>\n      <td>1040.000000</td>\n      <td>1.250000e+05</td>\n      <td>1.000000</td>\n      <td>56.000000</td>\n      <td>0.000000</td>\n      <td>0.000000</td>\n      <td>0.000000</td>\n      <td>2.000000</td>\n      <td>1.675000e+05</td>\n      <td>230000.000000</td>\n      <td>282500.000000</td>\n      <td>2.000000</td>\n    </tr>\n    <tr>\n      <th>6%</th>\n      <td>6.000000</td>\n      <td>1050.000000</td>\n      <td>1.300000e+05</td>\n      <td>1.000000</td>\n      <td>60.000000</td>\n      <td>0.000000</td>\n      <td>0.000000</td>\n      <td>0.000000</td>\n      <td>2.000000</td>\n      <td>1.700000e+05</td>\n      <td>230000.000000</td>\n      <td>282500.000000</td>\n      <td>2.000000</td>\n    </tr>\n    <tr>\n      <th>25%</th>\n      <td>6.000000</td>\n      <td>1490.000000</td>\n      <td>2.150000e+05</td>\n      <td>2.000000</td>\n      <td>93.000000</td>\n      <td>0.000000</td>\n      <td>0.000000</td>\n      <td>0.000000</td>\n      <td>2.000000</td>\n      <td>2.375000e+05</td>\n      <td>320000.000000</td>\n      <td>282500.000000</td>\n      <td>2.000000</td>\n    </tr>\n    <tr>\n      <th>50%</th>\n      <td>6.000000</td>\n      <td>4500.000000</td>\n      <td>2.990000e+05</td>\n      <td>3.000000</td>\n      <td>135.000000</td>\n      <td>0.000000</td>\n      <td>0.000000</td>\n      <td>0.000000</td>\n      <td>3.000000</td>\n      <td>2.984000e+05</td>\n      <td>320000.000000</td>\n      <td>288000.000000</td>\n      <td>2.000000</td>\n    </tr>\n    <tr>\n      <th>75%</th>\n      <td>6.000000</td>\n      <td>8370.000000</td>\n      <td>4.500000e+05</td>\n      <td>3.000000</td>\n      <td>200.000000</td>\n      <td>15.000000</td>\n      <td>0.000000</td>\n      <td>312.000000</td>\n      <td>3.000000</td>\n      <td>3.990000e+05</td>\n      <td>320000.000000</td>\n      <td>310000.000000</td>\n      <td>3.000000</td>\n    </tr>\n    <tr>\n      <th>94%</th>\n      <td>6.000000</td>\n      <td>9300.000000</td>\n      <td>8.250000e+05</td>\n      <td>5.000000</td>\n      <td>312.000000</td>\n      <td>44.000000</td>\n      <td>500.000000</td>\n      <td>1339.520000</td>\n      <td>4.000000</td>\n      <td>6.010000e+05</td>\n      <td>320000.000000</td>\n      <td>540000.000000</td>\n      <td>4.000000</td>\n    </tr>\n    <tr>\n      <th>95%</th>\n      <td>6.000000</td>\n      <td>9420.000000</td>\n      <td>8.600000e+05</td>\n      <td>5.000000</td>\n      <td>330.000000</td>\n      <td>50.000000</td>\n      <td>613.200000</td>\n      <td>1500.000000</td>\n      <td>4.000000</td>\n      <td>6.200000e+05</td>\n      <td>320000.000000</td>\n      <td>540000.000000</td>\n      <td>4.000000</td>\n    </tr>\n    <tr>\n      <th>max</th>\n      <td>6.000000</td>\n      <td>9992.000000</td>\n      <td>1.396000e+06</td>\n      <td>6.000000</td>\n      <td>470.000000</td>\n      <td>708.000000</td>\n      <td>40000.000000</td>\n      <td>4170.000000</td>\n      <td>4.000000</td>\n      <td>1.350000e+06</td>\n      <td>320000.000000</td>\n      <td>652500.000000</td>\n      <td>4.000000</td>\n    </tr>\n    <tr>\n      <th>fence_tukey_min</th>\n      <td>6.000000</td>\n      <td>-8830.000000</td>\n      <td>-1.375000e+05</td>\n      <td>0.500000</td>\n      <td>-67.500000</td>\n      <td>-22.500000</td>\n      <td>0.000000</td>\n      <td>-468.000000</td>\n      <td>0.500000</td>\n      <td>-4.750000e+03</td>\n      <td>320000.000000</td>\n      <td>241250.000000</td>\n      <td>0.500000</td>\n    </tr>\n    <tr>\n      <th>fence_tukey_max</th>\n      <td>6.000000</td>\n      <td>18690.000000</td>\n      <td>8.025000e+05</td>\n      <td>4.500000</td>\n      <td>360.500000</td>\n      <td>37.500000</td>\n      <td>0.000000</td>\n      <td>780.000000</td>\n      <td>4.500000</td>\n      <td>6.412500e+05</td>\n      <td>320000.000000</td>\n      <td>351250.000000</td>\n      <td>4.500000</td>\n    </tr>\n  </tbody>\n</table>\n</div>"
     },
     "execution_count": 61,
     "metadata": {},
     "output_type": "execute_result"
    }
   ]
  },
  {
   "cell_type": "markdown",
   "source": [
    "For subtypes more values were available too."
   ],
   "metadata": {
    "collapsed": false
   }
  },
  {
   "cell_type": "code",
   "execution_count": 60,
   "outputs": [
    {
     "name": "stdout",
     "output_type": "stream",
     "text": [
      "                           min        max           mean    median    len\n",
      "property_subtype                                                         \n",
      "EXCEPTIONAL_PROPERTY  150000.0  1395000.0  664456.451613  652500.0   62.0\n",
      "VILLA                 165000.0  1395000.0  594689.735450  540000.0  567.0\n",
      "CASTLE                535000.0   535000.0  535000.000000  535000.0    1.0\n",
      "MANSION               158000.0  1395000.0  593085.442478  525000.0  113.0\n",
      "PENTHOUSE              85000.0  1396000.0  570653.242424  495000.0  297.0\n",
      "                           min        max           mean    median    len\n",
      "property_subtype                                                         \n",
      "EXCEPTIONAL_PROPERTY  150000.0  1395000.0  664456.451613  652500.0   62.0\n",
      "MANOR_HOUSE           290000.0  1230000.0  609000.000000  435000.0    5.0\n",
      "VILLA                 165000.0  1395000.0  594689.735450  540000.0  567.0\n",
      "MANSION               158000.0  1395000.0  593085.442478  525000.0  113.0\n",
      "PENTHOUSE              85000.0  1396000.0  570653.242424  495000.0  297.0\n"
     ]
    }
   ],
   "source": [
    "property_subtype_price = df_cleaned.groupby('property_subtype')['price'].agg([min,max,np.mean,np.median,len])\n",
    "#verifying count and values per status\n",
    "print(property_subtype_price.sort_values(by=\"median\", ascending=False).head(5))\n",
    "print(property_subtype_price.sort_values(by=\"mean\", ascending=False).head(5))\n",
    "\n",
    "def get_property_subtype_price(x):\n",
    "    subtype_price_median = property_subtype_price.loc[x,\"median\"]\n",
    "    return subtype_price_median\n",
    "\n",
    "df_cleaned[\"property_subtype_median_price\"] = df_cleaned[\"property_subtype\"].apply(get_property_subtype_price)"
   ],
   "metadata": {
    "collapsed": false,
    "pycharm": {
     "name": "#%%\n"
    }
   }
  },
  {
   "cell_type": "markdown",
   "source": [
    "replacing categorical values of state with facades"
   ],
   "metadata": {
    "collapsed": false
   }
  },
  {
   "cell_type": "code",
   "execution_count": 59,
   "outputs": [
    {
     "data": {
      "text/plain": "       source  postcode  house_is property_subtype     price  rooms_number  \\\n882         6      3500     False        APARTMENT  245000.0           3.0   \n883         6      3540     False        APARTMENT  289000.0           3.0   \n926         6      3540     False        APARTMENT  158000.0           2.0   \n979         6      3800     False        APARTMENT  299000.0           0.0   \n6033        6      1160     False        APARTMENT  380000.0           2.0   \n...       ...       ...       ...              ...       ...           ...   \n11280       4      6000     False        APARTMENT   99000.0           2.0   \n11282       4      4000     False        APARTMENT  245000.0           2.0   \n11283       4      8790     False        APARTMENT  250000.0           1.0   \n11284       4      2018     False        APARTMENT  298000.0           1.0   \n11287       4      2060     False        APARTMENT  228009.0           2.0   \n\n        area  equipped_kitchen_has  furnished  open_fire  terrace  \\\n882    100.0                 False      False      False     True   \n883    154.0                 False      False      False     True   \n926     80.0                 False      False      False    False   \n979    294.0                 False      False      False    False   \n6033    87.0                  True      False      False     True   \n...      ...                   ...        ...        ...      ...   \n11280   91.0                  True      False      False    False   \n11282  103.0                 False      False      False     True   \n11283  300.0                 False      False      False    False   \n11284   71.0                  True      False      False     True   \n11287   80.0                  True      False      False    False   \n\n       terrace_area  garden  garden_area  land_surface  facades_number  \\\n882             0.0   False          0.0           0.0             NaN   \n883             0.0   False          0.0           0.0             NaN   \n926             0.0   False          0.0           0.0             NaN   \n979             0.0   False          0.0           0.0             NaN   \n6033           13.0   False          0.0           0.0             NaN   \n...             ...     ...          ...           ...             ...   \n11280           0.0   False          0.0           0.0             2.0   \n11282           5.0   False          0.0           0.0             2.0   \n11283           0.0   False          0.0           0.0             2.0   \n11284          12.0   False          0.0           0.0             1.0   \n11287           0.0   False          0.0           0.0             2.0   \n\n       swimming_pool_has region building_state_agg  postcode_median_price  \\\n882                False      F               good               247300.0   \n883                False      F               good               299500.0   \n926                False      F               good               299500.0   \n979                False      F               good               299000.0   \n6033               False      B               good               450000.0   \n...                  ...    ...                ...                    ...   \n11280              False      W        to_renovate               154500.0   \n11282              False      W               good               225000.0   \n11283              False      F               good               257000.0   \n11284              False      F               good               443475.0   \n11287              False      F               good               299000.0   \n\n       building_state_median_price  property_subtype_median_price  \\\n882                       320000.0                       282500.0   \n883                       320000.0                       282500.0   \n926                       320000.0                       282500.0   \n979                       320000.0                       282500.0   \n6033                      320000.0                       282500.0   \n...                            ...                            ...   \n11280                     230000.0                       282500.0   \n11282                     320000.0                       282500.0   \n11283                     320000.0                       282500.0   \n11284                     320000.0                       282500.0   \n11287                     320000.0                       282500.0   \n\n       building_property_subtype_median_facades  \n882                                         2.0  \n883                                         2.0  \n926                                         2.0  \n979                                         2.0  \n6033                                        2.0  \n...                                         ...  \n11280                                       2.0  \n11282                                       2.0  \n11283                                       2.0  \n11284                                       2.0  \n11287                                       2.0  \n\n[3727 rows x 23 columns]",
      "text/html": "<div>\n<style scoped>\n    .dataframe tbody tr th:only-of-type {\n        vertical-align: middle;\n    }\n\n    .dataframe tbody tr th {\n        vertical-align: top;\n    }\n\n    .dataframe thead th {\n        text-align: right;\n    }\n</style>\n<table border=\"1\" class=\"dataframe\">\n  <thead>\n    <tr style=\"text-align: right;\">\n      <th></th>\n      <th>source</th>\n      <th>postcode</th>\n      <th>house_is</th>\n      <th>property_subtype</th>\n      <th>price</th>\n      <th>rooms_number</th>\n      <th>area</th>\n      <th>equipped_kitchen_has</th>\n      <th>furnished</th>\n      <th>open_fire</th>\n      <th>terrace</th>\n      <th>terrace_area</th>\n      <th>garden</th>\n      <th>garden_area</th>\n      <th>land_surface</th>\n      <th>facades_number</th>\n      <th>swimming_pool_has</th>\n      <th>region</th>\n      <th>building_state_agg</th>\n      <th>postcode_median_price</th>\n      <th>building_state_median_price</th>\n      <th>property_subtype_median_price</th>\n      <th>building_property_subtype_median_facades</th>\n    </tr>\n  </thead>\n  <tbody>\n    <tr>\n      <th>882</th>\n      <td>6</td>\n      <td>3500</td>\n      <td>False</td>\n      <td>APARTMENT</td>\n      <td>245000.0</td>\n      <td>3.0</td>\n      <td>100.0</td>\n      <td>False</td>\n      <td>False</td>\n      <td>False</td>\n      <td>True</td>\n      <td>0.0</td>\n      <td>False</td>\n      <td>0.0</td>\n      <td>0.0</td>\n      <td>NaN</td>\n      <td>False</td>\n      <td>F</td>\n      <td>good</td>\n      <td>247300.0</td>\n      <td>320000.0</td>\n      <td>282500.0</td>\n      <td>2.0</td>\n    </tr>\n    <tr>\n      <th>883</th>\n      <td>6</td>\n      <td>3540</td>\n      <td>False</td>\n      <td>APARTMENT</td>\n      <td>289000.0</td>\n      <td>3.0</td>\n      <td>154.0</td>\n      <td>False</td>\n      <td>False</td>\n      <td>False</td>\n      <td>True</td>\n      <td>0.0</td>\n      <td>False</td>\n      <td>0.0</td>\n      <td>0.0</td>\n      <td>NaN</td>\n      <td>False</td>\n      <td>F</td>\n      <td>good</td>\n      <td>299500.0</td>\n      <td>320000.0</td>\n      <td>282500.0</td>\n      <td>2.0</td>\n    </tr>\n    <tr>\n      <th>926</th>\n      <td>6</td>\n      <td>3540</td>\n      <td>False</td>\n      <td>APARTMENT</td>\n      <td>158000.0</td>\n      <td>2.0</td>\n      <td>80.0</td>\n      <td>False</td>\n      <td>False</td>\n      <td>False</td>\n      <td>False</td>\n      <td>0.0</td>\n      <td>False</td>\n      <td>0.0</td>\n      <td>0.0</td>\n      <td>NaN</td>\n      <td>False</td>\n      <td>F</td>\n      <td>good</td>\n      <td>299500.0</td>\n      <td>320000.0</td>\n      <td>282500.0</td>\n      <td>2.0</td>\n    </tr>\n    <tr>\n      <th>979</th>\n      <td>6</td>\n      <td>3800</td>\n      <td>False</td>\n      <td>APARTMENT</td>\n      <td>299000.0</td>\n      <td>0.0</td>\n      <td>294.0</td>\n      <td>False</td>\n      <td>False</td>\n      <td>False</td>\n      <td>False</td>\n      <td>0.0</td>\n      <td>False</td>\n      <td>0.0</td>\n      <td>0.0</td>\n      <td>NaN</td>\n      <td>False</td>\n      <td>F</td>\n      <td>good</td>\n      <td>299000.0</td>\n      <td>320000.0</td>\n      <td>282500.0</td>\n      <td>2.0</td>\n    </tr>\n    <tr>\n      <th>6033</th>\n      <td>6</td>\n      <td>1160</td>\n      <td>False</td>\n      <td>APARTMENT</td>\n      <td>380000.0</td>\n      <td>2.0</td>\n      <td>87.0</td>\n      <td>True</td>\n      <td>False</td>\n      <td>False</td>\n      <td>True</td>\n      <td>13.0</td>\n      <td>False</td>\n      <td>0.0</td>\n      <td>0.0</td>\n      <td>NaN</td>\n      <td>False</td>\n      <td>B</td>\n      <td>good</td>\n      <td>450000.0</td>\n      <td>320000.0</td>\n      <td>282500.0</td>\n      <td>2.0</td>\n    </tr>\n    <tr>\n      <th>...</th>\n      <td>...</td>\n      <td>...</td>\n      <td>...</td>\n      <td>...</td>\n      <td>...</td>\n      <td>...</td>\n      <td>...</td>\n      <td>...</td>\n      <td>...</td>\n      <td>...</td>\n      <td>...</td>\n      <td>...</td>\n      <td>...</td>\n      <td>...</td>\n      <td>...</td>\n      <td>...</td>\n      <td>...</td>\n      <td>...</td>\n      <td>...</td>\n      <td>...</td>\n      <td>...</td>\n      <td>...</td>\n      <td>...</td>\n    </tr>\n    <tr>\n      <th>11280</th>\n      <td>4</td>\n      <td>6000</td>\n      <td>False</td>\n      <td>APARTMENT</td>\n      <td>99000.0</td>\n      <td>2.0</td>\n      <td>91.0</td>\n      <td>True</td>\n      <td>False</td>\n      <td>False</td>\n      <td>False</td>\n      <td>0.0</td>\n      <td>False</td>\n      <td>0.0</td>\n      <td>0.0</td>\n      <td>2.0</td>\n      <td>False</td>\n      <td>W</td>\n      <td>to_renovate</td>\n      <td>154500.0</td>\n      <td>230000.0</td>\n      <td>282500.0</td>\n      <td>2.0</td>\n    </tr>\n    <tr>\n      <th>11282</th>\n      <td>4</td>\n      <td>4000</td>\n      <td>False</td>\n      <td>APARTMENT</td>\n      <td>245000.0</td>\n      <td>2.0</td>\n      <td>103.0</td>\n      <td>False</td>\n      <td>False</td>\n      <td>False</td>\n      <td>True</td>\n      <td>5.0</td>\n      <td>False</td>\n      <td>0.0</td>\n      <td>0.0</td>\n      <td>2.0</td>\n      <td>False</td>\n      <td>W</td>\n      <td>good</td>\n      <td>225000.0</td>\n      <td>320000.0</td>\n      <td>282500.0</td>\n      <td>2.0</td>\n    </tr>\n    <tr>\n      <th>11283</th>\n      <td>4</td>\n      <td>8790</td>\n      <td>False</td>\n      <td>APARTMENT</td>\n      <td>250000.0</td>\n      <td>1.0</td>\n      <td>300.0</td>\n      <td>False</td>\n      <td>False</td>\n      <td>False</td>\n      <td>False</td>\n      <td>0.0</td>\n      <td>False</td>\n      <td>0.0</td>\n      <td>0.0</td>\n      <td>2.0</td>\n      <td>False</td>\n      <td>F</td>\n      <td>good</td>\n      <td>257000.0</td>\n      <td>320000.0</td>\n      <td>282500.0</td>\n      <td>2.0</td>\n    </tr>\n    <tr>\n      <th>11284</th>\n      <td>4</td>\n      <td>2018</td>\n      <td>False</td>\n      <td>APARTMENT</td>\n      <td>298000.0</td>\n      <td>1.0</td>\n      <td>71.0</td>\n      <td>True</td>\n      <td>False</td>\n      <td>False</td>\n      <td>True</td>\n      <td>12.0</td>\n      <td>False</td>\n      <td>0.0</td>\n      <td>0.0</td>\n      <td>1.0</td>\n      <td>False</td>\n      <td>F</td>\n      <td>good</td>\n      <td>443475.0</td>\n      <td>320000.0</td>\n      <td>282500.0</td>\n      <td>2.0</td>\n    </tr>\n    <tr>\n      <th>11287</th>\n      <td>4</td>\n      <td>2060</td>\n      <td>False</td>\n      <td>APARTMENT</td>\n      <td>228009.0</td>\n      <td>2.0</td>\n      <td>80.0</td>\n      <td>True</td>\n      <td>False</td>\n      <td>False</td>\n      <td>False</td>\n      <td>0.0</td>\n      <td>False</td>\n      <td>0.0</td>\n      <td>0.0</td>\n      <td>2.0</td>\n      <td>False</td>\n      <td>F</td>\n      <td>good</td>\n      <td>299000.0</td>\n      <td>320000.0</td>\n      <td>282500.0</td>\n      <td>2.0</td>\n    </tr>\n  </tbody>\n</table>\n<p>3727 rows × 23 columns</p>\n</div>"
     },
     "execution_count": 59,
     "metadata": {},
     "output_type": "execute_result"
    }
   ],
   "source": [
    "df_cleaned[df_cleaned.property_subtype=='APARTMENT']"
   ],
   "metadata": {
    "collapsed": false,
    "pycharm": {
     "name": "#%%\n"
    }
   }
  },
  {
   "cell_type": "code",
   "execution_count": 80,
   "outputs": [
    {
     "name": "stdout",
     "output_type": "stream",
     "text": [
      "                      min  max      mean  median   len\n",
      "property_subtype                                      \n",
      "APARTMENT             1.0  4.0  2.380952     2.0  21.0\n",
      "DUPLEX                3.0  3.0  3.000000     3.0   1.0\n",
      "EXCEPTIONAL_PROPERTY  4.0  4.0  4.000000     4.0   1.0\n",
      "FLAT_STUDIO           2.0  2.0  2.000000     2.0   1.0\n",
      "HOUSE                 1.0  4.0  2.692308     3.0  26.0\n",
      "LOFT                  3.0  3.0  3.000000     3.0   1.0\n",
      "MANSION               2.0  2.0  2.000000     2.0   1.0\n",
      "MIXED_USE_BUILDING    2.0  2.0  2.000000     2.0   1.0\n",
      "TOWN_HOUSE            3.0  3.0  3.000000     3.0   2.0\n",
      "VILLA                 4.0  4.0  4.000000     4.0   4.0\n",
      "                      min  max      mean  median   len\n",
      "property_subtype                                      \n",
      "EXCEPTIONAL_PROPERTY  4.0  4.0  4.000000     4.0   1.0\n",
      "VILLA                 4.0  4.0  4.000000     4.0   4.0\n",
      "DUPLEX                3.0  3.0  3.000000     3.0   1.0\n",
      "HOUSE                 1.0  4.0  2.692308     3.0  26.0\n",
      "LOFT                  3.0  3.0  3.000000     3.0   1.0\n",
      "                      min  max  mean  median  len\n",
      "property_subtype                                 \n",
      "EXCEPTIONAL_PROPERTY  4.0  4.0   4.0     4.0  1.0\n",
      "VILLA                 4.0  4.0   4.0     4.0  4.0\n",
      "DUPLEX                3.0  3.0   3.0     3.0  1.0\n",
      "LOFT                  3.0  3.0   3.0     3.0  1.0\n",
      "TOWN_HOUSE            3.0  3.0   3.0     3.0  2.0\n"
     ]
    }
   ],
   "source": [
    "df_with_facades = df_cleaned[df_cleaned.facades_number > 0]\n",
    "\n",
    "property_subtype_facades = df_with_facades.groupby('property_subtype')['facades_number'].agg([min,max,np.mean,np.median,len])\n",
    "#verifying count and values per status\n",
    "print(property_subtype_facades)\n",
    "print(property_subtype_facades.sort_values(by=\"median\", ascending=False).head(5))\n",
    "print(property_subtype_facades.sort_values(by=\"mean\", ascending=False).head(5))\n",
    "\n",
    "def get_property_subtype_facades(x):\n",
    "    try:\n",
    "        property_subtype_facades_median = property_subtype_facades.loc[x,\"median\"]\n",
    "    except:\n",
    "        property_subtype_facades_median = None\n",
    "        #print(x) #error with apartment_block\n",
    "    return property_subtype_facades_median\n",
    "\n",
    "df_cleaned[\"property_subtype_median_facades\"] = df_cleaned[\"property_subtype\"].apply(get_property_subtype_facades)"
   ],
   "metadata": {
    "collapsed": false,
    "pycharm": {
     "name": "#%%\n"
    }
   }
  },
  {
   "cell_type": "code",
   "execution_count": 71,
   "outputs": [
    {
     "data": {
      "text/plain": "(10053, 24)"
     },
     "execution_count": 71,
     "metadata": {},
     "output_type": "execute_result"
    }
   ],
   "source": [
    "df_cleaned.shape"
   ],
   "metadata": {
    "collapsed": false,
    "pycharm": {
     "name": "#%%\n"
    }
   }
  },
  {
   "cell_type": "code",
   "execution_count": 78,
   "outputs": [],
   "source": [
    "df_cleaned.to_csv(\"df_after_cleaning.csv\")"
   ],
   "metadata": {
    "collapsed": false,
    "pycharm": {
     "name": "#%%\n"
    }
   }
  },
  {
   "cell_type": "code",
   "execution_count": 77,
   "outputs": [],
   "source": [
    "df_cleaned.to_csv(os.getcwd()+\"\\\\outputs\"+\"\\\\df_after_cleaning.csv\")"
   ],
   "metadata": {
    "collapsed": false,
    "pycharm": {
     "name": "#%%\n"
    }
   }
  },
  {
   "cell_type": "code",
   "execution_count": 79,
   "outputs": [
    {
     "data": {
      "text/plain": "       source  postcode  house_is    property_subtype     price  rooms_number  \\\n0           6      4180      True  MIXED_USE_BUILDING  295000.0           3.0   \n1           6      8730      True               VILLA  675000.0           4.0   \n2           6      4020      True     APARTMENT_BLOCK  250000.0           5.0   \n3           6      1200      True               HOUSE  545000.0           4.0   \n4           6      1190      True  MIXED_USE_BUILDING  500000.0           2.0   \n...       ...       ...       ...                 ...       ...           ...   \n11282       4      4000     False           APARTMENT  245000.0           2.0   \n11283       4      8790     False           APARTMENT  250000.0           1.0   \n11284       4      2018     False           APARTMENT  298000.0           1.0   \n11286       4      2000     False         FLAT_STUDIO  150000.0           1.0   \n11287       4      2060     False           APARTMENT  228009.0           2.0   \n\n        area  equipped_kitchen_has  furnished  open_fire  terrace  \\\n0      242.0                  True      False      False     True   \n1      349.0                  True      False      False    False   \n2      303.0                  True      False      False    False   \n3      235.0                  True       True      False    False   \n4      220.0                  True      False      False    False   \n...      ...                   ...        ...        ...      ...   \n11282  103.0                 False      False      False     True   \n11283  300.0                 False      False      False    False   \n11284   71.0                  True      False      False     True   \n11286   40.0                  True      False      False    False   \n11287   80.0                  True      False      False    False   \n\n       terrace_area  garden  garden_area  land_surface  facades_number  \\\n0              36.0    True       1000.0        1403.0             NaN   \n1               0.0    True        977.0        1526.0             NaN   \n2               0.0   False          0.0         760.0             NaN   \n3               0.0   False          0.0          63.0             NaN   \n4               0.0    True         60.0         193.0             NaN   \n...             ...     ...          ...           ...             ...   \n11282           5.0   False          0.0           0.0             2.0   \n11283           0.0   False          0.0           0.0             2.0   \n11284          12.0   False          0.0           0.0             1.0   \n11286           0.0   False          0.0           0.0             2.0   \n11287           0.0   False          0.0           0.0             2.0   \n\n       swimming_pool_has region building_state_agg  postcode_median_price  \\\n0                  False      W               good               229000.0   \n1                  False      F               good               241000.0   \n2                  False      W        to_renovate               195000.0   \n3                  False      B          renovated               445000.0   \n4                  False      B               good               360000.0   \n...                  ...    ...                ...                    ...   \n11282              False      W               good               225000.0   \n11283              False      F               good               257000.0   \n11284              False      F               good               443475.0   \n11286              False      F        to_renovate               497000.0   \n11287              False      F               good               299000.0   \n\n       building_state_median_price  property_subtype_median_price  \\\n0                         320000.0                       310000.0   \n1                         320000.0                       540000.0   \n2                         230000.0                       357500.0   \n3                         310000.0                       288000.0   \n4                         320000.0                       310000.0   \n...                            ...                            ...   \n11282                     320000.0                       282500.0   \n11283                     320000.0                       282500.0   \n11284                     320000.0                       282500.0   \n11286                     230000.0                       149000.0   \n11287                     320000.0                       282500.0   \n\n       building_property_subtype_median_facades  \\\n0                                           2.0   \n1                                           4.0   \n2                                           NaN   \n3                                           3.0   \n4                                           2.0   \n...                                         ...   \n11282                                       2.0   \n11283                                       2.0   \n11284                                       2.0   \n11286                                       2.0   \n11287                                       2.0   \n\n       property_subtype_median_facades  \n0                                  2.0  \n1                                  4.0  \n2                                  NaN  \n3                                  3.0  \n4                                  2.0  \n...                                ...  \n11282                              2.0  \n11283                              2.0  \n11284                              2.0  \n11286                              2.0  \n11287                              2.0  \n\n[10053 rows x 24 columns]",
      "text/html": "<div>\n<style scoped>\n    .dataframe tbody tr th:only-of-type {\n        vertical-align: middle;\n    }\n\n    .dataframe tbody tr th {\n        vertical-align: top;\n    }\n\n    .dataframe thead th {\n        text-align: right;\n    }\n</style>\n<table border=\"1\" class=\"dataframe\">\n  <thead>\n    <tr style=\"text-align: right;\">\n      <th></th>\n      <th>source</th>\n      <th>postcode</th>\n      <th>house_is</th>\n      <th>property_subtype</th>\n      <th>price</th>\n      <th>rooms_number</th>\n      <th>area</th>\n      <th>equipped_kitchen_has</th>\n      <th>furnished</th>\n      <th>open_fire</th>\n      <th>terrace</th>\n      <th>terrace_area</th>\n      <th>garden</th>\n      <th>garden_area</th>\n      <th>land_surface</th>\n      <th>facades_number</th>\n      <th>swimming_pool_has</th>\n      <th>region</th>\n      <th>building_state_agg</th>\n      <th>postcode_median_price</th>\n      <th>building_state_median_price</th>\n      <th>property_subtype_median_price</th>\n      <th>building_property_subtype_median_facades</th>\n      <th>property_subtype_median_facades</th>\n    </tr>\n  </thead>\n  <tbody>\n    <tr>\n      <th>0</th>\n      <td>6</td>\n      <td>4180</td>\n      <td>True</td>\n      <td>MIXED_USE_BUILDING</td>\n      <td>295000.0</td>\n      <td>3.0</td>\n      <td>242.0</td>\n      <td>True</td>\n      <td>False</td>\n      <td>False</td>\n      <td>True</td>\n      <td>36.0</td>\n      <td>True</td>\n      <td>1000.0</td>\n      <td>1403.0</td>\n      <td>NaN</td>\n      <td>False</td>\n      <td>W</td>\n      <td>good</td>\n      <td>229000.0</td>\n      <td>320000.0</td>\n      <td>310000.0</td>\n      <td>2.0</td>\n      <td>2.0</td>\n    </tr>\n    <tr>\n      <th>1</th>\n      <td>6</td>\n      <td>8730</td>\n      <td>True</td>\n      <td>VILLA</td>\n      <td>675000.0</td>\n      <td>4.0</td>\n      <td>349.0</td>\n      <td>True</td>\n      <td>False</td>\n      <td>False</td>\n      <td>False</td>\n      <td>0.0</td>\n      <td>True</td>\n      <td>977.0</td>\n      <td>1526.0</td>\n      <td>NaN</td>\n      <td>False</td>\n      <td>F</td>\n      <td>good</td>\n      <td>241000.0</td>\n      <td>320000.0</td>\n      <td>540000.0</td>\n      <td>4.0</td>\n      <td>4.0</td>\n    </tr>\n    <tr>\n      <th>2</th>\n      <td>6</td>\n      <td>4020</td>\n      <td>True</td>\n      <td>APARTMENT_BLOCK</td>\n      <td>250000.0</td>\n      <td>5.0</td>\n      <td>303.0</td>\n      <td>True</td>\n      <td>False</td>\n      <td>False</td>\n      <td>False</td>\n      <td>0.0</td>\n      <td>False</td>\n      <td>0.0</td>\n      <td>760.0</td>\n      <td>NaN</td>\n      <td>False</td>\n      <td>W</td>\n      <td>to_renovate</td>\n      <td>195000.0</td>\n      <td>230000.0</td>\n      <td>357500.0</td>\n      <td>NaN</td>\n      <td>NaN</td>\n    </tr>\n    <tr>\n      <th>3</th>\n      <td>6</td>\n      <td>1200</td>\n      <td>True</td>\n      <td>HOUSE</td>\n      <td>545000.0</td>\n      <td>4.0</td>\n      <td>235.0</td>\n      <td>True</td>\n      <td>True</td>\n      <td>False</td>\n      <td>False</td>\n      <td>0.0</td>\n      <td>False</td>\n      <td>0.0</td>\n      <td>63.0</td>\n      <td>NaN</td>\n      <td>False</td>\n      <td>B</td>\n      <td>renovated</td>\n      <td>445000.0</td>\n      <td>310000.0</td>\n      <td>288000.0</td>\n      <td>3.0</td>\n      <td>3.0</td>\n    </tr>\n    <tr>\n      <th>4</th>\n      <td>6</td>\n      <td>1190</td>\n      <td>True</td>\n      <td>MIXED_USE_BUILDING</td>\n      <td>500000.0</td>\n      <td>2.0</td>\n      <td>220.0</td>\n      <td>True</td>\n      <td>False</td>\n      <td>False</td>\n      <td>False</td>\n      <td>0.0</td>\n      <td>True</td>\n      <td>60.0</td>\n      <td>193.0</td>\n      <td>NaN</td>\n      <td>False</td>\n      <td>B</td>\n      <td>good</td>\n      <td>360000.0</td>\n      <td>320000.0</td>\n      <td>310000.0</td>\n      <td>2.0</td>\n      <td>2.0</td>\n    </tr>\n    <tr>\n      <th>...</th>\n      <td>...</td>\n      <td>...</td>\n      <td>...</td>\n      <td>...</td>\n      <td>...</td>\n      <td>...</td>\n      <td>...</td>\n      <td>...</td>\n      <td>...</td>\n      <td>...</td>\n      <td>...</td>\n      <td>...</td>\n      <td>...</td>\n      <td>...</td>\n      <td>...</td>\n      <td>...</td>\n      <td>...</td>\n      <td>...</td>\n      <td>...</td>\n      <td>...</td>\n      <td>...</td>\n      <td>...</td>\n      <td>...</td>\n      <td>...</td>\n    </tr>\n    <tr>\n      <th>11282</th>\n      <td>4</td>\n      <td>4000</td>\n      <td>False</td>\n      <td>APARTMENT</td>\n      <td>245000.0</td>\n      <td>2.0</td>\n      <td>103.0</td>\n      <td>False</td>\n      <td>False</td>\n      <td>False</td>\n      <td>True</td>\n      <td>5.0</td>\n      <td>False</td>\n      <td>0.0</td>\n      <td>0.0</td>\n      <td>2.0</td>\n      <td>False</td>\n      <td>W</td>\n      <td>good</td>\n      <td>225000.0</td>\n      <td>320000.0</td>\n      <td>282500.0</td>\n      <td>2.0</td>\n      <td>2.0</td>\n    </tr>\n    <tr>\n      <th>11283</th>\n      <td>4</td>\n      <td>8790</td>\n      <td>False</td>\n      <td>APARTMENT</td>\n      <td>250000.0</td>\n      <td>1.0</td>\n      <td>300.0</td>\n      <td>False</td>\n      <td>False</td>\n      <td>False</td>\n      <td>False</td>\n      <td>0.0</td>\n      <td>False</td>\n      <td>0.0</td>\n      <td>0.0</td>\n      <td>2.0</td>\n      <td>False</td>\n      <td>F</td>\n      <td>good</td>\n      <td>257000.0</td>\n      <td>320000.0</td>\n      <td>282500.0</td>\n      <td>2.0</td>\n      <td>2.0</td>\n    </tr>\n    <tr>\n      <th>11284</th>\n      <td>4</td>\n      <td>2018</td>\n      <td>False</td>\n      <td>APARTMENT</td>\n      <td>298000.0</td>\n      <td>1.0</td>\n      <td>71.0</td>\n      <td>True</td>\n      <td>False</td>\n      <td>False</td>\n      <td>True</td>\n      <td>12.0</td>\n      <td>False</td>\n      <td>0.0</td>\n      <td>0.0</td>\n      <td>1.0</td>\n      <td>False</td>\n      <td>F</td>\n      <td>good</td>\n      <td>443475.0</td>\n      <td>320000.0</td>\n      <td>282500.0</td>\n      <td>2.0</td>\n      <td>2.0</td>\n    </tr>\n    <tr>\n      <th>11286</th>\n      <td>4</td>\n      <td>2000</td>\n      <td>False</td>\n      <td>FLAT_STUDIO</td>\n      <td>150000.0</td>\n      <td>1.0</td>\n      <td>40.0</td>\n      <td>True</td>\n      <td>False</td>\n      <td>False</td>\n      <td>False</td>\n      <td>0.0</td>\n      <td>False</td>\n      <td>0.0</td>\n      <td>0.0</td>\n      <td>2.0</td>\n      <td>False</td>\n      <td>F</td>\n      <td>to_renovate</td>\n      <td>497000.0</td>\n      <td>230000.0</td>\n      <td>149000.0</td>\n      <td>2.0</td>\n      <td>2.0</td>\n    </tr>\n    <tr>\n      <th>11287</th>\n      <td>4</td>\n      <td>2060</td>\n      <td>False</td>\n      <td>APARTMENT</td>\n      <td>228009.0</td>\n      <td>2.0</td>\n      <td>80.0</td>\n      <td>True</td>\n      <td>False</td>\n      <td>False</td>\n      <td>False</td>\n      <td>0.0</td>\n      <td>False</td>\n      <td>0.0</td>\n      <td>0.0</td>\n      <td>2.0</td>\n      <td>False</td>\n      <td>F</td>\n      <td>good</td>\n      <td>299000.0</td>\n      <td>320000.0</td>\n      <td>282500.0</td>\n      <td>2.0</td>\n      <td>2.0</td>\n    </tr>\n  </tbody>\n</table>\n<p>10053 rows × 24 columns</p>\n</div>"
     },
     "execution_count": 79,
     "metadata": {},
     "output_type": "execute_result"
    }
   ],
   "source": [
    "df_cleaned"
   ],
   "metadata": {
    "collapsed": false,
    "pycharm": {
     "name": "#%%\n"
    }
   }
  }
 ],
 "metadata": {
  "kernelspec": {
   "display_name": "Python 3",
   "language": "python",
   "name": "python3"
  },
  "language_info": {
   "codemirror_mode": {
    "name": "ipython",
    "version": 2
   },
   "file_extension": ".py",
   "mimetype": "text/x-python",
   "name": "python",
   "nbconvert_exporter": "python",
   "pygments_lexer": "ipython2",
   "version": "2.7.6"
  }
 },
 "nbformat": 4,
 "nbformat_minor": 0
}