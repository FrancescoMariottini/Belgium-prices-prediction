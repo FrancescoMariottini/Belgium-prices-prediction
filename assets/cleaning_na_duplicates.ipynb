{
 "cells": [
  {
   "cell_type": "code",
   "execution_count": 1,
   "metadata": {
    "collapsed": true
   },
   "outputs": [],
   "source": [
    "import pandas as pd\n",
    "import os\n",
    "import numpy as np\n",
    "from typing import List\n",
    "from typing import Union\n",
    "#from pandas_profiling import ProfileReport\n",
    "\n",
    "pd.options.display.max_rows = 20\n",
    "pd.options.display.max_columns = None"
   ]
  },
  {
   "cell_type": "code",
   "execution_count": 4,
   "metadata": {
    "pycharm": {
     "name": "#%%\n"
    }
   },
   "outputs": [
    {
     "ename": "TypeError",
     "evalue": "Union[arg, ...]: each arg must be a type. Got 2.",
     "output_type": "error",
     "traceback": [
      "\u001b[1;31m---------------------------------------------------------------------------\u001b[0m",
      "\u001b[1;31mTypeError\u001b[0m                                 Traceback (most recent call last)",
      "\u001b[1;32m<ipython-input-4-418e55af860f>\u001b[0m in \u001b[0;36m<module>\u001b[1;34m\u001b[0m\n\u001b[0;32m      1\u001b[0m \u001b[1;31m#test 22/11/2020\u001b[0m\u001b[1;33m\u001b[0m\u001b[1;33m\u001b[0m\u001b[1;33m\u001b[0m\u001b[0m\n\u001b[1;32m----> 2\u001b[1;33m \u001b[1;32mdef\u001b[0m \u001b[0mtest\u001b[0m\u001b[1;33m(\u001b[0m\u001b[0ma\u001b[0m \u001b[1;33m=\u001b[0m \u001b[0mUnion\u001b[0m\u001b[1;33m[\u001b[0m\u001b[1;36m2\u001b[0m\u001b[1;33m,\u001b[0m \u001b[1;36m3\u001b[0m\u001b[1;33m]\u001b[0m\u001b[1;33m)\u001b[0m\u001b[1;33m:\u001b[0m\u001b[1;33m\u001b[0m\u001b[1;33m\u001b[0m\u001b[0m\n\u001b[0m\u001b[0;32m      3\u001b[0m     \u001b[1;32mreturn\u001b[0m \u001b[0mprint\u001b[0m\u001b[1;33m(\u001b[0m\u001b[0ma\u001b[0m\u001b[1;33m)\u001b[0m\u001b[1;33m\u001b[0m\u001b[1;33m\u001b[0m\u001b[0m\n\u001b[0;32m      4\u001b[0m \u001b[0mprint\u001b[0m\u001b[1;33m(\u001b[0m\u001b[1;36m2\u001b[0m\u001b[1;33m)\u001b[0m\u001b[1;33m\u001b[0m\u001b[1;33m\u001b[0m\u001b[0m\n",
      "\u001b[1;32mt:\\users\\fra\\appdata\\local\\programs\\python\\python37\\lib\\typing.py\u001b[0m in \u001b[0;36minner\u001b[1;34m(*args, **kwds)\u001b[0m\n\u001b[0;32m    252\u001b[0m         \u001b[1;32mexcept\u001b[0m \u001b[0mTypeError\u001b[0m\u001b[1;33m:\u001b[0m\u001b[1;33m\u001b[0m\u001b[1;33m\u001b[0m\u001b[0m\n\u001b[0;32m    253\u001b[0m             \u001b[1;32mpass\u001b[0m  \u001b[1;31m# All real errors (not unhashable args) are raised below.\u001b[0m\u001b[1;33m\u001b[0m\u001b[1;33m\u001b[0m\u001b[0m\n\u001b[1;32m--> 254\u001b[1;33m         \u001b[1;32mreturn\u001b[0m \u001b[0mfunc\u001b[0m\u001b[1;33m(\u001b[0m\u001b[1;33m*\u001b[0m\u001b[0margs\u001b[0m\u001b[1;33m,\u001b[0m \u001b[1;33m**\u001b[0m\u001b[0mkwds\u001b[0m\u001b[1;33m)\u001b[0m\u001b[1;33m\u001b[0m\u001b[1;33m\u001b[0m\u001b[0m\n\u001b[0m\u001b[0;32m    255\u001b[0m     \u001b[1;32mreturn\u001b[0m \u001b[0minner\u001b[0m\u001b[1;33m\u001b[0m\u001b[1;33m\u001b[0m\u001b[0m\n\u001b[0;32m    256\u001b[0m \u001b[1;33m\u001b[0m\u001b[0m\n",
      "\u001b[1;32mt:\\users\\fra\\appdata\\local\\programs\\python\\python37\\lib\\typing.py\u001b[0m in \u001b[0;36m__getitem__\u001b[1;34m(self, parameters)\u001b[0m\n\u001b[0;32m    349\u001b[0m                 \u001b[0mparameters\u001b[0m \u001b[1;33m=\u001b[0m \u001b[1;33m(\u001b[0m\u001b[0mparameters\u001b[0m\u001b[1;33m,\u001b[0m\u001b[1;33m)\u001b[0m\u001b[1;33m\u001b[0m\u001b[1;33m\u001b[0m\u001b[0m\n\u001b[0;32m    350\u001b[0m             \u001b[0mmsg\u001b[0m \u001b[1;33m=\u001b[0m \u001b[1;34m\"Union[arg, ...]: each arg must be a type.\"\u001b[0m\u001b[1;33m\u001b[0m\u001b[1;33m\u001b[0m\u001b[0m\n\u001b[1;32m--> 351\u001b[1;33m             \u001b[0mparameters\u001b[0m \u001b[1;33m=\u001b[0m \u001b[0mtuple\u001b[0m\u001b[1;33m(\u001b[0m\u001b[0m_type_check\u001b[0m\u001b[1;33m(\u001b[0m\u001b[0mp\u001b[0m\u001b[1;33m,\u001b[0m \u001b[0mmsg\u001b[0m\u001b[1;33m)\u001b[0m \u001b[1;32mfor\u001b[0m \u001b[0mp\u001b[0m \u001b[1;32min\u001b[0m \u001b[0mparameters\u001b[0m\u001b[1;33m)\u001b[0m\u001b[1;33m\u001b[0m\u001b[1;33m\u001b[0m\u001b[0m\n\u001b[0m\u001b[0;32m    352\u001b[0m             \u001b[0mparameters\u001b[0m \u001b[1;33m=\u001b[0m \u001b[0m_remove_dups_flatten\u001b[0m\u001b[1;33m(\u001b[0m\u001b[0mparameters\u001b[0m\u001b[1;33m)\u001b[0m\u001b[1;33m\u001b[0m\u001b[1;33m\u001b[0m\u001b[0m\n\u001b[0;32m    353\u001b[0m             \u001b[1;32mif\u001b[0m \u001b[0mlen\u001b[0m\u001b[1;33m(\u001b[0m\u001b[0mparameters\u001b[0m\u001b[1;33m)\u001b[0m \u001b[1;33m==\u001b[0m \u001b[1;36m1\u001b[0m\u001b[1;33m:\u001b[0m\u001b[1;33m\u001b[0m\u001b[1;33m\u001b[0m\u001b[0m\n",
      "\u001b[1;32mt:\\users\\fra\\appdata\\local\\programs\\python\\python37\\lib\\typing.py\u001b[0m in \u001b[0;36m<genexpr>\u001b[1;34m(.0)\u001b[0m\n\u001b[0;32m    349\u001b[0m                 \u001b[0mparameters\u001b[0m \u001b[1;33m=\u001b[0m \u001b[1;33m(\u001b[0m\u001b[0mparameters\u001b[0m\u001b[1;33m,\u001b[0m\u001b[1;33m)\u001b[0m\u001b[1;33m\u001b[0m\u001b[1;33m\u001b[0m\u001b[0m\n\u001b[0;32m    350\u001b[0m             \u001b[0mmsg\u001b[0m \u001b[1;33m=\u001b[0m \u001b[1;34m\"Union[arg, ...]: each arg must be a type.\"\u001b[0m\u001b[1;33m\u001b[0m\u001b[1;33m\u001b[0m\u001b[0m\n\u001b[1;32m--> 351\u001b[1;33m             \u001b[0mparameters\u001b[0m \u001b[1;33m=\u001b[0m \u001b[0mtuple\u001b[0m\u001b[1;33m(\u001b[0m\u001b[0m_type_check\u001b[0m\u001b[1;33m(\u001b[0m\u001b[0mp\u001b[0m\u001b[1;33m,\u001b[0m \u001b[0mmsg\u001b[0m\u001b[1;33m)\u001b[0m \u001b[1;32mfor\u001b[0m \u001b[0mp\u001b[0m \u001b[1;32min\u001b[0m \u001b[0mparameters\u001b[0m\u001b[1;33m)\u001b[0m\u001b[1;33m\u001b[0m\u001b[1;33m\u001b[0m\u001b[0m\n\u001b[0m\u001b[0;32m    352\u001b[0m             \u001b[0mparameters\u001b[0m \u001b[1;33m=\u001b[0m \u001b[0m_remove_dups_flatten\u001b[0m\u001b[1;33m(\u001b[0m\u001b[0mparameters\u001b[0m\u001b[1;33m)\u001b[0m\u001b[1;33m\u001b[0m\u001b[1;33m\u001b[0m\u001b[0m\n\u001b[0;32m    353\u001b[0m             \u001b[1;32mif\u001b[0m \u001b[0mlen\u001b[0m\u001b[1;33m(\u001b[0m\u001b[0mparameters\u001b[0m\u001b[1;33m)\u001b[0m \u001b[1;33m==\u001b[0m \u001b[1;36m1\u001b[0m\u001b[1;33m:\u001b[0m\u001b[1;33m\u001b[0m\u001b[1;33m\u001b[0m\u001b[0m\n",
      "\u001b[1;32mt:\\users\\fra\\appdata\\local\\programs\\python\\python37\\lib\\typing.py\u001b[0m in \u001b[0;36m_type_check\u001b[1;34m(arg, msg, is_argument)\u001b[0m\n\u001b[0;32m    140\u001b[0m         \u001b[1;32mreturn\u001b[0m \u001b[0marg\u001b[0m\u001b[1;33m\u001b[0m\u001b[1;33m\u001b[0m\u001b[0m\n\u001b[0;32m    141\u001b[0m     \u001b[1;32mif\u001b[0m \u001b[1;32mnot\u001b[0m \u001b[0mcallable\u001b[0m\u001b[1;33m(\u001b[0m\u001b[0marg\u001b[0m\u001b[1;33m)\u001b[0m\u001b[1;33m:\u001b[0m\u001b[1;33m\u001b[0m\u001b[1;33m\u001b[0m\u001b[0m\n\u001b[1;32m--> 142\u001b[1;33m         \u001b[1;32mraise\u001b[0m \u001b[0mTypeError\u001b[0m\u001b[1;33m(\u001b[0m\u001b[1;34mf\"{msg} Got {arg!r:.100}.\"\u001b[0m\u001b[1;33m)\u001b[0m\u001b[1;33m\u001b[0m\u001b[1;33m\u001b[0m\u001b[0m\n\u001b[0m\u001b[0;32m    143\u001b[0m     \u001b[1;32mreturn\u001b[0m \u001b[0marg\u001b[0m\u001b[1;33m\u001b[0m\u001b[1;33m\u001b[0m\u001b[0m\n\u001b[0;32m    144\u001b[0m \u001b[1;33m\u001b[0m\u001b[0m\n",
      "\u001b[1;31mTypeError\u001b[0m: Union[arg, ...]: each arg must be a type. Got 2."
     ]
    }
   ],
   "source": [
    "#test 22/11/2020\n",
    "def test(a = Union[2, 3]):\n",
    "    return print(a)\n",
    "print(2)"
   ]
  },
  {
   "cell_type": "code",
   "execution_count": null,
   "metadata": {
    "pycharm": {
     "name": "#%%\n"
    }
   },
   "outputs": [],
   "source": [
    "df = pd.read_csv(os.path.dirname(os.getcwd())+r\"\\data\"+\"\\clean_dataset.csv\")\n",
    "SOURCE_PATH = os.path.dirname(os.getcwd())+r\"\\data\"+\"\\clean_dataset.csv\"\n",
    "COLUMNS_NAN_REPLACE = [\"terrace_area\", \"garden_area\", \"land_surface\", \"price\", \"facades_number\"]\n",
    "COLUMNS_OUTLIERS_IGNORE = [\"terrace_area\", \"source\", \"garden_area\", \"postcode\", \"facades_number\"]\n",
    "\n",
    "filepath: str = SOURCE_PATH\n",
    "columns_nan_to_replace: List[str] = COLUMNS_NAN_REPLACE\n",
    "columns_outliers_ignore: List[str] = COLUMNS_OUTLIERS_IGNORE\n",
    "\n",
    "df = pd.read_csv(filepath)\n",
    "#deep copy to avoid warnings when indexing\n",
    "df_cleaned = df.copy(deep=True)\n",
    "df_cleaned.shape"
   ]
  },
  {
   "cell_type": "code",
   "execution_count": null,
   "metadata": {
    "pycharm": {
     "name": "#%%\n"
    }
   },
   "outputs": [],
   "source": [
    "profile = df.profile_report()\n",
    "profile.to_file(os.getcwd()+\"\\\\reports\"+\"\\\\df_before_cleaning.html\")"
   ]
  },
  {
   "cell_type": "markdown",
   "metadata": {},
   "source": [
    "replace nan with 0 when relevant"
   ]
  },
  {
   "cell_type": "code",
   "execution_count": null,
   "metadata": {
    "pycharm": {
     "name": "#%%\n"
    }
   },
   "outputs": [],
   "source": [
    "columns_nan_replaced = []\n",
    "for c in df_cleaned.columns:\n",
    "    c_na_count = df_cleaned[c].isna().sum()\n",
    "    if c_na_count > 0:\n",
    "        columns_nan_replaced.append(c)\n",
    "print(columns_nan_replaced)"
   ]
  },
  {
   "cell_type": "code",
   "execution_count": null,
   "metadata": {
    "pycharm": {
     "name": "#%%\n"
    }
   },
   "outputs": [],
   "source": [
    "df_cleaned = df_cleaned.fillna(0)\n",
    "for c in df_cleaned.columns:\n",
    "    c_na_count = df_cleaned[c].isna().sum()\n",
    "    if c_na_count > 0:\n",
    "        print(c)"
   ]
  },
  {
   "cell_type": "markdown",
   "metadata": {
    "pycharm": {
     "name": "#%% md\n"
    }
   },
   "source": [
    "remove if terrace/garden true but area is 0"
   ]
  },
  {
   "cell_type": "code",
   "execution_count": null,
   "metadata": {
    "pycharm": {
     "name": "#%%\n"
    }
   },
   "outputs": [],
   "source": [
    "df_cleaned[(df_cleaned.terrace==True) & (df_cleaned.terrace_area==0)]"
   ]
  },
  {
   "cell_type": "code",
   "execution_count": null,
   "metadata": {
    "pycharm": {
     "name": "#%%\n"
    }
   },
   "outputs": [],
   "source": [
    "df_cleaned.building_state_agg.unique()\n"
   ]
  },
  {
   "cell_type": "code",
   "execution_count": null,
   "metadata": {
    "pycharm": {
     "name": "#%%\n"
    }
   },
   "outputs": [],
   "source": [
    "print(f'Intial rows {len(df)}')\n",
    "df_cleaned = df_cleaned[~(((df_cleaned.terrace==True) & (df_cleaned.terrace_area==0))|((df_cleaned.garden==True) & (df_cleaned.garden_area==0)))]\n",
    "print(f'% kept rows {len(df_cleaned)/len(df)*100}')"
   ]
  },
  {
   "cell_type": "markdown",
   "metadata": {
    "pycharm": {
     "name": "#%% md\n"
    }
   },
   "source": [
    "Calculating Tukey fences to deal with founded non-normal distributions\n",
    "NOTE FOR GROUP: effective python way to check for how normal functions are? Maybe already in profiling report?"
   ]
  },
  {
   "cell_type": "code",
   "execution_count": null,
   "metadata": {
    "pycharm": {
     "name": "#%%\n"
    }
   },
   "outputs": [],
   "source": [
    "def describe_with_tukey_fences(dataframe: pd.DataFrame):\n",
    "    dataframe_desc = dataframe.describe(percentiles=[0.95, 0.94, 0.75, 0.5, 0.25, 0.06, 0.05], include=np.number)\n",
    "    dataframe_index = dataframe_desc.index.to_list()\n",
    "    fence_tukey_min =[dataframe_desc.loc[\"25%\",c] - 1.5 * (dataframe_desc.loc[\"75%\",c] - dataframe_desc.loc[\"25%\",c]) for c in  dataframe_desc.columns]\n",
    "    fence_tukey_max =[dataframe_desc.loc[\"75%\",c] + 1.5 * (dataframe_desc.loc[\"75%\",c] - dataframe_desc.loc[\"25%\",c]) for c in  dataframe_desc.columns]\n",
    "    dataframe_desc = dataframe_desc.append(dict(zip(dataframe_desc.columns, fence_tukey_min)), ignore_index=True)\n",
    "    dataframe_desc = dataframe_desc.append(dict(zip(dataframe_desc.columns, fence_tukey_max)), ignore_index=True)\n",
    "    dataframe_index.append('fence_tukey_min')\n",
    "    dataframe_index.append('fence_tukey_max')\n",
    "    dataframe_desc.index = dataframe_index    \n",
    "    return dataframe_desc\n",
    "df_desc = describe_with_tukey_fences(df_cleaned)\n",
    "df_desc"
   ]
  },
  {
   "cell_type": "code",
   "execution_count": null,
   "metadata": {
    "pycharm": {
     "name": "#%%\n"
    }
   },
   "outputs": [],
   "source": [
    "print(f'Intial rows {len(df)}')\n",
    "for column in df_desc:\n",
    "    if column not in COLUMNS_OUTLIERS_IGNORE:\n",
    "        #fence_tukey_min, fence_tukey_max = df_desc.loc[[\"fence_tukey_min\", \"fence_tukey_max\"], column]\n",
    "        fence_tukey_min = df_desc.loc[\"fence_tukey_min\", column]\n",
    "        fence_tukey_max = df_desc.loc[\"fence_tukey_max\", column]\n",
    "        p95 = df_desc.loc[\"95%\", column]\n",
    "        p94 = df_desc.loc[\"94%\", column]\n",
    "        p06 = df_desc.loc[\"6%\", column]\n",
    "        p05 = df_desc.loc[\"5%\", column]\n",
    "        #printing\n",
    "        row_start = len(df_cleaned)\n",
    "        if fence_tukey_max >= p95:\n",
    "            df_cleaned= df_cleaned[df_cleaned[column]<fence_tukey_max]\n",
    "            if len(df_cleaned) < row_start:\n",
    "                print(f\"Excluding {(1-len(df_cleaned)/row_start)*100} Tukey's max outliers in {column}\")\n",
    "        elif (fence_tukey_max < p95) and  (p95 != p94):\n",
    "            df_cleaned= df_cleaned[df_cleaned[column]<p95]\n",
    "            if len(df_cleaned) < row_start:\n",
    "                print(f\"Excluding {(1-len(df_cleaned)/row_start)*100} percentile max outliers in {column}\")\n",
    "        row_start = len(df_cleaned)\n",
    "        if fence_tukey_min <= p05:\n",
    "            df_cleaned= df_cleaned[df_cleaned[column]>fence_tukey_min]\n",
    "            if len(df_cleaned) < row_start:\n",
    "                print(f\"Excluding {(1-len(df_cleaned)/row_start)*100} Tukey's min outliers in {column}\")\n",
    "        elif (fence_tukey_max < p05) and  (p05 != p06):\n",
    "            df_cleaned= df_cleaned[df_cleaned[column]<p95]\n",
    "            if len(df_cleaned) < row_start:\n",
    "                print(f\"Excluding {(1-len(df_cleaned)/row_start)*100} percentile min outliers in {column}\")\n",
    "print(f\"Excluding {(1-len(df_cleaned)/len(df))*100}\")"
   ]
  },
  {
   "cell_type": "code",
   "execution_count": null,
   "metadata": {
    "pycharm": {
     "name": "#%%\n"
    }
   },
   "outputs": [],
   "source": [
    "df_desc = describe_with_tukey_fences(df_cleaned)\n",
    "df_desc"
   ]
  },
  {
   "cell_type": "markdown",
   "metadata": {},
   "source": [
    "### Converting categorical variables and adding numerical variables\n",
    "Categorical variables were analysed by assigning to them median price (target variable).\n",
    "\n",
    "For postcode a limited number of values remained for some postcodes after removing outliers."
   ]
  },
  {
   "cell_type": "code",
   "execution_count": null,
   "metadata": {
    "pycharm": {
     "name": "#%%\n"
    }
   },
   "outputs": [],
   "source": [
    "postcode_price = df_cleaned.groupby('postcode')['price'].agg([min,max,np.mean,np.median,len])\n",
    "#verifying count and values per postcode\n",
    "print(postcode_price.sort_values(by=\"median\", ascending=False).head(5))\n",
    "print(postcode_price.sort_values(by=\"mean\", ascending=False).head(5))\n",
    "\n",
    "def get_postcode_price(x):\n",
    "    postcode_price_median = postcode_price.loc[x,\"median\"]\n",
    "    return postcode_price_median\n",
    "df_cleaned[\"postcode_median_price\"] = df_cleaned[\"postcode\"].apply(get_postcode_price)\n",
    "df_desc = describe_with_tukey_fences(df_cleaned)\n",
    "df_desc"
   ]
  },
  {
   "cell_type": "markdown",
   "metadata": {},
   "source": [
    "For building state more values were available, analysing median price"
   ]
  },
  {
   "cell_type": "code",
   "execution_count": null,
   "metadata": {
    "pycharm": {
     "name": "#%%\n"
    }
   },
   "outputs": [],
   "source": [
    "state_price = df_cleaned.groupby('building_state_agg')['price'].agg([min,max,np.mean,np.median,len])\n",
    "#verifying count and values per status\n",
    "print(state_price.sort_values(by=\"median\", ascending=False).head(5))\n",
    "print(state_price.sort_values(by=\"mean\", ascending=False).head(5))\n",
    "\n",
    "def get_building_state_price(x):\n",
    "    state_price_median = state_price.loc[x,\"median\"]\n",
    "    return state_price_median\n",
    "\n",
    "df_cleaned[\"building_state_median_price\"] = df_cleaned[\"building_state_agg\"].apply(get_building_state_price)\n",
    "describe_with_tukey_fences(df_cleaned)"
   ]
  },
  {
   "cell_type": "markdown",
   "metadata": {},
   "source": [
    "For subtypes more values were available too."
   ]
  },
  {
   "cell_type": "code",
   "execution_count": null,
   "metadata": {
    "pycharm": {
     "name": "#%%\n"
    }
   },
   "outputs": [],
   "source": [
    "property_subtype_price = df_cleaned.groupby('property_subtype')['price'].agg([min,max,np.mean,np.median,len])\n",
    "#verifying count and values per status\n",
    "print(property_subtype_price.sort_values(by=\"median\", ascending=False).head(5))\n",
    "print(property_subtype_price.sort_values(by=\"mean\", ascending=False).head(5))\n",
    "\n",
    "def get_property_subtype_price(x):\n",
    "    subtype_price_median = property_subtype_price.loc[x,\"median\"]\n",
    "    return subtype_price_median\n",
    "\n",
    "df_cleaned[\"property_subtype_median_price\"] = df_cleaned[\"property_subtype\"].apply(get_property_subtype_price)"
   ]
  },
  {
   "cell_type": "markdown",
   "metadata": {},
   "source": [
    "replacing categorical values of state with facades"
   ]
  },
  {
   "cell_type": "code",
   "execution_count": null,
   "metadata": {
    "pycharm": {
     "name": "#%%\n"
    }
   },
   "outputs": [],
   "source": [
    "df_cleaned[df_cleaned.property_subtype=='APARTMENT']"
   ]
  },
  {
   "cell_type": "code",
   "execution_count": null,
   "metadata": {
    "pycharm": {
     "name": "#%%\n"
    }
   },
   "outputs": [],
   "source": [
    "df_with_facades = df_cleaned[df_cleaned.facades_number > 0]\n",
    "\n",
    "property_subtype_facades = df_with_facades.groupby('property_subtype')['facades_number'].agg([min,max,np.mean,np.median,len])\n",
    "#verifying count and values per status\n",
    "print(property_subtype_facades)\n",
    "print(property_subtype_facades.sort_values(by=\"median\", ascending=False).head(5))\n",
    "print(property_subtype_facades.sort_values(by=\"mean\", ascending=False).head(5))\n",
    "\n",
    "def get_property_subtype_facades(x):\n",
    "    try:\n",
    "        property_subtype_facades_median = property_subtype_facades.loc[x,\"median\"]\n",
    "    except:\n",
    "        property_subtype_facades_median = None\n",
    "        #print(x) #error with apartment_block\n",
    "    return property_subtype_facades_median\n",
    "\n",
    "df_cleaned[\"property_subtype_median_facades\"] = df_cleaned[\"property_subtype\"].apply(get_property_subtype_facades)"
   ]
  },
  {
   "cell_type": "code",
   "execution_count": null,
   "metadata": {
    "pycharm": {
     "name": "#%%\n"
    }
   },
   "outputs": [],
   "source": [
    "df_cleaned.shape"
   ]
  },
  {
   "cell_type": "code",
   "execution_count": null,
   "metadata": {
    "pycharm": {
     "name": "#%%\n"
    }
   },
   "outputs": [],
   "source": [
    "df_cleaned.to_csv(os.getcwd()+\"\\\\outputs\"+\"\\\\df_after_cleaning.csv\")"
   ]
  },
  {
   "cell_type": "code",
   "execution_count": null,
   "metadata": {
    "pycharm": {
     "name": "#%%\n"
    }
   },
   "outputs": [],
   "source": [
    "df_new = pd.read_csv(os.getcwd()+\"\\\\outputs\"+\"\\\\df_after_cleaning.csv\")\n",
    "df_new.shape"
   ]
  },
  {
   "cell_type": "code",
   "execution_count": null,
   "metadata": {
    "pycharm": {
     "name": "#%%\n"
    }
   },
   "outputs": [],
   "source": [
    "profile = df_new.profile_report()\n",
    "profile.to_file(os.getcwd()+\"\\\\reports\"+\"\\\\df_after_cleaning.html\")\n"
   ]
  }
 ],
 "metadata": {
  "kernelspec": {
   "display_name": "Python 3",
   "language": "python",
   "name": "python3"
  },
  "language_info": {
   "codemirror_mode": {
    "name": "ipython",
    "version": 3
   },
   "file_extension": ".py",
   "mimetype": "text/x-python",
   "name": "python",
   "nbconvert_exporter": "python",
   "pygments_lexer": "ipython3",
   "version": "3.7.4"
  }
 },
 "nbformat": 4,
 "nbformat_minor": 1
}
