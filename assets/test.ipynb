{
 "cells": [
  {
   "cell_type": "code",
   "execution_count": 36,
   "metadata": {},
   "outputs": [],
   "source": [
    "from sklearn import linear_model\n",
    "from sklearn.preprocessing import PolynomialFeatures\n",
    "import numpy as np"
   ]
  },
  {
   "cell_type": "code",
   "execution_count": 6,
   "metadata": {},
   "outputs": [
    {
     "data": {
      "text/plain": [
       "LinearRegression()"
      ]
     },
     "execution_count": 6,
     "metadata": {},
     "output_type": "execute_result"
    }
   ],
   "source": [
    "reg = linear_model.LinearRegression()\n",
    "reg.fit([[0,0], [1,1], [2,2]], [0, 1, 2])"
   ]
  },
  {
   "cell_type": "code",
   "execution_count": 7,
   "metadata": {},
   "outputs": [
    {
     "data": {
      "text/plain": [
       "{'fit_intercept': True,\n",
       " 'normalize': False,\n",
       " 'copy_X': True,\n",
       " 'n_jobs': None,\n",
       " 'n_features_in_': 2,\n",
       " 'coef_': array([0.5, 0.5]),\n",
       " '_residues': array([], dtype=float64),\n",
       " 'rank_': 1,\n",
       " 'singular_': array([2.00000000e+00, 3.35470445e-17]),\n",
       " 'intercept_': 2.220446049250313e-16}"
      ]
     },
     "execution_count": 7,
     "metadata": {},
     "output_type": "execute_result"
    }
   ],
   "source": [
    "reg.__dict__"
   ]
  },
  {
   "cell_type": "code",
   "execution_count": 117,
   "metadata": {},
   "outputs": [
    {
     "data": {
      "text/plain": [
       "array([0.])"
      ]
     },
     "execution_count": 117,
     "metadata": {},
     "output_type": "execute_result"
    }
   ],
   "source": [
    "reg.predict([[-4,4]])"
   ]
  },
  {
   "cell_type": "code",
   "execution_count": 59,
   "metadata": {},
   "outputs": [],
   "source": [
    "poly = PolynomialFeatures(2)"
   ]
  },
  {
   "cell_type": "code",
   "execution_count": 86,
   "metadata": {},
   "outputs": [
    {
     "data": {
      "text/plain": [
       "(array([[0, 0, 0],\n",
       "        [1, 1, 1],\n",
       "        [2, 2, 2]]),\n",
       " array([0, 1, 2]))"
      ]
     },
     "execution_count": 86,
     "metadata": {},
     "output_type": "execute_result"
    }
   ],
   "source": [
    "X = np.array([[0,0,0], [1,1,1], [2,2,2]])\n",
    "y = np.array([0, 1, 2])\n",
    "X, y"
   ]
  },
  {
   "cell_type": "code",
   "execution_count": 73,
   "metadata": {},
   "outputs": [
    {
     "data": {
      "text/plain": [
       "PolynomialFeatures()"
      ]
     },
     "execution_count": 73,
     "metadata": {},
     "output_type": "execute_result"
    }
   ],
   "source": [
    "poly.fit(X)"
   ]
  },
  {
   "cell_type": "code",
   "execution_count": 80,
   "metadata": {},
   "outputs": [
    {
     "data": {
      "text/plain": [
       "10"
      ]
     },
     "execution_count": 80,
     "metadata": {},
     "output_type": "execute_result"
    }
   ],
   "source": [
    "poly.n_output_features_"
   ]
  },
  {
   "cell_type": "code",
   "execution_count": 81,
   "metadata": {},
   "outputs": [
    {
     "data": {
      "text/plain": [
       "array([[0, 0, 0],\n",
       "       [1, 0, 0],\n",
       "       [0, 1, 0],\n",
       "       [0, 0, 1],\n",
       "       [2, 0, 0],\n",
       "       [1, 1, 0],\n",
       "       [1, 0, 1],\n",
       "       [0, 2, 0],\n",
       "       [0, 1, 1],\n",
       "       [0, 0, 2]])"
      ]
     },
     "execution_count": 81,
     "metadata": {},
     "output_type": "execute_result"
    }
   ],
   "source": [
    "poly.powers_"
   ]
  },
  {
   "cell_type": "code",
   "execution_count": 89,
   "metadata": {},
   "outputs": [
    {
     "data": {
      "text/plain": [
       "{'degree': 2, 'include_bias': True, 'interaction_only': False, 'order': 'C'}"
      ]
     },
     "execution_count": 89,
     "metadata": {},
     "output_type": "execute_result"
    }
   ],
   "source": [
    "poly.get_params()"
   ]
  },
  {
   "cell_type": "code",
   "execution_count": 88,
   "metadata": {},
   "outputs": [
    {
     "data": {
      "text/plain": [
       "PolynomialFeatures()"
      ]
     },
     "execution_count": 88,
     "metadata": {},
     "output_type": "execute_result"
    }
   ],
   "source": [
    "poly.fit(X, y)"
   ]
  },
  {
   "cell_type": "code",
   "execution_count": 49,
   "metadata": {},
   "outputs": [
    {
     "data": {
      "text/plain": [
       "array([[0, 0],\n",
       "       [1, 0],\n",
       "       [0, 1],\n",
       "       [2, 0],\n",
       "       [1, 1],\n",
       "       [0, 2]])"
      ]
     },
     "execution_count": 49,
     "metadata": {},
     "output_type": "execute_result"
    }
   ],
   "source": [
    "poly.powers_"
   ]
  },
  {
   "cell_type": "code",
   "execution_count": 58,
   "metadata": {},
   "outputs": [
    {
     "data": {
      "text/plain": [
       "type"
      ]
     },
     "execution_count": 58,
     "metadata": {},
     "output_type": "execute_result"
    }
   ],
   "source": [
    "type(PolynomialFeatures.__bases__[1])"
   ]
  },
  {
   "cell_type": "code",
   "execution_count": 97,
   "metadata": {},
   "outputs": [],
   "source": [
    "from sklearn.preprocessing import StandardScaler\n",
    "scaler = StandardScaler()"
   ]
  },
  {
   "cell_type": "code",
   "execution_count": 98,
   "metadata": {},
   "outputs": [
    {
     "data": {
      "text/plain": [
       "StandardScaler()"
      ]
     },
     "execution_count": 98,
     "metadata": {},
     "output_type": "execute_result"
    }
   ],
   "source": [
    "scaler.fit(X)"
   ]
  },
  {
   "cell_type": "code",
   "execution_count": 102,
   "metadata": {},
   "outputs": [],
   "source": [
    "from sklearn.pipeline import Pipeline, make_pipeline"
   ]
  },
  {
   "cell_type": "code",
   "execution_count": 103,
   "metadata": {},
   "outputs": [
    {
     "data": {
      "text/plain": [
       "(sklearn.utils.metaestimators._BaseComposition,)"
      ]
     },
     "execution_count": 103,
     "metadata": {},
     "output_type": "execute_result"
    }
   ],
   "source": [
    "Pipeline.__bases__"
   ]
  },
  {
   "cell_type": "code",
   "execution_count": 104,
   "metadata": {},
   "outputs": [],
   "source": [
    "pipe = make_pipeline(poly)"
   ]
  },
  {
   "cell_type": "code",
   "execution_count": 111,
   "metadata": {},
   "outputs": [],
   "source": [
    "pipe = make_pipeline(pipe)"
   ]
  },
  {
   "cell_type": "code",
   "execution_count": 112,
   "metadata": {},
   "outputs": [
    {
     "data": {
      "text/plain": [
       "Pipeline(steps=[('pipeline',\n",
       "                 Pipeline(steps=[('polynomialfeatures',\n",
       "                                  PolynomialFeatures())]))])"
      ]
     },
     "execution_count": 112,
     "metadata": {},
     "output_type": "execute_result"
    }
   ],
   "source": [
    "pipe"
   ]
  },
  {
   "cell_type": "code",
   "execution_count": 113,
   "metadata": {},
   "outputs": [
    {
     "data": {
      "text/plain": [
       "[('__abstractmethods__', frozenset()),\n",
       " ('__annotations__', {'steps': typing.List[typing.Any]}),\n",
       " ('__class__', sklearn.pipeline.Pipeline),\n",
       " ('__delattr__',\n",
       "  <method-wrapper '__delattr__' of Pipeline object at 0x7f396d216940>),\n",
       " ('__dict__',\n",
       "  {'steps': [('pipeline',\n",
       "     Pipeline(steps=[('polynomialfeatures', PolynomialFeatures())]))],\n",
       "   'memory': None,\n",
       "   'verbose': False}),\n",
       " ('__dir__', <function Pipeline.__dir__()>),\n",
       " ('__doc__',\n",
       "  \"\\n    Pipeline of transforms with a final estimator.\\n\\n    Sequentially apply a list of transforms and a final estimator.\\n    Intermediate steps of the pipeline must be 'transforms', that is, they\\n    must implement fit and transform methods.\\n    The final estimator only needs to implement fit.\\n    The transformers in the pipeline can be cached using ``memory`` argument.\\n\\n    The purpose of the pipeline is to assemble several steps that can be\\n    cross-validated together while setting different parameters.\\n    For this, it enables setting parameters of the various steps using their\\n    names and the parameter name separated by a '__', as in the example below.\\n    A step's estimator may be replaced entirely by setting the parameter\\n    with its name to another estimator, or a transformer removed by setting\\n    it to 'passthrough' or ``None``.\\n\\n    Read more in the :ref:`User Guide <pipeline>`.\\n\\n    .. versionadded:: 0.5\\n\\n    Parameters\\n    ----------\\n    steps : list\\n        List of (name, transform) tuples (implementing fit/transform) that are\\n        chained, in the order in which they are chained, with the last object\\n        an estimator.\\n\\n    memory : str or object with the joblib.Memory interface, default=None\\n        Used to cache the fitted transformers of the pipeline. By default,\\n        no caching is performed. If a string is given, it is the path to\\n        the caching directory. Enabling caching triggers a clone of\\n        the transformers before fitting. Therefore, the transformer\\n        instance given to the pipeline cannot be inspected\\n        directly. Use the attribute ``named_steps`` or ``steps`` to\\n        inspect estimators within the pipeline. Caching the\\n        transformers is advantageous when fitting is time consuming.\\n\\n    verbose : bool, default=False\\n        If True, the time elapsed while fitting each step will be printed as it\\n        is completed.\\n\\n    Attributes\\n    ----------\\n    named_steps : :class:`~sklearn.utils.Bunch`\\n        Dictionary-like object, with the following attributes.\\n        Read-only attribute to access any step parameter by user given name.\\n        Keys are step names and values are steps parameters.\\n\\n    See Also\\n    --------\\n    sklearn.pipeline.make_pipeline : Convenience function for simplified\\n        pipeline construction.\\n\\n    Examples\\n    --------\\n    >>> from sklearn.svm import SVC\\n    >>> from sklearn.preprocessing import StandardScaler\\n    >>> from sklearn.datasets import make_classification\\n    >>> from sklearn.model_selection import train_test_split\\n    >>> from sklearn.pipeline import Pipeline\\n    >>> X, y = make_classification(random_state=0)\\n    >>> X_train, X_test, y_train, y_test = train_test_split(X, y,\\n    ...                                                     random_state=0)\\n    >>> pipe = Pipeline([('scaler', StandardScaler()), ('svc', SVC())])\\n    >>> # The pipeline can be used as any other estimator\\n    >>> # and avoids leaking the test set into the train set\\n    >>> pipe.fit(X_train, y_train)\\n    Pipeline(steps=[('scaler', StandardScaler()), ('svc', SVC())])\\n    >>> pipe.score(X_test, y_test)\\n    0.88\\n    \"),\n",
       " ('__eq__', <method-wrapper '__eq__' of Pipeline object at 0x7f396d216940>),\n",
       " ('__format__', <function Pipeline.__format__(format_spec, /)>),\n",
       " ('__ge__', <method-wrapper '__ge__' of Pipeline object at 0x7f396d216940>),\n",
       " ('__getattribute__',\n",
       "  <method-wrapper '__getattribute__' of Pipeline object at 0x7f396d216940>),\n",
       " ('__getitem__',\n",
       "  <bound method Pipeline.__getitem__ of Pipeline(steps=[('pipeline',\n",
       "                   Pipeline(steps=[('polynomialfeatures',\n",
       "                                    PolynomialFeatures())]))])>),\n",
       " ('__getstate__',\n",
       "  <bound method BaseEstimator.__getstate__ of Pipeline(steps=[('pipeline',\n",
       "                   Pipeline(steps=[('polynomialfeatures',\n",
       "                                    PolynomialFeatures())]))])>),\n",
       " ('__gt__', <method-wrapper '__gt__' of Pipeline object at 0x7f396d216940>),\n",
       " ('__hash__',\n",
       "  <method-wrapper '__hash__' of Pipeline object at 0x7f396d216940>),\n",
       " ('__init__',\n",
       "  <bound method Pipeline.__init__ of Pipeline(steps=[('pipeline',\n",
       "                   Pipeline(steps=[('polynomialfeatures',\n",
       "                                    PolynomialFeatures())]))])>),\n",
       " ('__init_subclass__', <function Pipeline.__init_subclass__>),\n",
       " ('__le__', <method-wrapper '__le__' of Pipeline object at 0x7f396d216940>),\n",
       " ('__len__',\n",
       "  <bound method Pipeline.__len__ of Pipeline(steps=[('pipeline',\n",
       "                   Pipeline(steps=[('polynomialfeatures',\n",
       "                                    PolynomialFeatures())]))])>),\n",
       " ('__lt__', <method-wrapper '__lt__' of Pipeline object at 0x7f396d216940>),\n",
       " ('__module__', 'sklearn.pipeline'),\n",
       " ('__ne__', <method-wrapper '__ne__' of Pipeline object at 0x7f396d216940>),\n",
       " ('__new__', <function object.__new__(*args, **kwargs)>),\n",
       " ('__reduce__', <function Pipeline.__reduce__()>),\n",
       " ('__reduce_ex__', <function Pipeline.__reduce_ex__(protocol, /)>),\n",
       " ('__repr__',\n",
       "  <bound method BaseEstimator.__repr__ of Pipeline(steps=[('pipeline',\n",
       "                   Pipeline(steps=[('polynomialfeatures',\n",
       "                                    PolynomialFeatures())]))])>),\n",
       " ('__setattr__',\n",
       "  <method-wrapper '__setattr__' of Pipeline object at 0x7f396d216940>),\n",
       " ('__setstate__',\n",
       "  <bound method BaseEstimator.__setstate__ of Pipeline(steps=[('pipeline',\n",
       "                   Pipeline(steps=[('polynomialfeatures',\n",
       "                                    PolynomialFeatures())]))])>),\n",
       " ('__sizeof__', <function Pipeline.__sizeof__()>),\n",
       " ('__str__', <method-wrapper '__str__' of Pipeline object at 0x7f396d216940>),\n",
       " ('__subclasshook__', <function Pipeline.__subclasshook__>),\n",
       " ('__weakref__', None),\n",
       " ('_abc_impl', <_abc_data at 0x7f396d317fc0>),\n",
       " ('_check_fit_params',\n",
       "  <bound method Pipeline._check_fit_params of Pipeline(steps=[('pipeline',\n",
       "                   Pipeline(steps=[('polynomialfeatures',\n",
       "                                    PolynomialFeatures())]))])>),\n",
       " ('_check_n_features',\n",
       "  <bound method BaseEstimator._check_n_features of Pipeline(steps=[('pipeline',\n",
       "                   Pipeline(steps=[('polynomialfeatures',\n",
       "                                    PolynomialFeatures())]))])>),\n",
       " ('_final_estimator',\n",
       "  Pipeline(steps=[('polynomialfeatures', PolynomialFeatures())])),\n",
       " ('_fit',\n",
       "  <bound method Pipeline._fit of Pipeline(steps=[('pipeline',\n",
       "                   Pipeline(steps=[('polynomialfeatures',\n",
       "                                    PolynomialFeatures())]))])>),\n",
       " ('_get_param_names',\n",
       "  <bound method BaseEstimator._get_param_names of <class 'sklearn.pipeline.Pipeline'>>),\n",
       " ('_get_params',\n",
       "  <bound method _BaseComposition._get_params of Pipeline(steps=[('pipeline',\n",
       "                   Pipeline(steps=[('polynomialfeatures',\n",
       "                                    PolynomialFeatures())]))])>),\n",
       " ('_get_tags',\n",
       "  <bound method BaseEstimator._get_tags of Pipeline(steps=[('pipeline',\n",
       "                   Pipeline(steps=[('polynomialfeatures',\n",
       "                                    PolynomialFeatures())]))])>),\n",
       " ('_inverse_transform',\n",
       "  <bound method Pipeline._inverse_transform of Pipeline(steps=[('pipeline',\n",
       "                   Pipeline(steps=[('polynomialfeatures',\n",
       "                                    PolynomialFeatures())]))])>),\n",
       " ('_iter',\n",
       "  <bound method Pipeline._iter of Pipeline(steps=[('pipeline',\n",
       "                   Pipeline(steps=[('polynomialfeatures',\n",
       "                                    PolynomialFeatures())]))])>),\n",
       " ('_log_message',\n",
       "  <bound method Pipeline._log_message of Pipeline(steps=[('pipeline',\n",
       "                   Pipeline(steps=[('polynomialfeatures',\n",
       "                                    PolynomialFeatures())]))])>),\n",
       " ('_more_tags',\n",
       "  <bound method BaseEstimator._more_tags of Pipeline(steps=[('pipeline',\n",
       "                   Pipeline(steps=[('polynomialfeatures',\n",
       "                                    PolynomialFeatures())]))])>),\n",
       " ('_pairwise', False),\n",
       " ('_replace_estimator',\n",
       "  <bound method _BaseComposition._replace_estimator of Pipeline(steps=[('pipeline',\n",
       "                   Pipeline(steps=[('polynomialfeatures',\n",
       "                                    PolynomialFeatures())]))])>),\n",
       " ('_repr_html_inner',\n",
       "  <bound method BaseEstimator._repr_html_inner of Pipeline(steps=[('pipeline',\n",
       "                   Pipeline(steps=[('polynomialfeatures',\n",
       "                                    PolynomialFeatures())]))])>),\n",
       " ('_repr_mimebundle_',\n",
       "  <bound method BaseEstimator._repr_mimebundle_ of Pipeline(steps=[('pipeline',\n",
       "                   Pipeline(steps=[('polynomialfeatures',\n",
       "                                    PolynomialFeatures())]))])>),\n",
       " ('_required_parameters', ['steps']),\n",
       " ('_set_params',\n",
       "  <bound method _BaseComposition._set_params of Pipeline(steps=[('pipeline',\n",
       "                   Pipeline(steps=[('polynomialfeatures',\n",
       "                                    PolynomialFeatures())]))])>),\n",
       " ('_sk_visual_block_',\n",
       "  <bound method Pipeline._sk_visual_block_ of Pipeline(steps=[('pipeline',\n",
       "                   Pipeline(steps=[('polynomialfeatures',\n",
       "                                    PolynomialFeatures())]))])>),\n",
       " ('_transform',\n",
       "  <bound method Pipeline._transform of Pipeline(steps=[('pipeline',\n",
       "                   Pipeline(steps=[('polynomialfeatures',\n",
       "                                    PolynomialFeatures())]))])>),\n",
       " ('_validate_data',\n",
       "  <bound method BaseEstimator._validate_data of Pipeline(steps=[('pipeline',\n",
       "                   Pipeline(steps=[('polynomialfeatures',\n",
       "                                    PolynomialFeatures())]))])>),\n",
       " ('_validate_names',\n",
       "  <bound method _BaseComposition._validate_names of Pipeline(steps=[('pipeline',\n",
       "                   Pipeline(steps=[('polynomialfeatures',\n",
       "                                    PolynomialFeatures())]))])>),\n",
       " ('_validate_steps',\n",
       "  <bound method Pipeline._validate_steps of Pipeline(steps=[('pipeline',\n",
       "                   Pipeline(steps=[('polynomialfeatures',\n",
       "                                    PolynomialFeatures())]))])>),\n",
       " ('fit',\n",
       "  <bound method Pipeline.fit of Pipeline(steps=[('pipeline',\n",
       "                   Pipeline(steps=[('polynomialfeatures',\n",
       "                                    PolynomialFeatures())]))])>),\n",
       " ('fit_transform',\n",
       "  <bound method Pipeline.fit_transform of Pipeline(steps=[('pipeline',\n",
       "                   Pipeline(steps=[('polynomialfeatures',\n",
       "                                    PolynomialFeatures())]))])>),\n",
       " ('get_params',\n",
       "  <bound method Pipeline.get_params of Pipeline(steps=[('pipeline',\n",
       "                   Pipeline(steps=[('polynomialfeatures',\n",
       "                                    PolynomialFeatures())]))])>),\n",
       " ('memory', None),\n",
       " ('n_features_in_', 3),\n",
       " ('named_steps',\n",
       "  {'pipeline': Pipeline(steps=[('polynomialfeatures', PolynomialFeatures())])}),\n",
       " ('set_params',\n",
       "  <bound method Pipeline.set_params of Pipeline(steps=[('pipeline',\n",
       "                   Pipeline(steps=[('polynomialfeatures',\n",
       "                                    PolynomialFeatures())]))])>),\n",
       " ('steps',\n",
       "  [('pipeline',\n",
       "    Pipeline(steps=[('polynomialfeatures', PolynomialFeatures())]))]),\n",
       " ('transform',\n",
       "  <bound method Pipeline._transform of Pipeline(steps=[('pipeline',\n",
       "                   Pipeline(steps=[('polynomialfeatures',\n",
       "                                    PolynomialFeatures())]))])>),\n",
       " ('verbose', False)]"
      ]
     },
     "execution_count": 113,
     "metadata": {},
     "output_type": "execute_result"
    }
   ],
   "source": [
    "import inspect\n",
    "inspect.getmembers(pipe)"
   ]
  },
  {
   "cell_type": "code",
   "execution_count": null,
   "metadata": {},
   "outputs": [],
   "source": []
  }
 ],
 "metadata": {
  "kernelspec": {
   "display_name": "Python 3",
   "language": "python",
   "name": "python3"
  },
  "language_info": {
   "codemirror_mode": {
    "name": "ipython",
    "version": 3
   },
   "file_extension": ".py",
   "mimetype": "text/x-python",
   "name": "python",
   "nbconvert_exporter": "python",
   "pygments_lexer": "ipython3",
   "version": "3.8.3"
  }
 },
 "nbformat": 4,
 "nbformat_minor": 4
}
