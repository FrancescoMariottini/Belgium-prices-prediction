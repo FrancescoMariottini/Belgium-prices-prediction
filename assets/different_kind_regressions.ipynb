{
 "cells": [
  {
   "cell_type": "code",
   "execution_count": 1,
   "metadata": {},
   "outputs": [],
   "source": [
    "import pandas as pd\n",
    "import numpy as np\n",
    "import matplotlib.pyplot as plt\n",
    "from sklearn.model_selection import train_test_split, validation_curve\n",
    "from sklearn.linear_model import LinearRegression, SGDRegressor\n",
    "from sklearn.preprocessing import PolynomialFeatures\n",
    "from sklearn.pipeline import make_pipeline"
   ]
  },
  {
   "cell_type": "code",
   "execution_count": 2,
   "metadata": {},
   "outputs": [
    {
     "data": {
      "text/html": [
       "<div>\n",
       "<style scoped>\n",
       "    .dataframe tbody tr th:only-of-type {\n",
       "        vertical-align: middle;\n",
       "    }\n",
       "\n",
       "    .dataframe tbody tr th {\n",
       "        vertical-align: top;\n",
       "    }\n",
       "\n",
       "    .dataframe thead th {\n",
       "        text-align: right;\n",
       "    }\n",
       "</style>\n",
       "<table border=\"1\" class=\"dataframe\">\n",
       "  <thead>\n",
       "    <tr style=\"text-align: right;\">\n",
       "      <th></th>\n",
       "      <th>postcode</th>\n",
       "      <th>house_is</th>\n",
       "      <th>property_subtype</th>\n",
       "      <th>price</th>\n",
       "      <th>rooms_number</th>\n",
       "      <th>area</th>\n",
       "      <th>equipped_kitchen_has</th>\n",
       "      <th>furnished</th>\n",
       "      <th>open_fire</th>\n",
       "      <th>terrace</th>\n",
       "      <th>...</th>\n",
       "      <th>land_surface</th>\n",
       "      <th>facades_number</th>\n",
       "      <th>swimming_pool_has</th>\n",
       "      <th>region</th>\n",
       "      <th>building_state_agg</th>\n",
       "      <th>postcode_median_price</th>\n",
       "      <th>building_state_median_price</th>\n",
       "      <th>property_subtype_median_price</th>\n",
       "      <th>building_property_subtype_median_facades</th>\n",
       "      <th>property_subtype_median_facades</th>\n",
       "    </tr>\n",
       "  </thead>\n",
       "  <tbody>\n",
       "    <tr>\n",
       "      <th>0</th>\n",
       "      <td>4180</td>\n",
       "      <td>True</td>\n",
       "      <td>MIXED_USE_BUILDING</td>\n",
       "      <td>295000.0</td>\n",
       "      <td>3.0</td>\n",
       "      <td>242.0</td>\n",
       "      <td>True</td>\n",
       "      <td>False</td>\n",
       "      <td>False</td>\n",
       "      <td>True</td>\n",
       "      <td>...</td>\n",
       "      <td>1403.0</td>\n",
       "      <td>NaN</td>\n",
       "      <td>False</td>\n",
       "      <td>W</td>\n",
       "      <td>good</td>\n",
       "      <td>229000.0</td>\n",
       "      <td>320000.0</td>\n",
       "      <td>310000.0</td>\n",
       "      <td>2.0</td>\n",
       "      <td>2.0</td>\n",
       "    </tr>\n",
       "    <tr>\n",
       "      <th>1</th>\n",
       "      <td>8730</td>\n",
       "      <td>True</td>\n",
       "      <td>VILLA</td>\n",
       "      <td>675000.0</td>\n",
       "      <td>4.0</td>\n",
       "      <td>349.0</td>\n",
       "      <td>True</td>\n",
       "      <td>False</td>\n",
       "      <td>False</td>\n",
       "      <td>False</td>\n",
       "      <td>...</td>\n",
       "      <td>1526.0</td>\n",
       "      <td>NaN</td>\n",
       "      <td>False</td>\n",
       "      <td>F</td>\n",
       "      <td>good</td>\n",
       "      <td>241000.0</td>\n",
       "      <td>320000.0</td>\n",
       "      <td>540000.0</td>\n",
       "      <td>4.0</td>\n",
       "      <td>4.0</td>\n",
       "    </tr>\n",
       "    <tr>\n",
       "      <th>2</th>\n",
       "      <td>4020</td>\n",
       "      <td>True</td>\n",
       "      <td>APARTMENT_BLOCK</td>\n",
       "      <td>250000.0</td>\n",
       "      <td>5.0</td>\n",
       "      <td>303.0</td>\n",
       "      <td>True</td>\n",
       "      <td>False</td>\n",
       "      <td>False</td>\n",
       "      <td>False</td>\n",
       "      <td>...</td>\n",
       "      <td>760.0</td>\n",
       "      <td>NaN</td>\n",
       "      <td>False</td>\n",
       "      <td>W</td>\n",
       "      <td>to_renovate</td>\n",
       "      <td>195000.0</td>\n",
       "      <td>230000.0</td>\n",
       "      <td>357500.0</td>\n",
       "      <td>NaN</td>\n",
       "      <td>NaN</td>\n",
       "    </tr>\n",
       "    <tr>\n",
       "      <th>3</th>\n",
       "      <td>1200</td>\n",
       "      <td>True</td>\n",
       "      <td>HOUSE</td>\n",
       "      <td>545000.0</td>\n",
       "      <td>4.0</td>\n",
       "      <td>235.0</td>\n",
       "      <td>True</td>\n",
       "      <td>True</td>\n",
       "      <td>False</td>\n",
       "      <td>False</td>\n",
       "      <td>...</td>\n",
       "      <td>63.0</td>\n",
       "      <td>NaN</td>\n",
       "      <td>False</td>\n",
       "      <td>B</td>\n",
       "      <td>renovated</td>\n",
       "      <td>445000.0</td>\n",
       "      <td>310000.0</td>\n",
       "      <td>288000.0</td>\n",
       "      <td>3.0</td>\n",
       "      <td>3.0</td>\n",
       "    </tr>\n",
       "    <tr>\n",
       "      <th>4</th>\n",
       "      <td>1190</td>\n",
       "      <td>True</td>\n",
       "      <td>MIXED_USE_BUILDING</td>\n",
       "      <td>500000.0</td>\n",
       "      <td>2.0</td>\n",
       "      <td>220.0</td>\n",
       "      <td>True</td>\n",
       "      <td>False</td>\n",
       "      <td>False</td>\n",
       "      <td>False</td>\n",
       "      <td>...</td>\n",
       "      <td>193.0</td>\n",
       "      <td>NaN</td>\n",
       "      <td>False</td>\n",
       "      <td>B</td>\n",
       "      <td>good</td>\n",
       "      <td>360000.0</td>\n",
       "      <td>320000.0</td>\n",
       "      <td>310000.0</td>\n",
       "      <td>2.0</td>\n",
       "      <td>2.0</td>\n",
       "    </tr>\n",
       "    <tr>\n",
       "      <th>...</th>\n",
       "      <td>...</td>\n",
       "      <td>...</td>\n",
       "      <td>...</td>\n",
       "      <td>...</td>\n",
       "      <td>...</td>\n",
       "      <td>...</td>\n",
       "      <td>...</td>\n",
       "      <td>...</td>\n",
       "      <td>...</td>\n",
       "      <td>...</td>\n",
       "      <td>...</td>\n",
       "      <td>...</td>\n",
       "      <td>...</td>\n",
       "      <td>...</td>\n",
       "      <td>...</td>\n",
       "      <td>...</td>\n",
       "      <td>...</td>\n",
       "      <td>...</td>\n",
       "      <td>...</td>\n",
       "      <td>...</td>\n",
       "      <td>...</td>\n",
       "    </tr>\n",
       "    <tr>\n",
       "      <th>10048</th>\n",
       "      <td>4000</td>\n",
       "      <td>False</td>\n",
       "      <td>APARTMENT</td>\n",
       "      <td>245000.0</td>\n",
       "      <td>2.0</td>\n",
       "      <td>103.0</td>\n",
       "      <td>False</td>\n",
       "      <td>False</td>\n",
       "      <td>False</td>\n",
       "      <td>True</td>\n",
       "      <td>...</td>\n",
       "      <td>0.0</td>\n",
       "      <td>2.0</td>\n",
       "      <td>False</td>\n",
       "      <td>W</td>\n",
       "      <td>good</td>\n",
       "      <td>225000.0</td>\n",
       "      <td>320000.0</td>\n",
       "      <td>282500.0</td>\n",
       "      <td>2.0</td>\n",
       "      <td>2.0</td>\n",
       "    </tr>\n",
       "    <tr>\n",
       "      <th>10049</th>\n",
       "      <td>8790</td>\n",
       "      <td>False</td>\n",
       "      <td>APARTMENT</td>\n",
       "      <td>250000.0</td>\n",
       "      <td>1.0</td>\n",
       "      <td>300.0</td>\n",
       "      <td>False</td>\n",
       "      <td>False</td>\n",
       "      <td>False</td>\n",
       "      <td>False</td>\n",
       "      <td>...</td>\n",
       "      <td>0.0</td>\n",
       "      <td>2.0</td>\n",
       "      <td>False</td>\n",
       "      <td>F</td>\n",
       "      <td>good</td>\n",
       "      <td>257000.0</td>\n",
       "      <td>320000.0</td>\n",
       "      <td>282500.0</td>\n",
       "      <td>2.0</td>\n",
       "      <td>2.0</td>\n",
       "    </tr>\n",
       "    <tr>\n",
       "      <th>10050</th>\n",
       "      <td>2018</td>\n",
       "      <td>False</td>\n",
       "      <td>APARTMENT</td>\n",
       "      <td>298000.0</td>\n",
       "      <td>1.0</td>\n",
       "      <td>71.0</td>\n",
       "      <td>True</td>\n",
       "      <td>False</td>\n",
       "      <td>False</td>\n",
       "      <td>True</td>\n",
       "      <td>...</td>\n",
       "      <td>0.0</td>\n",
       "      <td>1.0</td>\n",
       "      <td>False</td>\n",
       "      <td>F</td>\n",
       "      <td>good</td>\n",
       "      <td>443475.0</td>\n",
       "      <td>320000.0</td>\n",
       "      <td>282500.0</td>\n",
       "      <td>2.0</td>\n",
       "      <td>2.0</td>\n",
       "    </tr>\n",
       "    <tr>\n",
       "      <th>10051</th>\n",
       "      <td>2000</td>\n",
       "      <td>False</td>\n",
       "      <td>FLAT_STUDIO</td>\n",
       "      <td>150000.0</td>\n",
       "      <td>1.0</td>\n",
       "      <td>40.0</td>\n",
       "      <td>True</td>\n",
       "      <td>False</td>\n",
       "      <td>False</td>\n",
       "      <td>False</td>\n",
       "      <td>...</td>\n",
       "      <td>0.0</td>\n",
       "      <td>2.0</td>\n",
       "      <td>False</td>\n",
       "      <td>F</td>\n",
       "      <td>to_renovate</td>\n",
       "      <td>497000.0</td>\n",
       "      <td>230000.0</td>\n",
       "      <td>149000.0</td>\n",
       "      <td>2.0</td>\n",
       "      <td>2.0</td>\n",
       "    </tr>\n",
       "    <tr>\n",
       "      <th>10052</th>\n",
       "      <td>2060</td>\n",
       "      <td>False</td>\n",
       "      <td>APARTMENT</td>\n",
       "      <td>228009.0</td>\n",
       "      <td>2.0</td>\n",
       "      <td>80.0</td>\n",
       "      <td>True</td>\n",
       "      <td>False</td>\n",
       "      <td>False</td>\n",
       "      <td>False</td>\n",
       "      <td>...</td>\n",
       "      <td>0.0</td>\n",
       "      <td>2.0</td>\n",
       "      <td>False</td>\n",
       "      <td>F</td>\n",
       "      <td>good</td>\n",
       "      <td>299000.0</td>\n",
       "      <td>320000.0</td>\n",
       "      <td>282500.0</td>\n",
       "      <td>2.0</td>\n",
       "      <td>2.0</td>\n",
       "    </tr>\n",
       "  </tbody>\n",
       "</table>\n",
       "<p>10053 rows × 23 columns</p>\n",
       "</div>"
      ],
      "text/plain": [
       "       postcode  house_is    property_subtype     price  rooms_number   area  \\\n",
       "0          4180      True  MIXED_USE_BUILDING  295000.0           3.0  242.0   \n",
       "1          8730      True               VILLA  675000.0           4.0  349.0   \n",
       "2          4020      True     APARTMENT_BLOCK  250000.0           5.0  303.0   \n",
       "3          1200      True               HOUSE  545000.0           4.0  235.0   \n",
       "4          1190      True  MIXED_USE_BUILDING  500000.0           2.0  220.0   \n",
       "...         ...       ...                 ...       ...           ...    ...   \n",
       "10048      4000     False           APARTMENT  245000.0           2.0  103.0   \n",
       "10049      8790     False           APARTMENT  250000.0           1.0  300.0   \n",
       "10050      2018     False           APARTMENT  298000.0           1.0   71.0   \n",
       "10051      2000     False         FLAT_STUDIO  150000.0           1.0   40.0   \n",
       "10052      2060     False           APARTMENT  228009.0           2.0   80.0   \n",
       "\n",
       "       equipped_kitchen_has  furnished  open_fire  terrace  ...  land_surface  \\\n",
       "0                      True      False      False     True  ...        1403.0   \n",
       "1                      True      False      False    False  ...        1526.0   \n",
       "2                      True      False      False    False  ...         760.0   \n",
       "3                      True       True      False    False  ...          63.0   \n",
       "4                      True      False      False    False  ...         193.0   \n",
       "...                     ...        ...        ...      ...  ...           ...   \n",
       "10048                 False      False      False     True  ...           0.0   \n",
       "10049                 False      False      False    False  ...           0.0   \n",
       "10050                  True      False      False     True  ...           0.0   \n",
       "10051                  True      False      False    False  ...           0.0   \n",
       "10052                  True      False      False    False  ...           0.0   \n",
       "\n",
       "       facades_number  swimming_pool_has  region  building_state_agg  \\\n",
       "0                 NaN              False       W                good   \n",
       "1                 NaN              False       F                good   \n",
       "2                 NaN              False       W         to_renovate   \n",
       "3                 NaN              False       B           renovated   \n",
       "4                 NaN              False       B                good   \n",
       "...               ...                ...     ...                 ...   \n",
       "10048             2.0              False       W                good   \n",
       "10049             2.0              False       F                good   \n",
       "10050             1.0              False       F                good   \n",
       "10051             2.0              False       F         to_renovate   \n",
       "10052             2.0              False       F                good   \n",
       "\n",
       "       postcode_median_price building_state_median_price  \\\n",
       "0                   229000.0                    320000.0   \n",
       "1                   241000.0                    320000.0   \n",
       "2                   195000.0                    230000.0   \n",
       "3                   445000.0                    310000.0   \n",
       "4                   360000.0                    320000.0   \n",
       "...                      ...                         ...   \n",
       "10048               225000.0                    320000.0   \n",
       "10049               257000.0                    320000.0   \n",
       "10050               443475.0                    320000.0   \n",
       "10051               497000.0                    230000.0   \n",
       "10052               299000.0                    320000.0   \n",
       "\n",
       "      property_subtype_median_price  building_property_subtype_median_facades  \\\n",
       "0                          310000.0                                       2.0   \n",
       "1                          540000.0                                       4.0   \n",
       "2                          357500.0                                       NaN   \n",
       "3                          288000.0                                       3.0   \n",
       "4                          310000.0                                       2.0   \n",
       "...                             ...                                       ...   \n",
       "10048                      282500.0                                       2.0   \n",
       "10049                      282500.0                                       2.0   \n",
       "10050                      282500.0                                       2.0   \n",
       "10051                      149000.0                                       2.0   \n",
       "10052                      282500.0                                       2.0   \n",
       "\n",
       "       property_subtype_median_facades  \n",
       "0                                  2.0  \n",
       "1                                  4.0  \n",
       "2                                  NaN  \n",
       "3                                  3.0  \n",
       "4                                  2.0  \n",
       "...                                ...  \n",
       "10048                              2.0  \n",
       "10049                              2.0  \n",
       "10050                              2.0  \n",
       "10051                              2.0  \n",
       "10052                              2.0  \n",
       "\n",
       "[10053 rows x 23 columns]"
      ]
     },
     "execution_count": 2,
     "metadata": {},
     "output_type": "execute_result"
    }
   ],
   "source": [
    "df = pd.read_csv('df_after_cleaning.csv').drop(['Unnamed: 0', 'source'], axis=1)\n",
    "df"
   ]
  },
  {
   "cell_type": "code",
   "execution_count": 3,
   "metadata": {},
   "outputs": [
    {
     "data": {
      "text/plain": [
       "postcode                                      int64\n",
       "house_is                                       bool\n",
       "property_subtype                             object\n",
       "price                                       float64\n",
       "rooms_number                                float64\n",
       "area                                        float64\n",
       "equipped_kitchen_has                           bool\n",
       "furnished                                      bool\n",
       "open_fire                                      bool\n",
       "terrace                                        bool\n",
       "terrace_area                                float64\n",
       "garden                                         bool\n",
       "garden_area                                 float64\n",
       "land_surface                                float64\n",
       "facades_number                              float64\n",
       "swimming_pool_has                              bool\n",
       "region                                       object\n",
       "building_state_agg                           object\n",
       "postcode_median_price                       float64\n",
       "building_state_median_price                 float64\n",
       "property_subtype_median_price               float64\n",
       "building_property_subtype_median_facades    float64\n",
       "property_subtype_median_facades             float64\n",
       "dtype: object"
      ]
     },
     "execution_count": 3,
     "metadata": {},
     "output_type": "execute_result"
    }
   ],
   "source": [
    "df.dtypes"
   ]
  },
  {
   "cell_type": "code",
   "execution_count": 4,
   "metadata": {},
   "outputs": [
    {
     "data": {
      "text/html": [
       "<div>\n",
       "<style scoped>\n",
       "    .dataframe tbody tr th:only-of-type {\n",
       "        vertical-align: middle;\n",
       "    }\n",
       "\n",
       "    .dataframe tbody tr th {\n",
       "        vertical-align: top;\n",
       "    }\n",
       "\n",
       "    .dataframe thead th {\n",
       "        text-align: right;\n",
       "    }\n",
       "</style>\n",
       "<table border=\"1\" class=\"dataframe\">\n",
       "  <thead>\n",
       "    <tr style=\"text-align: right;\">\n",
       "      <th></th>\n",
       "      <th>price</th>\n",
       "      <th>rooms_number</th>\n",
       "      <th>area</th>\n",
       "      <th>land_surface</th>\n",
       "      <th>postcode_median_price</th>\n",
       "      <th>building_state_median_price</th>\n",
       "      <th>property_subtype_median_price</th>\n",
       "      <th>building_property_subtype_median_facades</th>\n",
       "      <th>property_subtype_median_facades</th>\n",
       "    </tr>\n",
       "  </thead>\n",
       "  <tbody>\n",
       "    <tr>\n",
       "      <th>0</th>\n",
       "      <td>295000.0</td>\n",
       "      <td>3.0</td>\n",
       "      <td>242.0</td>\n",
       "      <td>1403.0</td>\n",
       "      <td>229000.0</td>\n",
       "      <td>320000.0</td>\n",
       "      <td>310000.0</td>\n",
       "      <td>2.0</td>\n",
       "      <td>2.0</td>\n",
       "    </tr>\n",
       "    <tr>\n",
       "      <th>1</th>\n",
       "      <td>675000.0</td>\n",
       "      <td>4.0</td>\n",
       "      <td>349.0</td>\n",
       "      <td>1526.0</td>\n",
       "      <td>241000.0</td>\n",
       "      <td>320000.0</td>\n",
       "      <td>540000.0</td>\n",
       "      <td>4.0</td>\n",
       "      <td>4.0</td>\n",
       "    </tr>\n",
       "    <tr>\n",
       "      <th>2</th>\n",
       "      <td>250000.0</td>\n",
       "      <td>5.0</td>\n",
       "      <td>303.0</td>\n",
       "      <td>760.0</td>\n",
       "      <td>195000.0</td>\n",
       "      <td>230000.0</td>\n",
       "      <td>357500.0</td>\n",
       "      <td>NaN</td>\n",
       "      <td>NaN</td>\n",
       "    </tr>\n",
       "    <tr>\n",
       "      <th>3</th>\n",
       "      <td>545000.0</td>\n",
       "      <td>4.0</td>\n",
       "      <td>235.0</td>\n",
       "      <td>63.0</td>\n",
       "      <td>445000.0</td>\n",
       "      <td>310000.0</td>\n",
       "      <td>288000.0</td>\n",
       "      <td>3.0</td>\n",
       "      <td>3.0</td>\n",
       "    </tr>\n",
       "    <tr>\n",
       "      <th>4</th>\n",
       "      <td>500000.0</td>\n",
       "      <td>2.0</td>\n",
       "      <td>220.0</td>\n",
       "      <td>193.0</td>\n",
       "      <td>360000.0</td>\n",
       "      <td>320000.0</td>\n",
       "      <td>310000.0</td>\n",
       "      <td>2.0</td>\n",
       "      <td>2.0</td>\n",
       "    </tr>\n",
       "    <tr>\n",
       "      <th>...</th>\n",
       "      <td>...</td>\n",
       "      <td>...</td>\n",
       "      <td>...</td>\n",
       "      <td>...</td>\n",
       "      <td>...</td>\n",
       "      <td>...</td>\n",
       "      <td>...</td>\n",
       "      <td>...</td>\n",
       "      <td>...</td>\n",
       "    </tr>\n",
       "    <tr>\n",
       "      <th>10048</th>\n",
       "      <td>245000.0</td>\n",
       "      <td>2.0</td>\n",
       "      <td>103.0</td>\n",
       "      <td>0.0</td>\n",
       "      <td>225000.0</td>\n",
       "      <td>320000.0</td>\n",
       "      <td>282500.0</td>\n",
       "      <td>2.0</td>\n",
       "      <td>2.0</td>\n",
       "    </tr>\n",
       "    <tr>\n",
       "      <th>10049</th>\n",
       "      <td>250000.0</td>\n",
       "      <td>1.0</td>\n",
       "      <td>300.0</td>\n",
       "      <td>0.0</td>\n",
       "      <td>257000.0</td>\n",
       "      <td>320000.0</td>\n",
       "      <td>282500.0</td>\n",
       "      <td>2.0</td>\n",
       "      <td>2.0</td>\n",
       "    </tr>\n",
       "    <tr>\n",
       "      <th>10050</th>\n",
       "      <td>298000.0</td>\n",
       "      <td>1.0</td>\n",
       "      <td>71.0</td>\n",
       "      <td>0.0</td>\n",
       "      <td>443475.0</td>\n",
       "      <td>320000.0</td>\n",
       "      <td>282500.0</td>\n",
       "      <td>2.0</td>\n",
       "      <td>2.0</td>\n",
       "    </tr>\n",
       "    <tr>\n",
       "      <th>10051</th>\n",
       "      <td>150000.0</td>\n",
       "      <td>1.0</td>\n",
       "      <td>40.0</td>\n",
       "      <td>0.0</td>\n",
       "      <td>497000.0</td>\n",
       "      <td>230000.0</td>\n",
       "      <td>149000.0</td>\n",
       "      <td>2.0</td>\n",
       "      <td>2.0</td>\n",
       "    </tr>\n",
       "    <tr>\n",
       "      <th>10052</th>\n",
       "      <td>228009.0</td>\n",
       "      <td>2.0</td>\n",
       "      <td>80.0</td>\n",
       "      <td>0.0</td>\n",
       "      <td>299000.0</td>\n",
       "      <td>320000.0</td>\n",
       "      <td>282500.0</td>\n",
       "      <td>2.0</td>\n",
       "      <td>2.0</td>\n",
       "    </tr>\n",
       "  </tbody>\n",
       "</table>\n",
       "<p>10053 rows × 9 columns</p>\n",
       "</div>"
      ],
      "text/plain": [
       "          price  rooms_number   area  land_surface  postcode_median_price  \\\n",
       "0      295000.0           3.0  242.0        1403.0               229000.0   \n",
       "1      675000.0           4.0  349.0        1526.0               241000.0   \n",
       "2      250000.0           5.0  303.0         760.0               195000.0   \n",
       "3      545000.0           4.0  235.0          63.0               445000.0   \n",
       "4      500000.0           2.0  220.0         193.0               360000.0   \n",
       "...         ...           ...    ...           ...                    ...   \n",
       "10048  245000.0           2.0  103.0           0.0               225000.0   \n",
       "10049  250000.0           1.0  300.0           0.0               257000.0   \n",
       "10050  298000.0           1.0   71.0           0.0               443475.0   \n",
       "10051  150000.0           1.0   40.0           0.0               497000.0   \n",
       "10052  228009.0           2.0   80.0           0.0               299000.0   \n",
       "\n",
       "       building_state_median_price  property_subtype_median_price  \\\n",
       "0                         320000.0                       310000.0   \n",
       "1                         320000.0                       540000.0   \n",
       "2                         230000.0                       357500.0   \n",
       "3                         310000.0                       288000.0   \n",
       "4                         320000.0                       310000.0   \n",
       "...                            ...                            ...   \n",
       "10048                     320000.0                       282500.0   \n",
       "10049                     320000.0                       282500.0   \n",
       "10050                     320000.0                       282500.0   \n",
       "10051                     230000.0                       149000.0   \n",
       "10052                     320000.0                       282500.0   \n",
       "\n",
       "       building_property_subtype_median_facades  \\\n",
       "0                                           2.0   \n",
       "1                                           4.0   \n",
       "2                                           NaN   \n",
       "3                                           3.0   \n",
       "4                                           2.0   \n",
       "...                                         ...   \n",
       "10048                                       2.0   \n",
       "10049                                       2.0   \n",
       "10050                                       2.0   \n",
       "10051                                       2.0   \n",
       "10052                                       2.0   \n",
       "\n",
       "       property_subtype_median_facades  \n",
       "0                                  2.0  \n",
       "1                                  4.0  \n",
       "2                                  NaN  \n",
       "3                                  3.0  \n",
       "4                                  2.0  \n",
       "...                                ...  \n",
       "10048                              2.0  \n",
       "10049                              2.0  \n",
       "10050                              2.0  \n",
       "10051                              2.0  \n",
       "10052                              2.0  \n",
       "\n",
       "[10053 rows x 9 columns]"
      ]
     },
     "execution_count": 4,
     "metadata": {},
     "output_type": "execute_result"
    }
   ],
   "source": [
    "# keeping only numerical features for this test\n",
    "features_to_delete = ['postcode', 'house_is', 'property_subtype', 'equipped_kitchen_has', 'furnished', 'open_fire', 'terrace', 'terrace_area', 'garden', 'garden_area', 'facades_number', 'swimming_pool_has', 'region', 'building_state_agg']\n",
    "df.drop(features_to_delete, axis=1, inplace=True)\n",
    "df"
   ]
  },
  {
   "cell_type": "code",
   "execution_count": 5,
   "metadata": {},
   "outputs": [
    {
     "data": {
      "text/html": [
       "<div>\n",
       "<style scoped>\n",
       "    .dataframe tbody tr th:only-of-type {\n",
       "        vertical-align: middle;\n",
       "    }\n",
       "\n",
       "    .dataframe tbody tr th {\n",
       "        vertical-align: top;\n",
       "    }\n",
       "\n",
       "    .dataframe thead th {\n",
       "        text-align: right;\n",
       "    }\n",
       "</style>\n",
       "<table border=\"1\" class=\"dataframe\">\n",
       "  <thead>\n",
       "    <tr style=\"text-align: right;\">\n",
       "      <th></th>\n",
       "      <th>price</th>\n",
       "      <th>rooms_number</th>\n",
       "      <th>area</th>\n",
       "      <th>land_surface</th>\n",
       "      <th>postcode_median_price</th>\n",
       "      <th>building_state_median_price</th>\n",
       "      <th>property_subtype_median_price</th>\n",
       "      <th>building_property_subtype_median_facades</th>\n",
       "      <th>property_subtype_median_facades</th>\n",
       "    </tr>\n",
       "  </thead>\n",
       "  <tbody>\n",
       "    <tr>\n",
       "      <th>0</th>\n",
       "      <td>295000.0</td>\n",
       "      <td>3.0</td>\n",
       "      <td>242.0</td>\n",
       "      <td>1403.0</td>\n",
       "      <td>229000.0</td>\n",
       "      <td>320000.0</td>\n",
       "      <td>310000.0</td>\n",
       "      <td>2.0</td>\n",
       "      <td>2.0</td>\n",
       "    </tr>\n",
       "    <tr>\n",
       "      <th>1</th>\n",
       "      <td>675000.0</td>\n",
       "      <td>4.0</td>\n",
       "      <td>349.0</td>\n",
       "      <td>1526.0</td>\n",
       "      <td>241000.0</td>\n",
       "      <td>320000.0</td>\n",
       "      <td>540000.0</td>\n",
       "      <td>4.0</td>\n",
       "      <td>4.0</td>\n",
       "    </tr>\n",
       "    <tr>\n",
       "      <th>3</th>\n",
       "      <td>545000.0</td>\n",
       "      <td>4.0</td>\n",
       "      <td>235.0</td>\n",
       "      <td>63.0</td>\n",
       "      <td>445000.0</td>\n",
       "      <td>310000.0</td>\n",
       "      <td>288000.0</td>\n",
       "      <td>3.0</td>\n",
       "      <td>3.0</td>\n",
       "    </tr>\n",
       "    <tr>\n",
       "      <th>4</th>\n",
       "      <td>500000.0</td>\n",
       "      <td>2.0</td>\n",
       "      <td>220.0</td>\n",
       "      <td>193.0</td>\n",
       "      <td>360000.0</td>\n",
       "      <td>320000.0</td>\n",
       "      <td>310000.0</td>\n",
       "      <td>2.0</td>\n",
       "      <td>2.0</td>\n",
       "    </tr>\n",
       "    <tr>\n",
       "      <th>5</th>\n",
       "      <td>189000.0</td>\n",
       "      <td>3.0</td>\n",
       "      <td>200.0</td>\n",
       "      <td>100.0</td>\n",
       "      <td>229000.0</td>\n",
       "      <td>230000.0</td>\n",
       "      <td>288000.0</td>\n",
       "      <td>3.0</td>\n",
       "      <td>3.0</td>\n",
       "    </tr>\n",
       "    <tr>\n",
       "      <th>...</th>\n",
       "      <td>...</td>\n",
       "      <td>...</td>\n",
       "      <td>...</td>\n",
       "      <td>...</td>\n",
       "      <td>...</td>\n",
       "      <td>...</td>\n",
       "      <td>...</td>\n",
       "      <td>...</td>\n",
       "      <td>...</td>\n",
       "    </tr>\n",
       "    <tr>\n",
       "      <th>10048</th>\n",
       "      <td>245000.0</td>\n",
       "      <td>2.0</td>\n",
       "      <td>103.0</td>\n",
       "      <td>0.0</td>\n",
       "      <td>225000.0</td>\n",
       "      <td>320000.0</td>\n",
       "      <td>282500.0</td>\n",
       "      <td>2.0</td>\n",
       "      <td>2.0</td>\n",
       "    </tr>\n",
       "    <tr>\n",
       "      <th>10049</th>\n",
       "      <td>250000.0</td>\n",
       "      <td>1.0</td>\n",
       "      <td>300.0</td>\n",
       "      <td>0.0</td>\n",
       "      <td>257000.0</td>\n",
       "      <td>320000.0</td>\n",
       "      <td>282500.0</td>\n",
       "      <td>2.0</td>\n",
       "      <td>2.0</td>\n",
       "    </tr>\n",
       "    <tr>\n",
       "      <th>10050</th>\n",
       "      <td>298000.0</td>\n",
       "      <td>1.0</td>\n",
       "      <td>71.0</td>\n",
       "      <td>0.0</td>\n",
       "      <td>443475.0</td>\n",
       "      <td>320000.0</td>\n",
       "      <td>282500.0</td>\n",
       "      <td>2.0</td>\n",
       "      <td>2.0</td>\n",
       "    </tr>\n",
       "    <tr>\n",
       "      <th>10051</th>\n",
       "      <td>150000.0</td>\n",
       "      <td>1.0</td>\n",
       "      <td>40.0</td>\n",
       "      <td>0.0</td>\n",
       "      <td>497000.0</td>\n",
       "      <td>230000.0</td>\n",
       "      <td>149000.0</td>\n",
       "      <td>2.0</td>\n",
       "      <td>2.0</td>\n",
       "    </tr>\n",
       "    <tr>\n",
       "      <th>10052</th>\n",
       "      <td>228009.0</td>\n",
       "      <td>2.0</td>\n",
       "      <td>80.0</td>\n",
       "      <td>0.0</td>\n",
       "      <td>299000.0</td>\n",
       "      <td>320000.0</td>\n",
       "      <td>282500.0</td>\n",
       "      <td>2.0</td>\n",
       "      <td>2.0</td>\n",
       "    </tr>\n",
       "  </tbody>\n",
       "</table>\n",
       "<p>8823 rows × 9 columns</p>\n",
       "</div>"
      ],
      "text/plain": [
       "          price  rooms_number   area  land_surface  postcode_median_price  \\\n",
       "0      295000.0           3.0  242.0        1403.0               229000.0   \n",
       "1      675000.0           4.0  349.0        1526.0               241000.0   \n",
       "3      545000.0           4.0  235.0          63.0               445000.0   \n",
       "4      500000.0           2.0  220.0         193.0               360000.0   \n",
       "5      189000.0           3.0  200.0         100.0               229000.0   \n",
       "...         ...           ...    ...           ...                    ...   \n",
       "10048  245000.0           2.0  103.0           0.0               225000.0   \n",
       "10049  250000.0           1.0  300.0           0.0               257000.0   \n",
       "10050  298000.0           1.0   71.0           0.0               443475.0   \n",
       "10051  150000.0           1.0   40.0           0.0               497000.0   \n",
       "10052  228009.0           2.0   80.0           0.0               299000.0   \n",
       "\n",
       "       building_state_median_price  property_subtype_median_price  \\\n",
       "0                         320000.0                       310000.0   \n",
       "1                         320000.0                       540000.0   \n",
       "3                         310000.0                       288000.0   \n",
       "4                         320000.0                       310000.0   \n",
       "5                         230000.0                       288000.0   \n",
       "...                            ...                            ...   \n",
       "10048                     320000.0                       282500.0   \n",
       "10049                     320000.0                       282500.0   \n",
       "10050                     320000.0                       282500.0   \n",
       "10051                     230000.0                       149000.0   \n",
       "10052                     320000.0                       282500.0   \n",
       "\n",
       "       building_property_subtype_median_facades  \\\n",
       "0                                           2.0   \n",
       "1                                           4.0   \n",
       "3                                           3.0   \n",
       "4                                           2.0   \n",
       "5                                           3.0   \n",
       "...                                         ...   \n",
       "10048                                       2.0   \n",
       "10049                                       2.0   \n",
       "10050                                       2.0   \n",
       "10051                                       2.0   \n",
       "10052                                       2.0   \n",
       "\n",
       "       property_subtype_median_facades  \n",
       "0                                  2.0  \n",
       "1                                  4.0  \n",
       "3                                  3.0  \n",
       "4                                  2.0  \n",
       "5                                  3.0  \n",
       "...                                ...  \n",
       "10048                              2.0  \n",
       "10049                              2.0  \n",
       "10050                              2.0  \n",
       "10051                              2.0  \n",
       "10052                              2.0  \n",
       "\n",
       "[8823 rows x 9 columns]"
      ]
     },
     "execution_count": 5,
     "metadata": {},
     "output_type": "execute_result"
    }
   ],
   "source": [
    "df.dropna(axis=0, inplace=True)\n",
    "df"
   ]
  },
  {
   "cell_type": "code",
   "execution_count": 6,
   "metadata": {},
   "outputs": [],
   "source": [
    "X = df.loc[:, df.columns != 'price'].to_numpy()\n",
    "y = df['price'].to_numpy()"
   ]
  },
  {
   "cell_type": "code",
   "execution_count": 7,
   "metadata": {},
   "outputs": [],
   "source": [
    "X_train, X_test, y_train, y_test = train_test_split(X, y, random_state=4444, test_size=0.15)"
   ]
  },
  {
   "cell_type": "code",
   "execution_count": 8,
   "metadata": {},
   "outputs": [
    {
     "data": {
      "text/plain": [
       "(array([[3.000e+00, 1.600e+02, 3.506e+03, ..., 2.880e+05, 3.000e+00,\n",
       "         3.000e+00],\n",
       "        [3.000e+00, 1.400e+02, 1.200e+03, ..., 2.880e+05, 3.000e+00,\n",
       "         3.000e+00],\n",
       "        [4.000e+00, 2.300e+02, 3.450e+02, ..., 2.880e+05, 3.000e+00,\n",
       "         3.000e+00],\n",
       "        ...,\n",
       "        [3.000e+00, 1.130e+02, 0.000e+00, ..., 2.825e+05, 2.000e+00,\n",
       "         2.000e+00],\n",
       "        [1.000e+00, 5.900e+01, 0.000e+00, ..., 2.825e+05, 2.000e+00,\n",
       "         2.000e+00],\n",
       "        [2.000e+00, 1.150e+02, 0.000e+00, ..., 2.825e+05, 2.000e+00,\n",
       "         2.000e+00]]),\n",
       " array([699000., 340000., 660000., ..., 545000., 115000., 329000.]),\n",
       " array([[3.000e+00, 1.600e+02, 4.400e+02, ..., 2.880e+05, 3.000e+00,\n",
       "         3.000e+00],\n",
       "        [3.000e+00, 1.900e+02, 0.000e+00, ..., 2.825e+05, 2.000e+00,\n",
       "         2.000e+00],\n",
       "        [2.000e+00, 1.970e+02, 0.000e+00, ..., 2.825e+05, 2.000e+00,\n",
       "         2.000e+00],\n",
       "        ...,\n",
       "        [2.000e+00, 9.100e+01, 0.000e+00, ..., 2.825e+05, 2.000e+00,\n",
       "         2.000e+00],\n",
       "        [4.000e+00, 2.390e+02, 0.000e+00, ..., 2.825e+05, 2.000e+00,\n",
       "         2.000e+00],\n",
       "        [2.000e+00, 1.360e+02, 1.780e+02, ..., 2.880e+05, 3.000e+00,\n",
       "         3.000e+00]]),\n",
       " array([259000., 605000., 849500., ..., 234800., 390000., 135000.]))"
      ]
     },
     "execution_count": 8,
     "metadata": {},
     "output_type": "execute_result"
    }
   ],
   "source": [
    "X_train, y_train, X_test, y_test"
   ]
  },
  {
   "cell_type": "code",
   "execution_count": 9,
   "metadata": {},
   "outputs": [
    {
     "name": "stdout",
     "output_type": "stream",
     "text": [
      "train score:\t0.622664393441485\n",
      "test score:\t0.5996119294391786\n"
     ]
    }
   ],
   "source": [
    "lin_reg = LinearRegression()\n",
    "lin_reg.fit(X_train, y_train)\n",
    "\n",
    "score_train = lin_reg.score(X_train, y_train)\n",
    "score_test = lin_reg.score(X_test, y_test)\n",
    "print(f'train score:\\t{score_train}\\ntest score:\\t{score_test}')"
   ]
  },
  {
   "cell_type": "code",
   "execution_count": 10,
   "metadata": {},
   "outputs": [
    {
     "name": "stdout",
     "output_type": "stream",
     "text": [
      "train score:\t-1.6825276827536592e+27\n",
      "test score:\t-1.7139866341430428e+27\n"
     ]
    }
   ],
   "source": [
    "np.random.seed(4444)\n",
    "\n",
    "sgd_reg = SGDRegressor()\n",
    "sgd_reg.fit(X_train, y_train)\n",
    "score_train = sgd_reg.score(X_train, y_train)\n",
    "score_test = sgd_reg.score(X_test, y_test)\n",
    "print(f'train score:\\t{score_train}\\ntest score:\\t{score_test}')"
   ]
  },
  {
   "cell_type": "code",
   "execution_count": 11,
   "metadata": {},
   "outputs": [
    {
     "name": "stdout",
     "output_type": "stream",
     "text": [
      "train score:\t0.622664393441485\n",
      "test score:\t0.5996119294391709\n"
     ]
    }
   ],
   "source": [
    "degree = 1\n",
    "poly_reg = make_pipeline(PolynomialFeatures(degree), LinearRegression())\n",
    "\n",
    "poly_reg.fit(X_train, y_train)\n",
    "score_train = poly_reg.score(X_train, y_train)\n",
    "score_test = poly_reg.score(X_test, y_test)\n",
    "print(f'train score:\\t{score_train}\\ntest score:\\t{score_test}')"
   ]
  },
  {
   "cell_type": "code",
   "execution_count": 12,
   "metadata": {},
   "outputs": [
    {
     "name": "stdout",
     "output_type": "stream",
     "text": [
      "train score:\t0.6682283307213372\n",
      "test score:\t0.6249500167142847\n"
     ]
    }
   ],
   "source": [
    "degree = 2\n",
    "poly_reg = make_pipeline(PolynomialFeatures(degree), LinearRegression())\n",
    "\n",
    "poly_reg.fit(X_train, y_train)\n",
    "score_train = poly_reg.score(X_train, y_train)\n",
    "score_test = poly_reg.score(X_test, y_test)\n",
    "print(f'train score:\\t{score_train}\\ntest score:\\t{score_test}')"
   ]
  },
  {
   "cell_type": "code",
   "execution_count": 13,
   "metadata": {},
   "outputs": [
    {
     "name": "stdout",
     "output_type": "stream",
     "text": [
      "train score:\t0.6895974654490761\n",
      "test score:\t0.6372879132449001\n"
     ]
    }
   ],
   "source": [
    "degree = 3\n",
    "poly_reg = make_pipeline(PolynomialFeatures(degree), LinearRegression())\n",
    "\n",
    "poly_reg.fit(X_train, y_train)\n",
    "score_train = poly_reg.score(X_train, y_train)\n",
    "score_test = poly_reg.score(X_test, y_test)\n",
    "print(f'train score:\\t{score_train}\\ntest score:\\t{score_test}')"
   ]
  },
  {
   "cell_type": "code",
   "execution_count": 14,
   "metadata": {},
   "outputs": [
    {
     "name": "stdout",
     "output_type": "stream",
     "text": [
      "train score:\t0.6211292368324868\n",
      "test score:\t0.511378986645249\n"
     ]
    }
   ],
   "source": [
    "degree = 4\n",
    "poly_reg = make_pipeline(PolynomialFeatures(degree), LinearRegression())\n",
    "\n",
    "poly_reg.fit(X_train, y_train)\n",
    "score_train = poly_reg.score(X_train, y_train)\n",
    "score_test = poly_reg.score(X_test, y_test)\n",
    "print(f'train score:\\t{score_train}\\ntest score:\\t{score_test}')"
   ]
  },
  {
   "cell_type": "code",
   "execution_count": 15,
   "metadata": {},
   "outputs": [
    {
     "name": "stdout",
     "output_type": "stream",
     "text": [
      "train score:\t0.6514836156621526\n",
      "test score:\t-1.0792504715141975\n"
     ]
    }
   ],
   "source": [
    "degree = 5\n",
    "poly_reg = make_pipeline(PolynomialFeatures(degree), LinearRegression())\n",
    "\n",
    "poly_reg.fit(X_train, y_train)\n",
    "score_train = poly_reg.score(X_train, y_train)\n",
    "score_test = poly_reg.score(X_test, y_test)\n",
    "print(f'train score:\\t{score_train}\\ntest score:\\t{score_test}')"
   ]
  },
  {
   "cell_type": "code",
   "execution_count": 16,
   "metadata": {},
   "outputs": [
    {
     "name": "stdout",
     "output_type": "stream",
     "text": [
      "train score:\t0.6422191151653852\n",
      "test score:\t-0.6085339775533738\n"
     ]
    }
   ],
   "source": [
    "degree = 6\n",
    "poly_reg = make_pipeline(PolynomialFeatures(degree), LinearRegression())\n",
    "\n",
    "poly_reg.fit(X_train, y_train)\n",
    "score_train = poly_reg.score(X_train, y_train)\n",
    "score_test = poly_reg.score(X_test, y_test)\n",
    "print(f'train score:\\t{score_train}\\ntest score:\\t{score_test}')"
   ]
  },
  {
   "cell_type": "code",
   "execution_count": 17,
   "metadata": {},
   "outputs": [
    {
     "data": {
      "text/plain": [
       "{'memory': None,\n",
       " 'steps': [('polynomialfeatures', PolynomialFeatures(degree=6)),\n",
       "  ('linearregression', LinearRegression())],\n",
       " 'verbose': False,\n",
       " 'polynomialfeatures': PolynomialFeatures(degree=6),\n",
       " 'linearregression': LinearRegression(),\n",
       " 'polynomialfeatures__degree': 6,\n",
       " 'polynomialfeatures__include_bias': True,\n",
       " 'polynomialfeatures__interaction_only': False,\n",
       " 'polynomialfeatures__order': 'C',\n",
       " 'linearregression__copy_X': True,\n",
       " 'linearregression__fit_intercept': True,\n",
       " 'linearregression__n_jobs': None,\n",
       " 'linearregression__normalize': False}"
      ]
     },
     "execution_count": 17,
     "metadata": {},
     "output_type": "execute_result"
    }
   ],
   "source": [
    "poly_reg.get_params()"
   ]
  },
  {
   "cell_type": "code",
   "execution_count": 18,
   "metadata": {},
   "outputs": [],
   "source": [
    "pipe = make_pipeline(PolynomialFeatures(), LinearRegression())"
   ]
  },
  {
   "cell_type": "code",
   "execution_count": 19,
   "metadata": {},
   "outputs": [],
   "source": [
    "np.random.seed(4)\n",
    "degree_range = np.arange(1,5)\n",
    "k = 5\n",
    "train_scores, valid_scores = validation_curve(pipe,\n",
    "                                              X_train, y_train,\n",
    "                                              param_name='polynomialfeatures__degree',\n",
    "                                              param_range=degree_range,\n",
    "                                              cv=k)"
   ]
  },
  {
   "cell_type": "code",
   "execution_count": 20,
   "metadata": {},
   "outputs": [
    {
     "data": {
      "text/plain": [
       "[<matplotlib.lines.Line2D at 0x7fd88f12cfa0>,\n",
       " <matplotlib.lines.Line2D at 0x7fd88f138040>,\n",
       " <matplotlib.lines.Line2D at 0x7fd88f138160>,\n",
       " <matplotlib.lines.Line2D at 0x7fd88f1381f0>,\n",
       " <matplotlib.lines.Line2D at 0x7fd88f1382b0>]"
      ]
     },
     "execution_count": 20,
     "metadata": {},
     "output_type": "execute_result"
    },
    {
     "data": {
      "image/png": "[encoded data removed]",
      "text/plain": [
       "<Figure size 432x288 with 1 Axes>"
      ]
     },
     "metadata": {
      "needs_background": "light"
     },
     "output_type": "display_data"
    }
   ],
   "source": [
    "plt.plot(degree_range, train_scores,  marker='o', linestyle='--')"
   ]
  },
  {
   "cell_type": "code",
   "execution_count": 21,
   "metadata": {},
   "outputs": [],
   "source": [
    "train_scores_mean = np.mean(train_scores, axis=1)\n",
    "train_scores_std = np.std(train_scores, axis=1)\n",
    "valid_scores_mean = np.mean(valid_scores, axis=1)\n",
    "valid_scores_std = np.std(valid_scores, axis=1)"
   ]
  },
  {
   "cell_type": "code",
   "execution_count": 22,
   "metadata": {},
   "outputs": [
    {
     "data": {
      "text/plain": [
       "Text(0.5, 1.0, 'Validation Curve with Polynomial Regression\\n5-fold Cross-Validation')"
      ]
     },
     "execution_count": 22,
     "metadata": {},
     "output_type": "execute_result"
    },
    {
     "data": {
      "image/png": "[encoded data removed]",
      "text/plain": [
       "<Figure size 432x288 with 1 Axes>"
      ]
     },
     "metadata": {
      "needs_background": "light"
     },
     "output_type": "display_data"
    }
   ],
   "source": [
    "plt.plot(degree_range, train_scores_mean, color=\"darkorange\",   marker='o', linestyle='--', label= 'Training score')\n",
    "plt.fill_between(degree_range, train_scores_mean - train_scores_std,\n",
    "                 train_scores_mean + train_scores_std, alpha=0.2,\n",
    "                 color=\"darkorange\")\n",
    "plt.plot(degree_range, valid_scores_mean, color=\"navy\",   marker='o', linestyle='--', label='Cross-validation score')\n",
    "plt.fill_between(degree_range, valid_scores_mean - valid_scores_std,\n",
    "                 valid_scores_mean + valid_scores_std, alpha=0.2,\n",
    "                 color=\"navy\")\n",
    "plt.xticks(degree_range)\n",
    "plt.xlabel('Polynomial Regression Degree')\n",
    "plt.ylabel('R² Score')\n",
    "plt.legend(loc='best')\n",
    "plt.title(f'Validation Curve with Polynomial Regression\\n{k}-fold Cross-Validation')"
   ]
  },
  {
   "cell_type": "code",
   "execution_count": 23,
   "metadata": {},
   "outputs": [
    {
     "data": {
      "text/plain": [
       "array([0.62278922, 0.66901599, 0.69146578, 0.52046092])"
      ]
     },
     "execution_count": 23,
     "metadata": {},
     "output_type": "execute_result"
    }
   ],
   "source": [
    "train_scores_mean"
   ]
  },
  {
   "cell_type": "code",
   "execution_count": 24,
   "metadata": {},
   "outputs": [
    {
     "data": {
      "text/plain": [
       "array([0.62144376, 0.66113944, 0.6629577 , 0.05930866])"
      ]
     },
     "execution_count": 24,
     "metadata": {},
     "output_type": "execute_result"
    }
   ],
   "source": [
    "valid_scores_mean"
   ]
  },
  {
   "cell_type": "code",
   "execution_count": 25,
   "metadata": {},
   "outputs": [],
   "source": [
    "from sklearn.preprocessing import StandardScaler, RobustScaler"
   ]
  },
  {
   "cell_type": "code",
   "execution_count": 26,
   "metadata": {},
   "outputs": [
    {
     "name": "stdout",
     "output_type": "stream",
     "text": [
      "train score:\t0.622664393441485\n",
      "test score:\t0.5996119294391722\n"
     ]
    }
   ],
   "source": [
    "degree = 1\n",
    "poly_reg = make_pipeline(RobustScaler(), PolynomialFeatures(degree), LinearRegression())\n",
    "\n",
    "poly_reg.fit(X_train, y_train)\n",
    "score_train = poly_reg.score(X_train, y_train)\n",
    "score_test = poly_reg.score(X_test, y_test)\n",
    "print(f'train score:\\t{score_train}\\ntest score:\\t{score_test}')"
   ]
  },
  {
   "cell_type": "code",
   "execution_count": 27,
   "metadata": {},
   "outputs": [
    {
     "name": "stdout",
     "output_type": "stream",
     "text": [
      "train score:\t0.6682283307265734\n",
      "test score:\t0.6249502459933942\n"
     ]
    }
   ],
   "source": [
    "degree = 2\n",
    "poly_reg = make_pipeline(RobustScaler(), PolynomialFeatures(degree), LinearRegression())\n",
    "\n",
    "poly_reg.fit(X_train, y_train)\n",
    "score_train = poly_reg.score(X_train, y_train)\n",
    "score_test = poly_reg.score(X_test, y_test)\n",
    "print(f'train score:\\t{score_train}\\ntest score:\\t{score_test}')"
   ]
  },
  {
   "cell_type": "code",
   "execution_count": 28,
   "metadata": {},
   "outputs": [
    {
     "name": "stdout",
     "output_type": "stream",
     "text": [
      "train score:\t0.6932632713697555\n",
      "test score:\t0.6371303041402068\n"
     ]
    }
   ],
   "source": [
    "degree = 3\n",
    "poly_reg = make_pipeline(RobustScaler(), PolynomialFeatures(degree), LinearRegression())\n",
    "\n",
    "poly_reg.fit(X_train, y_train)\n",
    "score_train = poly_reg.score(X_train, y_train)\n",
    "score_test = poly_reg.score(X_test, y_test)\n",
    "print(f'train score:\\t{score_train}\\ntest score:\\t{score_test}')"
   ]
  },
  {
   "cell_type": "code",
   "execution_count": 29,
   "metadata": {},
   "outputs": [
    {
     "name": "stdout",
     "output_type": "stream",
     "text": [
      "train score:\t0.7234639469717667\n",
      "test score:\t0.6138148358690403\n"
     ]
    }
   ],
   "source": [
    "degree = 4\n",
    "poly_reg = make_pipeline(RobustScaler(), PolynomialFeatures(degree), LinearRegression())\n",
    "\n",
    "poly_reg.fit(X_train, y_train)\n",
    "score_train = poly_reg.score(X_train, y_train)\n",
    "score_test = poly_reg.score(X_test, y_test)\n",
    "print(f'train score:\\t{score_train}\\ntest score:\\t{score_test}')"
   ]
  },
  {
   "cell_type": "code",
   "execution_count": 30,
   "metadata": {},
   "outputs": [
    {
     "name": "stdout",
     "output_type": "stream",
     "text": [
      "train score:\t0.7600569997522562\n",
      "test score:\t-109.5549067828896\n"
     ]
    }
   ],
   "source": [
    "degree = 5\n",
    "poly_reg = make_pipeline(RobustScaler(), PolynomialFeatures(degree), LinearRegression())\n",
    "\n",
    "poly_reg.fit(X_train, y_train)\n",
    "score_train = poly_reg.score(X_train, y_train)\n",
    "score_test = poly_reg.score(X_test, y_test)\n",
    "print(f'train score:\\t{score_train}\\ntest score:\\t{score_test}')"
   ]
  },
  {
   "cell_type": "code",
   "execution_count": 31,
   "metadata": {},
   "outputs": [
    {
     "name": "stdout",
     "output_type": "stream",
     "text": [
      "train score:\t0.7976867888982464\n",
      "test score:\t-2590675.0303500327\n"
     ]
    }
   ],
   "source": [
    "degree = 6\n",
    "poly_reg = make_pipeline(RobustScaler(), PolynomialFeatures(degree), LinearRegression())\n",
    "\n",
    "poly_reg.fit(X_train, y_train)\n",
    "score_train = poly_reg.score(X_train, y_train)\n",
    "score_test = poly_reg.score(X_test, y_test)\n",
    "print(f'train score:\\t{score_train}\\ntest score:\\t{score_test}')"
   ]
  },
  {
   "cell_type": "code",
   "execution_count": 32,
   "metadata": {},
   "outputs": [],
   "source": [
    "pipe = make_pipeline(RobustScaler(), PolynomialFeatures(), LinearRegression())\n",
    "np.random.seed(4)\n",
    "degree_range = np.arange(1,5)\n",
    "k = 5\n",
    "train_scores, valid_scores = validation_curve(pipe,\n",
    "                                              X_train, y_train,\n",
    "                                              param_name='polynomialfeatures__degree',\n",
    "                                              param_range=degree_range,\n",
    "                                              cv=k)"
   ]
  },
  {
   "cell_type": "code",
   "execution_count": 33,
   "metadata": {},
   "outputs": [
    {
     "data": {
      "text/plain": [
       "[<matplotlib.lines.Line2D at 0x7fd88efcfb20>,\n",
       " <matplotlib.lines.Line2D at 0x7fd88efcfb80>,\n",
       " <matplotlib.lines.Line2D at 0x7fd88efcfc10>,\n",
       " <matplotlib.lines.Line2D at 0x7fd88efcfd00>,\n",
       " <matplotlib.lines.Line2D at 0x7fd88efcfdc0>]"
      ]
     },
     "execution_count": 33,
     "metadata": {},
     "output_type": "execute_result"
    },
    {
     "data": {
      "image/png": "[encoded data removed]",
      "text/plain": [
       "<Figure size 432x288 with 1 Axes>"
      ]
     },
     "metadata": {
      "needs_background": "light"
     },
     "output_type": "display_data"
    }
   ],
   "source": [
    "plt.plot(degree_range, train_scores,  marker='o', linestyle='--')"
   ]
  },
  {
   "cell_type": "code",
   "execution_count": 34,
   "metadata": {},
   "outputs": [],
   "source": [
    "train_scores_mean = np.mean(train_scores, axis=1)\n",
    "train_scores_std = np.std(train_scores, axis=1)\n",
    "valid_scores_mean = np.mean(valid_scores, axis=1)\n",
    "valid_scores_std = np.std(valid_scores, axis=1)"
   ]
  },
  {
   "cell_type": "code",
   "execution_count": 35,
   "metadata": {},
   "outputs": [
    {
     "data": {
      "text/plain": [
       "Text(0.5, 1.0, 'Validation Curve with Polynomial Regression\\n5-fold Cross-Validation')"
      ]
     },
     "execution_count": 35,
     "metadata": {},
     "output_type": "execute_result"
    },
    {
     "data": {
      "image/png": "[encoded data removed]",
      "text/plain": [
       "<Figure size 432x288 with 1 Axes>"
      ]
     },
     "metadata": {
      "needs_background": "light"
     },
     "output_type": "display_data"
    }
   ],
   "source": [
    "plt.plot(degree_range, train_scores_mean, color=\"darkorange\",   marker='o', linestyle='--', label= 'Training score')\n",
    "plt.fill_between(degree_range, train_scores_mean - train_scores_std,\n",
    "                 train_scores_mean + train_scores_std, alpha=0.2,\n",
    "                 color=\"darkorange\")\n",
    "plt.plot(degree_range, valid_scores_mean, color=\"navy\",   marker='o', linestyle='--', label='Cross-validation score')\n",
    "plt.fill_between(degree_range, valid_scores_mean - valid_scores_std,\n",
    "                 valid_scores_mean + valid_scores_std, alpha=0.2,\n",
    "                 color=\"navy\")\n",
    "plt.xticks(degree_range)\n",
    "plt.xlabel('Polynomial Regression Degree')\n",
    "plt.ylabel('R² Score')\n",
    "plt.legend(loc='best')\n",
    "plt.title(f'Validation Curve with Polynomial Regression\\n{k}-fold Cross-Validation')"
   ]
  },
  {
   "cell_type": "code",
   "execution_count": 36,
   "metadata": {},
   "outputs": [
    {
     "data": {
      "text/plain": [
       "array([0.62278922, 0.66901599, 0.68735651, 0.61421557])"
      ]
     },
     "execution_count": 36,
     "metadata": {},
     "output_type": "execute_result"
    }
   ],
   "source": [
    "train_scores_mean"
   ]
  },
  {
   "cell_type": "code",
   "execution_count": 37,
   "metadata": {},
   "outputs": [
    {
     "data": {
      "text/plain": [
       "array([0.62144376, 0.66113959, 0.65428577, 0.402087  ])"
      ]
     },
     "execution_count": 37,
     "metadata": {},
     "output_type": "execute_result"
    }
   ],
   "source": [
    "valid_scores_mean"
   ]
  },
  {
   "cell_type": "code",
   "execution_count": 38,
   "metadata": {},
   "outputs": [
    {
     "data": {
      "text/plain": [
       "array([[3.000e+00, 1.600e+02, 3.506e+03, ..., 2.880e+05, 3.000e+00,\n",
       "        3.000e+00],\n",
       "       [3.000e+00, 1.400e+02, 1.200e+03, ..., 2.880e+05, 3.000e+00,\n",
       "        3.000e+00],\n",
       "       [4.000e+00, 2.300e+02, 3.450e+02, ..., 2.880e+05, 3.000e+00,\n",
       "        3.000e+00],\n",
       "       ...,\n",
       "       [3.000e+00, 1.130e+02, 0.000e+00, ..., 2.825e+05, 2.000e+00,\n",
       "        2.000e+00],\n",
       "       [1.000e+00, 5.900e+01, 0.000e+00, ..., 2.825e+05, 2.000e+00,\n",
       "        2.000e+00],\n",
       "       [2.000e+00, 1.150e+02, 0.000e+00, ..., 2.825e+05, 2.000e+00,\n",
       "        2.000e+00]])"
      ]
     },
     "execution_count": 38,
     "metadata": {},
     "output_type": "execute_result"
    }
   ],
   "source": [
    "X_train"
   ]
  },
  {
   "cell_type": "code",
   "execution_count": 39,
   "metadata": {},
   "outputs": [
    {
     "name": "stdout",
     "output_type": "stream",
     "text": [
      "train score:\t0.622664393441485\n",
      "test score:\t0.5996119294391722\n"
     ]
    }
   ],
   "source": [
    "degree = 1\n",
    "poly_reg = make_pipeline(PolynomialFeatures(degree), RobustScaler(), LinearRegression())\n",
    "\n",
    "poly_reg.fit(X_train, y_train)\n",
    "score_train = poly_reg.score(X_train, y_train)\n",
    "score_test = poly_reg.score(X_test, y_test)\n",
    "print(f'train score:\\t{score_train}\\ntest score:\\t{score_test}')"
   ]
  },
  {
   "cell_type": "code",
   "execution_count": 40,
   "metadata": {},
   "outputs": [
    {
     "name": "stdout",
     "output_type": "stream",
     "text": [
      "train score:\t0.6682283307265735\n",
      "test score:\t0.6249502459933964\n"
     ]
    }
   ],
   "source": [
    "degree = 2\n",
    "poly_reg = make_pipeline(PolynomialFeatures(degree), RobustScaler(), LinearRegression())\n",
    "\n",
    "poly_reg.fit(X_train, y_train)\n",
    "score_train = poly_reg.score(X_train, y_train)\n",
    "score_test = poly_reg.score(X_test, y_test)\n",
    "print(f'train score:\\t{score_train}\\ntest score:\\t{score_test}')"
   ]
  },
  {
   "cell_type": "code",
   "execution_count": 41,
   "metadata": {},
   "outputs": [
    {
     "name": "stdout",
     "output_type": "stream",
     "text": [
      "train score:\t0.6932632713697553\n",
      "test score:\t0.6371303041399254\n"
     ]
    }
   ],
   "source": [
    "degree = 3\n",
    "poly_reg = make_pipeline(PolynomialFeatures(degree), RobustScaler(), LinearRegression())\n",
    "\n",
    "poly_reg.fit(X_train, y_train)\n",
    "score_train = poly_reg.score(X_train, y_train)\n",
    "score_test = poly_reg.score(X_test, y_test)\n",
    "print(f'train score:\\t{score_train}\\ntest score:\\t{score_test}')"
   ]
  },
  {
   "cell_type": "code",
   "execution_count": 42,
   "metadata": {},
   "outputs": [
    {
     "name": "stdout",
     "output_type": "stream",
     "text": [
      "train score:\t0.7234639469717683\n",
      "test score:\t0.6138148358889856\n"
     ]
    }
   ],
   "source": [
    "degree = 4\n",
    "poly_reg = make_pipeline(PolynomialFeatures(degree), RobustScaler(), LinearRegression())\n",
    "\n",
    "poly_reg.fit(X_train, y_train)\n",
    "score_train = poly_reg.score(X_train, y_train)\n",
    "score_test = poly_reg.score(X_test, y_test)\n",
    "print(f'train score:\\t{score_train}\\ntest score:\\t{score_test}')"
   ]
  },
  {
   "cell_type": "code",
   "execution_count": 43,
   "metadata": {},
   "outputs": [
    {
     "name": "stdout",
     "output_type": "stream",
     "text": [
      "train score:\t0.7600569997520485\n",
      "test score:\t-45.56915304029611\n"
     ]
    }
   ],
   "source": [
    "degree = 5\n",
    "poly_reg = make_pipeline(PolynomialFeatures(degree), RobustScaler(), LinearRegression())\n",
    "\n",
    "poly_reg.fit(X_train, y_train)\n",
    "score_train = poly_reg.score(X_train, y_train)\n",
    "score_test = poly_reg.score(X_test, y_test)\n",
    "print(f'train score:\\t{score_train}\\ntest score:\\t{score_test}')"
   ]
  },
  {
   "cell_type": "code",
   "execution_count": 44,
   "metadata": {},
   "outputs": [
    {
     "name": "stdout",
     "output_type": "stream",
     "text": [
      "train score:\t0.7976890003824464\n",
      "test score:\t-3377004.269373651\n"
     ]
    }
   ],
   "source": [
    "degree = 6\n",
    "poly_reg = make_pipeline(PolynomialFeatures(degree), RobustScaler(), LinearRegression())\n",
    "\n",
    "poly_reg.fit(X_train, y_train)\n",
    "score_train = poly_reg.score(X_train, y_train)\n",
    "score_test = poly_reg.score(X_test, y_test)\n",
    "print(f'train score:\\t{score_train}\\ntest score:\\t{score_test}')"
   ]
  },
  {
   "cell_type": "code",
   "execution_count": 51,
   "metadata": {},
   "outputs": [],
   "source": [
    "pipe = make_pipeline(PolynomialFeatures(), RobustScaler(),LinearRegression())\n",
    "np.random.seed(4)\n",
    "degree_range = np.arange(1,5)\n",
    "k = 5\n",
    "train_scores, valid_scores = validation_curve(pipe,\n",
    "                                              X_train, y_train,\n",
    "                                              param_name='polynomialfeatures__degree',\n",
    "                                              param_range=degree_range,\n",
    "                                              cv=k)"
   ]
  },
  {
   "cell_type": "code",
   "execution_count": 52,
   "metadata": {},
   "outputs": [
    {
     "data": {
      "text/plain": [
       "[<matplotlib.lines.Line2D at 0x7fd88e870d00>,\n",
       " <matplotlib.lines.Line2D at 0x7fd88e870d60>,\n",
       " <matplotlib.lines.Line2D at 0x7fd88e870df0>,\n",
       " <matplotlib.lines.Line2D at 0x7fd88e870ee0>,\n",
       " <matplotlib.lines.Line2D at 0x7fd88e870fa0>]"
      ]
     },
     "execution_count": 52,
     "metadata": {},
     "output_type": "execute_result"
    },
    {
     "data": {
      "image/png": "[encoded data removed]",
      "text/plain": [
       "<Figure size 432x288 with 1 Axes>"
      ]
     },
     "metadata": {
      "needs_background": "light"
     },
     "output_type": "display_data"
    }
   ],
   "source": [
    "plt.plot(degree_range, train_scores,  marker='o', linestyle='--')"
   ]
  },
  {
   "cell_type": "code",
   "execution_count": 53,
   "metadata": {},
   "outputs": [],
   "source": [
    "train_scores_mean = np.mean(train_scores, axis=1)\n",
    "train_scores_std = np.std(train_scores, axis=1)\n",
    "valid_scores_mean = np.mean(valid_scores, axis=1)\n",
    "valid_scores_std = np.std(valid_scores, axis=1)"
   ]
  },
  {
   "cell_type": "code",
   "execution_count": 54,
   "metadata": {},
   "outputs": [
    {
     "data": {
      "text/plain": [
       "Text(0.5, 1.0, 'Validation Curve with Polynomial Regression\\n5-fold Cross-Validation')"
      ]
     },
     "execution_count": 54,
     "metadata": {},
     "output_type": "execute_result"
    },
    {
     "data": {
      "image/png": "[encoded data removed]",
      "text/plain": [
       "<Figure size 432x288 with 1 Axes>"
      ]
     },
     "metadata": {
      "needs_background": "light"
     },
     "output_type": "display_data"
    }
   ],
   "source": [
    "plt.plot(degree_range, train_scores_mean, color=\"darkorange\",   marker='o', linestyle='--', label= 'Training score')\n",
    "plt.fill_between(degree_range, train_scores_mean - train_scores_std,\n",
    "                 train_scores_mean + train_scores_std, alpha=0.2,\n",
    "                 color=\"darkorange\")\n",
    "plt.plot(degree_range, valid_scores_mean, color=\"navy\",   marker='o', linestyle='--', label='Cross-validation score')\n",
    "plt.fill_between(degree_range, valid_scores_mean - valid_scores_std,\n",
    "                 valid_scores_mean + valid_scores_std, alpha=0.2,\n",
    "                 color=\"navy\")\n",
    "plt.xticks(degree_range)\n",
    "plt.xlabel('Polynomial Regression Degree')\n",
    "plt.ylabel('R² Score')\n",
    "plt.legend(loc='best')\n",
    "plt.title(f'Validation Curve with Polynomial Regression\\n{k}-fold Cross-Validation')"
   ]
  },
  {
   "cell_type": "code",
   "execution_count": 55,
   "metadata": {},
   "outputs": [
    {
     "data": {
      "text/plain": [
       "array([0.62278922, 0.66901599, 0.67946059, 0.59066265])"
      ]
     },
     "execution_count": 55,
     "metadata": {},
     "output_type": "execute_result"
    }
   ],
   "source": [
    "train_scores_mean"
   ]
  },
  {
   "cell_type": "code",
   "execution_count": 56,
   "metadata": {},
   "outputs": [
    {
     "data": {
      "text/plain": [
       "array([0.62144376, 0.6611396 , 0.6501104 , 0.42038839])"
      ]
     },
     "execution_count": 56,
     "metadata": {},
     "output_type": "execute_result"
    }
   ],
   "source": [
    "valid_scores_mean"
   ]
  },
  {
   "cell_type": "code",
   "execution_count": 62,
   "metadata": {},
   "outputs": [
    {
     "data": {
      "text/plain": [
       "0.5929125708701279"
      ]
     },
     "execution_count": 62,
     "metadata": {},
     "output_type": "execute_result"
    }
   ],
   "source": [
    "from sklearn.model_selection import cross_val_score\n",
    "pipe = make_pipeline(PolynomialFeatures(degree=1), RobustScaler(),LinearRegression())\n",
    "scores = cross_val_score(pipe, X, y, cv=5)\n",
    "np.mean(scores)"
   ]
  },
  {
   "cell_type": "code",
   "execution_count": 63,
   "metadata": {},
   "outputs": [
    {
     "data": {
      "text/plain": [
       "0.627983505971484"
      ]
     },
     "execution_count": 63,
     "metadata": {},
     "output_type": "execute_result"
    }
   ],
   "source": [
    "from sklearn.model_selection import cross_val_score\n",
    "pipe = make_pipeline(PolynomialFeatures(degree=2), RobustScaler(),LinearRegression())\n",
    "scores = cross_val_score(pipe, X, y, cv=5)\n",
    "np.mean(scores)"
   ]
  },
  {
   "cell_type": "code",
   "execution_count": 64,
   "metadata": {},
   "outputs": [
    {
     "data": {
      "text/plain": [
       "0.6450558929005877"
      ]
     },
     "execution_count": 64,
     "metadata": {},
     "output_type": "execute_result"
    }
   ],
   "source": [
    "from sklearn.model_selection import cross_val_score\n",
    "pipe = make_pipeline(PolynomialFeatures(degree=3), RobustScaler(),LinearRegression())\n",
    "scores = cross_val_score(pipe, X, y, cv=5)\n",
    "np.mean(scores)"
   ]
  },
  {
   "cell_type": "code",
   "execution_count": 67,
   "metadata": {},
   "outputs": [
    {
     "data": {
      "text/plain": [
       "-147.71819619226127"
      ]
     },
     "execution_count": 67,
     "metadata": {},
     "output_type": "execute_result"
    }
   ],
   "source": [
    "from sklearn.model_selection import cross_val_score\n",
    "pipe = make_pipeline(PolynomialFeatures(degree=5), RobustScaler(),LinearRegression())\n",
    "scores = cross_val_score(pipe, X, y, cv=5)\n",
    "np.mean(scores)"
   ]
  },
  {
   "cell_type": "code",
   "execution_count": null,
   "metadata": {},
   "outputs": [],
   "source": []
  }
 ],
 "metadata": {
  "kernelspec": {
   "display_name": "Python 3",
   "language": "python",
   "name": "python3"
  },
  "language_info": {
   "codemirror_mode": {
    "name": "ipython",
    "version": 3
   },
   "file_extension": ".py",
   "mimetype": "text/x-python",
   "name": "python",
   "nbconvert_exporter": "python",
   "pygments_lexer": "ipython3",
   "version": "3.8.3"
  }
 },
 "nbformat": 4,
 "nbformat_minor": 4
}
