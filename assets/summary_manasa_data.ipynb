{
 "cells": [
  {
   "cell_type": "code",
   "execution_count": 1,
   "metadata": {},
   "outputs": [],
   "source": [
    "import pandas as pd\n",
    "import numpy as np\n",
    "import matplotlib.pyplot as plt\n",
    "from sklearn.preprocessing import PolynomialFeatures, RobustScaler\n",
    "from sklearn.linear_model import LinearRegression, SGDRegressor\n",
    "from sklearn.pipeline import make_pipeline\n",
    "from sklearn.model_selection import train_test_split, validation_curve"
   ]
  },
  {
   "cell_type": "code",
   "execution_count": 2,
   "metadata": {},
   "outputs": [],
   "source": [
    "df = pd.read_csv('Clean_House_Data.csv')\n",
    "# df"
   ]
  },
  {
   "cell_type": "code",
   "execution_count": 3,
   "metadata": {},
   "outputs": [],
   "source": [
    "# print(df.columns, len(df.columns))\n",
    "df.dropna(axis=1, inplace=True)\n",
    "# print(df.columns, len(df.columns))\n"
   ]
  },
  {
   "cell_type": "code",
   "execution_count": 4,
   "metadata": {},
   "outputs": [],
   "source": [
    "# df.dtypes"
   ]
  },
  {
   "cell_type": "code",
   "execution_count": 5,
   "metadata": {},
   "outputs": [],
   "source": [
    "X = df.loc[:, df.columns != 'price'].to_numpy()\n",
    "y = df['price'].to_numpy()"
   ]
  },
  {
   "cell_type": "code",
   "execution_count": 79,
   "metadata": {},
   "outputs": [],
   "source": [
    "X_train, X_test, y_train, y_test = train_test_split(X, y, random_state=4444, test_size=0.20)"
   ]
  },
  {
   "cell_type": "code",
   "execution_count": 7,
   "metadata": {},
   "outputs": [
    {
     "data": {
      "text/plain": [
       "(array([[0.50044484, 0.1       , 0.5       , ..., 1.        , 0.        ,\n",
       "         0.        ],\n",
       "        [0.81183274, 0.2       , 0.5       , ..., 1.        , 0.        ,\n",
       "         0.        ],\n",
       "        [0.55616103, 0.        , 0.33333333, ..., 1.        , 0.        ,\n",
       "         0.        ],\n",
       "        ...,\n",
       "        [0.0055605 , 0.2       , 0.33333333, ..., 1.        , 0.        ,\n",
       "         0.        ],\n",
       "        [0.74510676, 0.        , 0.33333333, ..., 1.        , 0.        ,\n",
       "         0.        ],\n",
       "        [0.82072954, 0.        , 0.5       , ..., 1.        , 0.        ,\n",
       "         0.        ]]),\n",
       " array([ 220000., 1049000.,  100000., ...,  350000.,  245000.,  279000.]),\n",
       " array([[0.56283363, 0.5       , 0.66666667, ..., 1.        , 0.        ,\n",
       "         0.        ],\n",
       "        [0.02224199, 0.5       , 0.66666667, ..., 0.        , 1.        ,\n",
       "         0.        ],\n",
       "        [0.66859431, 0.1       , 0.66666667, ..., 1.        , 0.        ,\n",
       "         0.        ],\n",
       "        ...,\n",
       "        [0.10342527, 0.9       , 0.66666667, ..., 1.        , 0.        ,\n",
       "         0.        ],\n",
       "        [0.84519573, 0.5       , 0.33333333, ..., 0.        , 0.        ,\n",
       "         1.        ],\n",
       "        [0.42259786, 0.1       , 0.        , ..., 0.        , 0.        ,\n",
       "         1.        ]]),\n",
       " array([295000., 545000., 289000., ..., 685000., 265000., 185000.]))"
      ]
     },
     "execution_count": 7,
     "metadata": {},
     "output_type": "execute_result"
    }
   ],
   "source": [
    "X_train, y_train, X_test, y_test"
   ]
  },
  {
   "cell_type": "code",
   "execution_count": 22,
   "metadata": {},
   "outputs": [],
   "source": [
    "degree_range = np.arange(1,4)"
   ]
  },
  {
   "cell_type": "code",
   "execution_count": 23,
   "metadata": {},
   "outputs": [],
   "source": [
    "pipe = make_pipeline(PolynomialFeatures(), RobustScaler(),LinearRegression())\n",
    "k = 5\n",
    "train_scores, valid_scores = validation_curve(pipe,\n",
    "                                              X_train, y_train,\n",
    "                                              param_name='polynomialfeatures__degree',\n",
    "                                              param_range=degree_range,\n",
    "                                              cv=k)"
   ]
  },
  {
   "cell_type": "code",
   "execution_count": 24,
   "metadata": {},
   "outputs": [],
   "source": [
    "train_scores_mean = np.mean(train_scores, axis=1)\n",
    "train_scores_std = np.std(train_scores, axis=1)\n",
    "valid_scores_mean = np.mean(valid_scores, axis=1)\n",
    "valid_scores_std = np.std(valid_scores, axis=1)"
   ]
  },
  {
   "cell_type": "code",
   "execution_count": 25,
   "metadata": {},
   "outputs": [
    {
     "data": {
      "text/plain": [
       "Text(0.5, 1.0, 'Validation Curve with Polynomial Regression\\n5-fold Cross-Validation')"
      ]
     },
     "execution_count": 25,
     "metadata": {},
     "output_type": "execute_result"
    },
    {
     "data": {
      "image/png": "[encoded data removed]",
      "text/plain": [
       "<Figure size 432x288 with 1 Axes>"
      ]
     },
     "metadata": {
      "needs_background": "light"
     },
     "output_type": "display_data"
    }
   ],
   "source": [
    "plt.plot(degree_range, train_scores_mean, color=\"darkorange\",   marker='o', linestyle='--', label= 'Training score')\n",
    "plt.fill_between(degree_range, train_scores_mean - train_scores_std,\n",
    "                 train_scores_mean + train_scores_std, alpha=0.2,\n",
    "                 color=\"darkorange\")\n",
    "plt.plot(degree_range, valid_scores_mean, color=\"navy\",   marker='o', linestyle='--', label='Cross-validation score')\n",
    "plt.fill_between(degree_range, valid_scores_mean - valid_scores_std,\n",
    "                 valid_scores_mean + valid_scores_std, alpha=0.2,\n",
    "                 color=\"navy\")\n",
    "plt.xticks(degree_range)\n",
    "plt.xlabel('Polynomial Regression Degree')\n",
    "plt.ylabel('R² Score')\n",
    "plt.legend(loc='best')\n",
    "plt.title(f'Validation Curve with Polynomial Regression\\n{k}-fold Cross-Validation')"
   ]
  },
  {
   "cell_type": "code",
   "execution_count": 26,
   "metadata": {},
   "outputs": [
    {
     "data": {
      "text/plain": [
       "(array([0.63299348, 0.73667749, 0.78413823]),\n",
       " array([ 6.30129956e-01, -1.96828386e+17, -2.09494593e+19]))"
      ]
     },
     "execution_count": 26,
     "metadata": {},
     "output_type": "execute_result"
    }
   ],
   "source": [
    "train_scores_mean, valid_scores_mean"
   ]
  },
  {
   "cell_type": "code",
   "execution_count": 27,
   "metadata": {},
   "outputs": [
    {
     "name": "stdout",
     "output_type": "stream",
     "text": [
      "Polynomial of degree 1\n",
      "\ttrain score:\t0.6327392904430337\n",
      "\ttest score:\t0.627269702998013\n",
      "Polynomial of degree 2\n",
      "\ttrain score:\t0.7337184006946347\n",
      "\ttest score:\t0.7026506503552263\n",
      "Polynomial of degree 3\n",
      "\ttrain score:\t0.7995185705186248\n",
      "\ttest score:\t-3.14098995582336e+19\n"
     ]
    }
   ],
   "source": [
    "for degree in degree_range:\n",
    "    poly_reg = make_pipeline(PolynomialFeatures(degree), RobustScaler(), LinearRegression())\n",
    "    poly_reg.fit(X_train, y_train)\n",
    "    score_train = poly_reg.score(X_train, y_train)\n",
    "    score_test = poly_reg.score(X_test, y_test)\n",
    "    print(f'Polynomial of degree {degree}\\n\\ttrain score:\\t{score_train}\\n\\ttest score:\\t{score_test}')\n",
    "    "
   ]
  },
  {
   "cell_type": "code",
   "execution_count": 86,
   "metadata": {},
   "outputs": [
    {
     "name": "stdout",
     "output_type": "stream",
     "text": [
      "train score:\t0.6280597310565308\n",
      "test score:\t0.6229597191936297\n"
     ]
    }
   ],
   "source": [
    "np.random.seed(4444)\n",
    "\n",
    "sgd_reg = SGDRegressor()\n",
    "sgd_reg.fit(X_train, y_train)\n",
    "score_train = sgd_reg.score(X_train, y_train)\n",
    "score_test = sgd_reg.score(X_test, y_test)\n",
    "print(f'train score:\\t{score_train}\\ntest score:\\t{score_test}')"
   ]
  },
  {
   "cell_type": "code",
   "execution_count": 87,
   "metadata": {},
   "outputs": [
    {
     "data": {
      "text/plain": [
       "{'alpha': 0.0001,\n",
       " 'average': False,\n",
       " 'early_stopping': False,\n",
       " 'epsilon': 0.1,\n",
       " 'eta0': 0.01,\n",
       " 'fit_intercept': True,\n",
       " 'l1_ratio': 0.15,\n",
       " 'learning_rate': 'invscaling',\n",
       " 'loss': 'squared_loss',\n",
       " 'max_iter': 1000,\n",
       " 'n_iter_no_change': 5,\n",
       " 'penalty': 'l2',\n",
       " 'power_t': 0.25,\n",
       " 'random_state': None,\n",
       " 'shuffle': True,\n",
       " 'tol': 0.001,\n",
       " 'validation_fraction': 0.1,\n",
       " 'verbose': 0,\n",
       " 'warm_start': False}"
      ]
     },
     "execution_count": 87,
     "metadata": {},
     "output_type": "execute_result"
    }
   ],
   "source": [
    "sgd_reg.get_params()"
   ]
  },
  {
   "cell_type": "code",
   "execution_count": 93,
   "metadata": {},
   "outputs": [
    {
     "name": "stdout",
     "output_type": "stream",
     "text": [
      "train score:\t0.6280597310565308\n",
      "test score:\t0.6229597191936297\n"
     ]
    }
   ],
   "source": [
    "np.random.seed(4444)\n",
    "\n",
    "sgd_reg = SGDRegressor(max_iter=1000)\n",
    "sgd_reg.fit(X_train, y_train)\n",
    "score_train = sgd_reg.score(X_train, y_train)\n",
    "score_test = sgd_reg.score(X_test, y_test)\n",
    "print(f'train score:\\t{score_train}\\ntest score:\\t{score_test}')"
   ]
  },
  {
   "cell_type": "code",
   "execution_count": 14,
   "metadata": {},
   "outputs": [],
   "source": [
    "from sklearn.model_selection import learning_curve"
   ]
  },
  {
   "cell_type": "code",
   "execution_count": 118,
   "metadata": {},
   "outputs": [],
   "source": [
    "lin_reg = LinearRegression()"
   ]
  },
  {
   "cell_type": "code",
   "execution_count": 139,
   "metadata": {},
   "outputs": [
    {
     "data": {
      "text/plain": [
       "(array([ 536, 1072, 1608, 2144, 2680, 3216, 3752, 4288, 4824, 5361]),\n",
       " array([[0.63989197, 0.66949117, 0.66949117],\n",
       "        [0.61812832, 0.65968591, 0.65968591],\n",
       "        [0.63195884, 0.63999485, 0.63999485],\n",
       "        [0.62657798, 0.63954708, 0.63954708],\n",
       "        [0.62949641, 0.64246823, 0.64246823],\n",
       "        [0.62607805, 0.63720011, 0.64000431],\n",
       "        [0.63095604, 0.64025027, 0.63353636],\n",
       "        [0.63475473, 0.64317234, 0.6357201 ],\n",
       "        [0.63097133, 0.63853287, 0.63263067],\n",
       "        [0.62978738, 0.63668377, 0.63362667]]),\n",
       " array([[0.62019287, 0.6096954 , 0.61680986],\n",
       "        [0.63131138, 0.61812338, 0.62623856],\n",
       "        [0.63017381, 0.62025722, 0.62679281],\n",
       "        [0.63177088, 0.62057805, 0.62694096],\n",
       "        [0.63364814, 0.62021413, 0.62818714],\n",
       "        [0.63479816, 0.62088254, 0.62822201],\n",
       "        [0.63508206, 0.62158516, 0.62855849],\n",
       "        [0.63613095, 0.62113207, 0.62852394],\n",
       "        [0.63650156, 0.62147724, 0.62900942],\n",
       "        [0.6370729 , 0.62167225, 0.62839037]]))"
      ]
     },
     "execution_count": 139,
     "metadata": {},
     "output_type": "execute_result"
    }
   ],
   "source": [
    "k = 3\n",
    "train_sizes_abs, train_scores, test_scores = \\\n",
    "    learning_curve(lin_reg, X_train, y_train, train_sizes=np.linspace(0.1, 1.0, 10), cv=k)\n",
    "train_sizes_abs, train_scores, test_scores\n",
    "# train_sizes_abs, train_scores, test_scores = \\\n",
    "#     learning_curve(lin_reg, X, y, train_sizes=np.linspace(0.1, 1.0, 10), cv=k)\n",
    "# train_sizes_abs, train_scores, test_scores"
   ]
  },
  {
   "cell_type": "code",
   "execution_count": 140,
   "metadata": {},
   "outputs": [
    {
     "data": {
      "text/plain": [
       "(array([0.65962477, 0.64583338, 0.63731618, 0.63522405, 0.63814429,\n",
       "        0.63442749, 0.63491422, 0.63788239, 0.63404496, 0.63336594]),\n",
       " array([0.0139532 , 0.01959043, 0.00378821, 0.00611369, 0.00611497,\n",
       "        0.00601391, 0.00391744, 0.00376126, 0.00324493, 0.00282147]),\n",
       " array([0.61556604, 0.62522444, 0.62574128, 0.62642996, 0.6273498 ,\n",
       "        0.62796757, 0.62840857, 0.62859565, 0.62899608, 0.62904517]),\n",
       " array([0.00437489, 0.00543152, 0.00411615, 0.00458372, 0.00551628,\n",
       "        0.00568388, 0.00551111, 0.00612347, 0.00613366, 0.00630432]))"
      ]
     },
     "execution_count": 140,
     "metadata": {},
     "output_type": "execute_result"
    }
   ],
   "source": [
    "train_scores_mean = np.mean(train_scores, axis=1)\n",
    "train_scores_std = np.std(train_scores, axis=1)\n",
    "test_scores_mean = np.mean(test_scores, axis=1)\n",
    "test_scores_std = np.std(test_scores, axis=1)\n",
    "train_scores_mean, train_scores_std, test_scores_mean, test_scores_std"
   ]
  },
  {
   "cell_type": "code",
   "execution_count": 141,
   "metadata": {},
   "outputs": [
    {
     "data": {
      "text/plain": [
       "Text(0.5, 1.0, 'Learning Curves\\n3-fold Cross-Validation')"
      ]
     },
     "execution_count": 141,
     "metadata": {},
     "output_type": "execute_result"
    },
    {
     "data": {
      "image/png": "[encoded data removed]",
      "text/plain": [
       "<Figure size 432x288 with 1 Axes>"
      ]
     },
     "metadata": {
      "needs_background": "light"
     },
     "output_type": "display_data"
    }
   ],
   "source": [
    "plt.plot(train_sizes_abs, train_scores_mean, color=\"darkorange\",   marker='o', linestyle='--', label= 'Training score')\n",
    "plt.fill_between(train_sizes_abs, train_scores_mean - train_scores_std,\n",
    "                 train_scores_mean + train_scores_std, alpha=0.2,\n",
    "                 color=\"darkorange\")\n",
    "plt.plot(train_sizes_abs, test_scores_mean, color=\"navy\",   marker='o', linestyle='--', label='Cross-validation score')\n",
    "plt.fill_between(train_sizes_abs, test_scores_mean - test_scores_std,\n",
    "                 test_scores_mean + test_scores_std, alpha=0.2,\n",
    "                 color=\"navy\")\n",
    "plt.xticks(train_sizes_abs)\n",
    "plt.xlabel('# Training examples')\n",
    "plt.ylabel('Score')\n",
    "plt.legend(loc='best')\n",
    "plt.title(f'Learning Curves\\n{k}-fold Cross-Validation')"
   ]
  },
  {
   "cell_type": "code",
   "execution_count": null,
   "metadata": {},
   "outputs": [],
   "source": []
  },
  {
   "cell_type": "code",
   "execution_count": null,
   "metadata": {},
   "outputs": [],
   "source": []
  }
 ],
 "metadata": {
  "kernelspec": {
   "display_name": "Python 3",
   "language": "python",
   "name": "python3"
  },
  "language_info": {
   "codemirror_mode": {
    "name": "ipython",
    "version": 3
   },
   "file_extension": ".py",
   "mimetype": "text/x-python",
   "name": "python",
   "nbconvert_exporter": "python",
   "pygments_lexer": "ipython3",
   "version": "3.8.3"
  }
 },
 "nbformat": 4,
 "nbformat_minor": 4
}
