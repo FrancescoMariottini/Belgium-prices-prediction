{
 "cells": [
  {
   "cell_type": "markdown",
   "metadata": {},
   "source": [
    "## import required packages"
   ]
  },
  {
   "cell_type": "code",
   "execution_count": 2,
   "metadata": {},
   "outputs": [],
   "source": [
    "import pandas as pd \n",
    "import numpy as np\n",
    "from sklearn.metrics import mean_absolute_error,mean_squared_error,r2_score\n",
    "from tabulate import tabulate"
   ]
  },
  {
   "cell_type": "markdown",
   "metadata": {},
   "source": [
    "## Define class for Evaluation"
   ]
  },
  {
   "cell_type": "code",
   "execution_count": 5,
   "metadata": {},
   "outputs": [],
   "source": [
    "class Model_Evaluation:\n",
    "\n",
    "    def __init__(self,model:object)-> None:\n",
    "        \n",
    "        self.model = model\n",
    "        \n",
    "\n",
    "    def get_predictions(self, model:object, test_data:array)->np.array:\n",
    "        \"\"\"\n",
    "        Function provides predicted values from test data.\n",
    "        \n",
    "        :param model: A model obejct that predicts the data\n",
    "        :param test_data: an array that contains test data\n",
    "        \n",
    "        :return: array of predicted data\n",
    "        \"\"\"\n",
    "        \n",
    "        self.predictions = model.predict(test_data)\n",
    "        return self.predictions\n",
    "\n",
    "    def predict_model(self,original_data:array, predicted_data:array):\n",
    "         \"\"\"\n",
    "        Function generates evaluation data on original inputs and predicted data.\n",
    "        \n",
    "        \n",
    "        :param original_data: an array that contains original test input data\n",
    "        :param predicted_data: an array that contains predicted data\n",
    "        \n",
    "        :return: set of metrics in table format\n",
    "        \"\"\"\n",
    "        #finds mean absolute error\n",
    "        self.mae = mean_absolute_error(original_data, predicted_data)\n",
    "        #finds mean squared error\n",
    "        self.mse = mean_squared_error(original_data, predicted_data)\n",
    "        #finds root mean squared error\n",
    "        self.rmse = np.sqrt(self.mse)\n",
    "        #finds mean absolute percentage error\n",
    "        self.mape = (self.mse/original_data)*100\n",
    "        #displays the metric values\n",
    "        print('Mean Absolute Error: ',self.mae)\n",
    "        print('Mean Squared Error: ',self.mse)\n",
    "        print('Root Mean Squqred Error: ',self.rmse)\n",
    "        print('Mean Absolute Percentage Error: ',self.mape)\n",
    "        print('RSquare : ',r2_score(original_data, predicted_data))\n",
    "        \n",
    "        #created dataframe to store original values, predicted values and MAPE\n",
    "        evaluation_data=pd.DataFrame({'Y':original_data,'Y_Predicted':predicted_data,'MAPE':self.mape})\n",
    "        #print evaluated data in table format using tabulate\n",
    "        print(tabulate(evaluation_data, headers = 'keys', tablefmt = 'fancy_grid')) \n",
    "        \n",
    "        #creates dataframe for different evaluation metrics\n",
    "        Results=pd.DataFrame({'MAE':self.mae,'MSE':self.mse,'RMSE':self.rmse,'RSquare':self.r2},index=['Values'])\n",
    "        print(tabulate(Results, headers = 'keys', tablefmt = 'fancy_grid')) "
   ]
  },
  {
   "cell_type": "code",
   "execution_count": null,
   "metadata": {},
   "outputs": [],
   "source": [
    "model=LinearRegression()\n",
    "regressor = model.fit(X_train, y_train)\n",
    "model_evaluation_obj=Model_Evaluation(model)\n",
    "predicted_data=model_evaluation_obj.get_predictions(model,X_test)\n",
    "model_evaluation_obj.predict_model(model,y_test,predicted_data)"
   ]
  }
 ],
 "metadata": {
  "kernelspec": {
   "display_name": "Python 3",
   "language": "python",
   "name": "python3"
  },
  "language_info": {
   "codemirror_mode": {
    "name": "ipython",
    "version": 3
   },
   "file_extension": ".py",
   "mimetype": "text/x-python",
   "name": "python",
   "nbconvert_exporter": "python",
   "pygments_lexer": "ipython3",
   "version": "3.7.6"
  }
 },
 "nbformat": 4,
 "nbformat_minor": 4
}
