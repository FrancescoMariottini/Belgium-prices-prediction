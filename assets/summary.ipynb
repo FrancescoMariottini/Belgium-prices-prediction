{
 "cells": [
  {
   "cell_type": "code",
   "execution_count": 88,
   "metadata": {},
   "outputs": [],
   "source": [
    "import pandas as pd\n",
    "import numpy as np\n",
    "import matplotlib.pyplot as plt\n",
    "from sklearn.preprocessing import PolynomialFeatures, RobustScaler\n",
    "from sklearn.linear_model import LinearRegression\n",
    "from sklearn.pipeline import make_pipeline\n",
    "from sklearn.model_selection import train_test_split, validation_curve"
   ]
  },
  {
   "cell_type": "code",
   "execution_count": 2,
   "metadata": {},
   "outputs": [],
   "source": [
    "df = pd.read_csv('df_after_cleaning.csv').drop(['Unnamed: 0', 'source'], axis=1)\n",
    "# df"
   ]
  },
  {
   "cell_type": "code",
   "execution_count": 3,
   "metadata": {},
   "outputs": [],
   "source": [
    "# df.dtypes"
   ]
  },
  {
   "cell_type": "code",
   "execution_count": 4,
   "metadata": {},
   "outputs": [],
   "source": [
    "# keeping only numerical features for this test\n",
    "features_to_delete = ['postcode', 'house_is', 'property_subtype', 'equipped_kitchen_has', 'furnished', 'open_fire', 'terrace', 'terrace_area', 'garden', 'garden_area', 'facades_number', 'swimming_pool_has', 'region', 'building_state_agg']\n",
    "df.drop(features_to_delete, axis=1, inplace=True)\n",
    "# df"
   ]
  },
  {
   "cell_type": "code",
   "execution_count": 5,
   "metadata": {},
   "outputs": [],
   "source": [
    "df.dropna(axis=0, inplace=True)\n",
    "# df"
   ]
  },
  {
   "cell_type": "code",
   "execution_count": 6,
   "metadata": {},
   "outputs": [],
   "source": [
    "X = df.loc[:, df.columns != 'price'].to_numpy()\n",
    "y = df['price'].to_numpy()"
   ]
  },
  {
   "cell_type": "code",
   "execution_count": 75,
   "metadata": {},
   "outputs": [],
   "source": [
    "X_train, X_test, y_train, y_test = train_test_split(X, y, random_state=4444, test_size=0.20)"
   ]
  },
  {
   "cell_type": "code",
   "execution_count": 76,
   "metadata": {},
   "outputs": [],
   "source": [
    "# X_train, y_train, X_test, y_test"
   ]
  },
  {
   "cell_type": "code",
   "execution_count": 77,
   "metadata": {},
   "outputs": [],
   "source": [
    "pipe = make_pipeline(PolynomialFeatures(), RobustScaler(),LinearRegression())\n",
    "# np.random.seed(4)\n",
    "degree_range = np.arange(1,5)\n",
    "k = 5\n",
    "train_scores, valid_scores = validation_curve(pipe,\n",
    "                                              X_train, y_train,\n",
    "                                              param_name='polynomialfeatures__degree',\n",
    "                                              param_range=degree_range,\n",
    "                                              cv=k)"
   ]
  },
  {
   "cell_type": "code",
   "execution_count": 78,
   "metadata": {},
   "outputs": [],
   "source": [
    "train_scores_mean = np.mean(train_scores, axis=1)\n",
    "train_scores_std = np.std(train_scores, axis=1)\n",
    "valid_scores_mean = np.mean(valid_scores, axis=1)\n",
    "valid_scores_std = np.std(valid_scores, axis=1)"
   ]
  },
  {
   "cell_type": "code",
   "execution_count": 79,
   "metadata": {
    "scrolled": true
   },
   "outputs": [
    {
     "data": {
      "text/plain": [
       "Text(0.5, 1.0, 'Validation Curve with Polynomial Regression\\n5-fold Cross-Validation')"
      ]
     },
     "execution_count": 79,
     "metadata": {},
     "output_type": "execute_result"
    },
    {
     "data": {
      "image/png": "[encoded data removed]",
      "text/plain": [
       "<Figure size 432x288 with 1 Axes>"
      ]
     },
     "metadata": {
      "needs_background": "light"
     },
     "output_type": "display_data"
    }
   ],
   "source": [
    "plt.plot(degree_range, train_scores_mean, color=\"darkorange\",   marker='o', linestyle='--', label= 'Training score')\n",
    "plt.fill_between(degree_range, train_scores_mean - train_scores_std,\n",
    "                 train_scores_mean + train_scores_std, alpha=0.2,\n",
    "                 color=\"darkorange\")\n",
    "plt.plot(degree_range, valid_scores_mean, color=\"navy\",   marker='o', linestyle='--', label='Cross-validation score')\n",
    "plt.fill_between(degree_range, valid_scores_mean - valid_scores_std,\n",
    "                 valid_scores_mean + valid_scores_std, alpha=0.2,\n",
    "                 color=\"navy\")\n",
    "plt.xticks(degree_range)\n",
    "plt.xlabel('Polynomial Regression Degree')\n",
    "plt.ylabel('R² Score')\n",
    "plt.legend(loc='best')\n",
    "plt.title(f'Validation Curve with Polynomial Regression\\n{k}-fold Cross-Validation')"
   ]
  },
  {
   "cell_type": "code",
   "execution_count": 80,
   "metadata": {},
   "outputs": [
    {
     "data": {
      "text/plain": [
       "(array([0.62440262, 0.67133473, 0.67993893, 0.49882559]),\n",
       " array([0.62324154, 0.66259335, 0.64672289, 0.23075959]))"
      ]
     },
     "execution_count": 80,
     "metadata": {},
     "output_type": "execute_result"
    }
   ],
   "source": [
    "train_scores_mean, valid_scores_mean"
   ]
  },
  {
   "cell_type": "code",
   "execution_count": 87,
   "metadata": {},
   "outputs": [
    {
     "name": "stdout",
     "output_type": "stream",
     "text": [
      "Polynomial of degree 1\n",
      "\ttrain score:\t0.6242022626845257\n",
      "\ttest score:\t0.5989326427282673\n",
      "Polynomial of degree 2\n",
      "\ttrain score:\t0.6703932493497766\n",
      "\ttest score:\t0.6261740763755217\n",
      "Polynomial of degree 3\n",
      "\ttrain score:\t0.6941828205866645\n",
      "\ttest score:\t0.6440389631041081\n",
      "Polynomial of degree 4\n",
      "\ttrain score:\t0.7243091532552348\n",
      "\ttest score:\t0.6279594276347213\n"
     ]
    }
   ],
   "source": [
    "for degree in degree_range:\n",
    "    poly_reg = make_pipeline(PolynomialFeatures(degree), RobustScaler(), LinearRegression())\n",
    "    poly_reg.fit(X_train, y_train)\n",
    "    score_train = poly_reg.score(X_train, y_train)\n",
    "    score_test = poly_reg.score(X_test, y_test)\n",
    "    print(f'Polynomial of degree {degree}\\n\\ttrain score:\\t{score_train}\\n\\ttest score:\\t{score_test}')\n",
    "    "
   ]
  }
 ],
 "metadata": {
  "kernelspec": {
   "display_name": "Python 3",
   "language": "python",
   "name": "python3"
  },
  "language_info": {
   "codemirror_mode": {
    "name": "ipython",
    "version": 3
   },
   "file_extension": ".py",
   "mimetype": "text/x-python",
   "name": "python",
   "nbconvert_exporter": "python",
   "pygments_lexer": "ipython3",
   "version": "3.8.3"
  }
 },
 "nbformat": 4,
 "nbformat_minor": 4
}
