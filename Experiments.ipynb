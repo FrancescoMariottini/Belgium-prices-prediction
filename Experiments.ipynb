{
 "cells": [
  {
   "cell_type": "code",
   "execution_count": 6,
   "metadata": {},
   "outputs": [],
   "source": [
    "import pandas as pd\n",
    "import numpy as np\n",
    "import matplotlib.pyplot as plt\n",
    "# %matplotlib inline\n",
    "from sklearn.model_selection import train_test_split\n",
    "from sklearn import datasets, linear_model"
   ]
  },
  {
   "cell_type": "code",
   "execution_count": 7,
   "metadata": {},
   "outputs": [],
   "source": [
    "df = pd.read_csv('./data_multi.csv')"
   ]
  },
  {
   "cell_type": "code",
   "execution_count": 8,
   "metadata": {},
   "outputs": [
    {
     "data": {
      "text/html": [
       "<div>\n",
       "<style scoped>\n",
       "    .dataframe tbody tr th:only-of-type {\n",
       "        vertical-align: middle;\n",
       "    }\n",
       "\n",
       "    .dataframe tbody tr th {\n",
       "        vertical-align: top;\n",
       "    }\n",
       "\n",
       "    .dataframe thead th {\n",
       "        text-align: right;\n",
       "    }\n",
       "</style>\n",
       "<table border=\"1\" class=\"dataframe\">\n",
       "  <thead>\n",
       "    <tr style=\"text-align: right;\">\n",
       "      <th></th>\n",
       "      <th>x_1</th>\n",
       "      <th>x_2</th>\n",
       "      <th>y</th>\n",
       "    </tr>\n",
       "  </thead>\n",
       "  <tbody>\n",
       "    <tr>\n",
       "      <th>0</th>\n",
       "      <td>1.054452</td>\n",
       "      <td>-1.070753</td>\n",
       "      <td>-81.464433</td>\n",
       "    </tr>\n",
       "    <tr>\n",
       "      <th>1</th>\n",
       "      <td>-0.362741</td>\n",
       "      <td>-0.634322</td>\n",
       "      <td>-78.752795</td>\n",
       "    </tr>\n",
       "    <tr>\n",
       "      <th>2</th>\n",
       "      <td>-0.854096</td>\n",
       "      <td>0.313068</td>\n",
       "      <td>2.218414</td>\n",
       "    </tr>\n",
       "    <tr>\n",
       "      <th>3</th>\n",
       "      <td>1.326386</td>\n",
       "      <td>0.298238</td>\n",
       "      <td>52.234160</td>\n",
       "    </tr>\n",
       "    <tr>\n",
       "      <th>4</th>\n",
       "      <td>-0.461585</td>\n",
       "      <td>-1.315907</td>\n",
       "      <td>-159.639258</td>\n",
       "    </tr>\n",
       "    <tr>\n",
       "      <th>...</th>\n",
       "      <td>...</td>\n",
       "      <td>...</td>\n",
       "      <td>...</td>\n",
       "    </tr>\n",
       "    <tr>\n",
       "      <th>95</th>\n",
       "      <td>0.823504</td>\n",
       "      <td>0.771791</td>\n",
       "      <td>86.316340</td>\n",
       "    </tr>\n",
       "    <tr>\n",
       "      <th>96</th>\n",
       "      <td>0.976639</td>\n",
       "      <td>0.208275</td>\n",
       "      <td>83.136943</td>\n",
       "    </tr>\n",
       "    <tr>\n",
       "      <th>97</th>\n",
       "      <td>-1.347759</td>\n",
       "      <td>1.883151</td>\n",
       "      <td>157.404615</td>\n",
       "    </tr>\n",
       "    <tr>\n",
       "      <th>98</th>\n",
       "      <td>0.052165</td>\n",
       "      <td>-1.104383</td>\n",
       "      <td>-136.511136</td>\n",
       "    </tr>\n",
       "    <tr>\n",
       "      <th>99</th>\n",
       "      <td>-1.726283</td>\n",
       "      <td>-0.813146</td>\n",
       "      <td>-143.452015</td>\n",
       "    </tr>\n",
       "  </tbody>\n",
       "</table>\n",
       "<p>100 rows × 3 columns</p>\n",
       "</div>"
      ],
      "text/plain": [
       "         x_1       x_2           y\n",
       "0   1.054452 -1.070753  -81.464433\n",
       "1  -0.362741 -0.634322  -78.752795\n",
       "2  -0.854096  0.313068    2.218414\n",
       "3   1.326386  0.298238   52.234160\n",
       "4  -0.461585 -1.315907 -159.639258\n",
       "..       ...       ...         ...\n",
       "95  0.823504  0.771791   86.316340\n",
       "96  0.976639  0.208275   83.136943\n",
       "97 -1.347759  1.883151  157.404615\n",
       "98  0.052165 -1.104383 -136.511136\n",
       "99 -1.726283 -0.813146 -143.452015\n",
       "\n",
       "[100 rows x 3 columns]"
      ]
     },
     "execution_count": 8,
     "metadata": {},
     "output_type": "execute_result"
    }
   ],
   "source": [
    "df"
   ]
  },
  {
   "cell_type": "code",
   "execution_count": 9,
   "metadata": {},
   "outputs": [],
   "source": [
    "X = df[['x_1', 'x_2']].to_numpy()"
   ]
  },
  {
   "cell_type": "code",
   "execution_count": 10,
   "metadata": {},
   "outputs": [],
   "source": [
    "y = df['y'].to_numpy()"
   ]
  },
  {
   "cell_type": "code",
   "execution_count": 11,
   "metadata": {},
   "outputs": [],
   "source": [
    "regressor = linear_model.LinearRegression()"
   ]
  },
  {
   "cell_type": "code",
   "execution_count": 63,
   "metadata": {},
   "outputs": [
    {
     "data": {
      "text/plain": [
       "LinearRegression()"
      ]
     },
     "execution_count": 63,
     "metadata": {},
     "output_type": "execute_result"
    }
   ],
   "source": [
    "X_train, X_test, y_train, y_test = train_test_split(X, y, random_state=4, test_size=0.2)\n",
    "regressor.fit(X_train, y_train)"
   ]
  },
  {
   "cell_type": "code",
   "execution_count": 79,
   "metadata": {},
   "outputs": [
    {
     "data": {
      "text/plain": [
       "[('__abstractmethods__', frozenset()),\n",
       " ('__class__', sklearn.linear_model._base.LinearRegression),\n",
       " ('__delattr__',\n",
       "  <method-wrapper '__delattr__' of LinearRegression object at 0x7f79116986a0>),\n",
       " ('__dict__',\n",
       "  {'fit_intercept': True,\n",
       "   'normalize': False,\n",
       "   'copy_X': True,\n",
       "   'n_jobs': None,\n",
       "   'n_features_in_': 2,\n",
       "   'coef_': array([27.77566509, 98.89995689]),\n",
       "   '_residues': 65350.46333139482,\n",
       "   'rank_': 2,\n",
       "   'singular_': array([9.47997364, 9.22917835]),\n",
       "   'intercept_': -3.1845133655073203}),\n",
       " ('__dir__', <function LinearRegression.__dir__()>),\n",
       " ('__doc__',\n",
       "  '\\n    Ordinary least squares Linear Regression.\\n\\n    LinearRegression fits a linear model with coefficients w = (w1, ..., wp)\\n    to minimize the residual sum of squares between the observed targets in\\n    the dataset, and the targets predicted by the linear approximation.\\n\\n    Parameters\\n    ----------\\n    fit_intercept : bool, default=True\\n        Whether to calculate the intercept for this model. If set\\n        to False, no intercept will be used in calculations\\n        (i.e. data is expected to be centered).\\n\\n    normalize : bool, default=False\\n        This parameter is ignored when ``fit_intercept`` is set to False.\\n        If True, the regressors X will be normalized before regression by\\n        subtracting the mean and dividing by the l2-norm.\\n        If you wish to standardize, please use\\n        :class:`sklearn.preprocessing.StandardScaler` before calling ``fit`` on\\n        an estimator with ``normalize=False``.\\n\\n    copy_X : bool, default=True\\n        If True, X will be copied; else, it may be overwritten.\\n\\n    n_jobs : int, default=None\\n        The number of jobs to use for the computation. This will only provide\\n        speedup for n_targets > 1 and sufficient large problems.\\n        ``None`` means 1 unless in a :obj:`joblib.parallel_backend` context.\\n        ``-1`` means using all processors. See :term:`Glossary <n_jobs>`\\n        for more details.\\n\\n    Attributes\\n    ----------\\n    coef_ : array of shape (n_features, ) or (n_targets, n_features)\\n        Estimated coefficients for the linear regression problem.\\n        If multiple targets are passed during the fit (y 2D), this\\n        is a 2D array of shape (n_targets, n_features), while if only\\n        one target is passed, this is a 1D array of length n_features.\\n\\n    rank_ : int\\n        Rank of matrix `X`. Only available when `X` is dense.\\n\\n    singular_ : array of shape (min(X, y),)\\n        Singular values of `X`. Only available when `X` is dense.\\n\\n    intercept_ : float or array of shape (n_targets,)\\n        Independent term in the linear model. Set to 0.0 if\\n        `fit_intercept = False`.\\n\\n    See Also\\n    --------\\n    sklearn.linear_model.Ridge : Ridge regression addresses some of the\\n        problems of Ordinary Least Squares by imposing a penalty on the\\n        size of the coefficients with l2 regularization.\\n    sklearn.linear_model.Lasso : The Lasso is a linear model that estimates\\n        sparse coefficients with l1 regularization.\\n    sklearn.linear_model.ElasticNet : Elastic-Net is a linear regression\\n        model trained with both l1 and l2 -norm regularization of the\\n        coefficients.\\n\\n    Notes\\n    -----\\n    From the implementation point of view, this is just plain Ordinary\\n    Least Squares (scipy.linalg.lstsq) wrapped as a predictor object.\\n\\n    Examples\\n    --------\\n    >>> import numpy as np\\n    >>> from sklearn.linear_model import LinearRegression\\n    >>> X = np.array([[1, 1], [1, 2], [2, 2], [2, 3]])\\n    >>> # y = 1 * x_0 + 2 * x_1 + 3\\n    >>> y = np.dot(X, np.array([1, 2])) + 3\\n    >>> reg = LinearRegression().fit(X, y)\\n    >>> reg.score(X, y)\\n    1.0\\n    >>> reg.coef_\\n    array([1., 2.])\\n    >>> reg.intercept_\\n    3.0000...\\n    >>> reg.predict(np.array([[3, 5]]))\\n    array([16.])\\n    '),\n",
       " ('__eq__',\n",
       "  <method-wrapper '__eq__' of LinearRegression object at 0x7f79116986a0>),\n",
       " ('__format__', <function LinearRegression.__format__(format_spec, /)>),\n",
       " ('__ge__',\n",
       "  <method-wrapper '__ge__' of LinearRegression object at 0x7f79116986a0>),\n",
       " ('__getattribute__',\n",
       "  <method-wrapper '__getattribute__' of LinearRegression object at 0x7f79116986a0>),\n",
       " ('__getstate__',\n",
       "  <bound method BaseEstimator.__getstate__ of LinearRegression()>),\n",
       " ('__gt__',\n",
       "  <method-wrapper '__gt__' of LinearRegression object at 0x7f79116986a0>),\n",
       " ('__hash__',\n",
       "  <method-wrapper '__hash__' of LinearRegression object at 0x7f79116986a0>),\n",
       " ('__init__', <bound method LinearRegression.__init__ of LinearRegression()>),\n",
       " ('__init_subclass__', <function LinearRegression.__init_subclass__>),\n",
       " ('__le__',\n",
       "  <method-wrapper '__le__' of LinearRegression object at 0x7f79116986a0>),\n",
       " ('__lt__',\n",
       "  <method-wrapper '__lt__' of LinearRegression object at 0x7f79116986a0>),\n",
       " ('__module__', 'sklearn.linear_model._base'),\n",
       " ('__ne__',\n",
       "  <method-wrapper '__ne__' of LinearRegression object at 0x7f79116986a0>),\n",
       " ('__new__', <function object.__new__(*args, **kwargs)>),\n",
       " ('__reduce__', <function LinearRegression.__reduce__()>),\n",
       " ('__reduce_ex__', <function LinearRegression.__reduce_ex__(protocol, /)>),\n",
       " ('__repr__', <bound method BaseEstimator.__repr__ of LinearRegression()>),\n",
       " ('__setattr__',\n",
       "  <method-wrapper '__setattr__' of LinearRegression object at 0x7f79116986a0>),\n",
       " ('__setstate__',\n",
       "  <bound method BaseEstimator.__setstate__ of LinearRegression()>),\n",
       " ('__sizeof__', <function LinearRegression.__sizeof__()>),\n",
       " ('__str__',\n",
       "  <method-wrapper '__str__' of LinearRegression object at 0x7f79116986a0>),\n",
       " ('__subclasshook__', <function LinearRegression.__subclasshook__>),\n",
       " ('__weakref__', None),\n",
       " ('_abc_impl', <_abc_data at 0x7f790efea7b0>),\n",
       " ('_check_n_features',\n",
       "  <bound method BaseEstimator._check_n_features of LinearRegression()>),\n",
       " ('_decision_function',\n",
       "  <bound method LinearModel._decision_function of LinearRegression()>),\n",
       " ('_estimator_type', 'regressor'),\n",
       " ('_get_param_names',\n",
       "  <bound method BaseEstimator._get_param_names of <class 'sklearn.linear_model._base.LinearRegression'>>),\n",
       " ('_get_tags', <bound method BaseEstimator._get_tags of LinearRegression()>),\n",
       " ('_more_tags',\n",
       "  <bound method MultiOutputMixin._more_tags of LinearRegression()>),\n",
       " ('_preprocess_data',\n",
       "  <function sklearn.linear_model._base._preprocess_data(X, y, fit_intercept, normalize=False, copy=True, sample_weight=None, return_mean=False, check_input=True)>),\n",
       " ('_repr_html_inner',\n",
       "  <bound method BaseEstimator._repr_html_inner of LinearRegression()>),\n",
       " ('_repr_mimebundle_',\n",
       "  <bound method BaseEstimator._repr_mimebundle_ of LinearRegression()>),\n",
       " ('_residues', 65350.46333139482),\n",
       " ('_set_intercept',\n",
       "  <bound method LinearModel._set_intercept of LinearRegression()>),\n",
       " ('_validate_data',\n",
       "  <bound method BaseEstimator._validate_data of LinearRegression()>),\n",
       " ('coef_', array([27.77566509, 98.89995689])),\n",
       " ('copy_X', True),\n",
       " ('fit', <bound method LinearRegression.fit of LinearRegression()>),\n",
       " ('fit_intercept', True),\n",
       " ('get_params', <bound method BaseEstimator.get_params of LinearRegression()>),\n",
       " ('intercept_', -3.1845133655073203),\n",
       " ('n_features_in_', 2),\n",
       " ('n_jobs', None),\n",
       " ('normalize', False),\n",
       " ('predict', <bound method LinearModel.predict of LinearRegression()>),\n",
       " ('rank_', 2),\n",
       " ('score', <bound method RegressorMixin.score of LinearRegression()>),\n",
       " ('set_params', <bound method BaseEstimator.set_params of LinearRegression()>),\n",
       " ('singular_', array([9.47997364, 9.22917835]))]"
      ]
     },
     "execution_count": 79,
     "metadata": {},
     "output_type": "execute_result"
    }
   ],
   "source": [
    "import inspect\n",
    "inspect.getmembers(regressor)"
   ]
  },
  {
   "cell_type": "code",
   "execution_count": 78,
   "metadata": {},
   "outputs": [
    {
     "data": {
      "text/plain": [
       "{'fit_intercept': True,\n",
       " 'normalize': False,\n",
       " 'copy_X': True,\n",
       " 'n_jobs': None,\n",
       " 'n_features_in_': 2,\n",
       " 'coef_': array([27.77566509, 98.89995689]),\n",
       " '_residues': 65350.46333139482,\n",
       " 'rank_': 2,\n",
       " 'singular_': array([9.47997364, 9.22917835]),\n",
       " 'intercept_': -3.1845133655073203}"
      ]
     },
     "execution_count": 78,
     "metadata": {},
     "output_type": "execute_result"
    }
   ],
   "source": [
    "regressor.__dict__"
   ]
  },
  {
   "cell_type": "code",
   "execution_count": 82,
   "metadata": {},
   "outputs": [],
   "source": [
    "from sklearn.linear_model import LinearRegression"
   ]
  },
  {
   "cell_type": "code",
   "execution_count": 87,
   "metadata": {},
   "outputs": [],
   "source": [
    "regressor = LinearRegression()"
   ]
  },
  {
   "cell_type": "code",
   "execution_count": 88,
   "metadata": {},
   "outputs": [
    {
     "data": {
      "text/plain": [
       "LinearRegression()"
      ]
     },
     "execution_count": 88,
     "metadata": {},
     "output_type": "execute_result"
    }
   ],
   "source": [
    "regressor"
   ]
  },
  {
   "cell_type": "code",
   "execution_count": 89,
   "metadata": {},
   "outputs": [
    {
     "data": {
      "text/plain": [
       "LinearRegression()"
      ]
     },
     "execution_count": 89,
     "metadata": {},
     "output_type": "execute_result"
    }
   ],
   "source": [
    "X_train, X_test, y_train, y_test = train_test_split(X, y, random_state=4, test_size=0.2)\n",
    "regressor.fit(X_train, y_train)"
   ]
  },
  {
   "cell_type": "code",
   "execution_count": 90,
   "metadata": {},
   "outputs": [
    {
     "data": {
      "text/plain": [
       "array([27.77566509, 98.89995689])"
      ]
     },
     "execution_count": 90,
     "metadata": {},
     "output_type": "execute_result"
    }
   ],
   "source": [
    "regressor.coef_"
   ]
  },
  {
   "cell_type": "code",
   "execution_count": null,
   "metadata": {},
   "outputs": [],
   "source": []
  }
 ],
 "metadata": {
  "kernelspec": {
   "display_name": "Python 3",
   "language": "python",
   "name": "python3"
  },
  "language_info": {
   "codemirror_mode": {
    "name": "ipython",
    "version": 3
   },
   "file_extension": ".py",
   "mimetype": "text/x-python",
   "name": "python",
   "nbconvert_exporter": "python",
   "pygments_lexer": "ipython3",
   "version": "3.8.3"
  }
 },
 "nbformat": 4,
 "nbformat_minor": 4
}
