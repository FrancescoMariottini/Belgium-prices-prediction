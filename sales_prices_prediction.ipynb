{
 "cells": [
  {
   "cell_type": "markdown",
   "metadata": {},
   "source": [
    "## Real Estate Price Prediction in Belgium\n",
    "Hereby a model to predict real estate price in Belgium is described.\n",
    "Used training and test dataset were generated within the project [residential real estate analysis](https://github.com/FrancescoMariottini/residential-real-estate-analysis)."
   ]
  },
  {
   "cell_type": "code",
   "execution_count": null,
   "metadata": {
    "pycharm": {
     "name": "#%%\n"
    }
   },
   "outputs": [],
   "source": [
    "# import created modules\n",
    "from source.data_cleaning import DataCleaning as dtcln\n",
    "from source.data_cleaning import describe_with_tukey_fences\n",
    "import source.modeling as modeling\n",
    "import source.evaluation as evaluation\n",
    "\n",
    "# import standard libraries\n",
    "import os\n",
    "import numpy as np\n",
    "import pandas as pd\n",
    "import scipy.stats as stats\n",
    "\n",
    "#import scikit modules\n",
    "from sklearn.model_selection import train_test_split\n",
    "from sklearn.linear_model import Lasso\n",
    "from sklearn.feature_selection import SelectFromModel\n",
    "from sklearn.linear_model import LinearRegression\n",
    "from sklearn.metrics import r2_score, mean_squared_error, mean_absolute_error\n",
    "\n",
    "%matplotlib inline\n",
    "import matplotlib.pyplot as plt\n",
    "import seaborn as sns\n",
    "import matplotlib.pyplot as plt\n",
    "\n",
    "from tabulate import tabulate\n",
    "#below two packages are for feature selection\n",
    "from sklearn.linear_model import Lasso\n",
    "from sklearn.feature_selection import SelectFromModel\n",
    "\n",
    "REAL_ESTATE_CSV_FILEPATH = os.path.join(os.getcwd(), 'data', 'clean_dataset.csv')\n",
    "CLEANED_CSV_FILEPATH = os.path.join(os.getcwd(), 'assets', 'outputs', 'df_after_cleaning.csv')\n",
    "\n",
    "#['source','land_surface', 'facades_number', 'swimming_pool_has','postcode_median_price',\n",
    "#              'property_subtype_median_facades_number', 'building_state_agg_median_price']\n",
    "NUM_CV_FOLDS = 3\n",
    "DEGREE_MAX = 3"
   ]
  },
  {
   "cell_type": "markdown",
   "metadata": {
    "pycharm": {
     "name": "#%% md\n"
    }
   },
   "source": [
    "## Data preprocessing: cleaning and conversion from text to numerical\n"
   ]
  },
  {
   "cell_type": "code",
   "execution_count": null,
   "metadata": {
    "pycharm": {
     "name": "#%%\n"
    }
   },
   "outputs": [],
   "source": [
    "cleaner = dtcln(csv_filepath=REAL_ESTATE_CSV_FILEPATH)\n",
    "df, df_outliers = cleaner.get_cleaned_dataframe(cleaned_csv_path=CLEANED_CSV_FILEPATH)\n",
    "#excluding text columns as requested (boolean kept)\n",
    "df = df.select_dtypes(exclude=['object'])"
   ]
  },
  {
   "cell_type": "code",
   "execution_count": null,
   "metadata": {
    "pycharm": {
     "name": "#%%\n"
    }
   },
   "outputs": [],
   "source": [
    "#show results of outliers detection and removal\n",
    "df_outliers"
   ]
  },
  {
   "cell_type": "code",
   "execution_count": null,
   "metadata": {
    "pycharm": {
     "name": "#%%\n"
    }
   },
   "outputs": [],
   "source": [
    "#show no null values and no text types\n",
    "df.info()"
   ]
  },
  {
   "cell_type": "code",
   "execution_count": null,
   "metadata": {
    "pycharm": {
     "name": "#%%\n"
    }
   },
   "outputs": [],
   "source": [
    "#show statistical information to consider further processing\n",
    "describe_with_tukey_fences(df)"
   ]
  },
  {
   "cell_type": "markdown",
   "metadata": {
    "pycharm": {
     "name": "#%% md\n"
    }
   },
   "source": [
    "## Features selection"
   ]
  },
  {
   "cell_type": "code",
   "execution_count": null,
   "metadata": {
    "pycharm": {
     "name": "#%%\n"
    }
   },
   "outputs": [],
   "source": [
    "#Drop features which are not relevent\n",
    "df = df.drop(['source','land_surface', 'swimming_pool_has'],axis=1)"
   ]
  },
  {
   "cell_type": "code",
   "execution_count": null,
   "metadata": {
    "pycharm": {
     "name": "#%%\n"
    }
   },
   "outputs": [],
   "source": [
    "#postcode_stats contains the no. of properties in each postcode\n",
    "postcode_stats = df['postcode'].value_counts(ascending=False)"
   ]
  },
  {
   "cell_type": "markdown",
   "metadata": {},
   "source": [
    "Any location having less than 10 data points should be tagged as \"9999\" location.\n",
    "This way number of categories can be reduced by huge amount.\n",
    "Later on when we do one hot encoding, it will help us with having fewer dummy columns"
   ]
  },
  {
   "cell_type": "code",
   "execution_count": null,
   "metadata": {
    "pycharm": {
     "name": "#%%\n"
    }
   },
   "outputs": [],
   "source": [
    "postcode_value_less_than_10 = postcode_stats[postcode_stats<=10]\n",
    "postcode_value_less_than_10\n",
    "df['postcode'] = df['postcode'].apply(lambda x: '9999' if x in postcode_value_less_than_10 else x)"
   ]
  },
  {
   "cell_type": "code",
   "execution_count": null,
   "metadata": {
    "pycharm": {
     "name": "#%%\n"
    }
   },
   "outputs": [],
   "source": [
    "''' To check correlation of features using chisquare method\n",
    "It gives us the list of featues which are relevant and which are not relevant for the model '''\n",
    "class ChiSquare:\n",
    "    def __init__(self, dataframe):\n",
    "        self.df = dataframe\n",
    "        self.p = None #P-Value\n",
    "        self.chi2 = None #Chi Test Statistic\n",
    "        self.dof = None\n",
    "\n",
    "        self.dfObserved = None\n",
    "        self.dfExpected = None\n",
    "\n",
    "    def _print_chisquare_result(self, colX, alpha):\n",
    "        result = \"\"\n",
    "        if self.p<alpha:\n",
    "            result=\"{0} is IMPORTANT for Prediction\".format(colX)\n",
    "        else:\n",
    "            result=\"{0} is NOT an important predictor. (Discard {0} from model)\".format(colX)\n",
    "\n",
    "        #print(result)\n",
    "\n",
    "    def TestIndependence(self,colX,colY, alpha=0.05):\n",
    "        X = self.df[colX].astype(str)\n",
    "        Y = self.df[colY].astype(str)\n",
    "\n",
    "        self.dfObserved = pd.crosstab(Y,X)\n",
    "        chi2, p, dof, expected = stats.chi2_contingency(self.dfObserved.values)\n",
    "        self.p = p\n",
    "        self.chi2 = chi2\n",
    "        self.dof = dof\n",
    "\n",
    "        self.dfExpected = pd.DataFrame(expected, columns=self.dfObserved.columns, index = self.dfObserved.index)\n",
    "\n",
    "        self._print_chisquare_result(colX,alpha)\n",
    "\n",
    "#Initialize ChiSquare Class\n",
    "cT = ChiSquare(df)\n",
    "\n",
    "#Feature Selection\n",
    "testColumns = ['postcode', 'house_is', 'rooms_number', #'property_subtype'\n",
    "       'area', 'equipped_kitchen_has', 'furnished', 'open_fire', 'terrace',\n",
    "       'garden'] #, 'building_state_agg'] #'region',\n",
    "for var in testColumns:\n",
    "    cT.TestIndependence(colX=var,colY=\"price\" )\n",
    "\n",
    "#Drop the features which are irrelevant as per chi-square '''\n",
    "df = df.drop(['furnished','garden'],axis = 1) #'property_subtype'"
   ]
  },
  {
   "cell_type": "code",
   "execution_count": null,
   "metadata": {
    "pycharm": {
     "name": "#%%\n"
    }
   },
   "outputs": [],
   "source": [
    "#Use One Hot Encoding For postcodes\n",
    "dummies = pd.get_dummies(df,prefix= '',prefix_sep = '')\n",
    "df = dummies.drop(['9999','to_renovate','B',],axis='columns')"
   ]
  },
  {
   "cell_type": "code",
   "execution_count": null,
   "metadata": {
    "pycharm": {
     "name": "#%%\n"
    }
   },
   "outputs": [],
   "source": [
    "X = df.drop(['price'],axis='columns')\n",
    "y = df.price\n",
    "X_train, X_test, y_train, y_test = train_test_split(X,y,test_size=0.2,random_state=10)"
   ]
  },
  {
   "cell_type": "markdown",
   "metadata": {
    "pycharm": {
     "name": "#%% md\n"
    }
   },
   "source": [
    "## Machine Learning Model"
   ]
  },
  {
   "cell_type": "code",
   "execution_count": null,
   "metadata": {
    "pycharm": {
     "name": "#%%\n"
    }
   },
   "outputs": [],
   "source": [
    "#Returns a linear regression model fitted with Ordinary Least Squares method\n",
    "lin_reg = modeling.OLS_linear_regression(X_train, y_train)\n",
    "#Plots learning curves (R² Score) based on training data and k-folds cross-validation\n",
    "modeling.plot_OLS_lin_reg_r2_curves(X_train, y_train, num_cv_folds=NUM_CV_FOLDS)\n",
    "#Plots learning curves (Mean Squared Error) based on training data and k-folds cross-validation\n",
    "modeling.plot_OLS_lin_reg_MSE_curves(X_train, y_train, num_cv_folds=NUM_CV_FOLDS)"
   ]
  },
  {
   "cell_type": "code",
   "execution_count": null,
   "metadata": {
    "pycharm": {
     "name": "#%%\n"
    }
   },
   "outputs": [],
   "source": [
    "modeling.plot_poly_reg_validation_curves(X_train, y_train, num_cv_folds=NUM_CV_FOLDS, degree_max=DEGREE_MAX)"
   ]
  },
  {
   "cell_type": "markdown",
   "metadata": {},
   "source": [
    "## Model evaluation"
   ]
  },
  {
   "cell_type": "markdown",
   "metadata": {},
   "source": [
    "#### Correlation"
   ]
  },
  {
   "cell_type": "code",
   "execution_count": null,
   "metadata": {
    "pycharm": {
     "name": "#%%\n"
    }
   },
   "outputs": [],
   "source": [
    "plt.figure(figsize=(10,5))\n",
    "sns.heatmap(X.corr(),annot=True,cmap='RdYlGn')"
   ]
  },
  {
   "cell_type": "code",
   "execution_count": null,
   "metadata": {
    "pycharm": {
     "name": "#%%\n"
    }
   },
   "outputs": [],
   "source": [
    "def predict_price(model, prop_type, postcode, area, rooms, garden, terrace, prop_condition):\n",
    "    \"\"\"\n",
    "    Function predicts the price with random input data.\n",
    "\n",
    "\n",
    "    :param prop_type: property type data\n",
    "    :param postcode: postcode data\n",
    "    :param area: area\n",
    "    :param rooms: number of rooms\n",
    "    :param garden: garden\n",
    "    :param terrace: terrace\n",
    "    :param prop_condition: proeprty condition\n",
    "    :return: price value\n",
    "    \"\"\"\n",
    "    loc_index = np.where(X.columns == postcode)[0]\n",
    "    prop_condition_index = np.where(X.columns == prop_condition)[0]\n",
    "    x = np.zeros(len(X.columns))\n",
    "    x[0] = prop_type\n",
    "    x[1] = rooms\n",
    "    x[2] = area\n",
    "    x[3] = terrace\n",
    "    x[4] = garden\n",
    "\n",
    "    if loc_index >= 0:\n",
    "        x[loc_index] = 1\n",
    "\n",
    "    if prop_condition_index >= 0:\n",
    "        x[prop_condition_index] = 1\n",
    "    \n",
    "    return model.predict([x])[0]"
   ]
  },
  {
   "cell_type": "code",
   "execution_count": null,
   "metadata": {},
   "outputs": [],
   "source": [
    "#lin_reg contains our previously created model\n",
    "model_evaluation_obj = evaluation.Model_Evaluation(lin_reg)\n",
    "ytrain_predictions, ytest_predictions = model_evaluation_obj.get_predictions(X_train, X_test)\n",
    "model_evaluation_obj.predict_model(X_train, y_train, X_test, y_test)"
   ]
  },
  {
   "cell_type": "code",
   "execution_count": null,
   "metadata": {},
   "outputs": [],
   "source": [
    "predicted_price = predict_price(lin_reg, 1, 8300, 100 , 3, 1, 0,'good')\n",
    "print(predicted_price)"
   ]
  },
  {
   "cell_type": "code",
   "execution_count": null,
   "metadata": {},
   "outputs": [],
   "source": []
  }
 ],
 "metadata": {
  "kernelspec": {
   "display_name": "Python 3",
   "language": "python",
   "name": "python3"
  },
  "language_info": {
   "codemirror_mode": {
    "name": "ipython",
    "version": 3
   },
   "file_extension": ".py",
   "mimetype": "text/x-python",
   "name": "python",
   "nbconvert_exporter": "python",
   "pygments_lexer": "ipython3",
   "version": "3.8.3"
  }
 },
 "nbformat": 4,
 "nbformat_minor": 1
}