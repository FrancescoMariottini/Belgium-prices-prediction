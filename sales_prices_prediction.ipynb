{
 "cells": [
  {
   "cell_type": "markdown",
   "source": [
    "## Guidelines (temporary part)\n",
    "1. Everybody working only on his part (starting from MD cell)\n",
    "2. At least agreed main inputs/outputs should be available and easy to identify"
   ],
   "metadata": {
    "collapsed": false
   }
  },
  {
   "cell_type": "markdown",
   "source": [
    "## Data preprocessing: cleaning and conversion from text to numerical\n",
    "Process is described within the DataCleaning module.\n",
    "Main data cleaning issues and how solved will be implemented into the readme."
   ],
   "metadata": {
    "collapsed": false,
    "pycharm": {
     "name": "#%% md\n"
    }
   }
  },
  {
   "cell_type": "code",
   "execution_count": 11,
   "outputs": [
    {
     "name": "stdout",
     "output_type": "stream",
     "text": [
      "Initial dataset, shape: (11288, 19)\n",
      "Aggregated parameters replacing categorical ones, shape: (11288, 20)\n",
      "0 Dropped duplicates, shape: (11288, 20)\n",
      "2314 Dropped outliers, shape: (8974, 20)\n"
     ]
    }
   ],
   "source": [
    "import os\n",
    "from source.data_cleaning import DataCleaning as dtcln\n",
    "from source.data_cleaning import describe_with_tukey_fences\n",
    "REAL_ESTATE_CSV_FILEPATH = os.getcwd() + r\"\\data\" + \"\\clean_dataset.csv\"\n",
    "CLEANED_CSV_FILEPATH = os.getcwd() + \"\\\\assets\" + \"\\\\outputs\" + \"\\\\df_after_cleaning.csv\"\n",
    "cleaner = dtcln(csv_filepath=REAL_ESTATE_CSV_FILEPATH)\n",
    "df, df_outliers = cleaner.get_cleaned_dataframe(cleaned_csv_path=CLEANED_CSV_FILEPATH)\n",
    "#excluding text columns as requested (boolean kept)\n",
    "df = df.select_dtypes(exclude=['object'])"
   ],
   "metadata": {
    "collapsed": false,
    "pycharm": {
     "name": "#%%\n"
    }
   }
  },
  {
   "cell_type": "code",
   "execution_count": 10,
   "outputs": [
    {
     "data": {
      "text/plain": "         column           method type count      %  \\\n0         price  fence_tukey_max  max  1048   9.28   \n1  rooms_number  fence_tukey_max  max   280   2.48   \n2          area  fence_tukey_max  max   764   6.77   \n3  land_surface  fence_tukey_max  max  1390  12.31   \n\n                                               index  \n0  [13, 23, 24, 25, 26, 30, 31, 46, 59, 60, 70, 8...  \n1  [22, 24, 25, 26, 28, 29, 59, 60, 70, 88, 90, 9...  \n2  [13, 23, 24, 25, 26, 30, 37, 59, 60, 70, 83, 8...  \n3  [0, 1, 20, 25, 26, 49, 59, 60, 67, 85, 90, 93,...  ",
      "text/html": "<div>\n<style scoped>\n    .dataframe tbody tr th:only-of-type {\n        vertical-align: middle;\n    }\n\n    .dataframe tbody tr th {\n        vertical-align: top;\n    }\n\n    .dataframe thead th {\n        text-align: right;\n    }\n</style>\n<table border=\"1\" class=\"dataframe\">\n  <thead>\n    <tr style=\"text-align: right;\">\n      <th></th>\n      <th>column</th>\n      <th>method</th>\n      <th>type</th>\n      <th>count</th>\n      <th>%</th>\n      <th>index</th>\n    </tr>\n  </thead>\n  <tbody>\n    <tr>\n      <th>0</th>\n      <td>price</td>\n      <td>fence_tukey_max</td>\n      <td>max</td>\n      <td>1048</td>\n      <td>9.28</td>\n      <td>[13, 23, 24, 25, 26, 30, 31, 46, 59, 60, 70, 8...</td>\n    </tr>\n    <tr>\n      <th>1</th>\n      <td>rooms_number</td>\n      <td>fence_tukey_max</td>\n      <td>max</td>\n      <td>280</td>\n      <td>2.48</td>\n      <td>[22, 24, 25, 26, 28, 29, 59, 60, 70, 88, 90, 9...</td>\n    </tr>\n    <tr>\n      <th>2</th>\n      <td>area</td>\n      <td>fence_tukey_max</td>\n      <td>max</td>\n      <td>764</td>\n      <td>6.77</td>\n      <td>[13, 23, 24, 25, 26, 30, 37, 59, 60, 70, 83, 8...</td>\n    </tr>\n    <tr>\n      <th>3</th>\n      <td>land_surface</td>\n      <td>fence_tukey_max</td>\n      <td>max</td>\n      <td>1390</td>\n      <td>12.31</td>\n      <td>[0, 1, 20, 25, 26, 49, 59, 60, 67, 85, 90, 93,...</td>\n    </tr>\n  </tbody>\n</table>\n</div>"
     },
     "execution_count": 10,
     "metadata": {},
     "output_type": "execute_result"
    }
   ],
   "source": [
    "#show results of outliers detection and removal\n",
    "df_outliers"
   ],
   "metadata": {
    "collapsed": false,
    "pycharm": {
     "name": "#%%\n"
    }
   }
  },
  {
   "cell_type": "code",
   "execution_count": 15,
   "outputs": [
    {
     "name": "stdout",
     "output_type": "stream",
     "text": [
      "<class 'pandas.core.frame.DataFrame'>\n",
      "Int64Index: 8974 entries, 2 to 11287\n",
      "Data columns (total 17 columns):\n",
      " #   Column                                  Non-Null Count  Dtype  \n",
      "---  ------                                  --------------  -----  \n",
      " 0   source                                  8974 non-null   int64  \n",
      " 1   postcode                                8974 non-null   int64  \n",
      " 2   house_is                                8974 non-null   bool   \n",
      " 3   price                                   8974 non-null   float64\n",
      " 4   rooms_number                            8974 non-null   float64\n",
      " 5   area                                    8974 non-null   float64\n",
      " 6   equipped_kitchen_has                    8974 non-null   bool   \n",
      " 7   furnished                               8974 non-null   bool   \n",
      " 8   open_fire                               8974 non-null   bool   \n",
      " 9   terrace                                 8974 non-null   bool   \n",
      " 10  terrace_area                            8974 non-null   float64\n",
      " 11  garden                                  8974 non-null   bool   \n",
      " 12  garden_area                             8974 non-null   float64\n",
      " 13  land_surface                            8974 non-null   float64\n",
      " 14  swimming_pool_has                       8974 non-null   bool   \n",
      " 15  property_subtype_median_facades_number  7858 non-null   float64\n",
      " 16  building_state_agg_median_price         8974 non-null   float64\n",
      "dtypes: bool(7), float64(8), int64(2)\n",
      "memory usage: 1.1 MB\n"
     ]
    }
   ],
   "source": [
    "#show no null values and no text types\n",
    "df.info()"
   ],
   "metadata": {
    "collapsed": false,
    "pycharm": {
     "name": "#%%\n"
    }
   }
  },
  {
   "cell_type": "code",
   "execution_count": 12,
   "outputs": [
    {
     "data": {
      "text/plain": "                      source      postcode          price  rooms_number  \\\ncount            8974.000000   8974.000000    8974.000000   8974.000000   \nmean                5.987742   4995.016826  333103.177401      2.661578   \nstd                 0.156102   3208.919175  181061.440007      1.244590   \nmin                 4.000000   1000.000000   25000.000000      0.000000   \n5%                  6.000000   1040.000000  120000.000000      1.000000   \n6%                  6.000000   1050.000000  129000.000000      1.000000   \n25%                 6.000000   1480.000000  200058.750000      2.000000   \n50%                 6.000000   4500.000000  289000.000000      3.000000   \n75%                 6.000000   8400.000000  409875.000000      3.000000   \n94%                 6.000000   9300.000000  690000.000000      5.000000   \n95%                 6.000000   9420.000000  720000.000000      5.000000   \nmax                 6.000000   9992.000000  985000.000000      7.000000   \nfence_tukey_min     6.000000  -8900.000000 -114665.625000      0.500000   \nfence_tukey_max     6.000000  18780.000000  724599.375000      4.500000   \n\n                        area  terrace_area   garden_area  land_surface  \\\ncount            8974.000000   8974.000000   8974.000000   8974.000000   \nmean              143.053488      9.876309     78.966793    148.111879   \nstd                73.282985     18.934356    843.742277    245.940562   \nmin                 5.000000      0.000000      0.000000      0.000000   \n5%                 55.000000      0.000000      0.000000      0.000000   \n6%                 59.000000      0.000000      0.000000      0.000000   \n25%                90.000000      0.000000      0.000000      0.000000   \n50%               125.000000      0.000000      0.000000      0.000000   \n75%               180.000000     14.000000      0.000000    208.000000   \n94%               280.000000     40.000000    300.000000    700.000000   \n95%               291.000000     41.000000    350.000000    748.350000   \nmax               422.000000    400.000000  40000.000000   1055.000000   \nfence_tukey_min   -45.000000    -21.000000      0.000000   -312.000000   \nfence_tukey_max   315.000000     35.000000      0.000000    520.000000   \n\n                 property_subtype_median_facades_number  \\\ncount                                       7858.000000   \nmean                                           2.538178   \nstd                                            0.567797   \nmin                                            2.000000   \n5%                                             2.000000   \n6%                                             2.000000   \n25%                                            2.000000   \n50%                                            3.000000   \n75%                                            3.000000   \n94%                                            3.000000   \n95%                                            3.000000   \nmax                                            4.000000   \nfence_tukey_min                                0.500000   \nfence_tukey_max                                4.500000   \n\n                 building_state_agg_median_price  \ncount                                8974.000000  \nmean                               328379.011589  \nstd                                 35651.744527  \nmin                                249950.000000  \n5%                                 249950.000000  \n6%                                 249950.000000  \n25%                                345000.000000  \n50%                                345000.000000  \n75%                                345000.000000  \n94%                                345000.000000  \n95%                                345000.000000  \nmax                                345000.000000  \nfence_tukey_min                    345000.000000  \nfence_tukey_max                    345000.000000  ",
      "text/html": "<div>\n<style scoped>\n    .dataframe tbody tr th:only-of-type {\n        vertical-align: middle;\n    }\n\n    .dataframe tbody tr th {\n        vertical-align: top;\n    }\n\n    .dataframe thead th {\n        text-align: right;\n    }\n</style>\n<table border=\"1\" class=\"dataframe\">\n  <thead>\n    <tr style=\"text-align: right;\">\n      <th></th>\n      <th>source</th>\n      <th>postcode</th>\n      <th>price</th>\n      <th>rooms_number</th>\n      <th>area</th>\n      <th>terrace_area</th>\n      <th>garden_area</th>\n      <th>land_surface</th>\n      <th>property_subtype_median_facades_number</th>\n      <th>building_state_agg_median_price</th>\n    </tr>\n  </thead>\n  <tbody>\n    <tr>\n      <th>count</th>\n      <td>8974.000000</td>\n      <td>8974.000000</td>\n      <td>8974.000000</td>\n      <td>8974.000000</td>\n      <td>8974.000000</td>\n      <td>8974.000000</td>\n      <td>8974.000000</td>\n      <td>8974.000000</td>\n      <td>7858.000000</td>\n      <td>8974.000000</td>\n    </tr>\n    <tr>\n      <th>mean</th>\n      <td>5.987742</td>\n      <td>4995.016826</td>\n      <td>333103.177401</td>\n      <td>2.661578</td>\n      <td>143.053488</td>\n      <td>9.876309</td>\n      <td>78.966793</td>\n      <td>148.111879</td>\n      <td>2.538178</td>\n      <td>328379.011589</td>\n    </tr>\n    <tr>\n      <th>std</th>\n      <td>0.156102</td>\n      <td>3208.919175</td>\n      <td>181061.440007</td>\n      <td>1.244590</td>\n      <td>73.282985</td>\n      <td>18.934356</td>\n      <td>843.742277</td>\n      <td>245.940562</td>\n      <td>0.567797</td>\n      <td>35651.744527</td>\n    </tr>\n    <tr>\n      <th>min</th>\n      <td>4.000000</td>\n      <td>1000.000000</td>\n      <td>25000.000000</td>\n      <td>0.000000</td>\n      <td>5.000000</td>\n      <td>0.000000</td>\n      <td>0.000000</td>\n      <td>0.000000</td>\n      <td>2.000000</td>\n      <td>249950.000000</td>\n    </tr>\n    <tr>\n      <th>5%</th>\n      <td>6.000000</td>\n      <td>1040.000000</td>\n      <td>120000.000000</td>\n      <td>1.000000</td>\n      <td>55.000000</td>\n      <td>0.000000</td>\n      <td>0.000000</td>\n      <td>0.000000</td>\n      <td>2.000000</td>\n      <td>249950.000000</td>\n    </tr>\n    <tr>\n      <th>6%</th>\n      <td>6.000000</td>\n      <td>1050.000000</td>\n      <td>129000.000000</td>\n      <td>1.000000</td>\n      <td>59.000000</td>\n      <td>0.000000</td>\n      <td>0.000000</td>\n      <td>0.000000</td>\n      <td>2.000000</td>\n      <td>249950.000000</td>\n    </tr>\n    <tr>\n      <th>25%</th>\n      <td>6.000000</td>\n      <td>1480.000000</td>\n      <td>200058.750000</td>\n      <td>2.000000</td>\n      <td>90.000000</td>\n      <td>0.000000</td>\n      <td>0.000000</td>\n      <td>0.000000</td>\n      <td>2.000000</td>\n      <td>345000.000000</td>\n    </tr>\n    <tr>\n      <th>50%</th>\n      <td>6.000000</td>\n      <td>4500.000000</td>\n      <td>289000.000000</td>\n      <td>3.000000</td>\n      <td>125.000000</td>\n      <td>0.000000</td>\n      <td>0.000000</td>\n      <td>0.000000</td>\n      <td>3.000000</td>\n      <td>345000.000000</td>\n    </tr>\n    <tr>\n      <th>75%</th>\n      <td>6.000000</td>\n      <td>8400.000000</td>\n      <td>409875.000000</td>\n      <td>3.000000</td>\n      <td>180.000000</td>\n      <td>14.000000</td>\n      <td>0.000000</td>\n      <td>208.000000</td>\n      <td>3.000000</td>\n      <td>345000.000000</td>\n    </tr>\n    <tr>\n      <th>94%</th>\n      <td>6.000000</td>\n      <td>9300.000000</td>\n      <td>690000.000000</td>\n      <td>5.000000</td>\n      <td>280.000000</td>\n      <td>40.000000</td>\n      <td>300.000000</td>\n      <td>700.000000</td>\n      <td>3.000000</td>\n      <td>345000.000000</td>\n    </tr>\n    <tr>\n      <th>95%</th>\n      <td>6.000000</td>\n      <td>9420.000000</td>\n      <td>720000.000000</td>\n      <td>5.000000</td>\n      <td>291.000000</td>\n      <td>41.000000</td>\n      <td>350.000000</td>\n      <td>748.350000</td>\n      <td>3.000000</td>\n      <td>345000.000000</td>\n    </tr>\n    <tr>\n      <th>max</th>\n      <td>6.000000</td>\n      <td>9992.000000</td>\n      <td>985000.000000</td>\n      <td>7.000000</td>\n      <td>422.000000</td>\n      <td>400.000000</td>\n      <td>40000.000000</td>\n      <td>1055.000000</td>\n      <td>4.000000</td>\n      <td>345000.000000</td>\n    </tr>\n    <tr>\n      <th>fence_tukey_min</th>\n      <td>6.000000</td>\n      <td>-8900.000000</td>\n      <td>-114665.625000</td>\n      <td>0.500000</td>\n      <td>-45.000000</td>\n      <td>-21.000000</td>\n      <td>0.000000</td>\n      <td>-312.000000</td>\n      <td>0.500000</td>\n      <td>345000.000000</td>\n    </tr>\n    <tr>\n      <th>fence_tukey_max</th>\n      <td>6.000000</td>\n      <td>18780.000000</td>\n      <td>724599.375000</td>\n      <td>4.500000</td>\n      <td>315.000000</td>\n      <td>35.000000</td>\n      <td>0.000000</td>\n      <td>520.000000</td>\n      <td>4.500000</td>\n      <td>345000.000000</td>\n    </tr>\n  </tbody>\n</table>\n</div>"
     },
     "execution_count": 12,
     "metadata": {},
     "output_type": "execute_result"
    }
   ],
   "source": [
    "#show statistical information to consider further processing\n",
    "describe_with_tukey_fences(df)"
   ],
   "metadata": {
    "collapsed": false,
    "pycharm": {
     "name": "#%%\n"
    }
   }
  },
  {
   "cell_type": "markdown",
   "source": [
    "## Features selection\n",
    "AH Features IN: df2 OUT: X_train, y_train PPT: Features engineering, Used methods description (text)"
   ],
   "metadata": {
    "collapsed": false,
    "pycharm": {
     "name": "#%% md\n"
    }
   }
  },
  {
   "cell_type": "markdown",
   "source": [
    "## Machine Learning Model\n",
    "JK model selection & apply IN: X_train, y_train OUT: scikit ?? (info how to extract dict of parameters) PPT: Gradient descent, Validation curve, Learning curve"
   ],
   "metadata": {
    "collapsed": false,
    "pycharm": {
     "name": "#%% md\n"
    }
   }
  },
  {
   "cell_type": "markdown",
   "source": [
    "## Machine Learning Model\n",
    "MD Model evaluation IN: scikit, df, OUT PPT Root mean square error, table\n",
    "\n"
   ],
   "metadata": {
    "collapsed": false
   }
  }
 ],
 "metadata": {
  "kernelspec": {
   "display_name": "Python 3",
   "language": "python",
   "name": "python3"
  },
  "language_info": {
   "codemirror_mode": {
    "name": "ipython",
    "version": 2
   },
   "file_extension": ".py",
   "mimetype": "text/x-python",
   "name": "python",
   "nbconvert_exporter": "python",
   "pygments_lexer": "ipython2",
   "version": "2.7.6"
  }
 },
 "nbformat": 4,
 "nbformat_minor": 0
}