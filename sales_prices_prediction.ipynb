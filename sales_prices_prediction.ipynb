{
 "cells": [
  {
   "cell_type": "markdown",
   "metadata": {},
   "source": [
    "## Real Eastate Price Prediction in Belgium"
   ]
  },
  {
   "cell_type": "code",
   "execution_count": 1,
   "metadata": {
    "pycharm": {
     "name": "#%%\n"
    }
   },
   "outputs": [],
   "source": [
    "# import created modules\n",
    "from source.data_cleaning import DataCleaning as dtcln\n",
    "from source.data_cleaning import describe_with_tukey_fences\n",
    "import source.modeling as modeling\n",
    "import source.evaluation as evaluation\n",
    "\n",
    "# import standard libraries\n",
    "import os\n",
    "import numpy as np\n",
    "import pandas as pd\n",
    "import scipy.stats as stats\n",
    "\n",
    "#import scikit modules\n",
    "from sklearn.model_selection import train_test_split\n",
    "from sklearn.linear_model import Lasso\n",
    "from sklearn.feature_selection import SelectFromModel\n",
    "from sklearn.linear_model import LinearRegression\n",
    "from sklearn.metrics import r2_score, mean_squared_error, mean_absolute_error\n",
    "\n",
    "%matplotlib inline\n",
    "import matplotlib.pyplot as plt\n",
    "import seaborn as sns\n",
    "import matplotlib.pyplot as plt\n",
    "\n",
    "\n",
    "from tabulate import tabulate\n",
    "#below two packages are for feature selection\n",
    "from sklearn.linear_model import Lasso\n",
    "from sklearn.feature_selection import SelectFromModel\n",
    "\n",
    "\n",
    "REAL_ESTATE_CSV_FILEPATH = os.path.join(os.getcwd(), 'data', 'clean_dataset.csv')\n",
    "CLEANED_CSV_FILEPATH = os.path.join(os.getcwd(), 'assets', 'outputs', 'df_after_cleaning.csv')\n",
    "\n",
    "\n",
    "#['source','land_surface', 'facades_number', 'swimming_pool_has','postcode_median_price',\n",
    "#              'property_subtype_median_facades_number', 'building_state_agg_median_price']\n",
    "NUM_CV_FOLDS = 3\n",
    "DEGREE_MAX = 3"
   ]
  },
  {
   "cell_type": "markdown",
   "metadata": {
    "pycharm": {
     "name": "#%% md\n"
    }
   },
   "source": [
    "## Data preprocessing: cleaning and conversion from text to numerical\n"
   ]
  },
  {
   "cell_type": "code",
   "execution_count": 2,
   "metadata": {
    "pycharm": {
     "name": "#%%\n"
    }
   },
   "outputs": [
    {
     "name": "stdout",
     "output_type": "stream",
     "text": [
      "Initial dataset, shape: (11288, 19)\n",
      "Aggregated parameters replacing categorical ones, shape: (10607, 20)\n",
      "0 Dropped duplicates, shape: (10607, 20)\n",
      "1313 Dropped outliers, shape: (9294, 20)\n"
     ]
    }
   ],
   "source": [
    "cleaner = dtcln(csv_filepath=REAL_ESTATE_CSV_FILEPATH)\n",
    "df, df_outliers = cleaner.get_cleaned_dataframe(cleaned_csv_path=CLEANED_CSV_FILEPATH)\n",
    "#excluding text columns as requested (boolean kept)\n",
    "df = df.select_dtypes(exclude=['object'])"
   ]
  },
  {
   "cell_type": "code",
   "execution_count": 3,
   "metadata": {
    "pycharm": {
     "name": "#%%\n"
    }
   },
   "outputs": [
    {
     "data": {
      "text/html": [
       "<div>\n",
       "<style scoped>\n",
       "    .dataframe tbody tr th:only-of-type {\n",
       "        vertical-align: middle;\n",
       "    }\n",
       "\n",
       "    .dataframe tbody tr th {\n",
       "        vertical-align: top;\n",
       "    }\n",
       "\n",
       "    .dataframe thead th {\n",
       "        text-align: right;\n",
       "    }\n",
       "</style>\n",
       "<table border=\"1\" class=\"dataframe\">\n",
       "  <thead>\n",
       "    <tr style=\"text-align: right;\">\n",
       "      <th></th>\n",
       "      <th>column</th>\n",
       "      <th>method</th>\n",
       "      <th>type</th>\n",
       "      <th>count</th>\n",
       "      <th>%</th>\n",
       "      <th>first_outlier</th>\n",
       "      <th>index</th>\n",
       "    </tr>\n",
       "  </thead>\n",
       "  <tbody>\n",
       "    <tr>\n",
       "      <th>0</th>\n",
       "      <td>price</td>\n",
       "      <td>fence_tukey_max</td>\n",
       "      <td>max</td>\n",
       "      <td>994</td>\n",
       "      <td>9.37</td>\n",
       "      <td>988000.0</td>\n",
       "      <td>[8, 20, 35, 36, 45, 56, 58, 61, 62, 71, 83, 89...</td>\n",
       "    </tr>\n",
       "    <tr>\n",
       "      <th>1</th>\n",
       "      <td>rooms_number</td>\n",
       "      <td>fence_tukey_max</td>\n",
       "      <td>max</td>\n",
       "      <td>246</td>\n",
       "      <td>2.32</td>\n",
       "      <td>8.0</td>\n",
       "      <td>[16, 18, 19, 35, 36, 45, 56, 71, 81, 83, 86, 9...</td>\n",
       "    </tr>\n",
       "    <tr>\n",
       "      <th>2</th>\n",
       "      <td>area</td>\n",
       "      <td>fence_tukey_max</td>\n",
       "      <td>max</td>\n",
       "      <td>686</td>\n",
       "      <td>6.47</td>\n",
       "      <td>410.0</td>\n",
       "      <td>[8, 20, 23, 35, 36, 45, 56, 62, 71, 80, 83, 92...</td>\n",
       "    </tr>\n",
       "  </tbody>\n",
       "</table>\n",
       "</div>"
      ],
      "text/plain": [
       "         column           method type count     %  first_outlier  \\\n",
       "0         price  fence_tukey_max  max   994  9.37       988000.0   \n",
       "1  rooms_number  fence_tukey_max  max   246  2.32            8.0   \n",
       "2          area  fence_tukey_max  max   686  6.47          410.0   \n",
       "\n",
       "                                               index  \n",
       "0  [8, 20, 35, 36, 45, 56, 58, 61, 62, 71, 83, 89...  \n",
       "1  [16, 18, 19, 35, 36, 45, 56, 71, 81, 83, 86, 9...  \n",
       "2  [8, 20, 23, 35, 36, 45, 56, 62, 71, 80, 83, 92...  "
      ]
     },
     "execution_count": 3,
     "metadata": {},
     "output_type": "execute_result"
    }
   ],
   "source": [
    "#show results of outliers detection and removal\n",
    "df_outliers"
   ]
  },
  {
   "cell_type": "code",
   "execution_count": 4,
   "metadata": {
    "pycharm": {
     "name": "#%%\n"
    }
   },
   "outputs": [
    {
     "name": "stdout",
     "output_type": "stream",
     "text": [
      "<class 'pandas.core.frame.DataFrame'>\n",
      "Int64Index: 9294 entries, 0 to 10606\n",
      "Data columns (total 17 columns):\n",
      " #   Column                                  Non-Null Count  Dtype  \n",
      "---  ------                                  --------------  -----  \n",
      " 0   source                                  9294 non-null   int64  \n",
      " 1   postcode                                9294 non-null   int64  \n",
      " 2   house_is                                9294 non-null   bool   \n",
      " 3   price                                   9294 non-null   float64\n",
      " 4   rooms_number                            9294 non-null   float64\n",
      " 5   area                                    9294 non-null   float64\n",
      " 6   equipped_kitchen_has                    9294 non-null   bool   \n",
      " 7   furnished                               9294 non-null   bool   \n",
      " 8   open_fire                               9294 non-null   bool   \n",
      " 9   terrace                                 9294 non-null   bool   \n",
      " 10  terrace_area                            9294 non-null   float64\n",
      " 11  garden                                  9294 non-null   bool   \n",
      " 12  garden_area                             9294 non-null   float64\n",
      " 13  land_surface                            9294 non-null   float64\n",
      " 14  swimming_pool_has                       9294 non-null   bool   \n",
      " 15  property_subtype_median_facades_number  8089 non-null   float64\n",
      " 16  building_state_agg_median_price         9294 non-null   float64\n",
      "dtypes: bool(7), float64(8), int64(2)\n",
      "memory usage: 862.2 KB\n"
     ]
    }
   ],
   "source": [
    "#show no null values and no text types\n",
    "df.info()"
   ]
  },
  {
   "cell_type": "code",
   "execution_count": 5,
   "metadata": {
    "pycharm": {
     "name": "#%%\n"
    }
   },
   "outputs": [
    {
     "data": {
      "text/html": [
       "<div>\n",
       "<style scoped>\n",
       "    .dataframe tbody tr th:only-of-type {\n",
       "        vertical-align: middle;\n",
       "    }\n",
       "\n",
       "    .dataframe tbody tr th {\n",
       "        vertical-align: top;\n",
       "    }\n",
       "\n",
       "    .dataframe thead th {\n",
       "        text-align: right;\n",
       "    }\n",
       "</style>\n",
       "<table border=\"1\" class=\"dataframe\">\n",
       "  <thead>\n",
       "    <tr style=\"text-align: right;\">\n",
       "      <th></th>\n",
       "      <th>source</th>\n",
       "      <th>postcode</th>\n",
       "      <th>price</th>\n",
       "      <th>rooms_number</th>\n",
       "      <th>area</th>\n",
       "      <th>terrace_area</th>\n",
       "      <th>garden_area</th>\n",
       "      <th>land_surface</th>\n",
       "      <th>property_subtype_median_facades_number</th>\n",
       "      <th>building_state_agg_median_price</th>\n",
       "    </tr>\n",
       "  </thead>\n",
       "  <tbody>\n",
       "    <tr>\n",
       "      <th>count</th>\n",
       "      <td>9294.000000</td>\n",
       "      <td>9294.000000</td>\n",
       "      <td>9294.000000</td>\n",
       "      <td>9294.000000</td>\n",
       "      <td>9294.000000</td>\n",
       "      <td>9294.000000</td>\n",
       "      <td>9294.000000</td>\n",
       "      <td>9.294000e+03</td>\n",
       "      <td>8089.000000</td>\n",
       "      <td>9294.000000</td>\n",
       "    </tr>\n",
       "    <tr>\n",
       "      <th>mean</th>\n",
       "      <td>5.987734</td>\n",
       "      <td>5005.432214</td>\n",
       "      <td>346492.263611</td>\n",
       "      <td>2.749516</td>\n",
       "      <td>147.099527</td>\n",
       "      <td>10.918765</td>\n",
       "      <td>151.528083</td>\n",
       "      <td>5.757739e+02</td>\n",
       "      <td>2.586723</td>\n",
       "      <td>324451.474069</td>\n",
       "    </tr>\n",
       "    <tr>\n",
       "      <th>std</th>\n",
       "      <td>0.156154</td>\n",
       "      <td>3195.155553</td>\n",
       "      <td>187901.749352</td>\n",
       "      <td>1.267379</td>\n",
       "      <td>75.596796</td>\n",
       "      <td>22.721260</td>\n",
       "      <td>1169.734110</td>\n",
       "      <td>1.456899e+04</td>\n",
       "      <td>0.620437</td>\n",
       "      <td>34253.254477</td>\n",
       "    </tr>\n",
       "    <tr>\n",
       "      <th>min</th>\n",
       "      <td>4.000000</td>\n",
       "      <td>1000.000000</td>\n",
       "      <td>25000.000000</td>\n",
       "      <td>0.000000</td>\n",
       "      <td>5.000000</td>\n",
       "      <td>0.000000</td>\n",
       "      <td>0.000000</td>\n",
       "      <td>0.000000e+00</td>\n",
       "      <td>2.000000</td>\n",
       "      <td>249000.000000</td>\n",
       "    </tr>\n",
       "    <tr>\n",
       "      <th>5%</th>\n",
       "      <td>6.000000</td>\n",
       "      <td>1040.000000</td>\n",
       "      <td>125000.000000</td>\n",
       "      <td>1.000000</td>\n",
       "      <td>55.000000</td>\n",
       "      <td>0.000000</td>\n",
       "      <td>0.000000</td>\n",
       "      <td>0.000000e+00</td>\n",
       "      <td>2.000000</td>\n",
       "      <td>249000.000000</td>\n",
       "    </tr>\n",
       "    <tr>\n",
       "      <th>6%</th>\n",
       "      <td>6.000000</td>\n",
       "      <td>1050.000000</td>\n",
       "      <td>130000.000000</td>\n",
       "      <td>1.000000</td>\n",
       "      <td>60.000000</td>\n",
       "      <td>0.000000</td>\n",
       "      <td>0.000000</td>\n",
       "      <td>0.000000e+00</td>\n",
       "      <td>2.000000</td>\n",
       "      <td>249000.000000</td>\n",
       "    </tr>\n",
       "    <tr>\n",
       "      <th>25%</th>\n",
       "      <td>6.000000</td>\n",
       "      <td>1500.000000</td>\n",
       "      <td>215000.000000</td>\n",
       "      <td>2.000000</td>\n",
       "      <td>91.000000</td>\n",
       "      <td>0.000000</td>\n",
       "      <td>0.000000</td>\n",
       "      <td>0.000000e+00</td>\n",
       "      <td>2.000000</td>\n",
       "      <td>340000.000000</td>\n",
       "    </tr>\n",
       "    <tr>\n",
       "      <th>50%</th>\n",
       "      <td>6.000000</td>\n",
       "      <td>4540.000000</td>\n",
       "      <td>297500.000000</td>\n",
       "      <td>3.000000</td>\n",
       "      <td>130.000000</td>\n",
       "      <td>0.000000</td>\n",
       "      <td>0.000000</td>\n",
       "      <td>0.000000e+00</td>\n",
       "      <td>3.000000</td>\n",
       "      <td>340000.000000</td>\n",
       "    </tr>\n",
       "    <tr>\n",
       "      <th>75%</th>\n",
       "      <td>6.000000</td>\n",
       "      <td>8400.000000</td>\n",
       "      <td>430000.000000</td>\n",
       "      <td>3.000000</td>\n",
       "      <td>188.000000</td>\n",
       "      <td>15.000000</td>\n",
       "      <td>0.000000</td>\n",
       "      <td>3.157500e+02</td>\n",
       "      <td>3.000000</td>\n",
       "      <td>340000.000000</td>\n",
       "    </tr>\n",
       "    <tr>\n",
       "      <th>94%</th>\n",
       "      <td>6.000000</td>\n",
       "      <td>9300.000000</td>\n",
       "      <td>720000.000000</td>\n",
       "      <td>5.000000</td>\n",
       "      <td>291.000000</td>\n",
       "      <td>41.000000</td>\n",
       "      <td>544.200000</td>\n",
       "      <td>1.438840e+03</td>\n",
       "      <td>4.000000</td>\n",
       "      <td>340000.000000</td>\n",
       "    </tr>\n",
       "    <tr>\n",
       "      <th>95%</th>\n",
       "      <td>6.000000</td>\n",
       "      <td>9420.000000</td>\n",
       "      <td>750000.000000</td>\n",
       "      <td>5.000000</td>\n",
       "      <td>300.000000</td>\n",
       "      <td>49.000000</td>\n",
       "      <td>650.350000</td>\n",
       "      <td>1.610700e+03</td>\n",
       "      <td>4.000000</td>\n",
       "      <td>340000.000000</td>\n",
       "    </tr>\n",
       "    <tr>\n",
       "      <th>max</th>\n",
       "      <td>6.000000</td>\n",
       "      <td>9992.000000</td>\n",
       "      <td>987000.000000</td>\n",
       "      <td>7.000000</td>\n",
       "      <td>406.000000</td>\n",
       "      <td>708.000000</td>\n",
       "      <td>63000.000000</td>\n",
       "      <td>1.379000e+06</td>\n",
       "      <td>4.000000</td>\n",
       "      <td>340000.000000</td>\n",
       "    </tr>\n",
       "    <tr>\n",
       "      <th>fence_tukey_min</th>\n",
       "      <td>6.000000</td>\n",
       "      <td>-8850.000000</td>\n",
       "      <td>-107500.000000</td>\n",
       "      <td>0.500000</td>\n",
       "      <td>-54.500000</td>\n",
       "      <td>-22.500000</td>\n",
       "      <td>0.000000</td>\n",
       "      <td>-4.736250e+02</td>\n",
       "      <td>0.500000</td>\n",
       "      <td>340000.000000</td>\n",
       "    </tr>\n",
       "    <tr>\n",
       "      <th>fence_tukey_max</th>\n",
       "      <td>6.000000</td>\n",
       "      <td>18750.000000</td>\n",
       "      <td>752500.000000</td>\n",
       "      <td>4.500000</td>\n",
       "      <td>333.500000</td>\n",
       "      <td>37.500000</td>\n",
       "      <td>0.000000</td>\n",
       "      <td>7.893750e+02</td>\n",
       "      <td>4.500000</td>\n",
       "      <td>340000.000000</td>\n",
       "    </tr>\n",
       "  </tbody>\n",
       "</table>\n",
       "</div>"
      ],
      "text/plain": [
       "                      source      postcode          price  rooms_number  \\\n",
       "count            9294.000000   9294.000000    9294.000000   9294.000000   \n",
       "mean                5.987734   5005.432214  346492.263611      2.749516   \n",
       "std                 0.156154   3195.155553  187901.749352      1.267379   \n",
       "min                 4.000000   1000.000000   25000.000000      0.000000   \n",
       "5%                  6.000000   1040.000000  125000.000000      1.000000   \n",
       "6%                  6.000000   1050.000000  130000.000000      1.000000   \n",
       "25%                 6.000000   1500.000000  215000.000000      2.000000   \n",
       "50%                 6.000000   4540.000000  297500.000000      3.000000   \n",
       "75%                 6.000000   8400.000000  430000.000000      3.000000   \n",
       "94%                 6.000000   9300.000000  720000.000000      5.000000   \n",
       "95%                 6.000000   9420.000000  750000.000000      5.000000   \n",
       "max                 6.000000   9992.000000  987000.000000      7.000000   \n",
       "fence_tukey_min     6.000000  -8850.000000 -107500.000000      0.500000   \n",
       "fence_tukey_max     6.000000  18750.000000  752500.000000      4.500000   \n",
       "\n",
       "                        area  terrace_area   garden_area  land_surface  \\\n",
       "count            9294.000000   9294.000000   9294.000000  9.294000e+03   \n",
       "mean              147.099527     10.918765    151.528083  5.757739e+02   \n",
       "std                75.596796     22.721260   1169.734110  1.456899e+04   \n",
       "min                 5.000000      0.000000      0.000000  0.000000e+00   \n",
       "5%                 55.000000      0.000000      0.000000  0.000000e+00   \n",
       "6%                 60.000000      0.000000      0.000000  0.000000e+00   \n",
       "25%                91.000000      0.000000      0.000000  0.000000e+00   \n",
       "50%               130.000000      0.000000      0.000000  0.000000e+00   \n",
       "75%               188.000000     15.000000      0.000000  3.157500e+02   \n",
       "94%               291.000000     41.000000    544.200000  1.438840e+03   \n",
       "95%               300.000000     49.000000    650.350000  1.610700e+03   \n",
       "max               406.000000    708.000000  63000.000000  1.379000e+06   \n",
       "fence_tukey_min   -54.500000    -22.500000      0.000000 -4.736250e+02   \n",
       "fence_tukey_max   333.500000     37.500000      0.000000  7.893750e+02   \n",
       "\n",
       "                 property_subtype_median_facades_number  \\\n",
       "count                                       8089.000000   \n",
       "mean                                           2.586723   \n",
       "std                                            0.620437   \n",
       "min                                            2.000000   \n",
       "5%                                             2.000000   \n",
       "6%                                             2.000000   \n",
       "25%                                            2.000000   \n",
       "50%                                            3.000000   \n",
       "75%                                            3.000000   \n",
       "94%                                            4.000000   \n",
       "95%                                            4.000000   \n",
       "max                                            4.000000   \n",
       "fence_tukey_min                                0.500000   \n",
       "fence_tukey_max                                4.500000   \n",
       "\n",
       "                 building_state_agg_median_price  \n",
       "count                                9294.000000  \n",
       "mean                               324451.474069  \n",
       "std                                 34253.254477  \n",
       "min                                249000.000000  \n",
       "5%                                 249000.000000  \n",
       "6%                                 249000.000000  \n",
       "25%                                340000.000000  \n",
       "50%                                340000.000000  \n",
       "75%                                340000.000000  \n",
       "94%                                340000.000000  \n",
       "95%                                340000.000000  \n",
       "max                                340000.000000  \n",
       "fence_tukey_min                    340000.000000  \n",
       "fence_tukey_max                    340000.000000  "
      ]
     },
     "execution_count": 5,
     "metadata": {},
     "output_type": "execute_result"
    }
   ],
   "source": [
    "#show statistical information to consider further processing\n",
    "describe_with_tukey_fences(df)"
   ]
  },
  {
   "cell_type": "markdown",
   "metadata": {
    "pycharm": {
     "name": "#%% md\n"
    }
   },
   "source": [
    "## Features selection"
   ]
  },
  {
   "cell_type": "code",
   "execution_count": 6,
   "metadata": {
    "pycharm": {
     "name": "#%%\n"
    }
   },
   "outputs": [],
   "source": [
    "#Drop features which are not relevent\n",
    "#FM facades improve you could have a look at it\n",
    "df = df.drop(['source','land_surface', 'swimming_pool_has',\n",
    "              'property_subtype_median_facades_number', 'building_state_agg_median_price'],axis=1)\n",
    "#calculating price per metre square to detect outliers\n",
    "df['price_per_sqmtr'] = df['price'] / df['area']"
   ]
  },
  {
   "cell_type": "code",
   "execution_count": 7,
   "metadata": {
    "pycharm": {
     "name": "#%%\n"
    }
   },
   "outputs": [],
   "source": [
    "#postcode_stats contains the no. of properties in each postcode\n",
    "postcode_stats = df['postcode'].value_counts(ascending=False)"
   ]
  },
  {
   "cell_type": "markdown",
   "metadata": {},
   "source": [
    "Any location having less than 10 data points should be tagged as \"9999\" location.\n",
    "This way number of categories can be reduced by huge amount.\n",
    "Later on when we do one hot encoding, it will help us with having fewer dummy columns"
   ]
  },
  {
   "cell_type": "code",
   "execution_count": 8,
   "metadata": {
    "pycharm": {
     "name": "#%%\n"
    }
   },
   "outputs": [],
   "source": [
    "postcode_value_less_than_10 = postcode_stats[postcode_stats<=10]\n",
    "postcode_value_less_than_10\n",
    "df['postcode'] = df['postcode'].apply(lambda x: '9999' if x in postcode_value_less_than_10 else x)"
   ]
  },
  {
   "cell_type": "code",
   "execution_count": 9,
   "metadata": {
    "pycharm": {
     "name": "#%%\n"
    }
   },
   "outputs": [],
   "source": [
    "#FM I would not remove outliers by SD since distribution does not seem normal to me\n",
    "''' Outlier Removal Using Standard Deviation and Mean '''\n",
    "def remove_pps_outliers(df):\n",
    "    df_out = pd.DataFrame()\n",
    "    for key,subdf in df.groupby('postcode'):\n",
    "        m =np.mean(subdf.price_per_sqmtr)\n",
    "        sd = np.std(subdf.price_per_sqmtr)\n",
    "        reduced_df = subdf[(subdf.price_per_sqmtr > (m - (2 * sd))) & (subdf.price_per_sqmtr <= (m +(2 * sd))) ]\n",
    "        df_out = pd.concat([df_out,reduced_df],ignore_index= True)\n",
    "    return df_out\n",
    "#Applying the function on our dataframe\n",
    "df = remove_pps_outliers(df)\n",
    "#Now, we can drop price per metre square column as our outlier detection is done '''\n",
    "df = df.drop(['price_per_sqmtr'],axis='columns')"
   ]
  },
  {
   "cell_type": "code",
   "execution_count": 10,
   "metadata": {
    "pycharm": {
     "name": "#%%\n"
    }
   },
   "outputs": [],
   "source": [
    "''' To check correlation of features using chisquare method\n",
    "It gives us the list of featues which are relevant and which are not relevant for the model '''\n",
    "class ChiSquare:\n",
    "    def __init__(self, dataframe):\n",
    "        self.df = dataframe\n",
    "        self.p = None #P-Value\n",
    "        self.chi2 = None #Chi Test Statistic\n",
    "        self.dof = None\n",
    "\n",
    "        self.dfObserved = None\n",
    "        self.dfExpected = None\n",
    "\n",
    "    def _print_chisquare_result(self, colX, alpha):\n",
    "        result = \"\"\n",
    "        if self.p<alpha:\n",
    "            result=\"{0} is IMPORTANT for Prediction\".format(colX)\n",
    "        else:\n",
    "            result=\"{0} is NOT an important predictor. (Discard {0} from model)\".format(colX)\n",
    "\n",
    "        #print(result)\n",
    "\n",
    "    def TestIndependence(self,colX,colY, alpha=0.05):\n",
    "        X = self.df[colX].astype(str)\n",
    "        Y = self.df[colY].astype(str)\n",
    "\n",
    "        self.dfObserved = pd.crosstab(Y,X)\n",
    "        chi2, p, dof, expected = stats.chi2_contingency(self.dfObserved.values)\n",
    "        self.p = p\n",
    "        self.chi2 = chi2\n",
    "        self.dof = dof\n",
    "\n",
    "        self.dfExpected = pd.DataFrame(expected, columns=self.dfObserved.columns, index = self.dfObserved.index)\n",
    "\n",
    "        self._print_chisquare_result(colX,alpha)\n",
    "\n",
    "#Initialize ChiSquare Class\n",
    "cT = ChiSquare(df)\n",
    "\n",
    "#Feature Selection\n",
    "testColumns = ['postcode', 'house_is', 'rooms_number', #'property_subtype'\n",
    "       'area', 'equipped_kitchen_has', 'furnished', 'open_fire', 'terrace',\n",
    "       'garden'] #, 'building_state_agg'] #'region',\n",
    "for var in testColumns:\n",
    "    cT.TestIndependence(colX=var,colY=\"price\" )\n",
    "\n",
    "#Drop the features which are irrelevant as per chi-square '''\n",
    "df = df.drop(['furnished','garden'],axis = 1) #'property_subtype'"
   ]
  },
  {
   "cell_type": "code",
   "execution_count": 11,
   "metadata": {
    "pycharm": {
     "name": "#%%\n"
    }
   },
   "outputs": [],
   "source": [
    "#Use One Hot Encoding For postcodes\n",
    "dummies = pd.get_dummies(df,prefix= '',prefix_sep = '')\n",
    "#df = dummies.drop(['9999','to_renovate','B',],axis='columns') #FM add postcode if needed"
   ]
  },
  {
   "cell_type": "code",
   "execution_count": 12,
   "metadata": {
    "pycharm": {
     "name": "#%%\n"
    }
   },
   "outputs": [],
   "source": [
    "X = df.drop(['price'],axis='columns')\n",
    "y = df.price\n",
    "X_train, X_test, y_train, y_test = train_test_split(X,y,test_size=0.2,random_state=10)"
   ]
  },
  {
   "cell_type": "markdown",
   "metadata": {
    "pycharm": {
     "name": "#%% md\n"
    }
   },
   "source": [
    "## Machine Learning Model"
   ]
  },
  {
   "cell_type": "code",
   "execution_count": 13,
   "metadata": {
    "pycharm": {
     "name": "#%%\n"
    }
   },
   "outputs": [
    {
     "data": {
      "image/png": "[encoded data removed]",
      "text/plain": [
       "<Figure size 432x288 with 1 Axes>"
      ]
     },
     "metadata": {
      "needs_background": "light"
     },
     "output_type": "display_data"
    },
    {
     "data": {
      "image/png": "[encoded data removed]",
      "text/plain": [
       "<Figure size 432x288 with 1 Axes>"
      ]
     },
     "metadata": {
      "needs_background": "light"
     },
     "output_type": "display_data"
    }
   ],
   "source": [
    "#Returns a linear regression model fitted with Ordinary Least Squares method\n",
    "lin_reg = modeling.OLS_linear_regression(X_train, y_train)\n",
    "#Plots learning curves (R² Score) based on training data and k-folds cross-validation\n",
    "modeling.plot_OLS_lin_reg_r2_curves(X_train, y_train, num_cv_folds=NUM_CV_FOLDS)\n",
    "#Plots learning curves (Mean Squared Error) based on training data and k-folds cross-validation\n",
    "modeling.plot_OLS_lin_reg_MSE_curves(X_train, y_train, num_cv_folds=NUM_CV_FOLDS)"
   ]
  },
  {
   "cell_type": "code",
   "execution_count": 14,
   "metadata": {
    "pycharm": {
     "name": "#%%\n"
    }
   },
   "outputs": [
    {
     "data": {
      "image/png": "[encoded data removed]",
      "text/plain": [
       "<Figure size 432x288 with 1 Axes>"
      ]
     },
     "metadata": {
      "needs_background": "light"
     },
     "output_type": "display_data"
    }
   ],
   "source": [
    "modeling.plot_poly_reg_validation_curves(X_train, y_train, num_cv_folds=NUM_CV_FOLDS, degree_max=DEGREE_MAX)"
   ]
  },
  {
   "cell_type": "markdown",
   "metadata": {},
   "source": [
    "## Model evaluation"
   ]
  },
  {
   "cell_type": "markdown",
   "metadata": {},
   "source": [
    "### Alternative path for cleaning\n",
    "To be discussed together if:\n",
    "1. Going for logaritmic of price. In which case it will be done at data cleaning stage"
   ]
  },
  {
   "cell_type": "code",
   "execution_count": 15,
   "metadata": {
    "pycharm": {
     "name": "#%%\n"
    }
   },
   "outputs": [],
   "source": [
    "#FM we have to decide if we gor or not for log representation\n",
    "#df['price']=np.log(df['price'])"
   ]
  },
  {
   "cell_type": "code",
   "execution_count": 16,
   "metadata": {
    "pycharm": {
     "name": "#%%\n"
    }
   },
   "outputs": [],
   "source": [
    "#TBC\n",
    "df.fillna(df.mean(), inplace=True)"
   ]
  },
  {
   "cell_type": "markdown",
   "metadata": {
    "pycharm": {
     "name": "#%% md\n"
    }
   },
   "source": [
    "### Alternative path for features\n",
    "To be discussed together"
   ]
  },
  {
   "cell_type": "code",
   "execution_count": 17,
   "metadata": {
    "pycharm": {
     "name": "#%%\n"
    }
   },
   "outputs": [],
   "source": [
    "X=df.drop('price',axis=1)\n",
    "y=df['price']"
   ]
  },
  {
   "cell_type": "code",
   "execution_count": 18,
   "metadata": {
    "pycharm": {
     "name": "#%%\n"
    }
   },
   "outputs": [
    {
     "data": {
      "text/plain": [
       "SelectFromModel(estimator=Lasso(alpha=0.005, random_state=0))"
      ]
     },
     "execution_count": 18,
     "metadata": {},
     "output_type": "execute_result"
    }
   ],
   "source": [
    "feature_select_model=SelectFromModel(Lasso(alpha=0.005,random_state=0))\n",
    "feature_select_model.fit(X,y)"
   ]
  },
  {
   "cell_type": "code",
   "execution_count": 19,
   "metadata": {
    "pycharm": {
     "name": "#%%\n"
    }
   },
   "outputs": [
    {
     "data": {
      "text/plain": [
       "array([ True,  True,  True,  True,  True,  True,  True,  True,  True])"
      ]
     },
     "execution_count": 19,
     "metadata": {},
     "output_type": "execute_result"
    }
   ],
   "source": [
    "#gives information to select the features True-select False-remove\n",
    "feature_select_model.get_support()"
   ]
  },
  {
   "cell_type": "code",
   "execution_count": 20,
   "metadata": {
    "pycharm": {
     "name": "#%%\n"
    }
   },
   "outputs": [],
   "source": [
    "selected_features=X.columns[(feature_select_model.get_support())]"
   ]
  },
  {
   "cell_type": "code",
   "execution_count": 21,
   "metadata": {
    "pycharm": {
     "name": "#%%\n"
    }
   },
   "outputs": [],
   "source": [
    "X=X[selected_features]"
   ]
  },
  {
   "cell_type": "code",
   "execution_count": 22,
   "metadata": {
    "pycharm": {
     "name": "#%%\n"
    }
   },
   "outputs": [
    {
     "data": {
      "text/html": [
       "<div>\n",
       "<style scoped>\n",
       "    .dataframe tbody tr th:only-of-type {\n",
       "        vertical-align: middle;\n",
       "    }\n",
       "\n",
       "    .dataframe tbody tr th {\n",
       "        vertical-align: top;\n",
       "    }\n",
       "\n",
       "    .dataframe thead th {\n",
       "        text-align: right;\n",
       "    }\n",
       "</style>\n",
       "<table border=\"1\" class=\"dataframe\">\n",
       "  <thead>\n",
       "    <tr style=\"text-align: right;\">\n",
       "      <th></th>\n",
       "      <th>postcode</th>\n",
       "      <th>house_is</th>\n",
       "      <th>rooms_number</th>\n",
       "      <th>area</th>\n",
       "      <th>equipped_kitchen_has</th>\n",
       "      <th>open_fire</th>\n",
       "      <th>terrace</th>\n",
       "      <th>terrace_area</th>\n",
       "      <th>garden_area</th>\n",
       "    </tr>\n",
       "  </thead>\n",
       "  <tbody>\n",
       "    <tr>\n",
       "      <th>0</th>\n",
       "      <td>1000</td>\n",
       "      <td>True</td>\n",
       "      <td>4.0</td>\n",
       "      <td>272.0</td>\n",
       "      <td>True</td>\n",
       "      <td>False</td>\n",
       "      <td>True</td>\n",
       "      <td>32.0</td>\n",
       "      <td>16.0</td>\n",
       "    </tr>\n",
       "    <tr>\n",
       "      <th>1</th>\n",
       "      <td>1000</td>\n",
       "      <td>True</td>\n",
       "      <td>4.0</td>\n",
       "      <td>180.0</td>\n",
       "      <td>True</td>\n",
       "      <td>False</td>\n",
       "      <td>True</td>\n",
       "      <td>3.0</td>\n",
       "      <td>0.0</td>\n",
       "    </tr>\n",
       "    <tr>\n",
       "      <th>2</th>\n",
       "      <td>1000</td>\n",
       "      <td>True</td>\n",
       "      <td>6.0</td>\n",
       "      <td>370.0</td>\n",
       "      <td>False</td>\n",
       "      <td>False</td>\n",
       "      <td>False</td>\n",
       "      <td>0.0</td>\n",
       "      <td>0.0</td>\n",
       "    </tr>\n",
       "    <tr>\n",
       "      <th>3</th>\n",
       "      <td>1000</td>\n",
       "      <td>True</td>\n",
       "      <td>5.0</td>\n",
       "      <td>270.0</td>\n",
       "      <td>True</td>\n",
       "      <td>False</td>\n",
       "      <td>False</td>\n",
       "      <td>0.0</td>\n",
       "      <td>0.0</td>\n",
       "    </tr>\n",
       "    <tr>\n",
       "      <th>4</th>\n",
       "      <td>1000</td>\n",
       "      <td>True</td>\n",
       "      <td>4.0</td>\n",
       "      <td>330.0</td>\n",
       "      <td>True</td>\n",
       "      <td>False</td>\n",
       "      <td>False</td>\n",
       "      <td>0.0</td>\n",
       "      <td>0.0</td>\n",
       "    </tr>\n",
       "    <tr>\n",
       "      <th>...</th>\n",
       "      <td>...</td>\n",
       "      <td>...</td>\n",
       "      <td>...</td>\n",
       "      <td>...</td>\n",
       "      <td>...</td>\n",
       "      <td>...</td>\n",
       "      <td>...</td>\n",
       "      <td>...</td>\n",
       "      <td>...</td>\n",
       "    </tr>\n",
       "    <tr>\n",
       "      <th>8960</th>\n",
       "      <td>9999</td>\n",
       "      <td>True</td>\n",
       "      <td>3.0</td>\n",
       "      <td>360.0</td>\n",
       "      <td>True</td>\n",
       "      <td>False</td>\n",
       "      <td>True</td>\n",
       "      <td>40.0</td>\n",
       "      <td>600.0</td>\n",
       "    </tr>\n",
       "    <tr>\n",
       "      <th>8961</th>\n",
       "      <td>9999</td>\n",
       "      <td>True</td>\n",
       "      <td>2.0</td>\n",
       "      <td>85.0</td>\n",
       "      <td>True</td>\n",
       "      <td>False</td>\n",
       "      <td>False</td>\n",
       "      <td>0.0</td>\n",
       "      <td>0.0</td>\n",
       "    </tr>\n",
       "    <tr>\n",
       "      <th>8962</th>\n",
       "      <td>9999</td>\n",
       "      <td>True</td>\n",
       "      <td>3.0</td>\n",
       "      <td>153.0</td>\n",
       "      <td>True</td>\n",
       "      <td>False</td>\n",
       "      <td>True</td>\n",
       "      <td>32.0</td>\n",
       "      <td>500.0</td>\n",
       "    </tr>\n",
       "    <tr>\n",
       "      <th>8963</th>\n",
       "      <td>9999</td>\n",
       "      <td>False</td>\n",
       "      <td>3.0</td>\n",
       "      <td>192.0</td>\n",
       "      <td>True</td>\n",
       "      <td>False</td>\n",
       "      <td>True</td>\n",
       "      <td>48.0</td>\n",
       "      <td>0.0</td>\n",
       "    </tr>\n",
       "    <tr>\n",
       "      <th>8964</th>\n",
       "      <td>9999</td>\n",
       "      <td>False</td>\n",
       "      <td>3.0</td>\n",
       "      <td>150.0</td>\n",
       "      <td>True</td>\n",
       "      <td>False</td>\n",
       "      <td>True</td>\n",
       "      <td>41.0</td>\n",
       "      <td>0.0</td>\n",
       "    </tr>\n",
       "  </tbody>\n",
       "</table>\n",
       "<p>8965 rows × 9 columns</p>\n",
       "</div>"
      ],
      "text/plain": [
       "     postcode  house_is  rooms_number   area  equipped_kitchen_has  open_fire  \\\n",
       "0        1000      True           4.0  272.0                  True      False   \n",
       "1        1000      True           4.0  180.0                  True      False   \n",
       "2        1000      True           6.0  370.0                 False      False   \n",
       "3        1000      True           5.0  270.0                  True      False   \n",
       "4        1000      True           4.0  330.0                  True      False   \n",
       "...       ...       ...           ...    ...                   ...        ...   \n",
       "8960     9999      True           3.0  360.0                  True      False   \n",
       "8961     9999      True           2.0   85.0                  True      False   \n",
       "8962     9999      True           3.0  153.0                  True      False   \n",
       "8963     9999     False           3.0  192.0                  True      False   \n",
       "8964     9999     False           3.0  150.0                  True      False   \n",
       "\n",
       "      terrace  terrace_area  garden_area  \n",
       "0        True          32.0         16.0  \n",
       "1        True           3.0          0.0  \n",
       "2       False           0.0          0.0  \n",
       "3       False           0.0          0.0  \n",
       "4       False           0.0          0.0  \n",
       "...       ...           ...          ...  \n",
       "8960     True          40.0        600.0  \n",
       "8961    False           0.0          0.0  \n",
       "8962     True          32.0        500.0  \n",
       "8963     True          48.0          0.0  \n",
       "8964     True          41.0          0.0  \n",
       "\n",
       "[8965 rows x 9 columns]"
      ]
     },
     "execution_count": 22,
     "metadata": {},
     "output_type": "execute_result"
    }
   ],
   "source": [
    "X"
   ]
  },
  {
   "cell_type": "markdown",
   "metadata": {},
   "source": [
    "#### Correlation"
   ]
  },
  {
   "cell_type": "code",
   "execution_count": 23,
   "metadata": {
    "pycharm": {
     "name": "#%%\n"
    }
   },
   "outputs": [
    {
     "data": {
      "text/plain": [
       "<matplotlib.axes._subplots.AxesSubplot at 0x7fa27547a2e0>"
      ]
     },
     "execution_count": 23,
     "metadata": {},
     "output_type": "execute_result"
    },
    {
     "data": {
      "image/png": "[encoded data removed]",
      "text/plain": [
       "<Figure size 720x360 with 2 Axes>"
      ]
     },
     "metadata": {
      "needs_background": "light"
     },
     "output_type": "display_data"
    }
   ],
   "source": [
    "plt.figure(figsize=(10,5))\n",
    "sns.heatmap(X.corr(),annot=True,cmap='RdYlGn')"
   ]
  },
  {
   "cell_type": "code",
   "execution_count": 24,
   "metadata": {
    "pycharm": {
     "name": "#%%\n"
    }
   },
   "outputs": [],
   "source": [
    "#data is splitted into traning and testing set\n",
    "X_train,X_test,y_train,y_test=train_test_split(X,y,test_size=0.3,random_state=0)"
   ]
  },
  {
   "cell_type": "markdown",
   "metadata": {
    "pycharm": {
     "name": "#%% md\n"
    }
   },
   "source": [
    "### Alternative path for modelling"
   ]
  },
  {
   "cell_type": "code",
   "execution_count": 25,
   "metadata": {
    "pycharm": {
     "name": "#%%\n"
    }
   },
   "outputs": [
    {
     "data": {
      "text/plain": [
       "LinearRegression()"
      ]
     },
     "execution_count": 25,
     "metadata": {},
     "output_type": "execute_result"
    }
   ],
   "source": [
    "# create linear regression object and fit data\n",
    "lreg=LinearRegression()\n",
    "lreg.fit(X_train,y_train)"
   ]
  },
  {
   "cell_type": "code",
   "execution_count": 26,
   "metadata": {
    "pycharm": {
     "name": "#%%\n"
    }
   },
   "outputs": [],
   "source": [
    "#from source.data_cleaning import get_columns_with_nan\n",
    "#get_columns_with_nan(X_train)\n",
    "#y_train.isna().sum()"
   ]
  },
  {
   "cell_type": "code",
   "execution_count": 27,
   "metadata": {
    "pycharm": {
     "name": "#%%\n"
    }
   },
   "outputs": [
    {
     "name": "stdout",
     "output_type": "stream",
     "text": [
      "[375232.81619006 501203.14365812 650950.52590643 ... 299021.93696827\n",
      " 218249.71161774 423114.60182902] [211872.10951041 179738.26918966 528074.35626211 ... 406810.43434607\n",
      " 204450.1392395  338106.32315031]\n"
     ]
    }
   ],
   "source": [
    "#find predicted data\n",
    "ytest_prediction=lreg.predict(X_test)\n",
    "ytrain_prediction=lreg.predict(X_train)\n",
    "print(ytest_prediction,ytrain_prediction)"
   ]
  },
  {
   "cell_type": "code",
   "execution_count": 28,
   "metadata": {
    "pycharm": {
     "name": "#%%\n"
    }
   },
   "outputs": [
    {
     "name": "stdout",
     "output_type": "stream",
     "text": [
      "Mean Square error:  19238107003.6443\n",
      "Accuracy:  0.43638301820918024\n"
     ]
    }
   ],
   "source": [
    "#compute accuracy and mean error\n",
    "print('Mean Square error: ', mean_squared_error(y_test,ytest_prediction)) #Manasa prediction missed ?\n",
    "print('Accuracy: ', r2_score(y_test,ytest_prediction))"
   ]
  },
  {
   "cell_type": "code",
   "execution_count": 29,
   "metadata": {
    "pycharm": {
     "name": "#%%\n"
    }
   },
   "outputs": [],
   "source": [
    "def predict_price(model, prop_type, postcode, area, rooms, garden, terrace, prop_condition):\n",
    "    \"\"\"\n",
    "    Function predicts the price with random input data.\n",
    "\n",
    "\n",
    "    :param prop_type: property type data\n",
    "    :param postcode: postcode data\n",
    "    :param area: area\n",
    "    :param rooms: number of rooms\n",
    "    :param garden: garden\n",
    "    :param terrace: terrace\n",
    "    :param prop_condition: proeprty condition\n",
    "    :return: price value\n",
    "    \"\"\"\n",
    "    loc_index = np.where(X.columns == postcode)[0]\n",
    "    prop_condition_index = np.where(X.columns == prop_condition)[0]\n",
    "    x = np.zeros(len(X.columns))\n",
    "    x[0] = prop_type\n",
    "    x[1] = rooms\n",
    "    x[2] = area\n",
    "    x[3] = terrace\n",
    "    x[4] = garden\n",
    "\n",
    "    if loc_index >= 0:\n",
    "        x[loc_index] = 1\n",
    "\n",
    "    if prop_condition_index >= 0:\n",
    "        x[prop_condition_index] = 1\n",
    "    \n",
    "    return model.predict([x])[0]"
   ]
  },
  {
   "cell_type": "code",
   "execution_count": 30,
   "metadata": {},
   "outputs": [
    {
     "name": "stdout",
     "output_type": "stream",
     "text": [
      "Evaluation Metrics\n",
      "╒════════╤════════╤═════════════╤════════╤═════════════════╤════════════════╕\n",
      "│        │    MAE │         MSE │   RMSE │   Train_RSquare │   Test_RSquare │\n",
      "╞════════╪════════╪═════════════╪════════╪═════════════════╪════════════════╡\n",
      "│ Values │ 103038 │ 1.91978e+10 │ 138556 │        0.431601 │       0.437562 │\n",
      "╘════════╧════════╧═════════════╧════════╧═════════════════╧════════════════╛\n"
     ]
    },
    {
     "data": {
      "image/png": "[encoded data removed]",
      "text/plain": [
       "<Figure size 432x288 with 2 Axes>"
      ]
     },
     "metadata": {
      "needs_background": "light"
     },
     "output_type": "display_data"
    }
   ],
   "source": [
    "#lin_reg contains our previously created model\n",
    "model_evaluation_obj = evaluation.Model_Evaluation(lin_reg)\n",
    "ytrain_predictions, ytest_predictions = model_evaluation_obj.get_predictions(X_train, X_test)\n",
    "model_evaluation_obj.predict_model(X_train, y_train, X_test, y_test)"
   ]
  },
  {
   "cell_type": "code",
   "execution_count": 31,
   "metadata": {},
   "outputs": [
    {
     "name": "stdout",
     "output_type": "stream",
     "text": [
      "1604337.594327107\n"
     ]
    },
    {
     "name": "stderr",
     "output_type": "stream",
     "text": [
      "<ipython-input-29-017fbeed36ff>:24: DeprecationWarning: The truth value of an empty array is ambiguous. Returning False, but in future this will result in an error. Use `array.size > 0` to check that an array is not empty.\n",
      "  if loc_index >= 0:\n",
      "<ipython-input-29-017fbeed36ff>:27: DeprecationWarning: The truth value of an empty array is ambiguous. Returning False, but in future this will result in an error. Use `array.size > 0` to check that an array is not empty.\n",
      "  if prop_condition_index >= 0:\n"
     ]
    }
   ],
   "source": [
    "predicted_price = predict_price(lin_reg, 1, 8300, 100 , 3, 1, 0,'good')\n",
    "print(predicted_price)"
   ]
  },
  {
   "cell_type": "code",
   "execution_count": null,
   "metadata": {},
   "outputs": [],
   "source": []
  }
 ],
 "metadata": {
  "kernelspec": {
   "display_name": "Python 3",
   "language": "python",
   "name": "python3"
  },
  "language_info": {
   "codemirror_mode": {
    "name": "ipython",
    "version": 3
   },
   "file_extension": ".py",
   "mimetype": "text/x-python",
   "name": "python",
   "nbconvert_exporter": "python",
   "pygments_lexer": "ipython3",
   "version": "3.8.3"
  }
 },
 "nbformat": 4,
 "nbformat_minor": 1
}
