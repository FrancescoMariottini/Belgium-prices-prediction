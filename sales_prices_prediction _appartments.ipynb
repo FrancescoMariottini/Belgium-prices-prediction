{
 "cells": [
  {
   "cell_type": "markdown",
   "metadata": {},
   "source": [
    "## Real Estate Price Prediction in Belgium"
   ]
  },
  {
   "cell_type": "code",
   "execution_count": 1,
   "metadata": {
    "pycharm": {
     "name": "#%%\n"
    }
   },
   "outputs": [],
   "source": [
    "# import created modules\n",
    "from source.data_cleaning import DataCleaning as dtcln\n",
    "from source.data_cleaning import describe_with_tukey_fences\n",
    "import source.modeling as modeling\n",
    "import source.evaluation as evaluation\n",
    "\n",
    "# import standard libraries\n",
    "import os\n",
    "import numpy as np\n",
    "import pandas as pd\n",
    "import scipy.stats as stats\n",
    "\n",
    "#import scikit modules\n",
    "from sklearn.model_selection import train_test_split\n",
    "from sklearn.linear_model import Lasso\n",
    "from sklearn.feature_selection import SelectFromModel\n",
    "from sklearn.linear_model import LinearRegression\n",
    "from sklearn.metrics import r2_score, mean_squared_error, mean_absolute_error\n",
    "\n",
    "%matplotlib inline\n",
    "import matplotlib.pyplot as plt\n",
    "import seaborn as sns\n",
    "import matplotlib.pyplot as plt\n",
    "\n",
    "\n",
    "from tabulate import tabulate\n",
    "#below two packages are for feature selection\n",
    "from sklearn.linear_model import Lasso\n",
    "from sklearn.feature_selection import SelectFromModel\n",
    "\n",
    "\n",
    "REAL_ESTATE_CSV_FILEPATH = os.path.join(os.getcwd(), 'data', 'clean_dataset.csv')\n",
    "CLEANED_CSV_FILEPATH = os.path.join(os.getcwd(), 'assets', 'outputs', 'df_after_cleaning.csv')\n",
    "REAL_ESTATE_SB_CSV_FILEPATH = os.path.join(os.getcwd(), 'assets', 'outputs', 'df_with_statbel.csv')\n",
    "\n",
    "\n",
    "#['source','land_surface', 'facades_number', 'swimming_pool_has','postcode_median_price',\n",
    "#              'property_subtype_median_facades_number', 'building_state_agg_median_price']\n",
    "NUM_CV_FOLDS = 3\n",
    "DEGREE_MAX = 3"
   ]
  },
  {
   "cell_type": "markdown",
   "metadata": {
    "pycharm": {
     "name": "#%% md\n"
    }
   },
   "source": [
    "## Data preprocessing: cleaning and conversion from text to numerical\n"
   ]
  },
  {
   "cell_type": "code",
   "execution_count": 2,
   "metadata": {
    "pycharm": {
     "name": "#%%\n"
    }
   },
   "outputs": [
    {
     "name": "stdout",
     "output_type": "stream",
     "text": [
      "Initial dataset, shape: (423, 20)\n",
      "Aggregated parameters replacing categorical ones, shape: (423, 20)\n",
      "0 Dropped duplicates, shape: (423, 20)\n",
      "43 Dropped outliers, shape: (380, 20)\n"
     ]
    }
   ],
   "source": [
    "cleaner = dtcln(csv_filepath=REAL_ESTATE_SB_CSV_FILEPATH)\n",
    "df, df_outliers = cleaner.get_cleaned_dataframe(cleaned_csv_path=CLEANED_CSV_FILEPATH)\n",
    "#excluding text columns as requested (boolean kept)\n",
    "df = df.select_dtypes(exclude=['object'])"
   ]
  },
  {
   "cell_type": "code",
   "execution_count": 3,
   "metadata": {
    "pycharm": {
     "name": "#%%\n"
    }
   },
   "outputs": [
    {
     "data": {
      "text/html": [
       "<div>\n",
       "<style scoped>\n",
       "    .dataframe tbody tr th:only-of-type {\n",
       "        vertical-align: middle;\n",
       "    }\n",
       "\n",
       "    .dataframe tbody tr th {\n",
       "        vertical-align: top;\n",
       "    }\n",
       "\n",
       "    .dataframe thead th {\n",
       "        text-align: right;\n",
       "    }\n",
       "</style>\n",
       "<table border=\"1\" class=\"dataframe\">\n",
       "  <thead>\n",
       "    <tr style=\"text-align: right;\">\n",
       "      <th></th>\n",
       "      <th>column</th>\n",
       "      <th>method</th>\n",
       "      <th>type</th>\n",
       "      <th>count</th>\n",
       "      <th>%</th>\n",
       "      <th>first_outlier</th>\n",
       "      <th>index</th>\n",
       "    </tr>\n",
       "  </thead>\n",
       "  <tbody>\n",
       "    <tr>\n",
       "      <th>0</th>\n",
       "      <td>price</td>\n",
       "      <td>fence_tukey_max</td>\n",
       "      <td>max</td>\n",
       "      <td>29</td>\n",
       "      <td>6.86</td>\n",
       "      <td>1549000.0</td>\n",
       "      <td>[5, 11, 22, 34, 44, 54, 78, 93, 95, 105, 107, ...</td>\n",
       "    </tr>\n",
       "    <tr>\n",
       "      <th>1</th>\n",
       "      <td>rooms_number</td>\n",
       "      <td>fence_tukey_max</td>\n",
       "      <td>max</td>\n",
       "      <td>21</td>\n",
       "      <td>4.96</td>\n",
       "      <td>14.0</td>\n",
       "      <td>[34, 51, 102, 122, 128, 139, 167, 188, 204, 25...</td>\n",
       "    </tr>\n",
       "    <tr>\n",
       "      <th>2</th>\n",
       "      <td>area</td>\n",
       "      <td>fence_tukey_max</td>\n",
       "      <td>max</td>\n",
       "      <td>24</td>\n",
       "      <td>5.67</td>\n",
       "      <td>716.0</td>\n",
       "      <td>[22, 34, 93, 95, 102, 107, 114, 128, 167, 173,...</td>\n",
       "    </tr>\n",
       "  </tbody>\n",
       "</table>\n",
       "</div>"
      ],
      "text/plain": [
       "         column           method type count     %  first_outlier  \\\n",
       "0         price  fence_tukey_max  max    29  6.86      1549000.0   \n",
       "1  rooms_number  fence_tukey_max  max    21  4.96           14.0   \n",
       "2          area  fence_tukey_max  max    24  5.67          716.0   \n",
       "\n",
       "                                               index  \n",
       "0  [5, 11, 22, 34, 44, 54, 78, 93, 95, 105, 107, ...  \n",
       "1  [34, 51, 102, 122, 128, 139, 167, 188, 204, 25...  \n",
       "2  [22, 34, 93, 95, 102, 107, 114, 128, 167, 173,...  "
      ]
     },
     "execution_count": 3,
     "metadata": {},
     "output_type": "execute_result"
    }
   ],
   "source": [
    "#show results of outliers detection and removal\n",
    "df_outliers"
   ]
  },
  {
   "cell_type": "code",
   "execution_count": 4,
   "metadata": {
    "pycharm": {
     "name": "#%%\n"
    }
   },
   "outputs": [
    {
     "name": "stdout",
     "output_type": "stream",
     "text": [
      "<class 'pandas.core.frame.DataFrame'>\n",
      "Int64Index: 380 entries, 0 to 419\n",
      "Data columns (total 17 columns):\n",
      " #   Column                Non-Null Count  Dtype  \n",
      "---  ------                --------------  -----  \n",
      " 0   source                380 non-null    int64  \n",
      " 1   postcode              380 non-null    int64  \n",
      " 2   house_is              380 non-null    bool   \n",
      " 3   price                 380 non-null    float64\n",
      " 4   rooms_number          380 non-null    float64\n",
      " 5   area                  380 non-null    float64\n",
      " 6   equipped_kitchen_has  380 non-null    bool   \n",
      " 7   furnished             380 non-null    bool   \n",
      " 8   open_fire             380 non-null    bool   \n",
      " 9   terrace               380 non-null    bool   \n",
      " 10  terrace_area          380 non-null    float64\n",
      " 11  garden                380 non-null    bool   \n",
      " 12  garden_area           380 non-null    float64\n",
      " 13  land_surface          380 non-null    float64\n",
      " 14  swimming_pool_has     380 non-null    bool   \n",
      " 15  price_m_by_postcode   380 non-null    float64\n",
      " 16  facades_number        380 non-null    float64\n",
      "dtypes: bool(7), float64(8), int64(2)\n",
      "memory usage: 35.3 KB\n"
     ]
    }
   ],
   "source": [
    "#show no null values and no text types\n",
    "df.info()"
   ]
  },
  {
   "cell_type": "code",
   "execution_count": 5,
   "metadata": {
    "pycharm": {
     "name": "#%%\n"
    }
   },
   "outputs": [
    {
     "data": {
      "text/html": [
       "<div>\n",
       "<style scoped>\n",
       "    .dataframe tbody tr th:only-of-type {\n",
       "        vertical-align: middle;\n",
       "    }\n",
       "\n",
       "    .dataframe tbody tr th {\n",
       "        vertical-align: top;\n",
       "    }\n",
       "\n",
       "    .dataframe thead th {\n",
       "        text-align: right;\n",
       "    }\n",
       "</style>\n",
       "<table border=\"1\" class=\"dataframe\">\n",
       "  <thead>\n",
       "    <tr style=\"text-align: right;\">\n",
       "      <th></th>\n",
       "      <th>source</th>\n",
       "      <th>postcode</th>\n",
       "      <th>price</th>\n",
       "      <th>rooms_number</th>\n",
       "      <th>area</th>\n",
       "      <th>terrace_area</th>\n",
       "      <th>garden_area</th>\n",
       "      <th>land_surface</th>\n",
       "      <th>price_m_by_postcode</th>\n",
       "      <th>facades_number</th>\n",
       "    </tr>\n",
       "  </thead>\n",
       "  <tbody>\n",
       "    <tr>\n",
       "      <th>count</th>\n",
       "      <td>380.0</td>\n",
       "      <td>380.000000</td>\n",
       "      <td>3.800000e+02</td>\n",
       "      <td>380.000000</td>\n",
       "      <td>380.000000</td>\n",
       "      <td>380.000000</td>\n",
       "      <td>380.000000</td>\n",
       "      <td>380.000000</td>\n",
       "      <td>380.000000</td>\n",
       "      <td>380.0</td>\n",
       "    </tr>\n",
       "    <tr>\n",
       "      <th>mean</th>\n",
       "      <td>6.0</td>\n",
       "      <td>3808.168421</td>\n",
       "      <td>5.140732e+05</td>\n",
       "      <td>4.910526</td>\n",
       "      <td>278.539474</td>\n",
       "      <td>8.189474</td>\n",
       "      <td>53.023684</td>\n",
       "      <td>374.944737</td>\n",
       "      <td>190553.201211</td>\n",
       "      <td>0.0</td>\n",
       "    </tr>\n",
       "    <tr>\n",
       "      <th>std</th>\n",
       "      <td>0.0</td>\n",
       "      <td>2511.414691</td>\n",
       "      <td>3.238026e+05</td>\n",
       "      <td>2.714642</td>\n",
       "      <td>127.535606</td>\n",
       "      <td>20.928724</td>\n",
       "      <td>336.367946</td>\n",
       "      <td>1806.115716</td>\n",
       "      <td>69800.841948</td>\n",
       "      <td>0.0</td>\n",
       "    </tr>\n",
       "    <tr>\n",
       "      <th>min</th>\n",
       "      <td>6.0</td>\n",
       "      <td>1000.000000</td>\n",
       "      <td>8.200000e+04</td>\n",
       "      <td>0.000000</td>\n",
       "      <td>42.000000</td>\n",
       "      <td>0.000000</td>\n",
       "      <td>0.000000</td>\n",
       "      <td>0.000000</td>\n",
       "      <td>37530.490000</td>\n",
       "      <td>0.0</td>\n",
       "    </tr>\n",
       "    <tr>\n",
       "      <th>5%</th>\n",
       "      <td>6.0</td>\n",
       "      <td>1028.500000</td>\n",
       "      <td>1.490000e+05</td>\n",
       "      <td>0.000000</td>\n",
       "      <td>108.000000</td>\n",
       "      <td>0.000000</td>\n",
       "      <td>0.000000</td>\n",
       "      <td>0.000000</td>\n",
       "      <td>112172.390000</td>\n",
       "      <td>0.0</td>\n",
       "    </tr>\n",
       "    <tr>\n",
       "      <th>6%</th>\n",
       "      <td>6.0</td>\n",
       "      <td>1030.000000</td>\n",
       "      <td>1.500000e+05</td>\n",
       "      <td>0.000000</td>\n",
       "      <td>117.220000</td>\n",
       "      <td>0.000000</td>\n",
       "      <td>0.000000</td>\n",
       "      <td>0.000000</td>\n",
       "      <td>116128.399200</td>\n",
       "      <td>0.0</td>\n",
       "    </tr>\n",
       "    <tr>\n",
       "      <th>25%</th>\n",
       "      <td>6.0</td>\n",
       "      <td>1080.000000</td>\n",
       "      <td>2.697500e+05</td>\n",
       "      <td>3.000000</td>\n",
       "      <td>190.000000</td>\n",
       "      <td>0.000000</td>\n",
       "      <td>0.000000</td>\n",
       "      <td>50.000000</td>\n",
       "      <td>133959.980000</td>\n",
       "      <td>0.0</td>\n",
       "    </tr>\n",
       "    <tr>\n",
       "      <th>50%</th>\n",
       "      <td>6.0</td>\n",
       "      <td>4020.000000</td>\n",
       "      <td>4.195000e+05</td>\n",
       "      <td>5.000000</td>\n",
       "      <td>250.000000</td>\n",
       "      <td>0.000000</td>\n",
       "      <td>0.000000</td>\n",
       "      <td>140.000000</td>\n",
       "      <td>174481.450000</td>\n",
       "      <td>0.0</td>\n",
       "    </tr>\n",
       "    <tr>\n",
       "      <th>75%</th>\n",
       "      <td>6.0</td>\n",
       "      <td>5500.000000</td>\n",
       "      <td>6.992500e+05</td>\n",
       "      <td>6.000000</td>\n",
       "      <td>350.000000</td>\n",
       "      <td>4.250000</td>\n",
       "      <td>0.000000</td>\n",
       "      <td>265.250000</td>\n",
       "      <td>219943.020000</td>\n",
       "      <td>0.0</td>\n",
       "    </tr>\n",
       "    <tr>\n",
       "      <th>94%</th>\n",
       "      <td>6.0</td>\n",
       "      <td>7860.000000</td>\n",
       "      <td>1.195000e+06</td>\n",
       "      <td>10.000000</td>\n",
       "      <td>525.260000</td>\n",
       "      <td>40.000000</td>\n",
       "      <td>137.260000</td>\n",
       "      <td>901.700000</td>\n",
       "      <td>317075.644400</td>\n",
       "      <td>0.0</td>\n",
       "    </tr>\n",
       "    <tr>\n",
       "      <th>95%</th>\n",
       "      <td>6.0</td>\n",
       "      <td>8341.500000</td>\n",
       "      <td>1.202500e+06</td>\n",
       "      <td>10.000000</td>\n",
       "      <td>540.000000</td>\n",
       "      <td>45.200000</td>\n",
       "      <td>151.450000</td>\n",
       "      <td>1105.550000</td>\n",
       "      <td>317314.620000</td>\n",
       "      <td>0.0</td>\n",
       "    </tr>\n",
       "    <tr>\n",
       "      <th>max</th>\n",
       "      <td>6.0</td>\n",
       "      <td>9900.000000</td>\n",
       "      <td>1.500000e+06</td>\n",
       "      <td>12.000000</td>\n",
       "      <td>700.000000</td>\n",
       "      <td>200.000000</td>\n",
       "      <td>5500.000000</td>\n",
       "      <td>33857.000000</td>\n",
       "      <td>431031.840000</td>\n",
       "      <td>0.0</td>\n",
       "    </tr>\n",
       "    <tr>\n",
       "      <th>fence_tukey_min</th>\n",
       "      <td>6.0</td>\n",
       "      <td>-5550.000000</td>\n",
       "      <td>-3.745000e+05</td>\n",
       "      <td>-1.500000</td>\n",
       "      <td>-50.000000</td>\n",
       "      <td>-6.375000</td>\n",
       "      <td>0.000000</td>\n",
       "      <td>-272.875000</td>\n",
       "      <td>4985.420000</td>\n",
       "      <td>0.0</td>\n",
       "    </tr>\n",
       "    <tr>\n",
       "      <th>fence_tukey_max</th>\n",
       "      <td>6.0</td>\n",
       "      <td>12130.000000</td>\n",
       "      <td>1.343500e+06</td>\n",
       "      <td>10.500000</td>\n",
       "      <td>590.000000</td>\n",
       "      <td>10.625000</td>\n",
       "      <td>0.000000</td>\n",
       "      <td>588.125000</td>\n",
       "      <td>348917.580000</td>\n",
       "      <td>0.0</td>\n",
       "    </tr>\n",
       "  </tbody>\n",
       "</table>\n",
       "</div>"
      ],
      "text/plain": [
       "                 source      postcode         price  rooms_number        area  \\\n",
       "count             380.0    380.000000  3.800000e+02    380.000000  380.000000   \n",
       "mean                6.0   3808.168421  5.140732e+05      4.910526  278.539474   \n",
       "std                 0.0   2511.414691  3.238026e+05      2.714642  127.535606   \n",
       "min                 6.0   1000.000000  8.200000e+04      0.000000   42.000000   \n",
       "5%                  6.0   1028.500000  1.490000e+05      0.000000  108.000000   \n",
       "6%                  6.0   1030.000000  1.500000e+05      0.000000  117.220000   \n",
       "25%                 6.0   1080.000000  2.697500e+05      3.000000  190.000000   \n",
       "50%                 6.0   4020.000000  4.195000e+05      5.000000  250.000000   \n",
       "75%                 6.0   5500.000000  6.992500e+05      6.000000  350.000000   \n",
       "94%                 6.0   7860.000000  1.195000e+06     10.000000  525.260000   \n",
       "95%                 6.0   8341.500000  1.202500e+06     10.000000  540.000000   \n",
       "max                 6.0   9900.000000  1.500000e+06     12.000000  700.000000   \n",
       "fence_tukey_min     6.0  -5550.000000 -3.745000e+05     -1.500000  -50.000000   \n",
       "fence_tukey_max     6.0  12130.000000  1.343500e+06     10.500000  590.000000   \n",
       "\n",
       "                 terrace_area  garden_area  land_surface  price_m_by_postcode  \\\n",
       "count              380.000000   380.000000    380.000000           380.000000   \n",
       "mean                 8.189474    53.023684    374.944737        190553.201211   \n",
       "std                 20.928724   336.367946   1806.115716         69800.841948   \n",
       "min                  0.000000     0.000000      0.000000         37530.490000   \n",
       "5%                   0.000000     0.000000      0.000000        112172.390000   \n",
       "6%                   0.000000     0.000000      0.000000        116128.399200   \n",
       "25%                  0.000000     0.000000     50.000000        133959.980000   \n",
       "50%                  0.000000     0.000000    140.000000        174481.450000   \n",
       "75%                  4.250000     0.000000    265.250000        219943.020000   \n",
       "94%                 40.000000   137.260000    901.700000        317075.644400   \n",
       "95%                 45.200000   151.450000   1105.550000        317314.620000   \n",
       "max                200.000000  5500.000000  33857.000000        431031.840000   \n",
       "fence_tukey_min     -6.375000     0.000000   -272.875000          4985.420000   \n",
       "fence_tukey_max     10.625000     0.000000    588.125000        348917.580000   \n",
       "\n",
       "                 facades_number  \n",
       "count                     380.0  \n",
       "mean                        0.0  \n",
       "std                         0.0  \n",
       "min                         0.0  \n",
       "5%                          0.0  \n",
       "6%                          0.0  \n",
       "25%                         0.0  \n",
       "50%                         0.0  \n",
       "75%                         0.0  \n",
       "94%                         0.0  \n",
       "95%                         0.0  \n",
       "max                         0.0  \n",
       "fence_tukey_min             0.0  \n",
       "fence_tukey_max             0.0  "
      ]
     },
     "execution_count": 5,
     "metadata": {},
     "output_type": "execute_result"
    }
   ],
   "source": [
    "#show statistical information to consider further processing\n",
    "describe_with_tukey_fences(df)"
   ]
  },
  {
   "cell_type": "markdown",
   "metadata": {
    "pycharm": {
     "name": "#%% md\n"
    }
   },
   "source": [
    "## Features selection"
   ]
  },
  {
   "cell_type": "code",
   "execution_count": 6,
   "metadata": {
    "pycharm": {
     "name": "#%%\n"
    }
   },
   "outputs": [],
   "source": [
    "#Drop features which are not relevent\n",
    "#FM facades improve you could have a look at it\n",
    "df = df.drop(['source','land_surface', 'swimming_pool_has'],axis=1)\n",
    "#calculating price per metre square to detect outliers\n",
    "df['price_per_sqmtr'] = df['price'] / df['area']"
   ]
  },
  {
   "cell_type": "code",
   "execution_count": 7,
   "metadata": {
    "pycharm": {
     "name": "#%%\n"
    }
   },
   "outputs": [],
   "source": [
    "#postcode_stats contains the no. of properties in each postcode\n",
    "postcode_stats = df['postcode'].value_counts(ascending=False)"
   ]
  },
  {
   "cell_type": "markdown",
   "metadata": {},
   "source": [
    "Any location having less than 10 data points should be tagged as \"9999\" location.\n",
    "This way number of categories can be reduced by huge amount.\n",
    "Later on when we do one hot encoding, it will help us with having fewer dummy columns"
   ]
  },
  {
   "cell_type": "code",
   "execution_count": 8,
   "metadata": {
    "pycharm": {
     "name": "#%%\n"
    }
   },
   "outputs": [],
   "source": [
    "postcode_value_less_than_10 = postcode_stats[postcode_stats<=10]\n",
    "postcode_value_less_than_10\n",
    "df['postcode'] = df['postcode'].apply(lambda x: '9999' if x in postcode_value_less_than_10 else x)"
   ]
  },
  {
   "cell_type": "code",
   "execution_count": 9,
   "metadata": {
    "pycharm": {
     "name": "#%%\n"
    }
   },
   "outputs": [],
   "source": [
    "#FM I would not remove outliers by SD since distribution does not seem normal to me\n",
    "''' Outlier Removal Using Standard Deviation and Mean '''\n",
    "def remove_pps_outliers(df):\n",
    "    df_out = pd.DataFrame()\n",
    "    for key,subdf in df.groupby('postcode'):\n",
    "        m =np.mean(subdf.price_per_sqmtr)\n",
    "        sd = np.std(subdf.price_per_sqmtr)\n",
    "        reduced_df = subdf[(subdf.price_per_sqmtr > (m - (2 * sd))) & (subdf.price_per_sqmtr <= (m +(2 * sd))) ]\n",
    "        df_out = pd.concat([df_out,reduced_df],ignore_index= True)\n",
    "    return df_out\n",
    "#Applying the function on our dataframe\n",
    "df = remove_pps_outliers(df)\n",
    "#Now, we can drop price per metre square column as our outlier detection is done '''\n",
    "df = df.drop(['price_per_sqmtr'],axis='columns')"
   ]
  },
  {
   "cell_type": "code",
   "execution_count": 10,
   "metadata": {
    "pycharm": {
     "name": "#%%\n"
    }
   },
   "outputs": [],
   "source": [
    "''' To check correlation of features using chisquare method\n",
    "It gives us the list of featues which are relevant and which are not relevant for the model '''\n",
    "class ChiSquare:\n",
    "    def __init__(self, dataframe):\n",
    "        self.df = dataframe\n",
    "        self.p = None #P-Value\n",
    "        self.chi2 = None #Chi Test Statistic\n",
    "        self.dof = None\n",
    "\n",
    "        self.dfObserved = None\n",
    "        self.dfExpected = None\n",
    "\n",
    "    def _print_chisquare_result(self, colX, alpha):\n",
    "        result = \"\"\n",
    "        if self.p<alpha:\n",
    "            result=\"{0} is IMPORTANT for Prediction\".format(colX)\n",
    "        else:\n",
    "            result=\"{0} is NOT an important predictor. (Discard {0} from model)\".format(colX)\n",
    "\n",
    "        #print(result)\n",
    "\n",
    "    def TestIndependence(self,colX,colY, alpha=0.05):\n",
    "        X = self.df[colX].astype(str)\n",
    "        Y = self.df[colY].astype(str)\n",
    "\n",
    "        self.dfObserved = pd.crosstab(Y,X)\n",
    "        chi2, p, dof, expected = stats.chi2_contingency(self.dfObserved.values)\n",
    "        self.p = p\n",
    "        self.chi2 = chi2\n",
    "        self.dof = dof\n",
    "\n",
    "        self.dfExpected = pd.DataFrame(expected, columns=self.dfObserved.columns, index = self.dfObserved.index)\n",
    "\n",
    "        self._print_chisquare_result(colX,alpha)\n",
    "\n",
    "#Initialize ChiSquare Class\n",
    "cT = ChiSquare(df)\n",
    "\n",
    "#Feature Selection\n",
    "testColumns = ['postcode', 'house_is', 'rooms_number', #'property_subtype'\n",
    "       'area', 'equipped_kitchen_has', 'furnished', 'open_fire', 'terrace',\n",
    "       'garden'] #, 'building_state_agg'] #'region',\n",
    "for var in testColumns:\n",
    "    cT.TestIndependence(colX=var,colY=\"price\" )\n",
    "\n",
    "#Drop the features which are irrelevant as per chi-square '''\n",
    "df = df.drop(['furnished','garden'],axis = 1) #'property_subtype'"
   ]
  },
  {
   "cell_type": "code",
   "execution_count": 11,
   "metadata": {
    "pycharm": {
     "name": "#%%\n"
    }
   },
   "outputs": [],
   "source": [
    "#Use One Hot Encoding For postcodes\n",
    "dummies = pd.get_dummies(df,prefix= '',prefix_sep = '')\n",
    "#df = dummies.drop(['9999','to_renovate','B',],axis='columns') #FM add postcode if needed"
   ]
  },
  {
   "cell_type": "code",
   "execution_count": 12,
   "metadata": {
    "pycharm": {
     "name": "#%%\n"
    }
   },
   "outputs": [],
   "source": [
    "X = df.drop(['price'],axis='columns')\n",
    "y = df.price\n",
    "X_train, X_test, y_train, y_test = train_test_split(X,y,test_size=0.2,random_state=10)"
   ]
  },
  {
   "cell_type": "markdown",
   "metadata": {
    "pycharm": {
     "name": "#%% md\n"
    }
   },
   "source": [
    "## Machine Learning Model"
   ]
  },
  {
   "cell_type": "code",
   "execution_count": 13,
   "metadata": {
    "pycharm": {
     "name": "#%%\n"
    }
   },
   "outputs": [
    {
     "data": {
      "image/png": "[encoded data removed]",
      "text/plain": [
       "<Figure size 432x288 with 1 Axes>"
      ]
     },
     "metadata": {
      "needs_background": "light"
     },
     "output_type": "display_data"
    },
    {
     "data": {
      "image/png": "[encoded data removed]",
      "text/plain": [
       "<Figure size 432x288 with 1 Axes>"
      ]
     },
     "metadata": {
      "needs_background": "light"
     },
     "output_type": "display_data"
    }
   ],
   "source": [
    "#Returns a linear regression model fitted with Ordinary Least Squares method\n",
    "lin_reg = modeling.OLS_linear_regression(X_train, y_train)\n",
    "#Plots learning curves (R² Score) based on training data and k-folds cross-validation\n",
    "modeling.plot_OLS_lin_reg_r2_curves(X_train, y_train, num_cv_folds=NUM_CV_FOLDS)\n",
    "#Plots learning curves (Mean Squared Error) based on training data and k-folds cross-validation\n",
    "modeling.plot_OLS_lin_reg_MSE_curves(X_train, y_train, num_cv_folds=NUM_CV_FOLDS)"
   ]
  },
  {
   "cell_type": "code",
   "execution_count": 14,
   "metadata": {
    "pycharm": {
     "name": "#%%\n"
    }
   },
   "outputs": [
    {
     "data": {
      "image/png": "[encoded data removed]",
      "text/plain": [
       "<Figure size 432x288 with 1 Axes>"
      ]
     },
     "metadata": {
      "needs_background": "light"
     },
     "output_type": "display_data"
    }
   ],
   "source": [
    "modeling.plot_poly_reg_validation_curves(X_train, y_train, num_cv_folds=NUM_CV_FOLDS, degree_max=DEGREE_MAX)"
   ]
  },
  {
   "cell_type": "markdown",
   "metadata": {},
   "source": [
    "## Model evaluation"
   ]
  },
  {
   "cell_type": "markdown",
   "metadata": {},
   "source": [
    "### Alternative path for cleaning\n",
    "To be discussed together if:\n",
    "1. Going for logaritmic of price. In which case it will be done at data cleaning stage"
   ]
  },
  {
   "cell_type": "code",
   "execution_count": 15,
   "metadata": {
    "pycharm": {
     "name": "#%%\n"
    }
   },
   "outputs": [],
   "source": [
    "#FM we have to decide if we gor or not for log representation\n",
    "#df['price']=np.log(df['price'])"
   ]
  },
  {
   "cell_type": "code",
   "execution_count": 16,
   "metadata": {
    "pycharm": {
     "name": "#%%\n"
    }
   },
   "outputs": [],
   "source": [
    "#TBC\n",
    "df.fillna(df.mean(), inplace=True)"
   ]
  },
  {
   "cell_type": "markdown",
   "metadata": {
    "pycharm": {
     "name": "#%% md\n"
    }
   },
   "source": [
    "### Alternative path for features\n",
    "To be discussed together"
   ]
  },
  {
   "cell_type": "code",
   "execution_count": 17,
   "metadata": {
    "pycharm": {
     "name": "#%%\n"
    }
   },
   "outputs": [],
   "source": [
    "X=df.drop('price',axis=1)\n",
    "y=df['price']"
   ]
  },
  {
   "cell_type": "code",
   "execution_count": 18,
   "metadata": {
    "pycharm": {
     "name": "#%%\n"
    }
   },
   "outputs": [
    {
     "data": {
      "text/plain": [
       "SelectFromModel(estimator=Lasso(alpha=0.005, random_state=0))"
      ]
     },
     "execution_count": 18,
     "metadata": {},
     "output_type": "execute_result"
    }
   ],
   "source": [
    "feature_select_model=SelectFromModel(Lasso(alpha=0.005,random_state=0))\n",
    "feature_select_model.fit(X,y)"
   ]
  },
  {
   "cell_type": "code",
   "execution_count": 19,
   "metadata": {
    "pycharm": {
     "name": "#%%\n"
    }
   },
   "outputs": [
    {
     "data": {
      "text/plain": [
       "array([ True, False,  True,  True,  True,  True,  True,  True,  True,\n",
       "        True, False])"
      ]
     },
     "execution_count": 19,
     "metadata": {},
     "output_type": "execute_result"
    }
   ],
   "source": [
    "#gives information to select the features True-select False-remove\n",
    "feature_select_model.get_support()"
   ]
  },
  {
   "cell_type": "code",
   "execution_count": 20,
   "metadata": {
    "pycharm": {
     "name": "#%%\n"
    }
   },
   "outputs": [],
   "source": [
    "selected_features=X.columns[(feature_select_model.get_support())]"
   ]
  },
  {
   "cell_type": "code",
   "execution_count": 21,
   "metadata": {
    "pycharm": {
     "name": "#%%\n"
    }
   },
   "outputs": [],
   "source": [
    "X=X[selected_features]"
   ]
  },
  {
   "cell_type": "code",
   "execution_count": 22,
   "metadata": {
    "pycharm": {
     "name": "#%%\n"
    }
   },
   "outputs": [
    {
     "data": {
      "text/html": [
       "<div>\n",
       "<style scoped>\n",
       "    .dataframe tbody tr th:only-of-type {\n",
       "        vertical-align: middle;\n",
       "    }\n",
       "\n",
       "    .dataframe tbody tr th {\n",
       "        vertical-align: top;\n",
       "    }\n",
       "\n",
       "    .dataframe thead th {\n",
       "        text-align: right;\n",
       "    }\n",
       "</style>\n",
       "<table border=\"1\" class=\"dataframe\">\n",
       "  <thead>\n",
       "    <tr style=\"text-align: right;\">\n",
       "      <th></th>\n",
       "      <th>postcode</th>\n",
       "      <th>rooms_number</th>\n",
       "      <th>area</th>\n",
       "      <th>equipped_kitchen_has</th>\n",
       "      <th>open_fire</th>\n",
       "      <th>terrace</th>\n",
       "      <th>terrace_area</th>\n",
       "      <th>garden_area</th>\n",
       "      <th>price_m_by_postcode</th>\n",
       "    </tr>\n",
       "  </thead>\n",
       "  <tbody>\n",
       "    <tr>\n",
       "      <th>0</th>\n",
       "      <td>1000</td>\n",
       "      <td>7.0</td>\n",
       "      <td>400.0</td>\n",
       "      <td>True</td>\n",
       "      <td>False</td>\n",
       "      <td>True</td>\n",
       "      <td>75.0</td>\n",
       "      <td>0.0</td>\n",
       "      <td>219943.02</td>\n",
       "    </tr>\n",
       "    <tr>\n",
       "      <th>1</th>\n",
       "      <td>1000</td>\n",
       "      <td>4.0</td>\n",
       "      <td>272.0</td>\n",
       "      <td>True</td>\n",
       "      <td>False</td>\n",
       "      <td>True</td>\n",
       "      <td>32.0</td>\n",
       "      <td>16.0</td>\n",
       "      <td>219943.02</td>\n",
       "    </tr>\n",
       "    <tr>\n",
       "      <th>2</th>\n",
       "      <td>1000</td>\n",
       "      <td>10.0</td>\n",
       "      <td>540.0</td>\n",
       "      <td>True</td>\n",
       "      <td>False</td>\n",
       "      <td>True</td>\n",
       "      <td>60.0</td>\n",
       "      <td>0.0</td>\n",
       "      <td>219943.02</td>\n",
       "    </tr>\n",
       "    <tr>\n",
       "      <th>3</th>\n",
       "      <td>1000</td>\n",
       "      <td>4.0</td>\n",
       "      <td>180.0</td>\n",
       "      <td>True</td>\n",
       "      <td>False</td>\n",
       "      <td>True</td>\n",
       "      <td>3.0</td>\n",
       "      <td>0.0</td>\n",
       "      <td>219943.02</td>\n",
       "    </tr>\n",
       "    <tr>\n",
       "      <th>4</th>\n",
       "      <td>1000</td>\n",
       "      <td>4.0</td>\n",
       "      <td>230.0</td>\n",
       "      <td>False</td>\n",
       "      <td>False</td>\n",
       "      <td>False</td>\n",
       "      <td>0.0</td>\n",
       "      <td>0.0</td>\n",
       "      <td>219943.02</td>\n",
       "    </tr>\n",
       "    <tr>\n",
       "      <th>...</th>\n",
       "      <td>...</td>\n",
       "      <td>...</td>\n",
       "      <td>...</td>\n",
       "      <td>...</td>\n",
       "      <td>...</td>\n",
       "      <td>...</td>\n",
       "      <td>...</td>\n",
       "      <td>...</td>\n",
       "      <td>...</td>\n",
       "    </tr>\n",
       "    <tr>\n",
       "      <th>364</th>\n",
       "      <td>9999</td>\n",
       "      <td>4.0</td>\n",
       "      <td>200.0</td>\n",
       "      <td>False</td>\n",
       "      <td>False</td>\n",
       "      <td>True</td>\n",
       "      <td>0.0</td>\n",
       "      <td>0.0</td>\n",
       "      <td>126175.56</td>\n",
       "    </tr>\n",
       "    <tr>\n",
       "      <th>365</th>\n",
       "      <td>9999</td>\n",
       "      <td>0.0</td>\n",
       "      <td>526.0</td>\n",
       "      <td>False</td>\n",
       "      <td>False</td>\n",
       "      <td>True</td>\n",
       "      <td>0.0</td>\n",
       "      <td>0.0</td>\n",
       "      <td>180284.58</td>\n",
       "    </tr>\n",
       "    <tr>\n",
       "      <th>366</th>\n",
       "      <td>9999</td>\n",
       "      <td>2.0</td>\n",
       "      <td>150.0</td>\n",
       "      <td>False</td>\n",
       "      <td>False</td>\n",
       "      <td>False</td>\n",
       "      <td>0.0</td>\n",
       "      <td>0.0</td>\n",
       "      <td>128490.50</td>\n",
       "    </tr>\n",
       "    <tr>\n",
       "      <th>367</th>\n",
       "      <td>9999</td>\n",
       "      <td>8.0</td>\n",
       "      <td>390.0</td>\n",
       "      <td>False</td>\n",
       "      <td>False</td>\n",
       "      <td>False</td>\n",
       "      <td>0.0</td>\n",
       "      <td>0.0</td>\n",
       "      <td>212860.23</td>\n",
       "    </tr>\n",
       "    <tr>\n",
       "      <th>368</th>\n",
       "      <td>9999</td>\n",
       "      <td>8.0</td>\n",
       "      <td>683.0</td>\n",
       "      <td>False</td>\n",
       "      <td>False</td>\n",
       "      <td>True</td>\n",
       "      <td>100.0</td>\n",
       "      <td>100.0</td>\n",
       "      <td>206426.60</td>\n",
       "    </tr>\n",
       "  </tbody>\n",
       "</table>\n",
       "<p>369 rows × 9 columns</p>\n",
       "</div>"
      ],
      "text/plain": [
       "    postcode  rooms_number   area  equipped_kitchen_has  open_fire  terrace  \\\n",
       "0       1000           7.0  400.0                  True      False     True   \n",
       "1       1000           4.0  272.0                  True      False     True   \n",
       "2       1000          10.0  540.0                  True      False     True   \n",
       "3       1000           4.0  180.0                  True      False     True   \n",
       "4       1000           4.0  230.0                 False      False    False   \n",
       "..       ...           ...    ...                   ...        ...      ...   \n",
       "364     9999           4.0  200.0                 False      False     True   \n",
       "365     9999           0.0  526.0                 False      False     True   \n",
       "366     9999           2.0  150.0                 False      False    False   \n",
       "367     9999           8.0  390.0                 False      False    False   \n",
       "368     9999           8.0  683.0                 False      False     True   \n",
       "\n",
       "     terrace_area  garden_area  price_m_by_postcode  \n",
       "0            75.0          0.0            219943.02  \n",
       "1            32.0         16.0            219943.02  \n",
       "2            60.0          0.0            219943.02  \n",
       "3             3.0          0.0            219943.02  \n",
       "4             0.0          0.0            219943.02  \n",
       "..            ...          ...                  ...  \n",
       "364           0.0          0.0            126175.56  \n",
       "365           0.0          0.0            180284.58  \n",
       "366           0.0          0.0            128490.50  \n",
       "367           0.0          0.0            212860.23  \n",
       "368         100.0        100.0            206426.60  \n",
       "\n",
       "[369 rows x 9 columns]"
      ]
     },
     "execution_count": 22,
     "metadata": {},
     "output_type": "execute_result"
    }
   ],
   "source": [
    "X"
   ]
  },
  {
   "cell_type": "markdown",
   "metadata": {},
   "source": [
    "#### Correlation"
   ]
  },
  {
   "cell_type": "code",
   "execution_count": 23,
   "metadata": {
    "pycharm": {
     "name": "#%%\n"
    }
   },
   "outputs": [
    {
     "data": {
      "text/plain": [
       "<matplotlib.axes._subplots.AxesSubplot at 0x7f7f9f7b9040>"
      ]
     },
     "execution_count": 23,
     "metadata": {},
     "output_type": "execute_result"
    },
    {
     "data": {
      "image/png": "[encoded data removed]",
      "text/plain": [
       "<Figure size 720x360 with 2 Axes>"
      ]
     },
     "metadata": {
      "needs_background": "light"
     },
     "output_type": "display_data"
    }
   ],
   "source": [
    "plt.figure(figsize=(10,5))\n",
    "sns.heatmap(X.corr(),annot=True,cmap='RdYlGn')"
   ]
  },
  {
   "cell_type": "code",
   "execution_count": 24,
   "metadata": {
    "pycharm": {
     "name": "#%%\n"
    }
   },
   "outputs": [],
   "source": [
    "#data is splitted into traning and testing set\n",
    "X_train,X_test,y_train,y_test=train_test_split(X,y,test_size=0.3,random_state=0)"
   ]
  },
  {
   "cell_type": "markdown",
   "metadata": {
    "pycharm": {
     "name": "#%% md\n"
    }
   },
   "source": [
    "### Alternative path for modelling"
   ]
  },
  {
   "cell_type": "code",
   "execution_count": 25,
   "metadata": {
    "pycharm": {
     "name": "#%%\n"
    }
   },
   "outputs": [
    {
     "data": {
      "text/plain": [
       "LinearRegression()"
      ]
     },
     "execution_count": 25,
     "metadata": {},
     "output_type": "execute_result"
    }
   ],
   "source": [
    "# create linear regression object and fit data\n",
    "lreg=LinearRegression()\n",
    "lreg.fit(X_train,y_train)"
   ]
  },
  {
   "cell_type": "code",
   "execution_count": 26,
   "metadata": {
    "pycharm": {
     "name": "#%%\n"
    }
   },
   "outputs": [],
   "source": [
    "#from source.data_cleaning import get_columns_with_nan\n",
    "#get_columns_with_nan(X_train)\n",
    "#y_train.isna().sum()"
   ]
  },
  {
   "cell_type": "code",
   "execution_count": 27,
   "metadata": {
    "pycharm": {
     "name": "#%%\n"
    }
   },
   "outputs": [
    {
     "name": "stdout",
     "output_type": "stream",
     "text": [
      "[ 384315.61971295  765649.26165266  534818.46732849  654771.85236967\n",
      "  299721.43701101  564702.07190122  762645.88431743  584916.70343666\n",
      "  541886.72071574  438720.50406909  353479.78665042  755211.70065777\n",
      "  409573.58722959  400120.3284797   891299.91842466 1129018.09045643\n",
      "  282380.31911812  135180.01500699   -3472.08179203  458413.86669857\n",
      "  388604.79488052  799426.89937188  442392.62221138  305197.45386194\n",
      "  446261.01967876  328191.27994376  323485.26563444  282004.6770894\n",
      "  461196.14992341  619472.50673989  746845.70554102  460683.20167203\n",
      "  266162.97118375  398935.71933994  704924.94660817  459273.75976474\n",
      "  894210.5956147   260342.24450493  526483.86010727  714325.5184139\n",
      "  521831.96515117  442845.89196405  752579.24200706  215306.02529256\n",
      "  328732.38582776  161780.09812555  366173.2370165  1035215.445587\n",
      "  544746.63942209  779425.09257941  382666.9817816   596850.1897086\n",
      "  235672.83823559  633158.09594735  684200.79965664  637150.7882973\n",
      "  542779.76973499  786145.42071573  782558.42812471  432174.36339392\n",
      "  799510.35672861  224936.00831929  210251.4321197   347181.09759776\n",
      "  534682.63760071  597153.59367194  142296.92542866  837307.00891149\n",
      "  830204.17981766  682222.53590711  220217.14095375  648961.46229693\n",
      " 1027372.45819981  837780.89332597  653006.96506328  679743.72220284\n",
      "  273309.95198419  467645.8125396   730584.88152155   59983.23975722\n",
      "  543782.07873082  528028.592494    433657.22796386  487557.10911502\n",
      "  879472.23574646  287029.76059033  311981.75806209  320737.38926082\n",
      "  299180.40336723  388211.8979113   245865.99237963  828061.68075698\n",
      "  482630.16296408  337845.36556622  563407.12307263  167830.75762813\n",
      "  571668.35539702  677607.35917661  252683.43922088  517696.20023466\n",
      "  856771.90150208  387050.22298134  771521.2094663   591343.28339132\n",
      "  155435.55583429  369503.27079212  607133.61556719  585893.59820179\n",
      "  366672.88749318  760714.29868889  800792.35721879] [ 126474.37053007  488055.45648042  951333.30687514  631045.23528172\n",
      "  528669.12081334  911669.85958156  334624.30379763  227200.01383222\n",
      "  305821.16831434  304997.01619717  508279.71301411  449501.04571367\n",
      "  836287.01340859  628638.75812168   26651.30965074  640463.94935981\n",
      "  428091.77059787  754836.06092423  461588.5205518    74299.93285492\n",
      "  487863.13078881  141011.31308944  688274.30715076  451616.96558723\n",
      " 1001567.47306058  523755.17966849  252678.99327117  613799.73290331\n",
      "  293174.20163214  393720.40682215  522339.01908733 1085934.26158138\n",
      " 1046356.33576812  306258.84635222  492227.70105288  832335.11664346\n",
      "  639771.32304461  -23261.1121242   411856.7840605   640066.62113875\n",
      "  418126.07544419  269149.16168819  514463.77602913  687842.82668925\n",
      "  350619.85877372  634972.25503993  562366.17653749  618649.63121019\n",
      "  611442.15462897  195297.53007319  577121.98739793  578606.36386156\n",
      " 1247716.74855763  554606.77443288  600460.90667622   93198.842624\n",
      "  395969.42472988  172328.29114989  993850.11662421  783110.55736696\n",
      "  479574.23001225   97786.35620898  625684.11686891  889234.72326111\n",
      "  428644.1647102   286002.78826111  383692.30828587  189021.46228487\n",
      "  682265.80839685  309749.45879887  277735.61048975  454982.77613284\n",
      "  314783.74320733  619506.43198486  288246.26289973   73769.03501069\n",
      "  506140.72154142  261837.04631182  260286.02462653  180972.74524694\n",
      "  368374.22503843  418868.61586129  311584.98916781  761498.57610582\n",
      "  257500.92252704  854237.94525578  100009.73209439  814110.35871253\n",
      "  108330.8703781   201014.68453555  408559.65004287  948553.78267345\n",
      "  990738.80790138  599982.57056177  332937.67752876  697657.64346524\n",
      "  363869.65967998  695057.04724039  236007.18580142  346816.72908265\n",
      "  622635.39084014  135910.55107588  331929.85546601  380485.62947471\n",
      "  549454.03028475  466758.99249254  595555.49645125  815355.72361478\n",
      "  438478.13111394  255623.53562582  373136.67846043  412917.37412112\n",
      "  477758.73276779  115503.53525413  199129.77188113  685341.31900565\n",
      "  856130.77626228  318284.70347811 1224547.97789758  348648.90315992\n",
      "  750215.25775119  206584.96052971  523286.11399075  831902.19410341\n",
      "  637689.57123417  862798.7805081   474999.93047332  287918.63190579\n",
      "  588567.95328772  362938.44171412  315991.73405912  796528.43629965\n",
      "  507661.01740009  442015.23408774  823438.23347999  252528.65454867\n",
      "  306538.52513468  624536.24525032  211947.01972473  900276.89069992\n",
      "  374349.49581198 1072125.74979284  770950.13832623  442115.3497082\n",
      "  469888.97113219  331919.70281459  870206.40864576  989098.71928387\n",
      "  609558.37809315 1026562.5392069   526366.66855117  404805.45374985\n",
      "  680177.53568271  246731.74209789  462140.54334543  180626.62284127\n",
      "   57057.67208851  567491.70238925 1015811.40584468  517839.85951789\n",
      "  109418.12530075  659134.02763296  805819.46288585  846667.04574735\n",
      "  141224.60615406  982274.56878288  367118.82851589  214936.66145809\n",
      "  247735.95829902  300710.21403648  120018.08800629  213718.75504504\n",
      "  273982.17741056  301053.22539525  772088.81852913  817080.8784087\n",
      "  658003.85890712  809053.60939221  203347.14777564   93858.27843642\n",
      " 1165262.10802937   94093.27856504  330371.70001684  400581.64131734\n",
      "  698434.15958896  557539.69673758  622914.30409363  299349.42780519\n",
      "  547775.73890553  243258.9282198   442938.99760696  286579.00870484\n",
      "  258573.55797777  207601.45351931  225756.30665375  473943.6948899\n",
      "  531378.4816258   179238.12100379  869068.96847975 1003003.10388656\n",
      "  378266.18607786  382146.22329846  204379.61298688  864914.89898598\n",
      "  614722.77322276  872233.78447969  247719.5316277   419582.60054576\n",
      "  540933.0798634   963729.59473177   58884.34043269  637328.11583581\n",
      "  686629.34728819  649815.62753704  708462.33619075  703154.48865154\n",
      "  364006.44772946  164749.4274193   838795.77480923  672008.92693803\n",
      "  775699.78595164  992775.24099938  596519.67976524  541894.53299787\n",
      "  598180.64340641  372475.05501162  425097.43097448  969420.02461571\n",
      "  769226.47937177  174655.21594009  357201.7482665   556413.70533686\n",
      "  846888.17192288  434909.57171668  255041.38891158  753912.85772466\n",
      "  293213.84031296  274221.84948582  581307.52169593  870912.11611612\n",
      "  315036.25856835   90931.08263499  308733.00316102 1115683.2243629\n",
      "  316473.66089059  477819.57402805  113042.63515865  109596.10273064\n",
      "  689569.47057573  825196.0315412   -54689.76213627  929149.06167723\n",
      "  465987.90118502  179853.74047068  583300.44793024  405155.59850312\n",
      "  799803.2841056   437744.62364171]\n"
     ]
    }
   ],
   "source": [
    "#find predicted data\n",
    "ytest_prediction=lreg.predict(X_test)\n",
    "ytrain_prediction=lreg.predict(X_train)\n",
    "print(ytest_prediction,ytrain_prediction)"
   ]
  },
  {
   "cell_type": "code",
   "execution_count": 28,
   "metadata": {
    "pycharm": {
     "name": "#%%\n"
    }
   },
   "outputs": [
    {
     "name": "stdout",
     "output_type": "stream",
     "text": [
      "Mean Square error:  29253511015.089985\n",
      "Accuracy:  0.6478171426918855\n"
     ]
    }
   ],
   "source": [
    "#compute accuracy and mean error\n",
    "print('Mean Square error: ', mean_squared_error(y_test,ytest_prediction)) #Manasa prediction missed ?\n",
    "print('Accuracy: ', r2_score(y_test,ytest_prediction))"
   ]
  },
  {
   "cell_type": "code",
   "execution_count": 29,
   "metadata": {
    "pycharm": {
     "name": "#%%\n"
    }
   },
   "outputs": [],
   "source": [
    "def predict_price(model, prop_type, postcode, area, rooms, garden, terrace, prop_condition):\n",
    "    \"\"\"\n",
    "    Function predicts the price with random input data.\n",
    "\n",
    "\n",
    "    :param prop_type: property type data\n",
    "    :param postcode: postcode data\n",
    "    :param area: area\n",
    "    :param rooms: number of rooms\n",
    "    :param garden: garden\n",
    "    :param terrace: terrace\n",
    "    :param prop_condition: proeprty condition\n",
    "    :return: price value\n",
    "    \"\"\"\n",
    "    loc_index = np.where(X.columns == postcode)[0]\n",
    "    prop_condition_index = np.where(X.columns == prop_condition)[0]\n",
    "    x = np.zeros(len(X.columns))\n",
    "    x[0] = prop_type\n",
    "    x[1] = rooms\n",
    "    x[2] = area\n",
    "    x[3] = terrace\n",
    "    x[4] = garden\n",
    "\n",
    "    if loc_index >= 0:\n",
    "        x[loc_index] = 1\n",
    "\n",
    "    if prop_condition_index >= 0:\n",
    "        x[prop_condition_index] = 1\n",
    "    \n",
    "    return model.predict([x])[0]"
   ]
  },
  {
   "cell_type": "code",
   "execution_count": 30,
   "metadata": {},
   "outputs": [
    {
     "ename": "ValueError",
     "evalue": "matmul: Input operand 1 has a mismatch in its core dimension 0, with gufunc signature (n?,k),(k,m?)->(n?,m?) (size 11 is different from 9)",
     "output_type": "error",
     "traceback": [
      "\u001b[0;31m---------------------------------------------------------------------------\u001b[0m",
      "\u001b[0;31mValueError\u001b[0m                                Traceback (most recent call last)",
      "\u001b[0;32m<ipython-input-30-b9f5f31df907>\u001b[0m in \u001b[0;36m<module>\u001b[0;34m\u001b[0m\n\u001b[1;32m      1\u001b[0m \u001b[0;31m#lin_reg contains our previously created model\u001b[0m\u001b[0;34m\u001b[0m\u001b[0;34m\u001b[0m\u001b[0;34m\u001b[0m\u001b[0m\n\u001b[1;32m      2\u001b[0m \u001b[0mmodel_evaluation_obj\u001b[0m \u001b[0;34m=\u001b[0m \u001b[0mevaluation\u001b[0m\u001b[0;34m.\u001b[0m\u001b[0mModel_Evaluation\u001b[0m\u001b[0;34m(\u001b[0m\u001b[0mlin_reg\u001b[0m\u001b[0;34m)\u001b[0m\u001b[0;34m\u001b[0m\u001b[0;34m\u001b[0m\u001b[0m\n\u001b[0;32m----> 3\u001b[0;31m \u001b[0mytrain_predictions\u001b[0m\u001b[0;34m,\u001b[0m \u001b[0mytest_predictions\u001b[0m \u001b[0;34m=\u001b[0m \u001b[0mmodel_evaluation_obj\u001b[0m\u001b[0;34m.\u001b[0m\u001b[0mget_predictions\u001b[0m\u001b[0;34m(\u001b[0m\u001b[0mX_train\u001b[0m\u001b[0;34m,\u001b[0m \u001b[0mX_test\u001b[0m\u001b[0;34m)\u001b[0m\u001b[0;34m\u001b[0m\u001b[0;34m\u001b[0m\u001b[0m\n\u001b[0m\u001b[1;32m      4\u001b[0m \u001b[0mmodel_evaluation_obj\u001b[0m\u001b[0;34m.\u001b[0m\u001b[0mpredict_model\u001b[0m\u001b[0;34m(\u001b[0m\u001b[0mX_train\u001b[0m\u001b[0;34m,\u001b[0m \u001b[0my_train\u001b[0m\u001b[0;34m,\u001b[0m \u001b[0mX_test\u001b[0m\u001b[0;34m,\u001b[0m \u001b[0my_test\u001b[0m\u001b[0;34m)\u001b[0m\u001b[0;34m\u001b[0m\u001b[0;34m\u001b[0m\u001b[0m\n",
      "\u001b[0;32m~/becode/projects/Project 4/Belgium-prices-prediction/source/evaluation.py\u001b[0m in \u001b[0;36mget_predictions\u001b[0;34m(self, train_data, test_data)\u001b[0m\n\u001b[1;32m     21\u001b[0m         \"\"\"\n\u001b[1;32m     22\u001b[0m \u001b[0;34m\u001b[0m\u001b[0m\n\u001b[0;32m---> 23\u001b[0;31m         \u001b[0mtrain_predictions\u001b[0m \u001b[0;34m=\u001b[0m \u001b[0mself\u001b[0m\u001b[0;34m.\u001b[0m\u001b[0mmodel\u001b[0m\u001b[0;34m.\u001b[0m\u001b[0mpredict\u001b[0m\u001b[0;34m(\u001b[0m\u001b[0mtrain_data\u001b[0m\u001b[0;34m)\u001b[0m\u001b[0;34m\u001b[0m\u001b[0;34m\u001b[0m\u001b[0m\n\u001b[0m\u001b[1;32m     24\u001b[0m         \u001b[0mtest_predictions\u001b[0m \u001b[0;34m=\u001b[0m \u001b[0mself\u001b[0m\u001b[0;34m.\u001b[0m\u001b[0mmodel\u001b[0m\u001b[0;34m.\u001b[0m\u001b[0mpredict\u001b[0m\u001b[0;34m(\u001b[0m\u001b[0mtest_data\u001b[0m\u001b[0;34m)\u001b[0m\u001b[0;34m\u001b[0m\u001b[0;34m\u001b[0m\u001b[0m\n\u001b[1;32m     25\u001b[0m \u001b[0;34m\u001b[0m\u001b[0m\n",
      "\u001b[0;32m~/anaconda3/lib/python3.8/site-packages/sklearn/linear_model/_base.py\u001b[0m in \u001b[0;36mpredict\u001b[0;34m(self, X)\u001b[0m\n\u001b[1;32m    234\u001b[0m             \u001b[0mReturns\u001b[0m \u001b[0mpredicted\u001b[0m \u001b[0mvalues\u001b[0m\u001b[0;34m.\u001b[0m\u001b[0;34m\u001b[0m\u001b[0;34m\u001b[0m\u001b[0m\n\u001b[1;32m    235\u001b[0m         \"\"\"\n\u001b[0;32m--> 236\u001b[0;31m         \u001b[0;32mreturn\u001b[0m \u001b[0mself\u001b[0m\u001b[0;34m.\u001b[0m\u001b[0m_decision_function\u001b[0m\u001b[0;34m(\u001b[0m\u001b[0mX\u001b[0m\u001b[0;34m)\u001b[0m\u001b[0;34m\u001b[0m\u001b[0;34m\u001b[0m\u001b[0m\n\u001b[0m\u001b[1;32m    237\u001b[0m \u001b[0;34m\u001b[0m\u001b[0m\n\u001b[1;32m    238\u001b[0m     \u001b[0m_preprocess_data\u001b[0m \u001b[0;34m=\u001b[0m \u001b[0mstaticmethod\u001b[0m\u001b[0;34m(\u001b[0m\u001b[0m_preprocess_data\u001b[0m\u001b[0;34m)\u001b[0m\u001b[0;34m\u001b[0m\u001b[0;34m\u001b[0m\u001b[0m\n",
      "\u001b[0;32m~/anaconda3/lib/python3.8/site-packages/sklearn/linear_model/_base.py\u001b[0m in \u001b[0;36m_decision_function\u001b[0;34m(self, X)\u001b[0m\n\u001b[1;32m    217\u001b[0m \u001b[0;34m\u001b[0m\u001b[0m\n\u001b[1;32m    218\u001b[0m         \u001b[0mX\u001b[0m \u001b[0;34m=\u001b[0m \u001b[0mcheck_array\u001b[0m\u001b[0;34m(\u001b[0m\u001b[0mX\u001b[0m\u001b[0;34m,\u001b[0m \u001b[0maccept_sparse\u001b[0m\u001b[0;34m=\u001b[0m\u001b[0;34m[\u001b[0m\u001b[0;34m'csr'\u001b[0m\u001b[0;34m,\u001b[0m \u001b[0;34m'csc'\u001b[0m\u001b[0;34m,\u001b[0m \u001b[0;34m'coo'\u001b[0m\u001b[0;34m]\u001b[0m\u001b[0;34m)\u001b[0m\u001b[0;34m\u001b[0m\u001b[0;34m\u001b[0m\u001b[0m\n\u001b[0;32m--> 219\u001b[0;31m         return safe_sparse_dot(X, self.coef_.T,\n\u001b[0m\u001b[1;32m    220\u001b[0m                                dense_output=True) + self.intercept_\n\u001b[1;32m    221\u001b[0m \u001b[0;34m\u001b[0m\u001b[0m\n",
      "\u001b[0;32m~/anaconda3/lib/python3.8/site-packages/sklearn/utils/validation.py\u001b[0m in \u001b[0;36minner_f\u001b[0;34m(*args, **kwargs)\u001b[0m\n\u001b[1;32m     71\u001b[0m                           FutureWarning)\n\u001b[1;32m     72\u001b[0m         \u001b[0mkwargs\u001b[0m\u001b[0;34m.\u001b[0m\u001b[0mupdate\u001b[0m\u001b[0;34m(\u001b[0m\u001b[0;34m{\u001b[0m\u001b[0mk\u001b[0m\u001b[0;34m:\u001b[0m \u001b[0marg\u001b[0m \u001b[0;32mfor\u001b[0m \u001b[0mk\u001b[0m\u001b[0;34m,\u001b[0m \u001b[0marg\u001b[0m \u001b[0;32min\u001b[0m \u001b[0mzip\u001b[0m\u001b[0;34m(\u001b[0m\u001b[0msig\u001b[0m\u001b[0;34m.\u001b[0m\u001b[0mparameters\u001b[0m\u001b[0;34m,\u001b[0m \u001b[0margs\u001b[0m\u001b[0;34m)\u001b[0m\u001b[0;34m}\u001b[0m\u001b[0;34m)\u001b[0m\u001b[0;34m\u001b[0m\u001b[0;34m\u001b[0m\u001b[0m\n\u001b[0;32m---> 73\u001b[0;31m         \u001b[0;32mreturn\u001b[0m \u001b[0mf\u001b[0m\u001b[0;34m(\u001b[0m\u001b[0;34m**\u001b[0m\u001b[0mkwargs\u001b[0m\u001b[0;34m)\u001b[0m\u001b[0;34m\u001b[0m\u001b[0;34m\u001b[0m\u001b[0m\n\u001b[0m\u001b[1;32m     74\u001b[0m     \u001b[0;32mreturn\u001b[0m \u001b[0minner_f\u001b[0m\u001b[0;34m\u001b[0m\u001b[0;34m\u001b[0m\u001b[0m\n\u001b[1;32m     75\u001b[0m \u001b[0;34m\u001b[0m\u001b[0m\n",
      "\u001b[0;32m~/anaconda3/lib/python3.8/site-packages/sklearn/utils/extmath.py\u001b[0m in \u001b[0;36msafe_sparse_dot\u001b[0;34m(a, b, dense_output)\u001b[0m\n\u001b[1;32m    151\u001b[0m             \u001b[0mret\u001b[0m \u001b[0;34m=\u001b[0m \u001b[0mnp\u001b[0m\u001b[0;34m.\u001b[0m\u001b[0mdot\u001b[0m\u001b[0;34m(\u001b[0m\u001b[0ma\u001b[0m\u001b[0;34m,\u001b[0m \u001b[0mb\u001b[0m\u001b[0;34m)\u001b[0m\u001b[0;34m\u001b[0m\u001b[0;34m\u001b[0m\u001b[0m\n\u001b[1;32m    152\u001b[0m     \u001b[0;32melse\u001b[0m\u001b[0;34m:\u001b[0m\u001b[0;34m\u001b[0m\u001b[0;34m\u001b[0m\u001b[0m\n\u001b[0;32m--> 153\u001b[0;31m         \u001b[0mret\u001b[0m \u001b[0;34m=\u001b[0m \u001b[0ma\u001b[0m \u001b[0;34m@\u001b[0m \u001b[0mb\u001b[0m\u001b[0;34m\u001b[0m\u001b[0;34m\u001b[0m\u001b[0m\n\u001b[0m\u001b[1;32m    154\u001b[0m \u001b[0;34m\u001b[0m\u001b[0m\n\u001b[1;32m    155\u001b[0m     if (sparse.issparse(a) and sparse.issparse(b)\n",
      "\u001b[0;31mValueError\u001b[0m: matmul: Input operand 1 has a mismatch in its core dimension 0, with gufunc signature (n?,k),(k,m?)->(n?,m?) (size 11 is different from 9)"
     ]
    }
   ],
   "source": [
    "#lin_reg contains our previously created model\n",
    "model_evaluation_obj = evaluation.Model_Evaluation(lin_reg)\n",
    "ytrain_predictions, ytest_predictions = model_evaluation_obj.get_predictions(X_train, X_test)\n",
    "model_evaluation_obj.predict_model(X_train, y_train, X_test, y_test)"
   ]
  },
  {
   "cell_type": "code",
   "execution_count": null,
   "metadata": {},
   "outputs": [],
   "source": [
    "predicted_price = predict_price(lin_reg, 1, 8300, 100 , 3, 1, 0,'good')\n",
    "print(predicted_price)"
   ]
  },
  {
   "cell_type": "code",
   "execution_count": null,
   "metadata": {},
   "outputs": [],
   "source": []
  }
 ],
 "metadata": {
  "kernelspec": {
   "display_name": "Python 3",
   "language": "python",
   "name": "python3"
  },
  "language_info": {
   "codemirror_mode": {
    "name": "ipython",
    "version": 3
   },
   "file_extension": ".py",
   "mimetype": "text/x-python",
   "name": "python",
   "nbconvert_exporter": "python",
   "pygments_lexer": "ipython3",
   "version": "3.8.3"
  }
 },
 "nbformat": 4,
 "nbformat_minor": 1
}
